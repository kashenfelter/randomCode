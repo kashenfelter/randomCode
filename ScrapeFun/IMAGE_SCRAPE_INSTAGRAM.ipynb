{
 "cells": [
  {
   "cell_type": "code",
   "execution_count": 2,
   "metadata": {
    "collapsed": true
   },
   "outputs": [],
   "source": [
    "import urllib\n",
    "resource = urllib.urlopen(\"https://s3-media4.fl.yelpcdn.com/bphoto/6u1le25vYohpIY6RKUfvUw/ls.jpg\")\n",
    "output = open(\"Yelp1.jpg\",\"wb\")\n",
    "output.write(resource.read())\n",
    "output.close()"
   ]
  },
  {
   "cell_type": "code",
   "execution_count": 31,
   "metadata": {
    "collapsed": false
   },
   "outputs": [
    {
     "data": {
      "text/plain": [
       "<addinfourl at 4459219136 whose fp = <socket._fileobject object at 0x1083ded50>>"
      ]
     },
     "execution_count": 31,
     "metadata": {},
     "output_type": "execute_result"
    }
   ],
   "source": [
    "resource"
   ]
  },
  {
   "cell_type": "code",
   "execution_count": 26,
   "metadata": {
    "collapsed": false
   },
   "outputs": [],
   "source": [
    "image1 = 'https://s3-media2.fl.yelpcdn.com/bphoto/XFHuDLJuCyWANKcwNk-wJw/258s.jpg'"
   ]
  },
  {
   "cell_type": "code",
   "execution_count": 32,
   "metadata": {
    "collapsed": false
   },
   "outputs": [
    {
     "name": "stderr",
     "output_type": "stream",
     "text": [
      "ERROR: Line magic function `%urllib` not found.\n"
     ]
    }
   ],
   "source": [
    "%urllib inline\n",
    "import urllib\n",
    "resource = urllib.urlopen(image1)\n",
    "output = open(\"Yelp3.jpg\",\"wb\")\n",
    "output.write(resource.read())\n",
    "output.close()"
   ]
  },
  {
   "cell_type": "code",
   "execution_count": 35,
   "metadata": {
    "collapsed": false
   },
   "outputs": [
    {
     "ename": "TypeError",
     "evalue": "'HTTPResponse' object is not callable",
     "output_type": "error",
     "traceback": [
      "\u001b[0;31m---------------------------------------------------------------------------\u001b[0m",
      "\u001b[0;31mTypeError\u001b[0m                                 Traceback (most recent call last)",
      "\u001b[0;32m<ipython-input-35-f4c248df1972>\u001b[0m in \u001b[0;36m<module>\u001b[0;34m()\u001b[0m\n\u001b[1;32m      2\u001b[0m \u001b[0;34m\u001b[0m\u001b[0m\n\u001b[1;32m      3\u001b[0m \u001b[0mr\u001b[0m \u001b[0;34m=\u001b[0m \u001b[0mrequests\u001b[0m\u001b[0;34m.\u001b[0m\u001b[0mget\u001b[0m\u001b[0;34m(\u001b[0m\u001b[0mimage1\u001b[0m\u001b[0;34m)\u001b[0m\u001b[0;34m\u001b[0m\u001b[0m\n\u001b[0;32m----> 4\u001b[0;31m \u001b[0mr\u001b[0m\u001b[0;34m.\u001b[0m\u001b[0mraw\u001b[0m\u001b[0;34m(\u001b[0m\u001b[0;34m)\u001b[0m\u001b[0;34m\u001b[0m\u001b[0m\n\u001b[0m",
      "\u001b[0;31mTypeError\u001b[0m: 'HTTPResponse' object is not callable"
     ]
    }
   ],
   "source": [
    "import requests\n",
    "\n",
    "r = requests.get(image1)\n",
    "r."
   ]
  },
  {
   "cell_type": "code",
   "execution_count": null,
   "metadata": {
    "collapsed": true
   },
   "outputs": [],
   "source": [
    "//s3-media2.fl.yelpcdn.com/bphoto/XFHuDLJuCyWANKcwNk-wJw/258s.jpg"
   ]
  },
  {
   "cell_type": "code",
   "execution_count": null,
   "metadata": {
    "collapsed": true
   },
   "outputs": [],
   "source": [
    "https://s3-media4.fl.yelpcdn.com/bphoto/6u1le25vYohpIY6RKUfvUw/ls.jpg"
   ]
  },
  {
   "cell_type": "code",
   "execution_count": null,
   "metadata": {
    "collapsed": true
   },
   "outputs": [],
   "source": [
    "https://s3-media3.fl.yelpcdn.com/bphoto/-78dCxYEdEuwm67n6kaVmQ/258s.jpg"
   ]
  },
  {
   "cell_type": "code",
   "execution_count": 44,
   "metadata": {
    "collapsed": true
   },
   "outputs": [],
   "source": [
    "import urllib\n",
    "resource = urllib.urlopen(\"https://s3-media4.fl.yelpcdn.com/bphoto/B62ZL8tBytkiYv6Y2Y-hgA/258s.jpg\")\n",
    "output = open(\"Yelp4.jpg\",\"wb\")\n",
    "output.write(resource.read())\n",
    "output.close()"
   ]
  },
  {
   "cell_type": "code",
   "execution_count": 3,
   "metadata": {
    "collapsed": true
   },
   "outputs": [],
   "source": [
    "Instagram = 'https://scontent-lax3-1.cdninstagram.com/t51.2885-15/e35/c170.0.640.640/12940311_1718420181705113_1092745868_n.jpg'"
   ]
  },
  {
   "cell_type": "code",
   "execution_count": 4,
   "metadata": {
    "collapsed": true
   },
   "outputs": [],
   "source": [
    "import urllib\n",
    "resource = urllib.urlopen(Instagram)\n",
    "output = open(\"Instagram1.jpg\",\"wb\")\n",
    "output.write(resource.read())\n",
    "output.close()"
   ]
  },
  {
   "cell_type": "code",
   "execution_count": null,
   "metadata": {
    "collapsed": true
   },
   "outputs": [],
   "source": []
  },
  {
   "cell_type": "code",
   "execution_count": null,
   "metadata": {
    "collapsed": true
   },
   "outputs": [],
   "source": []
  },
  {
   "cell_type": "code",
   "execution_count": 36,
   "metadata": {
    "collapsed": true
   },
   "outputs": [],
   "source": [
    "from bs4 import BeautifulSoup\n",
    "import requests"
   ]
  },
  {
   "cell_type": "code",
   "execution_count": 37,
   "metadata": {
    "collapsed": true
   },
   "outputs": [],
   "source": [
    "Yelp = 'https://www.yelp.com/biz_photos/tar-and-roses-santa-monica'"
   ]
  },
  {
   "cell_type": "code",
   "execution_count": 38,
   "metadata": {
    "collapsed": true
   },
   "outputs": [],
   "source": [
    "r = requests.get(Yelp)"
   ]
  },
  {
   "cell_type": "code",
   "execution_count": 39,
   "metadata": {
    "collapsed": false
   },
   "outputs": [],
   "source": [
    "soup = BeautifulSoup(r.text, 'lxml')"
   ]
  },
  {
   "cell_type": "code",
   "execution_count": 40,
   "metadata": {
    "collapsed": false
   },
   "outputs": [],
   "source": [
    "test = soup.select('a')"
   ]
  },
  {
   "cell_type": "code",
   "execution_count": 42,
   "metadata": {
    "collapsed": false
   },
   "outputs": [],
   "source": [
    "#test"
   ]
  },
  {
   "cell_type": "code",
   "execution_count": 43,
   "metadata": {
    "collapsed": false
   },
   "outputs": [
    {
     "ename": "KeyError",
     "evalue": "'href'",
     "output_type": "error",
     "traceback": [
      "\u001b[0;31m---------------------------------------------------------------------------\u001b[0m",
      "\u001b[0;31mKeyError\u001b[0m                                  Traceback (most recent call last)",
      "\u001b[0;32m<ipython-input-43-32750431dbcc>\u001b[0m in \u001b[0;36m<module>\u001b[0;34m()\u001b[0m\n\u001b[1;32m      1\u001b[0m \u001b[0mtestList\u001b[0m \u001b[0;34m=\u001b[0m \u001b[0;34m[\u001b[0m\u001b[0;34m]\u001b[0m\u001b[0;34m\u001b[0m\u001b[0m\n\u001b[1;32m      2\u001b[0m \u001b[0;32mfor\u001b[0m \u001b[0mi\u001b[0m \u001b[0;32min\u001b[0m \u001b[0mtest\u001b[0m\u001b[0;34m:\u001b[0m\u001b[0;34m\u001b[0m\u001b[0m\n\u001b[0;32m----> 3\u001b[0;31m     \u001b[0mtestList\u001b[0m\u001b[0;34m.\u001b[0m\u001b[0mappend\u001b[0m\u001b[0;34m(\u001b[0m\u001b[0mi\u001b[0m\u001b[0;34m[\u001b[0m\u001b[0;34m'href'\u001b[0m\u001b[0;34m]\u001b[0m\u001b[0;34m)\u001b[0m\u001b[0;34m\u001b[0m\u001b[0m\n\u001b[0m",
      "\u001b[0;32m/Users/Paul/anaconda/lib/python2.7/site-packages/bs4/element.pyc\u001b[0m in \u001b[0;36m__getitem__\u001b[0;34m(self, key)\u001b[0m\n\u001b[1;32m    956\u001b[0m         \"\"\"tag[key] returns the value of the 'key' attribute for the tag,\n\u001b[1;32m    957\u001b[0m         and throws an exception if it's not there.\"\"\"\n\u001b[0;32m--> 958\u001b[0;31m         \u001b[0;32mreturn\u001b[0m \u001b[0mself\u001b[0m\u001b[0;34m.\u001b[0m\u001b[0mattrs\u001b[0m\u001b[0;34m[\u001b[0m\u001b[0mkey\u001b[0m\u001b[0;34m]\u001b[0m\u001b[0;34m\u001b[0m\u001b[0m\n\u001b[0m\u001b[1;32m    959\u001b[0m \u001b[0;34m\u001b[0m\u001b[0m\n\u001b[1;32m    960\u001b[0m     \u001b[0;32mdef\u001b[0m \u001b[0m__iter__\u001b[0m\u001b[0;34m(\u001b[0m\u001b[0mself\u001b[0m\u001b[0;34m)\u001b[0m\u001b[0;34m:\u001b[0m\u001b[0;34m\u001b[0m\u001b[0m\n",
      "\u001b[0;31mKeyError\u001b[0m: 'href'"
     ]
    }
   ],
   "source": [
    "testList = []\n",
    "for i in test:\n",
    "    testList.append(i['href'])"
   ]
  },
  {
   "cell_type": "code",
   "execution_count": 24,
   "metadata": {
    "collapsed": false
   },
   "outputs": [
    {
     "data": {
      "text/plain": [
       "[<a href=\"#header_find_form\" rel=\"nofollow\">\\n                        Skip to Search Form\\n                    </a>,\n",
       " <a href=\"wsutfsxtuweyatbdxwra.html\" id=\"qqdbwswv\" rel=\"file\" style=\"display: none;\">wrbytdxtdfdvxdsdaz</a>,\n",
       " <a href=\"#header-nav\" rel=\"nofollow\">\\n                        Skip to Navigation\\n                    </a>,\n",
       " <a href=\"#page-content\" rel=\"nofollow\">\\n                        Skip to Page Content\\n                    </a>,\n",
       " <a href=\"/\">Yelp</a>,\n",
       " <a class=\"ybtn ybtn--primary main-header_button js-search-close main-search_close\">Cancel</a>,\n",
       " <a class=\"header-nav_link\" href=\"/\">\\n                            Home\\n                        </a>,\n",
       " <a class=\"header-nav_link\" href=\"/user_details\">\\n                            About Me\\n                        </a>,\n",
       " <a class=\"header-nav_link\" href=\"/writeareview\">\\n                            Write a Review\\n                        </a>,\n",
       " <a class=\"header-nav_link\" href=\"/find_friends\">\\n                            Find Friends\\n                        </a>,\n",
       " <a class=\"header-nav_link\" href=\"/mail\">\\n                            Messages\\n                        </a>,\n",
       " <a class=\"header-nav_link\" href=\"/talk\">\\n                            Talk\\n                        </a>,\n",
       " <a class=\"header-nav_link\" href=\"/events\">\\n                            Events\\n                        </a>,\n",
       " <a class=\"ybtn ybtn--primary main-header_button header-nav_button--sign-up\" href=\"/signup\" id=\"header-sign-up\">Sign Up</a>,\n",
       " <a class=\"header-nav_link header-nav_link--log-in\" href=\"https://www.yelp.com/login?return_url=%2Fbiz_photos%2Ftar-and-roses-santa-monica\">\\n                Log In\\n            </a>,\n",
       " <a class=\"ybtn ybtn--primary drop-menu-link user-account_button\" href=\"javascript:;\" id=\"topbar-account-link\">\\n<span aria-hidden=\"true\" class=\"icon icon--14-triangle-down icon--size-14 icon--currentColor u-triangle-direction-down user-account_button-arrow responsive-visible-large-inline-block\" style=\"width: 14px; height: 14px;\">\\n<svg class=\"icon_svg\">\\n<use xlink:href=\"#14x14_triangle_down\"></use>\\n</svg>\\n</span>\\n<span aria-hidden=\"true\" class=\"icon icon--24-hamburger icon--size-24 icon--inverse drop-menu-link_open\" style=\"width: 24px; height: 24px;\">\\n<svg class=\"icon_svg\">\\n<use xlink:href=\"#24x24_hamburger\"></use>\\n</svg>\\n</span>\\n<span aria-hidden=\"true\" class=\"icon icon--24-close icon--size-24 icon--inverse drop-menu-link_close\" style=\"width: 24px; height: 24px;\">\\n<svg class=\"icon_svg\">\\n<use xlink:href=\"#24x24_close\"></use>\\n</svg>\\n</span>\\n</a>,\n",
       " <a class=\"ybtn ybtn-full\" href=\"https://www.yelp.com/login?return_url=%2Fbiz_photos%2Ftar-and-roses-santa-monica\">Login</a>,\n",
       " <a class=\"ybtn ybtn--primary ybtn-full\" href=\"/signup\">Sign Up</a>,\n",
       " <a href=\"/user_details\">\\n<span aria-hidden=\"true\" class=\"icon icon--24-profile icon--size-24 u-space-r1\" style=\"width: 24px; height: 24px;\">\\n<svg class=\"icon_svg\">\\n<use xlink:href=\"#24x24_profile\"></use>\\n</svg>\\n</span>About Me\\n                    </a>,\n",
       " <a href=\"/talk\">\\n<span aria-hidden=\"true\" class=\"icon icon--24-speech icon--size-24 u-space-r1\" style=\"width: 24px; height: 24px;\">\\n<svg class=\"icon_svg\">\\n<use xlink:href=\"#24x24_speech\"></use>\\n</svg>\\n</span>Talk\\n                    </a>,\n",
       " <a href=\"/biz/tar-and-roses-santa-monica\">\\n<img alt=\"Tar &amp; Roses\" class=\"photo-box-img\" height=\"30\" src=\"//s3-media1.fl.yelpcdn.com/bphoto/16Ykj444tLxc5vN5zyDZXw/30s.jpg\" width=\"30\"/>\\n</a>,\n",
       " <a class=\"biz-name js-analytics-click\" data-analytics-label=\"biz-name\" data-hovercard-id=\"vZ1_flsOHXMcRdT7KoEGYg\" href=\"/biz/tar-and-roses-santa-monica\"><span>Tar &amp; Roses</span></a>,\n",
       " <a class=\"ybtn ybtn--primary u-space-r1\" href=\"/biz_user_photos/UMvhgjQRiIoL_iFIy37ljw/upload\">\\n<span aria-hidden=\"true\" class=\"icon icon--24-add-photo icon--size-24 icon--currentColor u-space-r1\" style=\"width: 24px; height: 24px;\">\\n<svg class=\"icon_svg\">\\n<use xlink:href=\"#24x24_add_photo\"></use>\\n</svg>\\n</span>Add photos\\n    </a>,\n",
       " <a class=\"tab-link js-tab-link tab-link--nav js-tab-link--nav is-selected\" data-media-count=\"2154\" data-media-url=\"/biz_photos/get_media_slice/UMvhgjQRiIoL_iFIy37ljw\" href=\"/biz_photos/tar-and-roses-santa-monica\">\\n<span aria-hidden=\"true\" class=\"icon icon--18-grid icon--size-18 icon--currentColor is-active tab-link_icon js-tab-link_icon tab-link_icon-wrap\" style=\"width: 18px; height: 18px;\">\\n<svg class=\"icon_svg\">\\n<use xlink:href=\"#18x18_grid\"></use>\\n</svg>\\n</span>\\n<span class=\"tab-link_label\" title=\"All\">All</span>\\n<span class=\"tab-link_count\" title=\"(2154)\">(2154)</span>\\n</a>,\n",
       " <a class=\"tab-link js-tab-link tab-link--nav js-tab-link--nav\" data-media-count=\"1854\" data-media-url=\"/biz_photos/get_media_slice/UMvhgjQRiIoL_iFIy37ljw?tab=food\" href=\"/biz_photos/tar-and-roses-santa-monica?tab=food\">\\n<span aria-hidden=\"true\" class=\"icon icon--18-food icon--size-18 icon--currentColor tab-link_icon js-tab-link_icon tab-link_icon-wrap\" style=\"width: 18px; height: 18px;\">\\n<svg class=\"icon_svg\">\\n<use xlink:href=\"#18x18_food\"></use>\\n</svg>\\n</span>\\n<span class=\"tab-link_label\" title=\"Food\">Food</span>\\n<span class=\"tab-link_count\" title=\"(1854)\">(1854)</span>\\n</a>,\n",
       " <a class=\"tab-link js-tab-link tab-link--nav js-tab-link--nav\" data-media-count=\"36\" data-media-url=\"/biz_photos/get_media_slice/UMvhgjQRiIoL_iFIy37ljw?tab=outside\" href=\"/biz_photos/tar-and-roses-santa-monica?tab=outside\">\\n<span aria-hidden=\"true\" class=\"icon icon--18-biz icon--size-18 icon--currentColor tab-link_icon js-tab-link_icon tab-link_icon-wrap\" style=\"width: 18px; height: 18px;\">\\n<svg class=\"icon_svg\">\\n<use xlink:href=\"#18x18_biz\"></use>\\n</svg>\\n</span>\\n<span class=\"tab-link_label\" title=\"Outside\">Outside</span>\\n<span class=\"tab-link_count\" title=\"(36)\">(36)</span>\\n</a>,\n",
       " <a class=\"tab-link js-tab-link tab-link--nav js-tab-link--nav\" data-media-count=\"36\" data-media-url=\"/biz_photos/get_media_slice/UMvhgjQRiIoL_iFIy37ljw?tab=menu\" href=\"/biz_photos/tar-and-roses-santa-monica?tab=menu\">\\n<span aria-hidden=\"true\" class=\"icon icon--18-list icon--size-18 icon--currentColor tab-link_icon js-tab-link_icon tab-link_icon-wrap\" style=\"width: 18px; height: 18px;\">\\n<svg class=\"icon_svg\">\\n<use xlink:href=\"#18x18_list\"></use>\\n</svg>\\n</span>\\n<span class=\"tab-link_label\" title=\"Menu\">Menu</span>\\n<span class=\"tab-link_count\" title=\"(36)\">(36)</span>\\n</a>,\n",
       " <a class=\"tab-link js-tab-link tab-link--nav js-tab-link--nav\" data-media-count=\"32\" data-media-url=\"/biz_photos/get_media_slice/UMvhgjQRiIoL_iFIy37ljw?tab=interior\" href=\"/biz_photos/tar-and-roses-santa-monica?tab=interior\">\\n<span aria-hidden=\"true\" class=\"icon icon--18-chair icon--size-18 icon--currentColor tab-link_icon js-tab-link_icon tab-link_icon-wrap\" style=\"width: 18px; height: 18px;\">\\n<svg class=\"icon_svg\">\\n<use xlink:href=\"#18x18_chair\"></use>\\n</svg>\\n</span>\\n<span class=\"tab-link_label\" title=\"Inside\">Inside</span>\\n<span class=\"tab-link_count\" title=\"(32)\">(32)</span>\\n</a>,\n",
       " <a class=\"tab-link js-tab-link tab-link--nav js-tab-link--nav\" data-media-count=\"13\" data-media-url=\"/biz_photos/get_media_slice/UMvhgjQRiIoL_iFIy37ljw?tab=drink\" href=\"/biz_photos/tar-and-roses-santa-monica?tab=drink\">\\n<span aria-hidden=\"true\" class=\"icon icon--18-nightlife icon--size-18 icon--currentColor tab-link_icon js-tab-link_icon tab-link_icon-wrap\" style=\"width: 18px; height: 18px;\">\\n<svg class=\"icon_svg\">\\n<use xlink:href=\"#18x18_nightlife\"></use>\\n</svg>\\n</span>\\n<span class=\"tab-link_label\" title=\"Drink\">Drink</span>\\n<span class=\"tab-link_count\" title=\"(13)\">(13)</span>\\n</a>,\n",
       " <a class=\"biz-shim js-lightbox-media-link js-analytics-click\" data-analytics-label=\"biz-photo\" href=\"/biz_photos/tar-and-roses-santa-monica?select=16Ykj444tLxc5vN5zyDZXw\">\\n</a>,\n",
       " <a class=\"biz-shim js-lightbox-media-link js-analytics-click\" data-analytics-label=\"biz-photo\" href=\"/biz_photos/tar-and-roses-santa-monica?select=6u1le25vYohpIY6RKUfvUw\">\\n</a>,\n",
       " <a class=\"biz-shim js-lightbox-media-link js-analytics-click\" data-analytics-label=\"biz-photo\" href=\"/biz_photos/tar-and-roses-santa-monica?select=9ndnV9VHZ5ZY4PYFmfkD1A\">\\n</a>,\n",
       " <a class=\"biz-shim js-lightbox-media-link js-analytics-click\" data-analytics-label=\"biz-photo\" href=\"/biz_photos/tar-and-roses-santa-monica?select=XFHuDLJuCyWANKcwNk-wJw\">\\n</a>,\n",
       " <a class=\"biz-shim js-lightbox-media-link js-analytics-click\" data-analytics-label=\"biz-photo\" href=\"/biz_photos/tar-and-roses-santa-monica?select=kNQFs93Nl-iyGsEcLe-Qhw\">\\n</a>,\n",
       " <a class=\"biz-shim js-lightbox-media-link js-analytics-click\" data-analytics-label=\"biz-photo\" href=\"/biz_photos/tar-and-roses-santa-monica?select=aztmjqiJex0lHeCry40RlQ\">\\n</a>,\n",
       " <a class=\"biz-shim js-lightbox-media-link js-analytics-click\" data-analytics-label=\"biz-photo\" href=\"/biz_photos/tar-and-roses-santa-monica?select=OrWLCrnxBfhEjeyDCPC19w\">\\n</a>,\n",
       " <a class=\"biz-shim js-lightbox-media-link js-analytics-click\" data-analytics-label=\"biz-photo\" href=\"/biz_photos/tar-and-roses-santa-monica?select_video=EWbeVeYUGBUeD5WKKcE9qg\">\\n</a>,\n",
       " <a class=\"biz-shim js-lightbox-media-link js-analytics-click\" data-analytics-label=\"biz-photo\" href=\"/biz_photos/tar-and-roses-santa-monica?select=-78dCxYEdEuwm67n6kaVmQ\">\\n</a>,\n",
       " <a class=\"biz-shim js-lightbox-media-link js-analytics-click\" data-analytics-label=\"biz-photo\" href=\"/biz_photos/tar-and-roses-santa-monica?select=8fTG9OqQrVmwNXq_FMxYxA\">\\n</a>,\n",
       " <a class=\"biz-shim js-lightbox-media-link js-analytics-click\" data-analytics-label=\"biz-photo\" href=\"/biz_photos/tar-and-roses-santa-monica?select=PgR7J9lj5a3VGobxAMeSkQ\">\\n</a>,\n",
       " <a class=\"biz-shim js-lightbox-media-link js-analytics-click\" data-analytics-label=\"biz-photo\" href=\"/biz_photos/tar-and-roses-santa-monica?select=WcMBUgmWwR226QmNjPz1VQ\">\\n</a>,\n",
       " <a class=\"biz-shim js-lightbox-media-link js-analytics-click\" data-analytics-label=\"biz-photo\" href=\"/biz_photos/tar-and-roses-santa-monica?select=oQoKlBDzD0xPrD0Ht2z5Pg\">\\n</a>,\n",
       " <a class=\"biz-shim js-lightbox-media-link js-analytics-click\" data-analytics-label=\"biz-photo\" href=\"/biz_photos/tar-and-roses-santa-monica?select=OQV5lWmKjj81-T3ofxL41Q\">\\n</a>,\n",
       " <a class=\"biz-shim js-lightbox-media-link js-analytics-click\" data-analytics-label=\"biz-photo\" href=\"/biz_photos/tar-and-roses-santa-monica?select=B62ZL8tBytkiYv6Y2Y-hgA\">\\n</a>,\n",
       " <a class=\"biz-shim js-lightbox-media-link js-analytics-click\" data-analytics-label=\"biz-photo\" href=\"/biz_photos/tar-and-roses-santa-monica?select_video=GT9GveMIFg26FLxBBUSskg\">\\n</a>,\n",
       " <a class=\"biz-shim js-lightbox-media-link js-analytics-click\" data-analytics-label=\"biz-photo\" href=\"/biz_photos/tar-and-roses-santa-monica?select=LqSHfstDtFE6J37NVy8TaQ\">\\n</a>,\n",
       " <a class=\"biz-shim js-lightbox-media-link js-analytics-click\" data-analytics-label=\"biz-photo\" href=\"/biz_photos/tar-and-roses-santa-monica?select=uPz8BKFYnKqjsi54HsgDMA\">\\n</a>,\n",
       " <a class=\"biz-shim js-lightbox-media-link js-analytics-click\" data-analytics-label=\"biz-photo\" href=\"/biz_photos/tar-and-roses-santa-monica?select=WCW4cQVbd4fsB1uwCo9b7Q\">\\n</a>,\n",
       " <a class=\"biz-shim js-lightbox-media-link js-analytics-click\" data-analytics-label=\"biz-photo\" href=\"/biz_photos/tar-and-roses-santa-monica?select=eqhkRqNB5ClNHoI4rDRfnw\">\\n</a>,\n",
       " <a class=\"biz-shim js-lightbox-media-link js-analytics-click\" data-analytics-label=\"biz-photo\" href=\"/biz_photos/tar-and-roses-santa-monica?select=Tc7wAFzZu3CpIiI3D7onqQ\">\\n</a>,\n",
       " <a class=\"biz-shim js-lightbox-media-link js-analytics-click\" data-analytics-label=\"biz-photo\" href=\"/biz_photos/tar-and-roses-santa-monica?select=Rz9r81zTjh8x-tAFrHZYqw\">\\n</a>,\n",
       " <a class=\"biz-shim js-lightbox-media-link js-analytics-click\" data-analytics-label=\"biz-photo\" href=\"/biz_photos/tar-and-roses-santa-monica?select=A8uGrSAkjcD-Qe8x63hbHw\">\\n</a>,\n",
       " <a class=\"biz-shim js-lightbox-media-link js-analytics-click\" data-analytics-label=\"biz-photo\" href=\"/biz_photos/tar-and-roses-santa-monica?select=ybYNrS1dt6k9-pyGltTecg\">\\n</a>,\n",
       " <a class=\"biz-shim js-lightbox-media-link js-analytics-click\" data-analytics-label=\"biz-photo\" href=\"/biz_photos/tar-and-roses-santa-monica?select=SsJfxlrovY1K3MH7bnvZeQ\">\\n</a>,\n",
       " <a class=\"biz-shim js-lightbox-media-link js-analytics-click\" data-analytics-label=\"biz-photo\" href=\"/biz_photos/tar-and-roses-santa-monica?select=08aV9Q4IOX45zK7VItItGQ\">\\n</a>,\n",
       " <a class=\"biz-shim js-lightbox-media-link js-analytics-click\" data-analytics-label=\"biz-photo\" href=\"/biz_photos/tar-and-roses-santa-monica?select=j0k3cMy7SvQYft3SJdl81g\">\\n</a>,\n",
       " <a class=\"biz-shim js-lightbox-media-link js-analytics-click\" data-analytics-label=\"biz-photo\" href=\"/biz_photos/tar-and-roses-santa-monica?select=GltZME2gmmA8A8334j4uzA\">\\n</a>,\n",
       " <a class=\"biz-shim js-lightbox-media-link js-analytics-click\" data-analytics-label=\"biz-photo\" href=\"/biz_photos/tar-and-roses-santa-monica?select=gWVIp-psLOW8Vobg6NjAyQ\">\\n</a>,\n",
       " <a class=\"biz-shim js-lightbox-media-link js-analytics-click\" data-analytics-label=\"biz-photo\" href=\"/biz_photos/tar-and-roses-santa-monica?select=KlX9onxFDoQV664zbW_X9A\">\\n</a>,\n",
       " <a class=\"available-number pagination-links_anchor\" href=\"/biz_photos/tar-and-roses-santa-monica?start=30\">\\n                            2\\n                        </a>,\n",
       " <a class=\"available-number pagination-links_anchor\" href=\"/biz_photos/tar-and-roses-santa-monica?start=60\">\\n                            3\\n                        </a>,\n",
       " <a class=\"available-number pagination-links_anchor\" href=\"/biz_photos/tar-and-roses-santa-monica?start=90\">\\n                            4\\n                        </a>,\n",
       " <a class=\"available-number pagination-links_anchor\" href=\"/biz_photos/tar-and-roses-santa-monica?start=120\">\\n                            5\\n                        </a>,\n",
       " <a class=\"available-number pagination-links_anchor\" href=\"/biz_photos/tar-and-roses-santa-monica?start=150\">\\n                            6\\n                        </a>,\n",
       " <a class=\"available-number pagination-links_anchor\" href=\"/biz_photos/tar-and-roses-santa-monica?start=180\">\\n                            7\\n                        </a>,\n",
       " <a class=\"available-number pagination-links_anchor\" href=\"/biz_photos/tar-and-roses-santa-monica?start=210\">\\n                            8\\n                        </a>,\n",
       " <a class=\"available-number pagination-links_anchor\" href=\"/biz_photos/tar-and-roses-santa-monica?start=240\">\\n                            9\\n                        </a>,\n",
       " <a class=\"u-decoration-none next pagination-links_anchor\" href=\"/biz_photos/tar-and-roses-santa-monica?start=30\">\\n<span class=\"pagination-label responsive-hidden-small pagination-links_anchor\">Next</span>\\n<span aria-hidden=\"true\" class=\"icon icon--24-chevron-right icon--size-24 icon--currentColor\" style=\"width: 24px; height: 24px;\">\\n<svg class=\"icon_svg\">\\n<use xlink:href=\"#24x24_chevron_right\"></use>\\n</svg>\\n</span>\\n</a>,\n",
       " <a href=\"/about\">About Yelp</a>,\n",
       " <a href=\"http://eat24.com/\">Order Food on Eat24</a>,\n",
       " <a href=\"/careers?country=US\">Careers</a>,\n",
       " <a href=\"/press\">Press</a>,\n",
       " <a href=\"http://yelp-ir.com/\">Investor Relations</a>,\n",
       " <a href=\"/guidelines\">Content Guidelines</a>,\n",
       " <a href=\"/static?country=US&amp;p=tos\">Terms of Service</a>,\n",
       " <a href=\"/tos/privacy_policy\">Privacy Policy</a>,\n",
       " <a href=\"/static?locale=en_US&amp;p=privacy#third-parties\">Ad Choices</a>,\n",
       " <a href=\"/local_yelp\">The Local Yelp</a>,\n",
       " <a href=\"http://officialblog.yelp.com/\">Yelp Blog</a>,\n",
       " <a href=\"http://www.yelp-support.com/?l=en_US\">Support</a>,\n",
       " <a href=\"/yelpmobile?source=footer\">Yelp Mobile</a>,\n",
       " <a href=\"/developers?country=US\">Developers</a>,\n",
       " <a href=\"/rss\">RSS</a>,\n",
       " <a href=\"https://biz.yelp.com/?utm_campaign=claim_business&amp;utm_content=claim_footer_link&amp;utm_medium=www&amp;utm_source=footer\">Claim your Business Page</a>,\n",
       " <a href=\"/advertise\">Advertise on Yelp</a>,\n",
       " <a href=\"http://eat24.com/join\">Online Ordering from Eat24</a>,\n",
       " <a href=\"https://www.seatme.yelp.com/\">Yelp SeatMe</a>,\n",
       " <a href=\"https://biz.yelp.com/support/case_studies\">Business Success Stories</a>,\n",
       " <a href=\"http://www.yelp-support.com/Yelp_for_Business_Owners?l=en_US\">Business Support</a>,\n",
       " <a href=\"https://biz.yelp.com/blog\">Yelp Blog for Business Owners</a>,\n",
       " <a class=\"dropdown_toggle-action\" href=\"javascript:;\">\\n<span class=\"dropdown_toggle-label\">English</span>\\n<span class=\"dropdown_toggle-text js-dropdown-toggle-text\" data-dropdown-initial-text=\"\"></span>\\n<span aria-hidden=\"true\" class=\"icon icon--14-triangle-down icon--size-14 icon--currentColor u-triangle-direction-down dropdown_arrow\" style=\"width: 14px; height: 14px;\">\\n<svg class=\"icon_svg\">\\n<use xlink:href=\"#14x14_triangle_down\"></use>\\n</svg>\\n</span>\\n</a>,\n",
       " <a class=\"dropdown_link js-dropdown-link\" href=\"http://ms.yelp.my/biz_photos/tar-and-roses-santa-monica\" rel=\"nofollow\" role=\"menuitem\">\\n<span class=\"dropdown_label\">\\n                Bahasa Malaysia (Malaysia)\\n        </span>\\n</a>,\n",
       " <a class=\"dropdown_link js-dropdown-link\" href=\"http://www.yelp.cz/biz_photos/tar-and-roses-santa-monica\" rel=\"nofollow\" role=\"menuitem\">\\n<span class=\"dropdown_label\">\\n                \\u010ce\\u0161tina (\\u010cesk\\xe1 republika)\\n        </span>\\n</a>,\n",
       " <a class=\"dropdown_link js-dropdown-link\" href=\"http://www.yelp.dk/biz_photos/tar-and-roses-santa-monica\" rel=\"nofollow\" role=\"menuitem\">\\n<span class=\"dropdown_label\">\\n                Dansk (Danmark)\\n        </span>\\n</a>,\n",
       " <a class=\"dropdown_link js-dropdown-link\" href=\"http://www.yelp.de/biz_photos/tar-and-roses-santa-monica\" rel=\"nofollow\" role=\"menuitem\">\\n<span class=\"dropdown_label\">\\n                Deutsch (Deutschland)\\n        </span>\\n</a>,\n",
       " <a class=\"dropdown_link js-dropdown-link\" href=\"http://de.yelp.ch/biz_photos/tar-and-roses-santa-monica\" rel=\"nofollow\" role=\"menuitem\">\\n<span class=\"dropdown_label\">\\n                Deutsch (Schweiz)\\n        </span>\\n</a>,\n",
       " <a class=\"dropdown_link js-dropdown-link\" href=\"http://www.yelp.at/biz_photos/tar-and-roses-santa-monica\" rel=\"nofollow\" role=\"menuitem\">\\n<span class=\"dropdown_label\">\\n                Deutsch (\\xd6sterreich)\\n        </span>\\n</a>,\n",
       " <a class=\"dropdown_link js-dropdown-link\" href=\"http://www.yelp.com.au/biz_photos/tar-and-roses-santa-monica\" rel=\"nofollow\" role=\"menuitem\">\\n<span class=\"dropdown_label\">\\n                English (Australia)\\n        </span>\\n</a>,\n",
       " <a class=\"dropdown_link js-dropdown-link\" href=\"http://en.yelp.be/biz_photos/tar-and-roses-santa-monica\" rel=\"nofollow\" role=\"menuitem\">\\n<span class=\"dropdown_label\">\\n                English (Belgium)\\n        </span>\\n</a>,\n",
       " <a class=\"dropdown_link js-dropdown-link\" href=\"http://www.yelp.ca/biz_photos/tar-and-roses-santa-monica\" rel=\"nofollow\" role=\"menuitem\">\\n<span class=\"dropdown_label\">\\n                English (Canada)\\n        </span>\\n</a>,\n",
       " <a class=\"dropdown_link js-dropdown-link\" href=\"http://en.yelp.com.hk/biz_photos/tar-and-roses-santa-monica\" rel=\"nofollow\" role=\"menuitem\">\\n<span class=\"dropdown_label\">\\n                English (Hong Kong)\\n        </span>\\n</a>,\n",
       " <a class=\"dropdown_link js-dropdown-link\" href=\"http://en.yelp.my/biz_photos/tar-and-roses-santa-monica\" rel=\"nofollow\" role=\"menuitem\">\\n<span class=\"dropdown_label\">\\n                English (Malaysia)\\n        </span>\\n</a>,\n",
       " <a class=\"dropdown_link js-dropdown-link\" href=\"http://nz.yelp.com/biz_photos/tar-and-roses-santa-monica\" rel=\"nofollow\" role=\"menuitem\">\\n<span class=\"dropdown_label\">\\n                English (New Zealand)\\n        </span>\\n</a>,\n",
       " <a class=\"dropdown_link js-dropdown-link\" href=\"http://en.yelp.com.ph/biz_photos/tar-and-roses-santa-monica\" rel=\"nofollow\" role=\"menuitem\">\\n<span class=\"dropdown_label\">\\n                English (Philippines)\\n        </span>\\n</a>,\n",
       " <a class=\"dropdown_link js-dropdown-link\" href=\"http://www.yelp.ie/biz_photos/tar-and-roses-santa-monica\" rel=\"nofollow\" role=\"menuitem\">\\n<span class=\"dropdown_label\">\\n                English (Republic of Ireland)\\n        </span>\\n</a>,\n",
       " <a class=\"dropdown_link js-dropdown-link\" href=\"http://www.yelp.com.sg/biz_photos/tar-and-roses-santa-monica\" rel=\"nofollow\" role=\"menuitem\">\\n<span class=\"dropdown_label\">\\n                English (Singapore)\\n        </span>\\n</a>,\n",
       " <a class=\"dropdown_link js-dropdown-link\" href=\"http://en.yelp.ch/biz_photos/tar-and-roses-santa-monica\" rel=\"nofollow\" role=\"menuitem\">\\n<span class=\"dropdown_label\">\\n                English (Switzerland)\\n        </span>\\n</a>,\n",
       " <a class=\"dropdown_link js-dropdown-link\" href=\"http://www.yelp.co.uk/biz_photos/tar-and-roses-santa-monica\" rel=\"nofollow\" role=\"menuitem\">\\n<span class=\"dropdown_label\">\\n                English (United Kingdom)\\n        </span>\\n</a>,\n",
       " <a class=\"dropdown_link js-dropdown-link\" href=\"http://www.yelp.com/biz_photos/tar-and-roses-santa-monica\" rel=\"nofollow\" role=\"menuitem\">\\n<span class=\"dropdown_label\">\\n                English (United States)\\n        </span>\\n</a>,\n",
       " <a class=\"dropdown_link js-dropdown-link\" href=\"http://www.yelp.com.ar/biz_photos/tar-and-roses-santa-monica\" rel=\"nofollow\" role=\"menuitem\">\\n<span class=\"dropdown_label\">\\n                Espa\\xf1ol (Argentina)\\n        </span>\\n</a>,\n",
       " <a class=\"dropdown_link js-dropdown-link\" href=\"http://www.yelp.cl/biz_photos/tar-and-roses-santa-monica\" rel=\"nofollow\" role=\"menuitem\">\\n<span class=\"dropdown_label\">\\n                Espa\\xf1ol (Chile)\\n        </span>\\n</a>,\n",
       " <a class=\"dropdown_link js-dropdown-link\" href=\"http://www.yelp.es/biz_photos/tar-and-roses-santa-monica\" rel=\"nofollow\" role=\"menuitem\">\\n<span class=\"dropdown_label\">\\n                Espa\\xf1ol (Espa\\xf1a)\\n        </span>\\n</a>,\n",
       " <a class=\"dropdown_link js-dropdown-link\" href=\"http://www.yelp.com.mx/biz_photos/tar-and-roses-santa-monica\" rel=\"nofollow\" role=\"menuitem\">\\n<span class=\"dropdown_label\">\\n                Espa\\xf1ol (M\\xe9xico)\\n        </span>\\n</a>,\n",
       " <a class=\"dropdown_link js-dropdown-link\" href=\"http://fil.yelp.com.ph/biz_photos/tar-and-roses-santa-monica\" rel=\"nofollow\" role=\"menuitem\">\\n<span class=\"dropdown_label\">\\n                Filipino (Pilipinas)\\n        </span>\\n</a>,\n",
       " <a class=\"dropdown_link js-dropdown-link\" href=\"http://fr.yelp.be/biz_photos/tar-and-roses-santa-monica\" rel=\"nofollow\" role=\"menuitem\">\\n<span class=\"dropdown_label\">\\n                Fran\\xe7ais (Belgique)\\n        </span>\\n</a>,\n",
       " <a class=\"dropdown_link js-dropdown-link\" href=\"http://fr.yelp.ca/biz_photos/tar-and-roses-santa-monica\" rel=\"nofollow\" role=\"menuitem\">\\n<span class=\"dropdown_label\">\\n                Fran\\xe7ais (Canada)\\n        </span>\\n</a>,\n",
       " <a class=\"dropdown_link js-dropdown-link\" href=\"http://www.yelp.fr/biz_photos/tar-and-roses-santa-monica\" rel=\"nofollow\" role=\"menuitem\">\\n<span class=\"dropdown_label\">\\n                Fran\\xe7ais (France)\\n        </span>\\n</a>,\n",
       " <a class=\"dropdown_link js-dropdown-link\" href=\"http://fr.yelp.ch/biz_photos/tar-and-roses-santa-monica\" rel=\"nofollow\" role=\"menuitem\">\\n<span class=\"dropdown_label\">\\n                Fran\\xe7ais (Suisse)\\n        </span>\\n</a>,\n",
       " <a class=\"dropdown_link js-dropdown-link\" href=\"http://www.yelp.it/biz_photos/tar-and-roses-santa-monica\" rel=\"nofollow\" role=\"menuitem\">\\n<span class=\"dropdown_label\">\\n                Italiano (Italia)\\n        </span>\\n</a>,\n",
       " <a class=\"dropdown_link js-dropdown-link\" href=\"http://it.yelp.ch/biz_photos/tar-and-roses-santa-monica\" rel=\"nofollow\" role=\"menuitem\">\\n<span class=\"dropdown_label\">\\n                Italiano (Svizzera)\\n        </span>\\n</a>,\n",
       " <a class=\"dropdown_link js-dropdown-link\" href=\"http://nl.yelp.be/biz_photos/tar-and-roses-santa-monica\" rel=\"nofollow\" role=\"menuitem\">\\n<span class=\"dropdown_label\">\\n                Nederlands (Belgi\\xeb)\\n        </span>\\n</a>,\n",
       " <a class=\"dropdown_link js-dropdown-link\" href=\"http://www.yelp.nl/biz_photos/tar-and-roses-santa-monica\" rel=\"nofollow\" role=\"menuitem\">\\n<span class=\"dropdown_label\">\\n                Nederlands (Nederland)\\n        </span>\\n</a>,\n",
       " <a class=\"dropdown_link js-dropdown-link\" href=\"http://www.yelp.no/biz_photos/tar-and-roses-santa-monica\" rel=\"nofollow\" role=\"menuitem\">\\n<span class=\"dropdown_label\">\\n                Norsk (Norge)\\n        </span>\\n</a>,\n",
       " <a class=\"dropdown_link js-dropdown-link\" href=\"http://www.yelp.pl/biz_photos/tar-and-roses-santa-monica\" rel=\"nofollow\" role=\"menuitem\">\\n<span class=\"dropdown_label\">\\n                Polski (Polska)\\n        </span>\\n</a>,\n",
       " <a class=\"dropdown_link js-dropdown-link\" href=\"http://www.yelp.com.br/biz_photos/tar-and-roses-santa-monica\" rel=\"nofollow\" role=\"menuitem\">\\n<span class=\"dropdown_label\">\\n                Portugu\\xeas (Brasil)\\n        </span>\\n</a>,\n",
       " <a class=\"dropdown_link js-dropdown-link\" href=\"http://www.yelp.pt/biz_photos/tar-and-roses-santa-monica\" rel=\"nofollow\" role=\"menuitem\">\\n<span class=\"dropdown_label\">\\n                Portugu\\xeas (Portugal)\\n        </span>\\n</a>,\n",
       " <a class=\"dropdown_link js-dropdown-link\" href=\"http://fi.yelp.fi/biz_photos/tar-and-roses-santa-monica\" rel=\"nofollow\" role=\"menuitem\">\\n<span class=\"dropdown_label\">\\n                Suomi (Suomi)\\n        </span>\\n</a>,\n",
       " <a class=\"dropdown_link js-dropdown-link\" href=\"http://sv.yelp.fi/biz_photos/tar-and-roses-santa-monica\" rel=\"nofollow\" role=\"menuitem\">\\n<span class=\"dropdown_label\">\\n                Svenska (Finland)\\n        </span>\\n</a>,\n",
       " <a class=\"dropdown_link js-dropdown-link\" href=\"http://www.yelp.se/biz_photos/tar-and-roses-santa-monica\" rel=\"nofollow\" role=\"menuitem\">\\n<span class=\"dropdown_label\">\\n                Svenska (Sverige)\\n        </span>\\n</a>,\n",
       " <a class=\"dropdown_link js-dropdown-link\" href=\"http://www.yelp.com.tr/biz_photos/tar-and-roses-santa-monica\" rel=\"nofollow\" role=\"menuitem\">\\n<span class=\"dropdown_label\">\\n                T\\xfcrk\\xe7e (T\\xfcrkiye)\\n        </span>\\n</a>,\n",
       " <a class=\"dropdown_link js-dropdown-link\" href=\"http://www.yelp.co.jp/biz_photos/tar-and-roses-santa-monica\" rel=\"nofollow\" role=\"menuitem\">\\n<span class=\"dropdown_label\">\\n                \\u65e5\\u672c\\u8a9e (\\u65e5\\u672c)\\n        </span>\\n</a>,\n",
       " <a class=\"dropdown_link js-dropdown-link\" href=\"http://www.yelp.com.tw/biz_photos/tar-and-roses-santa-monica\" rel=\"nofollow\" role=\"menuitem\">\\n<span class=\"dropdown_label\">\\n                \\u7e41\\u9ad4\\u4e2d\\u6587 (\\u53f0\\u7063)\\n        </span>\\n</a>,\n",
       " <a class=\"dropdown_link js-dropdown-link\" href=\"http://zh.yelp.com.hk/biz_photos/tar-and-roses-santa-monica\" rel=\"nofollow\" role=\"menuitem\">\\n<span class=\"dropdown_label\">\\n                \\u7e41\\u9ad4\\u4e2d\\u6587 (\\u9999\\u6e2f)\\n        </span>\\n</a>,\n",
       " <a class=\"dropdown_toggle-action\" href=\"javascript:;\">\\n<span class=\"dropdown_toggle-label\">United States</span>\\n<span class=\"dropdown_toggle-text js-dropdown-toggle-text\" data-dropdown-initial-text=\"\"></span>\\n<span aria-hidden=\"true\" class=\"icon icon--14-triangle-down icon--size-14 icon--currentColor u-triangle-direction-down dropdown_arrow\" style=\"width: 14px; height: 14px;\">\\n<svg class=\"icon_svg\">\\n<use xlink:href=\"#14x14_triangle_down\"></use>\\n</svg>\\n</span>\\n</a>,\n",
       " <a class=\"dropdown_link js-dropdown-link\" href=\"http://www.yelp.com.ar/\" role=\"menuitem\">\\n<span class=\"dropdown_label\">\\n                Argentina\\n        </span>\\n</a>,\n",
       " <a class=\"dropdown_link js-dropdown-link\" href=\"http://www.yelp.com.au/\" role=\"menuitem\">\\n<span class=\"dropdown_label\">\\n                Australia\\n        </span>\\n</a>,\n",
       " <a class=\"dropdown_link js-dropdown-link\" href=\"http://www.yelp.at/\" role=\"menuitem\">\\n<span class=\"dropdown_label\">\\n                Austria\\n        </span>\\n</a>,\n",
       " <a class=\"dropdown_link js-dropdown-link\" href=\"http://en.yelp.be/\" role=\"menuitem\">\\n<span class=\"dropdown_label\">\\n                Belgium\\n        </span>\\n</a>,\n",
       " <a class=\"dropdown_link js-dropdown-link\" href=\"http://www.yelp.com.br/\" role=\"menuitem\">\\n<span class=\"dropdown_label\">\\n                Brazil\\n        </span>\\n</a>,\n",
       " <a class=\"dropdown_link js-dropdown-link\" href=\"http://www.yelp.ca/\" role=\"menuitem\">\\n<span class=\"dropdown_label\">\\n                Canada\\n        </span>\\n</a>,\n",
       " <a class=\"dropdown_link js-dropdown-link\" href=\"http://www.yelp.cl/\" role=\"menuitem\">\\n<span class=\"dropdown_label\">\\n                Chile\\n        </span>\\n</a>,\n",
       " <a class=\"dropdown_link js-dropdown-link\" href=\"http://www.yelp.cz/\" role=\"menuitem\">\\n<span class=\"dropdown_label\">\\n                Czech Republic\\n        </span>\\n</a>,\n",
       " <a class=\"dropdown_link js-dropdown-link\" href=\"http://www.yelp.dk/\" role=\"menuitem\">\\n<span class=\"dropdown_label\">\\n                Denmark\\n        </span>\\n</a>,\n",
       " <a class=\"dropdown_link js-dropdown-link\" href=\"http://fi.yelp.fi/\" role=\"menuitem\">\\n<span class=\"dropdown_label\">\\n                Finland\\n        </span>\\n</a>,\n",
       " <a class=\"dropdown_link js-dropdown-link\" href=\"http://www.yelp.fr/\" role=\"menuitem\">\\n<span class=\"dropdown_label\">\\n                France\\n        </span>\\n</a>,\n",
       " <a class=\"dropdown_link js-dropdown-link\" href=\"http://www.yelp.de/\" role=\"menuitem\">\\n<span class=\"dropdown_label\">\\n                Germany\\n        </span>\\n</a>,\n",
       " <a class=\"dropdown_link js-dropdown-link\" href=\"http://en.yelp.com.hk/\" role=\"menuitem\">\\n<span class=\"dropdown_label\">\\n                Hong Kong\\n        </span>\\n</a>,\n",
       " <a class=\"dropdown_link js-dropdown-link\" href=\"http://www.yelp.it/\" role=\"menuitem\">\\n<span class=\"dropdown_label\">\\n                Italy\\n        </span>\\n</a>,\n",
       " <a class=\"dropdown_link js-dropdown-link\" href=\"http://www.yelp.co.jp/\" role=\"menuitem\">\\n<span class=\"dropdown_label\">\\n                Japan\\n        </span>\\n</a>,\n",
       " <a class=\"dropdown_link js-dropdown-link\" href=\"http://en.yelp.my/\" role=\"menuitem\">\\n<span class=\"dropdown_label\">\\n                Malaysia\\n        </span>\\n</a>,\n",
       " <a class=\"dropdown_link js-dropdown-link\" href=\"http://www.yelp.com.mx/\" role=\"menuitem\">\\n<span class=\"dropdown_label\">\\n                Mexico\\n        </span>\\n</a>,\n",
       " <a class=\"dropdown_link js-dropdown-link\" href=\"http://nz.yelp.com/\" role=\"menuitem\">\\n<span class=\"dropdown_label\">\\n                New Zealand\\n        </span>\\n</a>,\n",
       " <a class=\"dropdown_link js-dropdown-link\" href=\"http://www.yelp.no/\" role=\"menuitem\">\\n<span class=\"dropdown_label\">\\n                Norway\\n        </span>\\n</a>,\n",
       " <a class=\"dropdown_link js-dropdown-link\" href=\"http://en.yelp.com.ph/\" role=\"menuitem\">\\n<span class=\"dropdown_label\">\\n                Philippines\\n        </span>\\n</a>,\n",
       " <a class=\"dropdown_link js-dropdown-link\" href=\"http://www.yelp.pl/\" role=\"menuitem\">\\n<span class=\"dropdown_label\">\\n                Poland\\n        </span>\\n</a>,\n",
       " <a class=\"dropdown_link js-dropdown-link\" href=\"http://www.yelp.pt/\" role=\"menuitem\">\\n<span class=\"dropdown_label\">\\n                Portugal\\n        </span>\\n</a>,\n",
       " <a class=\"dropdown_link js-dropdown-link\" href=\"http://www.yelp.ie/\" role=\"menuitem\">\\n<span class=\"dropdown_label\">\\n                Republic of Ireland\\n        </span>\\n</a>,\n",
       " <a class=\"dropdown_link js-dropdown-link\" href=\"http://www.yelp.com.sg/\" role=\"menuitem\">\\n<span class=\"dropdown_label\">\\n                Singapore\\n        </span>\\n</a>,\n",
       " <a class=\"dropdown_link js-dropdown-link\" href=\"http://www.yelp.es/\" role=\"menuitem\">\\n<span class=\"dropdown_label\">\\n                Spain\\n        </span>\\n</a>,\n",
       " <a class=\"dropdown_link js-dropdown-link\" href=\"http://www.yelp.se/\" role=\"menuitem\">\\n<span class=\"dropdown_label\">\\n                Sweden\\n        </span>\\n</a>,\n",
       " <a class=\"dropdown_link js-dropdown-link\" href=\"http://de.yelp.ch/\" role=\"menuitem\">\\n<span class=\"dropdown_label\">\\n                Switzerland\\n        </span>\\n</a>,\n",
       " <a class=\"dropdown_link js-dropdown-link\" href=\"http://www.yelp.com.tw/\" role=\"menuitem\">\\n<span class=\"dropdown_label\">\\n                Taiwan\\n        </span>\\n</a>,\n",
       " <a class=\"dropdown_link js-dropdown-link\" href=\"http://www.yelp.nl/\" role=\"menuitem\">\\n<span class=\"dropdown_label\">\\n                The Netherlands\\n        </span>\\n</a>,\n",
       " <a class=\"dropdown_link js-dropdown-link\" href=\"http://www.yelp.com.tr/\" role=\"menuitem\">\\n<span class=\"dropdown_label\">\\n                Turkey\\n        </span>\\n</a>,\n",
       " <a class=\"dropdown_link js-dropdown-link\" href=\"http://www.yelp.co.uk/\" role=\"menuitem\">\\n<span class=\"dropdown_label\">\\n                United Kingdom\\n        </span>\\n</a>,\n",
       " <a class=\"dropdown_link js-dropdown-link\" href=\"http://www.yelp.com/\" role=\"menuitem\">\\n<span class=\"dropdown_label\">\\n                United States\\n        </span>\\n</a>,\n",
       " <a href=\"/atlanta\">Atlanta</a>,\n",
       " <a href=\"/austin\">Austin</a>,\n",
       " <a href=\"/boston\">Boston</a>,\n",
       " <a href=\"/chicago\">Chicago</a>,\n",
       " <a href=\"/dallas\">Dallas</a>,\n",
       " <a href=\"/denver\">Denver</a>,\n",
       " <a href=\"/detroit\">Detroit</a>,\n",
       " <a href=\"/honolulu\">Honolulu</a>,\n",
       " <a href=\"/houston\">Houston</a>,\n",
       " <a href=\"/la\">Los Angeles</a>,\n",
       " <a href=\"/miami\">Miami</a>,\n",
       " <a href=\"/minneapolis\">Minneapolis</a>,\n",
       " <a href=\"/nyc\">New York</a>,\n",
       " <a href=\"/philadelphia\">Philadelphia</a>,\n",
       " <a href=\"/portland\">Portland</a>,\n",
       " <a href=\"/sacramento\">Sacramento</a>,\n",
       " <a href=\"/san-diego\">San Diego</a>,\n",
       " <a href=\"/sf\">San Francisco</a>,\n",
       " <a href=\"/san-jose\">San Jose</a>,\n",
       " <a href=\"/seattle\">Seattle</a>,\n",
       " <a href=\"/dc\">Washington, DC</a>,\n",
       " <a href=\"/locations\">More Cities</a>,\n",
       " <a href=\"/about\">About</a>,\n",
       " <a href=\"http://officialblog.yelp.com/\">Blog</a>,\n",
       " <a href=\"http://www.yelp-support.com/?l=en_US\">Support</a>,\n",
       " <a href=\"/static?country=US&amp;p=tos\">Terms</a>]"
      ]
     },
     "execution_count": 24,
     "metadata": {},
     "output_type": "execute_result"
    }
   ],
   "source": [
    "testList"
   ]
  },
  {
   "cell_type": "code",
   "execution_count": null,
   "metadata": {
    "collapsed": true
   },
   "outputs": [],
   "source": [
    "https://scontent-lax3-1.cdninstagram.com/t51.2885-15/e35/c170.0.640.640/12940311_1718420181705113_1092745868_n.jpg"
   ]
  },
  {
   "cell_type": "code",
   "execution_count": null,
   "metadata": {
    "collapsed": true
   },
   "outputs": [],
   "source": [
    "https://scontent-lax3-1.cdninstagram.com/t51.2885-15/e35/c170.0.640.640/12940311_1718420181705113_1092745868_n.jpg?ig_cache_key=MTIxODI0MTI2MjYxMjU1MzExMg%3D%3D.2.c\">"
   ]
  },
  {
   "cell_type": "code",
   "execution_count": null,
   "metadata": {
    "collapsed": true
   },
   "outputs": [],
   "source": [
    "<img alt=\"Really really loving these @warbyparker specs 👀 ft. one of my fave shades of @nyxcosmetics's matte lip cream 💯 #warbyparkerhometryon #warbyhometryon #nyxcosmetics\" class=\"_icyx7\" id=\"pImage_2\" src=\"https://scontent-lax3-1.cdninstagram.com/t51.2885-15/e35/c170.0.640.640/12940311_1718420181705113_1092745868_n.jpg?ig_cache_key=MTIxODI0MTI2MjYxMjU1MzExMg%3D%3D.2.c\">"
   ]
  }
 ],
 "metadata": {
  "kernelspec": {
   "display_name": "Python 2",
   "language": "python",
   "name": "python2"
  },
  "language_info": {
   "codemirror_mode": {
    "name": "ipython",
    "version": 2
   },
   "file_extension": ".py",
   "mimetype": "text/x-python",
   "name": "python",
   "nbconvert_exporter": "python",
   "pygments_lexer": "ipython2",
   "version": "2.7.11"
  }
 },
 "nbformat": 4,
 "nbformat_minor": 0
}
