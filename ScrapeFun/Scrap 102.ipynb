{
 "cells": [
  {
   "cell_type": "code",
   "execution_count": 1,
   "metadata": {
    "collapsed": true
   },
   "outputs": [],
   "source": [
    "import requests"
   ]
  },
  {
   "cell_type": "code",
   "execution_count": 2,
   "metadata": {
    "collapsed": true
   },
   "outputs": [],
   "source": [
    "WORDNIK_URL = 'http://api.wordnik.com:80/v4/word.json/chair/definitions?limit=200&includeRelated=true&useCanonical=false&includeTags=false&api_key=a2a73e7b926c924fad7001ca3111acd55af2ffabf50eb4ae5'"
   ]
  },
  {
   "cell_type": "code",
   "execution_count": 3,
   "metadata": {
    "collapsed": true
   },
   "outputs": [],
   "source": [
    "r = requests.get(WORDNIK_URL)"
   ]
  },
  {
   "cell_type": "code",
   "execution_count": 4,
   "metadata": {
    "collapsed": false
   },
   "outputs": [
    {
     "data": {
      "text/plain": [
       "u'[{\"textProns\":[],\"sourceDictionary\":\"ahd-legacy\",\"exampleUses\":[],\"relatedWords\":[],\"labels\":[],\"citations\":[],\"word\":\"chair\",\"attributionText\":\"from The American Heritage\\xae Dictionary of the English Language, 4th Edition\",\"partOfSpeech\":\"noun\",\"sequence\":\"0\",\"text\":\"A piece of furniture consisting of a seat, legs, back, and often arms, designed to accommodate one person.\",\"score\":0.0},{\"textProns\":[],\"sourceDictionary\":\"ahd-legacy\",\"exampleUses\":[],\"relatedWords\":[],\"labels\":[],\"citations\":[],\"word\":\"chair\",\"attributionText\":\"from The American Heritage\\xae Dictionary of the English Language, 4th Edition\",\"partOfSpeech\":\"noun\",\"sequence\":\"1\",\"text\":\"A seat of office, authority, or dignity, such as that of a bishop.\",\"score\":0.0},{\"textProns\":[],\"sourceDictionary\":\"ahd-legacy\",\"exampleUses\":[],\"relatedWords\":[],\"labels\":[],\"citations\":[],\"word\":\"chair\",\"attributionText\":\"from The American Heritage\\xae Dictionary of the English Language, 4th Edition\",\"partOfSpeech\":\"noun\",\"sequence\":\"2\",\"text\":\"An office or position of authority, such as a professorship.\",\"score\":0.0},{\"textProns\":[],\"sourceDictionary\":\"ahd-legacy\",\"exampleUses\":[],\"relatedWords\":[],\"labels\":[],\"citations\":[],\"word\":\"chair\",\"attributionText\":\"from The American Heritage\\xae Dictionary of the English Language, 4th Edition\",\"partOfSpeech\":\"noun\",\"sequence\":\"3\",\"text\":\"A person who holds an office or a position of authority, such as one who presides over a meeting or administers a department of instruction at a college; a chairperson.\",\"score\":0.0},{\"textProns\":[],\"sourceDictionary\":\"ahd-legacy\",\"exampleUses\":[],\"relatedWords\":[],\"labels\":[],\"citations\":[],\"word\":\"chair\",\"attributionText\":\"from The American Heritage\\xae Dictionary of the English Language, 4th Edition\",\"partOfSpeech\":\"noun\",\"sequence\":\"4\",\"text\":\"The position of a player in an orchestra.\",\"score\":0.0},{\"textProns\":[],\"sourceDictionary\":\"ahd-legacy\",\"exampleUses\":[],\"relatedWords\":[],\"labels\":[],\"citations\":[],\"word\":\"chair\",\"attributionText\":\"from The American Heritage\\xae Dictionary of the English Language, 4th Edition\",\"partOfSpeech\":\"noun\",\"sequence\":\"5\",\"text\":\"Slang   The electric chair.\",\"score\":0.0},{\"textProns\":[],\"sourceDictionary\":\"ahd-legacy\",\"exampleUses\":[],\"relatedWords\":[],\"labels\":[],\"citations\":[],\"word\":\"chair\",\"attributionText\":\"from The American Heritage\\xae Dictionary of the English Language, 4th Edition\",\"partOfSpeech\":\"noun\",\"sequence\":\"6\",\"text\":\"A seat carried about on poles; a sedan chair.\",\"score\":0.0},{\"textProns\":[],\"sourceDictionary\":\"ahd-legacy\",\"exampleUses\":[],\"relatedWords\":[],\"labels\":[],\"citations\":[],\"word\":\"chair\",\"attributionText\":\"from The American Heritage\\xae Dictionary of the English Language, 4th Edition\",\"partOfSpeech\":\"noun\",\"sequence\":\"7\",\"text\":\"Any of several devices that serve to support or secure, such as a metal block that supports and holds railroad track in position.\",\"score\":0.0},{\"textProns\":[],\"sourceDictionary\":\"ahd-legacy\",\"exampleUses\":[],\"relatedWords\":[],\"labels\":[],\"citations\":[],\"word\":\"chair\",\"attributionText\":\"from The American Heritage\\xae Dictionary of the English Language, 4th Edition\",\"partOfSpeech\":\"verb-transitive\",\"sequence\":\"8\",\"text\":\"To install in a position of authority, especially as a presiding officer.\",\"score\":0.0},{\"textProns\":[],\"sourceDictionary\":\"ahd-legacy\",\"exampleUses\":[],\"relatedWords\":[],\"labels\":[],\"citations\":[],\"word\":\"chair\",\"attributionText\":\"from The American Heritage\\xae Dictionary of the English Language, 4th Edition\",\"partOfSpeech\":\"verb-transitive\",\"sequence\":\"9\",\"text\":\"To preside over as chairperson:  chair a meeting. \",\"score\":0.0}]'"
      ]
     },
     "execution_count": 4,
     "metadata": {},
     "output_type": "execute_result"
    }
   ],
   "source": [
    "r.text"
   ]
  },
  {
   "cell_type": "code",
   "execution_count": 5,
   "metadata": {
    "collapsed": false
   },
   "outputs": [
    {
     "data": {
      "text/plain": [
       "{'Access-Control-Allow-Headers': 'Origin, X-Atmosphere-tracking-id, X-Atmosphere-Framework, X-Cache-Date, Content-Type, X-Atmosphere-Transport, X-Remote, api_key, auth_token, *', 'Wordnik-API-Version': '4.12.20', 'Connection': 'close', 'Access-Control-Request-Headers': 'Origin, X-Atmosphere-tracking-id, X-Atmosphere-Framework, X-Cache-Date, Content-Type, X-Atmosphere-Transport,  X-Remote, api_key, *', 'Date': 'Mon, 27 Jun 2016 21:36:36 GMT', 'Access-Control-Allow-Origin': '*', 'Access-Control-Allow-Methods': 'POST, GET, OPTIONS, PUT, DELETE', 'Content-Type': 'application/json; charset=utf-8'}"
      ]
     },
     "execution_count": 5,
     "metadata": {},
     "output_type": "execute_result"
    }
   ],
   "source": [
    "r.headers"
   ]
  },
  {
   "cell_type": "code",
   "execution_count": 7,
   "metadata": {
    "collapsed": false
   },
   "outputs": [],
   "source": [
    "definitions = r.json()"
   ]
  },
  {
   "cell_type": "code",
   "execution_count": 8,
   "metadata": {
    "collapsed": false
   },
   "outputs": [
    {
     "data": {
      "text/plain": [
       "{u'attributionText': u'from The American Heritage\\xae Dictionary of the English Language, 4th Edition',\n",
       " u'citations': [],\n",
       " u'exampleUses': [],\n",
       " u'labels': [],\n",
       " u'partOfSpeech': u'noun',\n",
       " u'relatedWords': [],\n",
       " u'score': 0.0,\n",
       " u'sequence': u'0',\n",
       " u'sourceDictionary': u'ahd-legacy',\n",
       " u'text': u'A piece of furniture consisting of a seat, legs, back, and often arms, designed to accommodate one person.',\n",
       " u'textProns': [],\n",
       " u'word': u'chair'}"
      ]
     },
     "execution_count": 8,
     "metadata": {},
     "output_type": "execute_result"
    }
   ],
   "source": [
    "definitions[0]"
   ]
  },
  {
   "cell_type": "code",
   "execution_count": 11,
   "metadata": {
    "collapsed": false
   },
   "outputs": [
    {
     "data": {
      "text/plain": [
       "u'A piece of furniture consisting of a seat, legs, back, and often arms, designed to accommodate one person.'"
      ]
     },
     "execution_count": 11,
     "metadata": {},
     "output_type": "execute_result"
    }
   ],
   "source": [
    "definitions[0]['text']"
   ]
  },
  {
   "cell_type": "code",
   "execution_count": 15,
   "metadata": {
    "collapsed": false
   },
   "outputs": [
    {
     "name": "stdout",
     "output_type": "stream",
     "text": [
      "A piece of furniture consisting of a seat, legs, back, and often arms, designed to accommodate one person.\n",
      "A seat of office, authority, or dignity, such as that of a bishop.\n",
      "An office or position of authority, such as a professorship.\n",
      "A person who holds an office or a position of authority, such as one who presides over a meeting or administers a department of instruction at a college; a chairperson.\n",
      "The position of a player in an orchestra.\n",
      "Slang   The electric chair.\n",
      "A seat carried about on poles; a sedan chair.\n",
      "Any of several devices that serve to support or secure, such as a metal block that supports and holds railroad track in position.\n",
      "To install in a position of authority, especially as a presiding officer.\n",
      "To preside over as chairperson:  chair a meeting. \n"
     ]
    }
   ],
   "source": [
    "for i in definitions:\n",
    "    print i['text']"
   ]
  },
  {
   "cell_type": "code",
   "execution_count": 17,
   "metadata": {
    "collapsed": false
   },
   "outputs": [
    {
     "name": "stdout",
     "output_type": "stream",
     "text": [
      "from The American Heritage® Dictionary of the English Language, 4th Edition\n",
      "from The American Heritage® Dictionary of the English Language, 4th Edition\n",
      "from The American Heritage® Dictionary of the English Language, 4th Edition\n",
      "from The American Heritage® Dictionary of the English Language, 4th Edition\n",
      "from The American Heritage® Dictionary of the English Language, 4th Edition\n",
      "from The American Heritage® Dictionary of the English Language, 4th Edition\n",
      "from The American Heritage® Dictionary of the English Language, 4th Edition\n",
      "from The American Heritage® Dictionary of the English Language, 4th Edition\n",
      "from The American Heritage® Dictionary of the English Language, 4th Edition\n",
      "from The American Heritage® Dictionary of the English Language, 4th Edition\n"
     ]
    }
   ],
   "source": [
    "for x in definitions:\n",
    "    print x['attributionText']"
   ]
  },
  {
   "cell_type": "code",
   "execution_count": 26,
   "metadata": {
    "collapsed": false
   },
   "outputs": [
    {
     "name": "stdout",
     "output_type": "stream",
     "text": [
      "Word:  chair Attribution Text:  from The American Heritage® Dictionary of the English Language, 4th Edition Text:  A piece of furniture consisting of a seat, legs, back, and often arms, designed to accommodate one person.\n",
      "Word:  chair Attribution Text:  from The American Heritage® Dictionary of the English Language, 4th Edition Text:  A seat of office, authority, or dignity, such as that of a bishop.\n",
      "Word:  chair Attribution Text:  from The American Heritage® Dictionary of the English Language, 4th Edition Text:  An office or position of authority, such as a professorship.\n",
      "Word:  chair Attribution Text:  from The American Heritage® Dictionary of the English Language, 4th Edition Text:  A person who holds an office or a position of authority, such as one who presides over a meeting or administers a department of instruction at a college; a chairperson.\n",
      "Word:  chair Attribution Text:  from The American Heritage® Dictionary of the English Language, 4th Edition Text:  The position of a player in an orchestra.\n",
      "Word:  chair Attribution Text:  from The American Heritage® Dictionary of the English Language, 4th Edition Text:  Slang   The electric chair.\n",
      "Word:  chair Attribution Text:  from The American Heritage® Dictionary of the English Language, 4th Edition Text:  A seat carried about on poles; a sedan chair.\n",
      "Word:  chair Attribution Text:  from The American Heritage® Dictionary of the English Language, 4th Edition Text:  Any of several devices that serve to support or secure, such as a metal block that supports and holds railroad track in position.\n",
      "Word:  chair Attribution Text:  from The American Heritage® Dictionary of the English Language, 4th Edition Text:  To install in a position of authority, especially as a presiding officer.\n",
      "Word:  chair Attribution Text:  from The American Heritage® Dictionary of the English Language, 4th Edition Text:  To preside over as chairperson:  chair a meeting. \n"
     ]
    }
   ],
   "source": [
    "for z in definitions:\n",
    "    print \"Word: \", z['word'], \"Attribution Text: \", z['attributionText'], \"Text: \", z['text']"
   ]
  },
  {
   "cell_type": "code",
   "execution_count": 28,
   "metadata": {
    "collapsed": false
   },
   "outputs": [],
   "source": [
    "r = requests.get('http://api.wordnik.com:80/v4/word.json/chair/pronunciations?useCanonical=false&limit=50&api_key=a2a73e7b926c924fad7001ca3111acd55af2ffabf50eb4ae5')"
   ]
  },
  {
   "cell_type": "code",
   "execution_count": 31,
   "metadata": {
    "collapsed": false
   },
   "outputs": [],
   "source": [
    "speak = r.json()"
   ]
  },
  {
   "cell_type": "code",
   "execution_count": 32,
   "metadata": {
    "collapsed": false
   },
   "outputs": [
    {
     "name": "stdout",
     "output_type": "stream",
     "text": [
      "(châr)\n",
      "(châr)\n",
      "CH EH1 R\n"
     ]
    }
   ],
   "source": [
    "for x in speak:\n",
    "    print x['raw']"
   ]
  },
  {
   "cell_type": "code",
   "execution_count": 35,
   "metadata": {
    "collapsed": false
   },
   "outputs": [
    {
     "ename": "UnicodeEncodeError",
     "evalue": "'ascii' codec can't encode character u'\\xae' in position 26: ordinal not in range(128)",
     "output_type": "error",
     "traceback": [
      "\u001b[0;31m---------------------------------------------------------------------------\u001b[0m",
      "\u001b[0;31mUnicodeEncodeError\u001b[0m                        Traceback (most recent call last)",
      "\u001b[0;32m<ipython-input-35-64c5df4ef825>\u001b[0m in \u001b[0;36m<module>\u001b[0;34m()\u001b[0m\n\u001b[1;32m      4\u001b[0m \u001b[0mwriter\u001b[0m \u001b[0;34m=\u001b[0m \u001b[0mcsv\u001b[0m\u001b[0;34m.\u001b[0m\u001b[0mDictWriter\u001b[0m\u001b[0;34m(\u001b[0m\u001b[0mfout\u001b[0m\u001b[0;34m,\u001b[0m \u001b[0mfieldnames\u001b[0m\u001b[0;34m=\u001b[0m\u001b[0mdefinitions\u001b[0m\u001b[0;34m[\u001b[0m\u001b[0;36m0\u001b[0m\u001b[0;34m]\u001b[0m\u001b[0;34m.\u001b[0m\u001b[0mkeys\u001b[0m\u001b[0;34m(\u001b[0m\u001b[0;34m)\u001b[0m\u001b[0;34m)\u001b[0m\u001b[0;34m\u001b[0m\u001b[0m\n\u001b[1;32m      5\u001b[0m \u001b[0mwriter\u001b[0m\u001b[0;34m.\u001b[0m\u001b[0mwriteheader\u001b[0m\u001b[0;34m(\u001b[0m\u001b[0;34m)\u001b[0m\u001b[0;34m\u001b[0m\u001b[0m\n\u001b[0;32m----> 6\u001b[0;31m \u001b[0mwriter\u001b[0m\u001b[0;34m.\u001b[0m\u001b[0mwriterows\u001b[0m\u001b[0;34m(\u001b[0m\u001b[0mdefinitions\u001b[0m\u001b[0;34m)\u001b[0m\u001b[0;34m\u001b[0m\u001b[0m\n\u001b[0m",
      "\u001b[0;32m/Users/Paul/anaconda/lib/python2.7/csv.pyc\u001b[0m in \u001b[0;36mwriterows\u001b[0;34m(self, rowdicts)\u001b[0m\n\u001b[1;32m    156\u001b[0m         \u001b[0;32mfor\u001b[0m \u001b[0mrowdict\u001b[0m \u001b[0;32min\u001b[0m \u001b[0mrowdicts\u001b[0m\u001b[0;34m:\u001b[0m\u001b[0;34m\u001b[0m\u001b[0m\n\u001b[1;32m    157\u001b[0m             \u001b[0mrows\u001b[0m\u001b[0;34m.\u001b[0m\u001b[0mappend\u001b[0m\u001b[0;34m(\u001b[0m\u001b[0mself\u001b[0m\u001b[0;34m.\u001b[0m\u001b[0m_dict_to_list\u001b[0m\u001b[0;34m(\u001b[0m\u001b[0mrowdict\u001b[0m\u001b[0;34m)\u001b[0m\u001b[0;34m)\u001b[0m\u001b[0;34m\u001b[0m\u001b[0m\n\u001b[0;32m--> 158\u001b[0;31m         \u001b[0;32mreturn\u001b[0m \u001b[0mself\u001b[0m\u001b[0;34m.\u001b[0m\u001b[0mwriter\u001b[0m\u001b[0;34m.\u001b[0m\u001b[0mwriterows\u001b[0m\u001b[0;34m(\u001b[0m\u001b[0mrows\u001b[0m\u001b[0;34m)\u001b[0m\u001b[0;34m\u001b[0m\u001b[0m\n\u001b[0m\u001b[1;32m    159\u001b[0m \u001b[0;34m\u001b[0m\u001b[0m\n\u001b[1;32m    160\u001b[0m \u001b[0;31m# Guard Sniffer's type checking against builds that exclude complex()\u001b[0m\u001b[0;34m\u001b[0m\u001b[0;34m\u001b[0m\u001b[0m\n",
      "\u001b[0;31mUnicodeEncodeError\u001b[0m: 'ascii' codec can't encode character u'\\xae' in position 26: ordinal not in range(128)"
     ]
    }
   ],
   "source": [
    "import csv\n",
    "\n",
    "fout = open('defs.csv', 'w+')\n",
    "writer = csv.DictWriter(fout, fieldnames=definitions[0].keys())\n",
    "writer.writeheader()\n",
    "writer.writerows(definitions)"
   ]
  },
  {
   "cell_type": "code",
   "execution_count": null,
   "metadata": {
    "collapsed": true
   },
   "outputs": [],
   "source": []
  }
 ],
 "metadata": {
  "kernelspec": {
   "display_name": "Python 2",
   "language": "python",
   "name": "python2"
  },
  "language_info": {
   "codemirror_mode": {
    "name": "ipython",
    "version": 2
   },
   "file_extension": ".py",
   "mimetype": "text/x-python",
   "name": "python",
   "nbconvert_exporter": "python",
   "pygments_lexer": "ipython2",
   "version": "2.7.11"
  }
 },
 "nbformat": 4,
 "nbformat_minor": 0
}
