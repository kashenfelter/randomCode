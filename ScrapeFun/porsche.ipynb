{
 "cells": [
  {
   "cell_type": "code",
   "execution_count": 3,
   "metadata": {
    "collapsed": false
   },
   "outputs": [
    {
     "name": "stdout",
     "output_type": "stream",
     "text": [
      "Populating the interactive namespace from numpy and matplotlib\n"
     ]
    }
   ],
   "source": [
    "import pandas as pd\n",
    "%pylab inline"
   ]
  },
  {
   "cell_type": "code",
   "execution_count": 4,
   "metadata": {
    "collapsed": true
   },
   "outputs": [],
   "source": [
    "import requests"
   ]
  },
  {
   "cell_type": "code",
   "execution_count": 5,
   "metadata": {
    "collapsed": true
   },
   "outputs": [],
   "source": [
    "url_base = 'http://sfbay.craigslist.org/search/eby/apa'\n",
    "params = dict(bedrooms=1, is_furnished=1)\n",
    "rsp = requests.get(url_base, params=params)"
   ]
  },
  {
   "cell_type": "code",
   "execution_count": 6,
   "metadata": {
    "collapsed": false
   },
   "outputs": [
    {
     "name": "stdout",
     "output_type": "stream",
     "text": [
      "http://sfbay.craigslist.org/search/eby/apa?bedrooms=1&is_furnished=1\n"
     ]
    }
   ],
   "source": [
    "# Note that requests automatically created the right URL:\n",
    "print(rsp.url)"
   ]
  },
  {
   "cell_type": "code",
   "execution_count": 7,
   "metadata": {
    "collapsed": false
   },
   "outputs": [
    {
     "name": "stdout",
     "output_type": "stream",
     "text": [
      "﻿<!DOCTYPE html>\n",
      "\n",
      "<html class=\"no-js\"><head>\n",
      "    <title>SF bay area apartments / housing rentals  - craigslist</title>\n",
      "\n",
      "    <meta name=\"description\" content=\"SF bay area apartments / housing rentals  - craigslist\">\n",
      "    <meta http-equiv=\"X-UA-Compatible\" content=\"IE=Edge\"/>\n",
      "    <link rel=\"canonical\" href=\"https://sfbay.craigslist.org/search/eby/apa\">\n",
      "    <link rel=\"alternate\" type=\"application/rss+xml\" href=\"https://sfbay.craigslist.org/search/eby/apa?bedrooms=1&amp;format=rss&amp;is_furnished=1\"\n"
     ]
    }
   ],
   "source": [
    "print(rsp.text[:500])"
   ]
  },
  {
   "cell_type": "code",
   "execution_count": 8,
   "metadata": {
    "collapsed": false
   },
   "outputs": [
    {
     "name": "stdout",
     "output_type": "stream",
     "text": [
      "﻿\n",
      "<!DOCTYPE html>\n",
      "<html class=\"no-js\">\n",
      " <head>\n",
      "  <title>\n",
      "   SF bay area apartments / housing rentals  - craigslist\n",
      "  </title>\n",
      "  <meta content=\"SF bay area apartments / housing rentals  - craigslist\" name=\"description\">\n",
      "   <meta content=\"IE=Edge\" http-equiv=\"X-UA-Compatible\"/>\n",
      "   <link href=\"https://sfbay.craigslist.org/search/eby/apa\" rel=\"canonical\">\n",
      "    <link href=\"https://sfbay.craigslist.org/search/eby/apa?bedrooms=1&amp;format=rss&amp;is_furnished=1\" rel=\"alternate\" title=\"RSS feed for craigslist | SF bay area apartments / housing rentals  - craigslist \" type=\"application/rss+xml\">\n",
      "     <link href=\"https://sfbay.craigslist.org/search/eby/apa?s=100&amp;bedrooms=1&amp;is_furnished=1\" rel=\"next\">\n",
      "      <meta content=\"width=device-width,initial-scale=1\" name=\"viewport\">\n",
      "       <link href=\"//www.craigslist.org/styles/cl.css?v=a1714916751d26ee0ae47420332c611b\" media=\"all\" rel=\"stylesheet\" type=\"text/css\">\n",
      "        <link href=\"//www.craigslist.org/styles/search.css?v=61ca3f27c9d23e2186e4d\n"
     ]
    }
   ],
   "source": [
    "from bs4 import BeautifulSoup as bs4\n",
    "\n",
    "# BS4 can quickly parse our text, make sure to tell it that you're giving html\n",
    "html = bs4(rsp.text, 'html.parser')\n",
    "\n",
    "# BS makes it easy to look through a document\n",
    "print(html.prettify()[:1000])"
   ]
  },
  {
   "cell_type": "code",
   "execution_count": 9,
   "metadata": {
    "collapsed": false
   },
   "outputs": [
    {
     "name": "stdout",
     "output_type": "stream",
     "text": [
      "100\n"
     ]
    }
   ],
   "source": [
    "# find_all will pull entries that fit your search criteria.\n",
    "# Note that we have to use brackets to define the `attrs` dictionary\n",
    "# Because \"class\" is a special word in python, so we need to give a string.\n",
    "apts = html.find_all('p', attrs={'class': 'row'})\n",
    "print(len(apts))"
   ]
  },
  {
   "cell_type": "code",
   "execution_count": 10,
   "metadata": {
    "collapsed": false
   },
   "outputs": [
    {
     "name": "stdout",
     "output_type": "stream",
     "text": [
      "<p class=\"row\" data-pid=\"5638001416\" data-repost-of=\"5398236661\">\n",
      " <a class=\"i gallery\" data-ids=\"1:00S0S_2D8zdVAIBEd,1:00e0e_4mwvkM2sgDU,1:00707_1rNpTlqaMFg,1:00U0U_hoja41xlkeH,1:00A0A_8OkZtt9Pqao,1:00B0B_5YlgyqeVlZv,1:00f0f_6Dbeee9Gp4M,1:00T0T_2Cz8NusmInf,1:00T0T_6I5H6bR4C9X,1:00h0h_fMKLyLavCyI\" href=\"/eby/apa/5638001416.html\">\n",
      " </a>\n",
      " <span class=\"txt\">\n",
      "  <span class=\"pl\">\n",
      "   <span class=\"icon icon-star\" role=\"button\">\n",
      "    <span class=\"screen-reader-text\">\n",
      "     <? __(\"favorite this post\") ?>\n",
      "    </span>\n",
      "   </span>\n",
      "   <time datetime=\"2016-06-27 01:40\" title=\"Mon 27 Jun 01:40:07 AM\">\n",
      "    Jun 27\n",
      "   </time>\n",
      "   <a class=\"hdrlnk\" data-id=\"5638001416\" href=\"/eby/apa/5638001416.html\">\n",
      "    <span id=\"titletextonly\">\n",
      "     furnished rooms for rent\n",
      "    </span>\n",
      "   </a>\n",
      "  </span>\n",
      "  <span class=\"l2\">\n",
      "   <span class=\"price\">\n",
      "    $1600\n",
      "   </span>\n",
      "   <span class=\"housing\">\n",
      "    / 1br -\n",
      "   </span>\n",
      "   <span class=\"pnr\">\n",
      "    <small>\n",
      "     (berkeley)\n",
      "    </small>\n",
      "    <span class=\"px\">\n",
      "     <span class=\"p\">\n",
      "      pic\n",
      "      <span class=\"maptag\" data-pid=\"5638001416\">\n",
      "       map\n",
      "      </span>\n",
      "     </span>\n",
      "    </span>\n",
      "   </span>\n",
      "  </span>\n",
      "  <span class=\"js-only banish-unbanish\">\n",
      "   <span class=\"banish\" title=\"hide\">\n",
      "    <span class=\"icon icon-trash\" role=\"button\">\n",
      "    </span>\n",
      "    <span class=\"screen-reader-text\">\n",
      "     hide this posting\n",
      "    </span>\n",
      "   </span>\n",
      "   <span class=\"unbanish\" title=\"restore\">\n",
      "    <span class=\"icon icon-trash red\" role=\"button\">\n",
      "    </span>\n",
      "    <span class=\"screen-reader-text\">\n",
      "     restore this posting\n",
      "    </span>\n",
      "   </span>\n",
      "  </span>\n",
      " </span>\n",
      "</p>\n",
      "\n"
     ]
    }
   ],
   "source": [
    "this_appt = apts[15]\n",
    "print(this_appt.prettify())"
   ]
  },
  {
   "cell_type": "code",
   "execution_count": 11,
   "metadata": {
    "collapsed": false
   },
   "outputs": [
    {
     "name": "stdout",
     "output_type": "stream",
     "text": [
      "/ 1br - \n"
     ]
    }
   ],
   "source": [
    "# So now we'll pull out a couple of things we might be interested in:\n",
    "# It looks like \"housing\" contains size information. We'll pull that.\n",
    "# Note that `findAll` returns a list, since there's only one entry in\n",
    "# this HTML, we'll just pull the first item.\n",
    "size = this_appt.findAll(attrs={'class': 'housing'})[0].text\n",
    "print(size)"
   ]
  },
  {
   "cell_type": "code",
   "execution_count": 12,
   "metadata": {
    "collapsed": true
   },
   "outputs": [],
   "source": [
    "def find_size_and_brs(size):\n",
    "    split = size.strip('/- ').split(' - ')\n",
    "    if len(split) == 2:\n",
    "        n_brs = split[0].replace('br', '')\n",
    "        this_size = split[1].replace('ft2', '')\n",
    "    elif 'br' in split[0]:\n",
    "        # It's the n_bedrooms\n",
    "        n_brs = split[0].replace('br', '')\n",
    "        this_size = np.nan\n",
    "    elif 'ft2' in split[0]:\n",
    "        # It's the size\n",
    "        this_size = split[0].replace('ft2', '')\n",
    "        n_brs = np.nan\n",
    "    return float(this_size), float(n_brs)\n",
    "this_size, n_brs = find_size_and_brs(size)"
   ]
  },
  {
   "cell_type": "code",
   "execution_count": 13,
   "metadata": {
    "collapsed": true
   },
   "outputs": [],
   "source": [
    "# Now we'll also pull a few other things:\n",
    "this_time = this_appt.find('time')['datetime']\n",
    "this_time = pd.to_datetime(this_time)\n",
    "this_price = float(this_appt.find('span', {'class': 'price'}).text.strip('$'))\n",
    "this_title = this_appt.find('a', attrs={'class': 'hdrlnk'}).text"
   ]
  },
  {
   "cell_type": "code",
   "execution_count": 14,
   "metadata": {
    "collapsed": false
   },
   "outputs": [
    {
     "name": "stdout",
     "output_type": "stream",
     "text": [
      "nan\n",
      "1.0\n",
      "2016-06-27 01:40:00\n",
      "1600.0\n",
      "furnished rooms for rent\n"
     ]
    }
   ],
   "source": [
    "# Now we've got the n_bedrooms, size, price, and time of listing\n",
    "print('\\n'.join([str(i) for i in [this_size, n_brs, this_time, this_price, this_title]]))\n"
   ]
  },
  {
   "cell_type": "code",
   "execution_count": 15,
   "metadata": {
    "collapsed": true
   },
   "outputs": [],
   "source": [
    "loc_prefixes = ['eby', 'nby', 'sfc', 'sby', 'scz']"
   ]
  },
  {
   "cell_type": "code",
   "execution_count": 16,
   "metadata": {
    "collapsed": true
   },
   "outputs": [],
   "source": [
    "def find_prices(results):\n",
    "    prices = []\n",
    "    for rw in results:\n",
    "        price = rw.find('span', {'class': 'price'})\n",
    "        if price is not None:\n",
    "            price = float(price.text.strip('$'))\n",
    "        else:\n",
    "            price = np.nan\n",
    "        prices.append(price)\n",
    "    return prices\n",
    "\n",
    "def find_times(results):\n",
    "    times = []\n",
    "    for rw in apts:\n",
    "        if time is not None:\n",
    "            time = time['datetime']\n",
    "            time = pd.to_datetime(time)\n",
    "        else:\n",
    "            time = np.nan\n",
    "        times.append(time)\n",
    "    return times"
   ]
  },
  {
   "cell_type": "code",
   "execution_count": 17,
   "metadata": {
    "collapsed": false
   },
   "outputs": [
    {
     "name": "stdout",
     "output_type": "stream",
     "text": [
      "eby\n",
      "nby\n",
      "sfc\n",
      "sby\n",
      "scz\n"
     ]
    }
   ],
   "source": [
    "# Now loop through all of this and store the results\n",
    "results = []  # We'll store the data here\n",
    "# Careful with this...too many queries == your IP gets banned temporarily\n",
    "search_indices = np.arange(0, 300, 100)\n",
    "for loc in loc_prefixes:\n",
    "    print loc\n",
    "    for i in search_indices:\n",
    "        url = 'http://sfbay.craigslist.org/search/{0}/apa'.format(loc)\n",
    "        resp = requests.get(url, params={'bedrooms': 1, 's': i})\n",
    "        txt = bs4(resp.text, 'html.parser')\n",
    "        apts = txt.findAll(attrs={'class': \"row\"})\n",
    "        \n",
    "        # Find the size of all entries\n",
    "        size_text = [rw.findAll(attrs={'class': 'housing'})[0].text\n",
    "                     for rw in apts]\n",
    "        sizes_brs = [find_size_and_brs(stxt) for stxt in size_text]\n",
    "        sizes, n_brs = zip(*sizes_brs)  # This unzips into 2 vectors\n",
    "     \n",
    "        # Find the title and link\n",
    "        title = [rw.find('a', attrs={'class': 'hdrlnk'}).text\n",
    "                      for rw in apts]\n",
    "        links = [rw.find('a', attrs={'class': 'hdrlnk'})['href']\n",
    "                 for rw in apts]\n",
    "        \n",
    "        # Find the time\n",
    "        time = [pd.to_datetime(rw.find('time')['datetime']) for rw in apts]\n",
    "        price = find_prices(apts)\n",
    "        \n",
    "        # We'll create a dataframe to store all the data\n",
    "        data = np.array([time, price, sizes, n_brs, title, links])\n",
    "        col_names = ['time', 'price', 'size', 'brs', 'title', 'link']\n",
    "        df = pd.DataFrame(data.T, columns=col_names)\n",
    "        df = df.set_index('time')\n",
    "        \n",
    "        # Add the location variable to all entries\n",
    "        df['loc'] = loc\n",
    "        results.append(df)\n",
    "        \n",
    "# Finally, concatenate all the results\n",
    "results = pd.concat(results, axis=0)"
   ]
  },
  {
   "cell_type": "code",
   "execution_count": 18,
   "metadata": {
    "collapsed": false
   },
   "outputs": [
    {
     "name": "stderr",
     "output_type": "stream",
     "text": [
      "/Users/Paul/anaconda/lib/python2.7/site-packages/ipykernel/__main__.py:2: FutureWarning: convert_objects is deprecated.  Use the data-type specific converters pd.to_datetime, pd.to_timedelta and pd.to_numeric.\n",
      "  from ipykernel import kernelapp as app\n"
     ]
    }
   ],
   "source": [
    "# We'll make sure that the right columns are represented numerically:\n",
    "results[['price', 'size', 'brs']] = results[['price', 'size', 'brs']].convert_objects(convert_numeric=True)\n"
   ]
  },
  {
   "cell_type": "code",
   "execution_count": 19,
   "metadata": {
    "collapsed": false,
    "scrolled": true
   },
   "outputs": [
    {
     "data": {
      "text/html": [
       "<div>\n",
       "<table border=\"1\" class=\"dataframe\">\n",
       "  <thead>\n",
       "    <tr style=\"text-align: right;\">\n",
       "      <th></th>\n",
       "      <th>price</th>\n",
       "      <th>size</th>\n",
       "      <th>brs</th>\n",
       "      <th>title</th>\n",
       "      <th>link</th>\n",
       "      <th>loc</th>\n",
       "    </tr>\n",
       "    <tr>\n",
       "      <th>time</th>\n",
       "      <th></th>\n",
       "      <th></th>\n",
       "      <th></th>\n",
       "      <th></th>\n",
       "      <th></th>\n",
       "      <th></th>\n",
       "    </tr>\n",
       "  </thead>\n",
       "  <tbody>\n",
       "    <tr>\n",
       "      <th>2016-06-27 11:19:00</th>\n",
       "      <td>2318.0</td>\n",
       "      <td>786.0</td>\n",
       "      <td>1.0</td>\n",
       "      <td>Walk to the Lake and Park!</td>\n",
       "      <td>/eby/apa/5656321646.html</td>\n",
       "      <td>eby</td>\n",
       "    </tr>\n",
       "    <tr>\n",
       "      <th>2016-06-27 11:19:00</th>\n",
       "      <td>2500.0</td>\n",
       "      <td>850.0</td>\n",
       "      <td>2.0</td>\n",
       "      <td>2 Bed/1 Bath Apartment Home Coming Available! ...</td>\n",
       "      <td>/eby/apa/5614049056.html</td>\n",
       "      <td>eby</td>\n",
       "    </tr>\n",
       "    <tr>\n",
       "      <th>2016-06-27 11:19:00</th>\n",
       "      <td>2995.0</td>\n",
       "      <td>1450.0</td>\n",
       "      <td>1.0</td>\n",
       "      <td>OPEN HOUSE TODAY 11AM-2PM!!! 1BED/1BATH LIVE/W...</td>\n",
       "      <td>/eby/apa/5631998326.html</td>\n",
       "      <td>eby</td>\n",
       "    </tr>\n",
       "    <tr>\n",
       "      <th>2016-06-27 11:18:00</th>\n",
       "      <td>1625.0</td>\n",
       "      <td>936.0</td>\n",
       "      <td>2.0</td>\n",
       "      <td>Bob lives here. Don't you want to be like Bob?...</td>\n",
       "      <td>/eby/apa/5656301177.html</td>\n",
       "      <td>eby</td>\n",
       "    </tr>\n",
       "    <tr>\n",
       "      <th>2016-06-27 11:18:00</th>\n",
       "      <td>3284.0</td>\n",
       "      <td>498.0</td>\n",
       "      <td>2.0</td>\n",
       "      <td>Two Bedroom Apartment Ready for Move In!</td>\n",
       "      <td>/eby/apa/5656318863.html</td>\n",
       "      <td>eby</td>\n",
       "    </tr>\n",
       "  </tbody>\n",
       "</table>\n",
       "</div>"
      ],
      "text/plain": [
       "                      price    size  brs  \\\n",
       "time                                       \n",
       "2016-06-27 11:19:00  2318.0   786.0  1.0   \n",
       "2016-06-27 11:19:00  2500.0   850.0  2.0   \n",
       "2016-06-27 11:19:00  2995.0  1450.0  1.0   \n",
       "2016-06-27 11:18:00  1625.0   936.0  2.0   \n",
       "2016-06-27 11:18:00  3284.0   498.0  2.0   \n",
       "\n",
       "                                                                 title  \\\n",
       "time                                                                     \n",
       "2016-06-27 11:19:00                         Walk to the Lake and Park!   \n",
       "2016-06-27 11:19:00  2 Bed/1 Bath Apartment Home Coming Available! ...   \n",
       "2016-06-27 11:19:00  OPEN HOUSE TODAY 11AM-2PM!!! 1BED/1BATH LIVE/W...   \n",
       "2016-06-27 11:18:00  Bob lives here. Don't you want to be like Bob?...   \n",
       "2016-06-27 11:18:00           Two Bedroom Apartment Ready for Move In!   \n",
       "\n",
       "                                         link  loc  \n",
       "time                                                \n",
       "2016-06-27 11:19:00  /eby/apa/5656321646.html  eby  \n",
       "2016-06-27 11:19:00  /eby/apa/5614049056.html  eby  \n",
       "2016-06-27 11:19:00  /eby/apa/5631998326.html  eby  \n",
       "2016-06-27 11:18:00  /eby/apa/5656301177.html  eby  \n",
       "2016-06-27 11:18:00  /eby/apa/5656318863.html  eby  "
      ]
     },
     "execution_count": 19,
     "metadata": {},
     "output_type": "execute_result"
    }
   ],
   "source": [
    "# And there you have it:\n",
    "results.head()"
   ]
  },
  {
   "cell_type": "code",
   "execution_count": null,
   "metadata": {
    "collapsed": true
   },
   "outputs": [],
   "source": []
  },
  {
   "cell_type": "code",
   "execution_count": null,
   "metadata": {
    "collapsed": true
   },
   "outputs": [],
   "source": []
  }
 ],
 "metadata": {
  "kernelspec": {
   "display_name": "Python 2",
   "language": "python",
   "name": "python2"
  },
  "language_info": {
   "codemirror_mode": {
    "name": "ipython",
    "version": 2
   },
   "file_extension": ".py",
   "mimetype": "text/x-python",
   "name": "python",
   "nbconvert_exporter": "python",
   "pygments_lexer": "ipython2",
   "version": "2.7.11"
  }
 },
 "nbformat": 4,
 "nbformat_minor": 0
}
