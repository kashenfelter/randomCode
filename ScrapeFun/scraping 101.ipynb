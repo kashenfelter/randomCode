{
 "cells": [
  {
   "cell_type": "code",
   "execution_count": 1,
   "metadata": {
    "collapsed": false
   },
   "outputs": [
    {
     "data": {
      "text/plain": [
       "{u'analytics': [u'TrackJs'],\n",
       " u'cache-tools': [u'RackCache'],\n",
       " u'font-scripts': [u'Font Awesome', u'Google Font API'],\n",
       " u'javascript-frameworks': [u'Lo-dash',\n",
       "  u'Prototype',\n",
       "  u'AngularJS',\n",
       "  u'RequireJS'],\n",
       " u'programming-languages': [u'Ruby'],\n",
       " u'web-frameworks': [u'Twitter Bootstrap'],\n",
       " u'web-servers': [u'Nginx']}"
      ]
     },
     "execution_count": 1,
     "metadata": {},
     "output_type": "execute_result"
    }
   ],
   "source": [
    "import builtwith\n",
    "import whois\n",
    "#builtwith.parse('http://example.webscraping.com')\n",
    "builtwith.parse('http://weedmaps.com')\n"
   ]
  },
  {
   "cell_type": "code",
   "execution_count": 2,
   "metadata": {
    "collapsed": false
   },
   "outputs": [
    {
     "name": "stdout",
     "output_type": "stream",
     "text": [
      "{\n",
      "  \"updated_date\": \"2015-04-18 00:00:00\", \n",
      "  \"status\": [\n",
      "    \"clientDeleteProhibited https://icann.org/epp#clientDeleteProhibited\", \n",
      "    \"clientRenewProhibited https://icann.org/epp#clientRenewProhibited\", \n",
      "    \"clientTransferProhibited https://icann.org/epp#clientTransferProhibited\", \n",
      "    \"clientUpdateProhibited https://icann.org/epp#clientUpdateProhibited\", \n",
      "    \"clientTransferProhibited http://www.icann.org/epp#clientTransferProhibited\", \n",
      "    \"clientUpdateProhibited http://www.icann.org/epp#clientUpdateProhibited\", \n",
      "    \"clientRenewProhibited http://www.icann.org/epp#clientRenewProhibited\", \n",
      "    \"clientDeleteProhibited http://www.icann.org/epp#clientDeleteProhibited\"\n",
      "  ], \n",
      "  \"name\": \"Registration Private\", \n",
      "  \"dnssec\": \"unsigned\", \n",
      "  \"city\": \"Scottsdale\", \n",
      "  \"expiration_date\": [\n",
      "    \"2023-01-23 00:00:00\", \n",
      "    \"2023-01-23 11:59:59\"\n",
      "  ], \n",
      "  \"zipcode\": \"85260\", \n",
      "  \"domain_name\": \"WEEDMAPS.COM\", \n",
      "  \"country\": \"US\", \n",
      "  \"whois_server\": \"whois.godaddy.com\", \n",
      "  \"state\": \"Arizona\", \n",
      "  \"registrar\": \"GoDaddy.com, LLC\", \n",
      "  \"referral_url\": \"http://www.godaddy.com\", \n",
      "  \"address\": [\n",
      "    \"DomainsByProxy.com\", \n",
      "    \"14747 N Northsight Blvd Suite 111, PMB 309\"\n",
      "  ], \n",
      "  \"name_servers\": [\n",
      "    \"NS-1422.AWSDNS-49.ORG\", \n",
      "    \"NS-1555.AWSDNS-02.CO.UK\", \n",
      "    \"NS-364.AWSDNS-45.COM\", \n",
      "    \"NS-671.AWSDNS-19.NET\"\n",
      "  ], \n",
      "  \"org\": \"Domains By Proxy, LLC\", \n",
      "  \"creation_date\": [\n",
      "    \"2008-07-21 00:00:00\", \n",
      "    \"2008-07-21 19:05:58\"\n",
      "  ], \n",
      "  \"emails\": [\n",
      "    \"abuse@godaddy.com\", \n",
      "    \"WEEDMAPS.COM@domainsbyproxy.com\"\n",
      "  ]\n",
      "}\n"
     ]
    }
   ],
   "source": [
    "import whois\n",
    "print whois.whois('http://weedmaps.com')"
   ]
  },
  {
   "cell_type": "code",
   "execution_count": 6,
   "metadata": {
    "collapsed": true
   },
   "outputs": [],
   "source": [
    "import urllib2\n",
    "def download(url):\n",
    "    return urllib2.urlopen(url).read()"
   ]
  },
  {
   "cell_type": "code",
   "execution_count": 9,
   "metadata": {
    "collapsed": false
   },
   "outputs": [],
   "source": [
    "html = download('http://weedmaps.com')"
   ]
  },
  {
   "cell_type": "code",
   "execution_count": 14,
   "metadata": {
    "collapsed": true
   },
   "outputs": [],
   "source": [
    "url = 'http://weedmaps.com'\n",
    "html = download(url)"
   ]
  },
  {
   "cell_type": "code",
   "execution_count": 26,
   "metadata": {
    "collapsed": false
   },
   "outputs": [
    {
     "data": {
      "text/plain": [
       "['<a',\n",
       " '<a',\n",
       " '<a',\n",
       " '<a',\n",
       " '<a',\n",
       " '<a',\n",
       " '<a',\n",
       " '<a',\n",
       " '<a',\n",
       " '<a',\n",
       " '<a',\n",
       " '<a',\n",
       " '<a',\n",
       " '<a',\n",
       " '<a',\n",
       " '<a',\n",
       " '<a',\n",
       " '<a',\n",
       " '<a',\n",
       " '<a',\n",
       " '<a',\n",
       " '<a',\n",
       " '<a',\n",
       " '<a',\n",
       " '<a',\n",
       " '<a',\n",
       " '<a',\n",
       " '<a',\n",
       " '<a',\n",
       " '<a',\n",
       " '<a',\n",
       " '<a',\n",
       " '<a',\n",
       " '<a',\n",
       " '<a',\n",
       " '<a',\n",
       " '<a',\n",
       " '<a',\n",
       " '<a',\n",
       " '<a',\n",
       " '<a',\n",
       " '<a',\n",
       " '<a',\n",
       " '<a',\n",
       " '<a',\n",
       " '<a',\n",
       " '<a',\n",
       " '<a',\n",
       " '<a',\n",
       " '<a',\n",
       " '<a',\n",
       " '<a',\n",
       " '<a',\n",
       " '<a',\n",
       " '<a',\n",
       " '<a',\n",
       " '<a',\n",
       " '<a',\n",
       " '<a',\n",
       " '<a',\n",
       " '<a',\n",
       " '<a',\n",
       " '<a',\n",
       " '<a',\n",
       " '<a',\n",
       " '<a',\n",
       " '<a',\n",
       " '<a',\n",
       " '<a',\n",
       " '<a',\n",
       " '<a',\n",
       " '<a',\n",
       " '<a',\n",
       " '<a',\n",
       " '<a',\n",
       " '<a',\n",
       " '<a',\n",
       " '<a',\n",
       " '<a',\n",
       " '<a',\n",
       " '<a',\n",
       " '<a',\n",
       " '<a',\n",
       " '<a',\n",
       " '<a',\n",
       " '<a',\n",
       " '<a',\n",
       " '<a',\n",
       " '<a',\n",
       " '<a',\n",
       " '<a',\n",
       " '<a',\n",
       " '<a']"
      ]
     },
     "execution_count": 26,
     "metadata": {},
     "output_type": "execute_result"
    }
   ],
   "source": [
    "import re\n",
    "re.findall('<a', html)\n",
    "\n",
    "        \n",
    "        \n",
    "\n",
    "#         for a in soup.findAll('a'):\n",
    "#     if 'a' in a['href']:\n",
    "#         print a"
   ]
  },
  {
   "cell_type": "code",
   "execution_count": 1,
   "metadata": {
    "collapsed": true
   },
   "outputs": [],
   "source": [
    "import scrapy\n",
    "from scrapy.selector import Selector\n",
    "from scrapy.http import HtmlResponse\n",
    "import requests"
   ]
  },
  {
   "cell_type": "code",
   "execution_count": 2,
   "metadata": {
    "collapsed": true
   },
   "outputs": [],
   "source": [
    "r = requests.get('http://losangeles.craigslist.org/search/rva')\n",
    "HTML = r.text"
   ]
  },
  {
   "cell_type": "code",
   "execution_count": 3,
   "metadata": {
    "collapsed": false
   },
   "outputs": [],
   "source": [
    "#prices = (Selector(text=HTML).xpath('//p[@class=\"row\"]/*/span[@class=\"price\"]/text()').extract())"
   ]
  },
  {
   "cell_type": "code",
   "execution_count": 4,
   "metadata": {
    "collapsed": false
   },
   "outputs": [
    {
     "data": {
      "text/plain": [
       "[u'$8000',\n",
       " u'$6000',\n",
       " u'$2600',\n",
       " u'$3000',\n",
       " u'$150',\n",
       " u'$25',\n",
       " u'$4500',\n",
       " u'$57500',\n",
       " u'$3600',\n",
       " u'$57500',\n",
       " u'$500',\n",
       " u'$30026',\n",
       " u'$5000',\n",
       " u'$450',\n",
       " u'$15000',\n",
       " u'$8500',\n",
       " u'$1800',\n",
       " u'$30026',\n",
       " u'$10900',\n",
       " u'$5500',\n",
       " u'$11500',\n",
       " u'$30',\n",
       " u'$5000',\n",
       " u'$6800',\n",
       " u'$30027',\n",
       " u'$1400',\n",
       " u'$80',\n",
       " u'$10000',\n",
       " u'$19900',\n",
       " u'$25000',\n",
       " u'$7000',\n",
       " u'$259',\n",
       " u'$259',\n",
       " u'$359',\n",
       " u'$259',\n",
       " u'$359',\n",
       " u'$259',\n",
       " u'$359',\n",
       " u'$259',\n",
       " u'$359',\n",
       " u'$259',\n",
       " u'$359',\n",
       " u'$189',\n",
       " u'$359',\n",
       " u'$359',\n",
       " u'$189',\n",
       " u'$189',\n",
       " u'$359',\n",
       " u'$189',\n",
       " u'$189',\n",
       " u'$259',\n",
       " u'$189',\n",
       " u'$189',\n",
       " u'$259',\n",
       " u'$189',\n",
       " u'$189',\n",
       " u'$359',\n",
       " u'$189',\n",
       " u'$359',\n",
       " u'$189',\n",
       " u'$359',\n",
       " u'$2300',\n",
       " u'$5000',\n",
       " u'$5000',\n",
       " u'$5000',\n",
       " u'$400',\n",
       " u'$1',\n",
       " u'$6000',\n",
       " u'$1',\n",
       " u'$80',\n",
       " u'$600',\n",
       " u'$65000',\n",
       " u'$1987',\n",
       " u'$20',\n",
       " u'$9500',\n",
       " u'$3500',\n",
       " u'$5000',\n",
       " u'$2800',\n",
       " u'$3299',\n",
       " u'$2800',\n",
       " u'$6000',\n",
       " u'$19800',\n",
       " u'$18800',\n",
       " u'$190',\n",
       " u'$18800',\n",
       " u'$18800',\n",
       " u'$18800',\n",
       " u'$8000',\n",
       " u'$500',\n",
       " u'$500',\n",
       " u'$105',\n",
       " u'$18500',\n",
       " u'$18500']"
      ]
     },
     "execution_count": 4,
     "metadata": {},
     "output_type": "execute_result"
    }
   ],
   "source": [
    "prices  = (Selector(text=HTML).xpath('//p[@class=\"row\"]/*/span[@class=\"price\"]/text()').extract())\n",
    "\n",
    "prices"
   ]
  },
  {
   "cell_type": "code",
   "execution_count": 5,
   "metadata": {
    "collapsed": false
   },
   "outputs": [],
   "source": [
    "price_val = [int(x[1::]) for x in prices]"
   ]
  },
  {
   "cell_type": "code",
   "execution_count": 6,
   "metadata": {
    "collapsed": false
   },
   "outputs": [
    {
     "data": {
      "text/plain": [
       "[8000,\n",
       " 6000,\n",
       " 2600,\n",
       " 3000,\n",
       " 150,\n",
       " 25,\n",
       " 4500,\n",
       " 57500,\n",
       " 3600,\n",
       " 57500,\n",
       " 500,\n",
       " 30026,\n",
       " 5000,\n",
       " 450,\n",
       " 15000,\n",
       " 8500,\n",
       " 1800,\n",
       " 30026,\n",
       " 10900,\n",
       " 5500,\n",
       " 11500,\n",
       " 30,\n",
       " 5000,\n",
       " 6800,\n",
       " 30027,\n",
       " 1400,\n",
       " 80,\n",
       " 10000,\n",
       " 19900,\n",
       " 25000,\n",
       " 7000,\n",
       " 259,\n",
       " 259,\n",
       " 359,\n",
       " 259,\n",
       " 359,\n",
       " 259,\n",
       " 359,\n",
       " 259,\n",
       " 359,\n",
       " 259,\n",
       " 359,\n",
       " 189,\n",
       " 359,\n",
       " 359,\n",
       " 189,\n",
       " 189,\n",
       " 359,\n",
       " 189,\n",
       " 189,\n",
       " 259,\n",
       " 189,\n",
       " 189,\n",
       " 259,\n",
       " 189,\n",
       " 189,\n",
       " 359,\n",
       " 189,\n",
       " 359,\n",
       " 189,\n",
       " 359,\n",
       " 2300,\n",
       " 5000,\n",
       " 5000,\n",
       " 5000,\n",
       " 400,\n",
       " 1,\n",
       " 6000,\n",
       " 1,\n",
       " 80,\n",
       " 600,\n",
       " 65000,\n",
       " 1987,\n",
       " 20,\n",
       " 9500,\n",
       " 3500,\n",
       " 5000,\n",
       " 2800,\n",
       " 3299,\n",
       " 2800,\n",
       " 6000,\n",
       " 19800,\n",
       " 18800,\n",
       " 190,\n",
       " 18800,\n",
       " 18800,\n",
       " 18800,\n",
       " 8000,\n",
       " 500,\n",
       " 500,\n",
       " 105,\n",
       " 18500,\n",
       " 18500]"
      ]
     },
     "execution_count": 6,
     "metadata": {},
     "output_type": "execute_result"
    }
   ],
   "source": [
    "price_val"
   ]
  },
  {
   "cell_type": "code",
   "execution_count": 7,
   "metadata": {
    "collapsed": false
   },
   "outputs": [
    {
     "data": {
      "text/plain": [
       "6892.4408602150534"
      ]
     },
     "execution_count": 7,
     "metadata": {},
     "output_type": "execute_result"
    }
   ],
   "source": [
    "import numpy as np\n",
    "\n",
    "np.mean(price_val)"
   ]
  },
  {
   "cell_type": "code",
   "execution_count": null,
   "metadata": {
    "collapsed": true
   },
   "outputs": [],
   "source": []
  },
  {
   "cell_type": "code",
   "execution_count": null,
   "metadata": {
    "collapsed": true
   },
   "outputs": [],
   "source": []
  }
 ],
 "metadata": {
  "kernelspec": {
   "display_name": "Python 2",
   "language": "python",
   "name": "python2"
  },
  "language_info": {
   "codemirror_mode": {
    "name": "ipython",
    "version": 2
   },
   "file_extension": ".py",
   "mimetype": "text/x-python",
   "name": "python",
   "nbconvert_exporter": "python",
   "pygments_lexer": "ipython2",
   "version": "2.7.11"
  }
 },
 "nbformat": 4,
 "nbformat_minor": 0
}
