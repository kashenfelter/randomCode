{
 "cells": [
  {
   "cell_type": "code",
   "execution_count": 1,
   "metadata": {
    "collapsed": false
   },
   "outputs": [],
   "source": [
    "import selenium"
   ]
  },
  {
   "cell_type": "code",
   "execution_count": 13,
   "metadata": {
    "collapsed": true
   },
   "outputs": [],
   "source": [
    "import os\n",
    "from selenium import webdriver\n",
    "from selenium.webdriver.common.keys import Keys\n",
    "from selenium.webdriver.common.by import By"
   ]
  },
  {
   "cell_type": "code",
   "execution_count": 14,
   "metadata": {
    "collapsed": false
   },
   "outputs": [],
   "source": [
    "chromedriver = '/Users/Paul/Downloads/chromedriver'\n",
    "os.environ['webdriver.chrome.driver'] = chromedriver\n",
    "driver = webdriver.Chrome(chromedriver)\n",
    "driver.get(\"https://losangeles.craigslist.org/search/rva\")\n",
    "\n",
    "titles = driver.find_elements(By.XPATH, \"//*[@id='titletextonly']\")"
   ]
  },
  {
   "cell_type": "code",
   "execution_count": 17,
   "metadata": {
    "collapsed": false
   },
   "outputs": [
    {
     "data": {
      "text/plain": [
       "[<selenium.webdriver.remote.webelement.WebElement (session=\"5e4049170852abaa450bd72c1d0edf82\", element=\"0.06106469904767997-1\")>,\n",
       " <selenium.webdriver.remote.webelement.WebElement (session=\"5e4049170852abaa450bd72c1d0edf82\", element=\"0.06106469904767997-2\")>,\n",
       " <selenium.webdriver.remote.webelement.WebElement (session=\"5e4049170852abaa450bd72c1d0edf82\", element=\"0.06106469904767997-3\")>,\n",
       " <selenium.webdriver.remote.webelement.WebElement (session=\"5e4049170852abaa450bd72c1d0edf82\", element=\"0.06106469904767997-4\")>,\n",
       " <selenium.webdriver.remote.webelement.WebElement (session=\"5e4049170852abaa450bd72c1d0edf82\", element=\"0.06106469904767997-5\")>,\n",
       " <selenium.webdriver.remote.webelement.WebElement (session=\"5e4049170852abaa450bd72c1d0edf82\", element=\"0.06106469904767997-6\")>,\n",
       " <selenium.webdriver.remote.webelement.WebElement (session=\"5e4049170852abaa450bd72c1d0edf82\", element=\"0.06106469904767997-7\")>,\n",
       " <selenium.webdriver.remote.webelement.WebElement (session=\"5e4049170852abaa450bd72c1d0edf82\", element=\"0.06106469904767997-8\")>,\n",
       " <selenium.webdriver.remote.webelement.WebElement (session=\"5e4049170852abaa450bd72c1d0edf82\", element=\"0.06106469904767997-9\")>,\n",
       " <selenium.webdriver.remote.webelement.WebElement (session=\"5e4049170852abaa450bd72c1d0edf82\", element=\"0.06106469904767997-10\")>,\n",
       " <selenium.webdriver.remote.webelement.WebElement (session=\"5e4049170852abaa450bd72c1d0edf82\", element=\"0.06106469904767997-11\")>,\n",
       " <selenium.webdriver.remote.webelement.WebElement (session=\"5e4049170852abaa450bd72c1d0edf82\", element=\"0.06106469904767997-12\")>,\n",
       " <selenium.webdriver.remote.webelement.WebElement (session=\"5e4049170852abaa450bd72c1d0edf82\", element=\"0.06106469904767997-13\")>,\n",
       " <selenium.webdriver.remote.webelement.WebElement (session=\"5e4049170852abaa450bd72c1d0edf82\", element=\"0.06106469904767997-14\")>,\n",
       " <selenium.webdriver.remote.webelement.WebElement (session=\"5e4049170852abaa450bd72c1d0edf82\", element=\"0.06106469904767997-15\")>,\n",
       " <selenium.webdriver.remote.webelement.WebElement (session=\"5e4049170852abaa450bd72c1d0edf82\", element=\"0.06106469904767997-16\")>,\n",
       " <selenium.webdriver.remote.webelement.WebElement (session=\"5e4049170852abaa450bd72c1d0edf82\", element=\"0.06106469904767997-17\")>,\n",
       " <selenium.webdriver.remote.webelement.WebElement (session=\"5e4049170852abaa450bd72c1d0edf82\", element=\"0.06106469904767997-18\")>,\n",
       " <selenium.webdriver.remote.webelement.WebElement (session=\"5e4049170852abaa450bd72c1d0edf82\", element=\"0.06106469904767997-19\")>,\n",
       " <selenium.webdriver.remote.webelement.WebElement (session=\"5e4049170852abaa450bd72c1d0edf82\", element=\"0.06106469904767997-20\")>,\n",
       " <selenium.webdriver.remote.webelement.WebElement (session=\"5e4049170852abaa450bd72c1d0edf82\", element=\"0.06106469904767997-21\")>,\n",
       " <selenium.webdriver.remote.webelement.WebElement (session=\"5e4049170852abaa450bd72c1d0edf82\", element=\"0.06106469904767997-22\")>,\n",
       " <selenium.webdriver.remote.webelement.WebElement (session=\"5e4049170852abaa450bd72c1d0edf82\", element=\"0.06106469904767997-23\")>,\n",
       " <selenium.webdriver.remote.webelement.WebElement (session=\"5e4049170852abaa450bd72c1d0edf82\", element=\"0.06106469904767997-24\")>,\n",
       " <selenium.webdriver.remote.webelement.WebElement (session=\"5e4049170852abaa450bd72c1d0edf82\", element=\"0.06106469904767997-25\")>,\n",
       " <selenium.webdriver.remote.webelement.WebElement (session=\"5e4049170852abaa450bd72c1d0edf82\", element=\"0.06106469904767997-26\")>,\n",
       " <selenium.webdriver.remote.webelement.WebElement (session=\"5e4049170852abaa450bd72c1d0edf82\", element=\"0.06106469904767997-27\")>,\n",
       " <selenium.webdriver.remote.webelement.WebElement (session=\"5e4049170852abaa450bd72c1d0edf82\", element=\"0.06106469904767997-28\")>,\n",
       " <selenium.webdriver.remote.webelement.WebElement (session=\"5e4049170852abaa450bd72c1d0edf82\", element=\"0.06106469904767997-29\")>,\n",
       " <selenium.webdriver.remote.webelement.WebElement (session=\"5e4049170852abaa450bd72c1d0edf82\", element=\"0.06106469904767997-30\")>,\n",
       " <selenium.webdriver.remote.webelement.WebElement (session=\"5e4049170852abaa450bd72c1d0edf82\", element=\"0.06106469904767997-31\")>,\n",
       " <selenium.webdriver.remote.webelement.WebElement (session=\"5e4049170852abaa450bd72c1d0edf82\", element=\"0.06106469904767997-32\")>,\n",
       " <selenium.webdriver.remote.webelement.WebElement (session=\"5e4049170852abaa450bd72c1d0edf82\", element=\"0.06106469904767997-33\")>,\n",
       " <selenium.webdriver.remote.webelement.WebElement (session=\"5e4049170852abaa450bd72c1d0edf82\", element=\"0.06106469904767997-34\")>,\n",
       " <selenium.webdriver.remote.webelement.WebElement (session=\"5e4049170852abaa450bd72c1d0edf82\", element=\"0.06106469904767997-35\")>,\n",
       " <selenium.webdriver.remote.webelement.WebElement (session=\"5e4049170852abaa450bd72c1d0edf82\", element=\"0.06106469904767997-36\")>,\n",
       " <selenium.webdriver.remote.webelement.WebElement (session=\"5e4049170852abaa450bd72c1d0edf82\", element=\"0.06106469904767997-37\")>,\n",
       " <selenium.webdriver.remote.webelement.WebElement (session=\"5e4049170852abaa450bd72c1d0edf82\", element=\"0.06106469904767997-38\")>,\n",
       " <selenium.webdriver.remote.webelement.WebElement (session=\"5e4049170852abaa450bd72c1d0edf82\", element=\"0.06106469904767997-39\")>,\n",
       " <selenium.webdriver.remote.webelement.WebElement (session=\"5e4049170852abaa450bd72c1d0edf82\", element=\"0.06106469904767997-40\")>,\n",
       " <selenium.webdriver.remote.webelement.WebElement (session=\"5e4049170852abaa450bd72c1d0edf82\", element=\"0.06106469904767997-41\")>,\n",
       " <selenium.webdriver.remote.webelement.WebElement (session=\"5e4049170852abaa450bd72c1d0edf82\", element=\"0.06106469904767997-42\")>,\n",
       " <selenium.webdriver.remote.webelement.WebElement (session=\"5e4049170852abaa450bd72c1d0edf82\", element=\"0.06106469904767997-43\")>,\n",
       " <selenium.webdriver.remote.webelement.WebElement (session=\"5e4049170852abaa450bd72c1d0edf82\", element=\"0.06106469904767997-44\")>,\n",
       " <selenium.webdriver.remote.webelement.WebElement (session=\"5e4049170852abaa450bd72c1d0edf82\", element=\"0.06106469904767997-45\")>,\n",
       " <selenium.webdriver.remote.webelement.WebElement (session=\"5e4049170852abaa450bd72c1d0edf82\", element=\"0.06106469904767997-46\")>,\n",
       " <selenium.webdriver.remote.webelement.WebElement (session=\"5e4049170852abaa450bd72c1d0edf82\", element=\"0.06106469904767997-47\")>,\n",
       " <selenium.webdriver.remote.webelement.WebElement (session=\"5e4049170852abaa450bd72c1d0edf82\", element=\"0.06106469904767997-48\")>,\n",
       " <selenium.webdriver.remote.webelement.WebElement (session=\"5e4049170852abaa450bd72c1d0edf82\", element=\"0.06106469904767997-49\")>,\n",
       " <selenium.webdriver.remote.webelement.WebElement (session=\"5e4049170852abaa450bd72c1d0edf82\", element=\"0.06106469904767997-50\")>,\n",
       " <selenium.webdriver.remote.webelement.WebElement (session=\"5e4049170852abaa450bd72c1d0edf82\", element=\"0.06106469904767997-51\")>,\n",
       " <selenium.webdriver.remote.webelement.WebElement (session=\"5e4049170852abaa450bd72c1d0edf82\", element=\"0.06106469904767997-52\")>,\n",
       " <selenium.webdriver.remote.webelement.WebElement (session=\"5e4049170852abaa450bd72c1d0edf82\", element=\"0.06106469904767997-53\")>,\n",
       " <selenium.webdriver.remote.webelement.WebElement (session=\"5e4049170852abaa450bd72c1d0edf82\", element=\"0.06106469904767997-54\")>,\n",
       " <selenium.webdriver.remote.webelement.WebElement (session=\"5e4049170852abaa450bd72c1d0edf82\", element=\"0.06106469904767997-55\")>,\n",
       " <selenium.webdriver.remote.webelement.WebElement (session=\"5e4049170852abaa450bd72c1d0edf82\", element=\"0.06106469904767997-56\")>,\n",
       " <selenium.webdriver.remote.webelement.WebElement (session=\"5e4049170852abaa450bd72c1d0edf82\", element=\"0.06106469904767997-57\")>,\n",
       " <selenium.webdriver.remote.webelement.WebElement (session=\"5e4049170852abaa450bd72c1d0edf82\", element=\"0.06106469904767997-58\")>,\n",
       " <selenium.webdriver.remote.webelement.WebElement (session=\"5e4049170852abaa450bd72c1d0edf82\", element=\"0.06106469904767997-59\")>,\n",
       " <selenium.webdriver.remote.webelement.WebElement (session=\"5e4049170852abaa450bd72c1d0edf82\", element=\"0.06106469904767997-60\")>,\n",
       " <selenium.webdriver.remote.webelement.WebElement (session=\"5e4049170852abaa450bd72c1d0edf82\", element=\"0.06106469904767997-61\")>,\n",
       " <selenium.webdriver.remote.webelement.WebElement (session=\"5e4049170852abaa450bd72c1d0edf82\", element=\"0.06106469904767997-62\")>,\n",
       " <selenium.webdriver.remote.webelement.WebElement (session=\"5e4049170852abaa450bd72c1d0edf82\", element=\"0.06106469904767997-63\")>,\n",
       " <selenium.webdriver.remote.webelement.WebElement (session=\"5e4049170852abaa450bd72c1d0edf82\", element=\"0.06106469904767997-64\")>,\n",
       " <selenium.webdriver.remote.webelement.WebElement (session=\"5e4049170852abaa450bd72c1d0edf82\", element=\"0.06106469904767997-65\")>,\n",
       " <selenium.webdriver.remote.webelement.WebElement (session=\"5e4049170852abaa450bd72c1d0edf82\", element=\"0.06106469904767997-66\")>,\n",
       " <selenium.webdriver.remote.webelement.WebElement (session=\"5e4049170852abaa450bd72c1d0edf82\", element=\"0.06106469904767997-67\")>,\n",
       " <selenium.webdriver.remote.webelement.WebElement (session=\"5e4049170852abaa450bd72c1d0edf82\", element=\"0.06106469904767997-68\")>,\n",
       " <selenium.webdriver.remote.webelement.WebElement (session=\"5e4049170852abaa450bd72c1d0edf82\", element=\"0.06106469904767997-69\")>,\n",
       " <selenium.webdriver.remote.webelement.WebElement (session=\"5e4049170852abaa450bd72c1d0edf82\", element=\"0.06106469904767997-70\")>,\n",
       " <selenium.webdriver.remote.webelement.WebElement (session=\"5e4049170852abaa450bd72c1d0edf82\", element=\"0.06106469904767997-71\")>,\n",
       " <selenium.webdriver.remote.webelement.WebElement (session=\"5e4049170852abaa450bd72c1d0edf82\", element=\"0.06106469904767997-72\")>,\n",
       " <selenium.webdriver.remote.webelement.WebElement (session=\"5e4049170852abaa450bd72c1d0edf82\", element=\"0.06106469904767997-73\")>,\n",
       " <selenium.webdriver.remote.webelement.WebElement (session=\"5e4049170852abaa450bd72c1d0edf82\", element=\"0.06106469904767997-74\")>,\n",
       " <selenium.webdriver.remote.webelement.WebElement (session=\"5e4049170852abaa450bd72c1d0edf82\", element=\"0.06106469904767997-75\")>,\n",
       " <selenium.webdriver.remote.webelement.WebElement (session=\"5e4049170852abaa450bd72c1d0edf82\", element=\"0.06106469904767997-76\")>,\n",
       " <selenium.webdriver.remote.webelement.WebElement (session=\"5e4049170852abaa450bd72c1d0edf82\", element=\"0.06106469904767997-77\")>,\n",
       " <selenium.webdriver.remote.webelement.WebElement (session=\"5e4049170852abaa450bd72c1d0edf82\", element=\"0.06106469904767997-78\")>,\n",
       " <selenium.webdriver.remote.webelement.WebElement (session=\"5e4049170852abaa450bd72c1d0edf82\", element=\"0.06106469904767997-79\")>,\n",
       " <selenium.webdriver.remote.webelement.WebElement (session=\"5e4049170852abaa450bd72c1d0edf82\", element=\"0.06106469904767997-80\")>,\n",
       " <selenium.webdriver.remote.webelement.WebElement (session=\"5e4049170852abaa450bd72c1d0edf82\", element=\"0.06106469904767997-81\")>,\n",
       " <selenium.webdriver.remote.webelement.WebElement (session=\"5e4049170852abaa450bd72c1d0edf82\", element=\"0.06106469904767997-82\")>,\n",
       " <selenium.webdriver.remote.webelement.WebElement (session=\"5e4049170852abaa450bd72c1d0edf82\", element=\"0.06106469904767997-83\")>,\n",
       " <selenium.webdriver.remote.webelement.WebElement (session=\"5e4049170852abaa450bd72c1d0edf82\", element=\"0.06106469904767997-84\")>,\n",
       " <selenium.webdriver.remote.webelement.WebElement (session=\"5e4049170852abaa450bd72c1d0edf82\", element=\"0.06106469904767997-85\")>,\n",
       " <selenium.webdriver.remote.webelement.WebElement (session=\"5e4049170852abaa450bd72c1d0edf82\", element=\"0.06106469904767997-86\")>,\n",
       " <selenium.webdriver.remote.webelement.WebElement (session=\"5e4049170852abaa450bd72c1d0edf82\", element=\"0.06106469904767997-87\")>,\n",
       " <selenium.webdriver.remote.webelement.WebElement (session=\"5e4049170852abaa450bd72c1d0edf82\", element=\"0.06106469904767997-88\")>,\n",
       " <selenium.webdriver.remote.webelement.WebElement (session=\"5e4049170852abaa450bd72c1d0edf82\", element=\"0.06106469904767997-89\")>,\n",
       " <selenium.webdriver.remote.webelement.WebElement (session=\"5e4049170852abaa450bd72c1d0edf82\", element=\"0.06106469904767997-90\")>,\n",
       " <selenium.webdriver.remote.webelement.WebElement (session=\"5e4049170852abaa450bd72c1d0edf82\", element=\"0.06106469904767997-91\")>,\n",
       " <selenium.webdriver.remote.webelement.WebElement (session=\"5e4049170852abaa450bd72c1d0edf82\", element=\"0.06106469904767997-92\")>,\n",
       " <selenium.webdriver.remote.webelement.WebElement (session=\"5e4049170852abaa450bd72c1d0edf82\", element=\"0.06106469904767997-93\")>,\n",
       " <selenium.webdriver.remote.webelement.WebElement (session=\"5e4049170852abaa450bd72c1d0edf82\", element=\"0.06106469904767997-94\")>,\n",
       " <selenium.webdriver.remote.webelement.WebElement (session=\"5e4049170852abaa450bd72c1d0edf82\", element=\"0.06106469904767997-95\")>,\n",
       " <selenium.webdriver.remote.webelement.WebElement (session=\"5e4049170852abaa450bd72c1d0edf82\", element=\"0.06106469904767997-96\")>,\n",
       " <selenium.webdriver.remote.webelement.WebElement (session=\"5e4049170852abaa450bd72c1d0edf82\", element=\"0.06106469904767997-97\")>,\n",
       " <selenium.webdriver.remote.webelement.WebElement (session=\"5e4049170852abaa450bd72c1d0edf82\", element=\"0.06106469904767997-98\")>,\n",
       " <selenium.webdriver.remote.webelement.WebElement (session=\"5e4049170852abaa450bd72c1d0edf82\", element=\"0.06106469904767997-99\")>,\n",
       " <selenium.webdriver.remote.webelement.WebElement (session=\"5e4049170852abaa450bd72c1d0edf82\", element=\"0.06106469904767997-100\")>]"
      ]
     },
     "execution_count": 17,
     "metadata": {},
     "output_type": "execute_result"
    }
   ],
   "source": [
    "titles"
   ]
  },
  {
   "cell_type": "code",
   "execution_count": 15,
   "metadata": {
    "collapsed": false
   },
   "outputs": [],
   "source": [
    "# try:\n",
    "#     driver.find_element_by_id('ButtonExportInjToExcel').click()\n",
    "# except:\n",
    "#     pass"
   ]
  },
  {
   "cell_type": "code",
   "execution_count": 16,
   "metadata": {
    "collapsed": false
   },
   "outputs": [
    {
     "name": "stdout",
     "output_type": "stream",
     "text": [
      "nice Rambler\n",
      "nice Holiday Rambler 39 ft Ambassador\n",
      "2016 Jayco Seneca 37TS\n",
      "NOBODY SELLS MOBILE SUITES FOR LESS NOBODY\n",
      "1981 Jeep Cj7 tow vehicle\n",
      "trailer repairs\n",
      "trailer repairs\n",
      "trailer repairs\n",
      "1985 Motorhome for sale\n",
      "S&S Toyhauler\n",
      "RV AIR CONDITION / HEATER from 2005 fleetwood BOUNDER\n",
      "trailer repairs\n",
      "trailer repairs\n",
      "**** 1973 DODGE \"RV CLASS C '\n",
      "2016 Jayco Seneca 37TS\n",
      "1998 Toy Hauler Carson Fun Chaser\n",
      "trailer repairs\n",
      "trailer repairs\n",
      "trailer repairs\n",
      "trailer repairs\n",
      "trailer repairs\n",
      "trailer repairs\n",
      "trailer repairs\n",
      "trailer repairs\n",
      "trailer repairs\n",
      "trailer repairs\n",
      "trailer repairs\n",
      "trailer repairs\n",
      "trailer repairs\n",
      "trailer repairs\n",
      "2016 Jayco Seneca 37TS\n",
      "2016 Jayco Seneca 37TS\n",
      "**** 2005 Damon Ultrasport 3465 LE **** MUST GO!!!!!!!!!!\n",
      "32ft Diesel-Serrano-Full Body Paint-low miles-2 slides-GORGEOUS-LK NEW\n",
      "2006 zeppelin keystone 28 ft\n",
      "2006 Coachmen Spirit of America Series M-28 RLS - $9995 (Quartz Hill)\n",
      "33ft Seabreeze-Class A-PRISTINE-Lots Upgrades-2 slides-lo miles-2004\n",
      "Renegade & Stacker Trailer-430hp Turbo-45k miles-38ft/25ft-SUPER NICE\n",
      "2011 Winnebago Via-HAS LEVELERS, 25k miles-alcoa rims-GORGEOUS-LK NEW\n",
      "2004 Winnebago Brave 17,300 mile like new\n",
      "2004 Winnebago Brave 17,300 mile like new\n",
      ">>RV or Mobile 12 Volt VCR, New with Remote!<<\n",
      "2016 Jayco Seneca 37TS\n",
      "2016 Jayco Seneca 37TS\n",
      "Turnkey Airbnb Vintage canned ham..makes money daily...\n",
      "Rv Repair, Storage and Repair\n",
      "1989 FORD TIOGA ARROW FLEX FUEL RV\n",
      "2008 Fleetwood Discovery 40x One Owner LO MILES GREAT CONDITION!\n",
      "JUST 4 YOU\n",
      "2005 ALPENLITE SANTA FE 1150 CAMPER with SLIDE & GENERATOR!\n",
      "TRAVEL TRAILER JAYCO 2014 LIKE NEW MUST SEE\n",
      "1991 CHEVY LAZY DAZE 22FT\n",
      "2009 SALEM 28FT SUPER SLIDE LIKE NEW\n",
      "2006 Tropical by National RV Class A Motorhome - Caterpillar Diesel\n",
      "RV stairs stairs\n",
      "Trailer\n",
      "Roadtrek 210 Popular Chevrolet Class B Camper\n",
      "2016 STARCRAFT AR-ONE\n",
      "RV TAILGATE FOR 2000 DODGE TRUCK. OBO\n",
      "travel trailer fifth wheel\n",
      "2014 Shadow Cruiser 29DBS\n",
      "Very Nice Multi Use Trailer\n",
      "CARSON TOYHAULER\n",
      "2005 Ameri Camp Travel Trailer 30ft 3Z3(252'257I\n",
      "Great 1999 Fleetwood Flair\n",
      "2003 TOYOTA CAMRY\n",
      "cushman scooter motor bike, motor cycle\n",
      "2007 OUTBACK TRAVEL TRAILER\n",
      "Great West Legend \"SCAM ALERT\"!!!!\n",
      "2006 Hornett Toyhauler\n",
      "enclosed traila 2015. 6 x 12\n",
      "1974 Rangle Rustler Hardside Truck Camper\n",
      "Aristocrat Glamper trailer\n",
      "1978 20' Brougham Motor Home Parts\n",
      "Vintage Trailer Restorations & Repair (Airstream/Can Hams)\n",
      "1998 Four winds hurricane 32.5ft\n",
      "50 amp power cord 25'\n",
      "RV Day/night shades\n",
      "2016 KEYSTONE SPRINTER\n",
      "RV 1996 Georgie Boy 34ft Cruise Master\n",
      "2015 Carson Light Utility 4x8\n",
      "Your RV Can Make You Money!\n",
      "2005 Weekend Warrior FS2300\n",
      "tahoe transport 21wtb toy hauler\n",
      "1968 vintage nortwest coach 17 ft self contained excellent\n",
      "2015 Carson Light Utility 4x8\n",
      "1986 Tioga 24 foot Class C\n",
      "96 Fleetwood Bounder\n",
      "2015 Carson Standard Utility 5x8\n",
      "20003 georgetown RV rental - burning man\n",
      "Toyhauler 21 Feet Onan Generator\n",
      "Chevy 5th wheel tailgate\n",
      "Steal Cargo Storage Hitch Box\n",
      "R V SPACE FOR RENT...LONG TERM (Palmdale)\n",
      "Toyhauler for Rent\n",
      "Camper Shell 8ft. Bed ( long bed ) Chevy 3500 Dually\n",
      "2001 ALEGRO 37FT 3 SLIDEOUTS\n",
      "Tioga RV rentals Sleeps up to 10 people like new condition\n",
      "Tioga RV rentals with bunk beds sleeps up to 10 people\n",
      "2015 Carson Standard Utility 5x8\n"
     ]
    }
   ],
   "source": [
    "for title in titles:\n",
    "    print title.text"
   ]
  },
  {
   "cell_type": "code",
   "execution_count": null,
   "metadata": {
    "collapsed": true
   },
   "outputs": [],
   "source": []
  }
 ],
 "metadata": {
  "kernelspec": {
   "display_name": "Python 2",
   "language": "python",
   "name": "python2"
  },
  "language_info": {
   "codemirror_mode": {
    "name": "ipython",
    "version": 2
   },
   "file_extension": ".py",
   "mimetype": "text/x-python",
   "name": "python",
   "nbconvert_exporter": "python",
   "pygments_lexer": "ipython2",
   "version": "2.7.11"
  }
 },
 "nbformat": 4,
 "nbformat_minor": 0
}
