{
 "cells": [
  {
   "cell_type": "code",
   "execution_count": 20,
   "metadata": {
    "collapsed": true
   },
   "outputs": [],
   "source": [
    "import pandas as pd\n",
    "\n",
    "df = pd.read_csv('pageReviews.csv')"
   ]
  },
  {
   "cell_type": "code",
   "execution_count": 21,
   "metadata": {
    "collapsed": false
   },
   "outputs": [
    {
     "data": {
      "text/html": [
       "<div>\n",
       "<table border=\"1\" class=\"dataframe\">\n",
       "  <thead>\n",
       "    <tr style=\"text-align: right;\">\n",
       "      <th></th>\n",
       "      <th>0</th>\n",
       "    </tr>\n",
       "  </thead>\n",
       "  <tbody>\n",
       "    <tr>\n",
       "      <th>0</th>\n",
       "      <td>&lt;p&gt;\\nThe story begins with the trial of a youn...</td>\n",
       "    </tr>\n",
       "    <tr>\n",
       "      <th>1</th>\n",
       "      <td>&lt;p&gt;\\nIf there was such a thing as a perfect mo...</td>\n",
       "    </tr>\n",
       "  </tbody>\n",
       "</table>\n",
       "</div>"
      ],
      "text/plain": [
       "                                                   0\n",
       "0  <p>\\nThe story begins with the trial of a youn...\n",
       "1  <p>\\nIf there was such a thing as a perfect mo..."
      ]
     },
     "execution_count": 21,
     "metadata": {},
     "output_type": "execute_result"
    }
   ],
   "source": [
    "df = df[[1]]\n",
    "\n",
    "df.head(2)"
   ]
  },
  {
   "cell_type": "code",
   "execution_count": 56,
   "metadata": {
    "collapsed": false
   },
   "outputs": [],
   "source": [
    "test = df.values.tolist()\n",
    "\n",
    "test1 = test[0][0]\n",
    "\n",
    "# for i in test:\n",
    "#     print i"
   ]
  },
  {
   "cell_type": "code",
   "execution_count": 49,
   "metadata": {
    "collapsed": false
   },
   "outputs": [
    {
     "data": {
      "text/plain": [
       "'[[\"<p>\\\\nThe story begins with the trial of a young banker, Andy Dufrense,\\\\nvictimized by circumstantial evidence, resulting in a conviction for\\\\nthe murder of his wife and her lover. After a quick conviction, Andy\\\\nfinds himself serving a life sentence at Shawshank prison, with no hope\\\\nof parole. He exists in this prison only in appearance, keeping his\\\\nmind free from the drab walls around him. His ability to do this\\\\nresults in the gaining of respect from his fellow inmates, but most of\\\\nall from Ellis Redding. Ellis, commonly referred to as Red, finds\\\\ngainful use of his entrepreneurial spirit within the drab walls of\\\\nShawshank by dealing in contraband and commodities rare to the confines\\\\nof prison. Andy\\'s demeanor and undeniable sense of hope causes Red to\\\\ntake a deeper look at himself, and the world around him. Andy proves to\\\\nRed and the other inmates that in the conventional walls of Shawshank\\\\nprison convention will find no home in his lifestyle.<br/><br/>By creating the film\\'s firm foundation, the meticulously chiseled\\\\nscreenplay paved the way for this film\\'s success. Frank Darabont\\\\noutdoes himself with the phenomenal adaptation of Stephen King\\'s\\\\nequally noteworthy novella, Rita Hayworth and Shawshank Redemption. In\\\\nthis novella, King demonstrates that he can break free from the genre\\\\nhe dominates and still create a marvelous piece of modern literature.\\\\nThough the film mirrors the novella in many ways, Darabont illustrates\\\\na focused objective of improving upon the areas where the novella came\\\\nup short, resulting in one of the best book to film transitions ever.<br/><br/>While maintaining some of the poetic and moving dialogue of the\\\\nnovella, Darabont also proves that a film\\'s score can generate a great\\\\ndeal of emotional response from its audience, as dialogue does. He\\\\nemploys the cunning Thomas Newman, son of the legendary Hollywood\\\\ncomposer, Alfred Newman. Darabont shows recognition for the film\\'s\\\\nneeds by employing Newman, who makes the gentle piano chords whisper\\\\nsoftly to the viewer, as if a part of the scripted dialogue. Newman\\\\nlends himself to individualism and tends to drive more towards the\\\\nunique in the realm of score composition. His effort in Shawshank did\\\\nnot go unnoticed, as his score received an Oscar nomination in 1995.\\\\nWhile unique and independent, Newman\\'s score never once intrudes on\\\\nyour concentration or distracts from the film.<br/><br/>With work from vast array of talented scene designers, costume\\\\ndesigners, composers, cinematographers, and various other Hollywood\\\\nartists, the cast of The Shawshank Redemption had a strong foundation\\\\nto work with. The marvelous cast of this film will dazzle you with some\\\\nof the most convincing performances you will witness in a film. While\\\\nboth Tim Robbins and Morgan Freeman shine as Andy and Red,\\\\nrespectively, the true spectacle of acting lies within the plethora of\\\\namazing supporting actors who easily disappear into their roles. Most\\\\nnoticeable of these, the veteran film star James Whitmore, who portrays\\\\nthe elderly Brooks Hatlen. Brooks, a man incarcerated for an\\\\nunmentioned crime for so long that he finds himself attached to the\\\\nShawshank and the daily life he has lead. Each of these actors show a\\\\ntrue dedication to their art, and a focused purpose in their\\\\nmotivations, creating a convincing setting that never once caters to\\\\nanything unbelievable. http://howtogetridofacnequick.org\\\\n</p>\"], [\"<p>\\\\nIf there was such a thing as a perfect movie, this is it. Of course,\\\\nfor practical reasons, one cannot award a film ten stars out of ten,\\\\nbecause of the endless stream of new work demanding scrutiny. I\\'d like\\\\nalso to start by quoting another well known film, which sums up my\\\\nopinion nicely. \\'In many ways, the work of a critic is easy- we risk\\\\nvery little, and thrive on negative criticism, which is amusing to\\\\nwrite and to read. But the harsh truth of the matter is that the\\\\naverage piece of junk is probably more valuable than our criticism\\\\ndesignating it so\\'. This could not be closer to the truth. When it\\\\ncomes down to the wire, critics risk everything in dishing out praise,\\\\nfor fear of being ridiculed themselves.<br/><br/>There can be no such danger with The Shawshank Redemption. It is an\\\\neternal masterpiece, timeless and inspiring. I avoid being clich\\\\xc3\\\\xa9d,\\\\nwhen it is at all possible to do so, but The Shawshank Redemption is\\\\nbeautiful, masterfully acted, with just that right amount of\\\\ntenderness. This is a tale of moral courage, and the everlasting fight\\\\nfor justice. As with other films of the genre, one can tell what will\\\\nhappen, of course, but when you watch this film, you will time and\\\\nagain be genuinely surprised, and maybe even shed a tear for the\\\\npersistence and unquenchable thirst of the human spirit. One leaps for\\\\njoy after watching this incredible film, at the knowledge that evil, in\\\\nall senses of the word, can, and will never triumph.<br/><br/>Turning an eye to the technical side of things, just for a moment, I\\\\ncan discern not one single badly executed shot. The Shawshank\\\\nRedemption is well written, and, as I have said before, brilliantly\\\\nacted. Characters that could be flat are all allowed to develop and\\\\nflourish, and the film is even better for it. The film grabs our\\\\nattention, right from the word go, with agitated shots of Andy looking\\\\nlike he IS going to kill his wife. And the soundtrack. Well, there\\\\nisn\\'t much to say; except that most of the music in this film is some\\\\nof the most beautiful I have ever heard.<br/><br/>This is a deeply satisfying, wonderful, brilliant, fantastic, soulful\\\\ncinematic work. Watch it, if you haven\\'t seen it, and if you have, you\\\\nmust agree that this excellent film will be an eternal classic. There\\\\nare, of course, films that people will prefer, I myself am strongly\\\\nattracted to Subway, a 1985 film by Luc Besson, but for pure facial and\\\\nobjective value, cinema does not get much better than this.\\\\n</p>\"], [\\'<p><b>*** This review may contain spoilers ***</b></p>\\'], [\"<p>\\\\nFrom the summary above which you will have seen, i stated the film to\\\\nbe a moving masterpiece. Right from the word go i was drawn into the\\\\nfilms twisting emotional plot. It caught my attention that Frank\\\\nDarabont has placed a small amount of aspects into the film that get\\\\nthe audience emotionally involved in which we base ourselves into\\\\nsimply putting our feet in one of the convicts shoes. Tt especially\\\\ncaught my eyes with the montage of shots in which the character Brooks\\\\n(James Whitmore) takes his own life, the non-diagetic sound adding to\\\\nthe other element of suspense of the scene and the devastation of the\\\\ntragic loss of the character in which we have been following through\\\\nthe course of the film. The cinematography throughout the film was\\\\nbasic and what i would term as standard, seen before basic film\\\\ncamera-work. If this was better it would have highly improved the films\\\\noverall watch. throughout the course of the film we see Andy Dufresne\\\\n(Tim Robbins) supposedly framed for the murder of his wife and her\\\\nlover. We see how he progresses through the twenty years he spends at\\\\nShawshank Prison. We see Robbins act brilliantly as the role of a\\\\nnimble, lost and lonely convict turn into a reliant of the Head Warden.\\\\nThis all becomes of the fact that in Dufresne\\'s previous life he was a\\\\ncity banker, which is where he gets the nickname of \\'wife murdering\\\\nbanker\\' around the dim lit prison. Morgan Freeman also shows that he is\\\\none of the worlds leading role- modelling actors as he pulls of another\\\\nsupreme unique perform. The way he acts during the duration of the film\\\\nis entirely versatile proving the Freeman is an exceptional actor and\\\\nperforms single handed an outstanding performance.<br/><br/>The plot consists of many twists and turns with both leading characters\\\\ngetting into difficult situation and how they overcome them, or not.<br/><br/>The final half an hour of the film is soul touching and what i would\\\\nterm as an emotional rollacoaster with a large twist at the end. As\\\\nsuspense builds it creates a sensational climax tagging the film a must\\\\nwatch!<br/><br/>I generally don\\'t watch films more than once or twice but this is a\\\\ndifferent story. It still amazes me to this day and still gets me\\\\nmoving every time, it also influences me a lot.<br/><br/>If you haven\\'t watched this i highly recommend you do so!<br/><br/>Joe Ferrari\\\\n</p>\"], [\\'<p><b>*** This review may contain spoilers ***</b></p>\\'], [\\'<p>\\\\nIm not going to sit here and go into a deep explanation of what this\\\\nfilm is about, because that has been thoroughly explained in many of\\\\nthe other reviews. What I will say is that The Shawshank Redemption is\\\\nwithout any doubt the most amazing film ever written. The acting is\\\\ntremendous, the story is original, and the movie itself has a deeper\\\\nmeaning to it. This movie is not about the hardships of prison, it is\\\\nabout the importance of friendship and the realization that hope is\\\\nyour greatest aspect. This piece does not focus as much on Andy and his\\\\ngreat escape from Shawshank, but more on Red finding that there is\\\\nalways meaning and a purpose for everything. The story really unfolds\\\\nwhen Brooks, an old timer that Andy and Red had been close friends\\\\nwith, is put on parole and released from prison. After confronting the\\\\noutside world and knowing that he could not cope with it, Brooks finds\\\\nthat he has no purpose outside of life in jail and hangs himself. Later\\\\nin the movie, after Andy makes his great escape from prison, Red is\\\\nfinally released from Shawshank himself, and is put in the same\\\\nsituation as Brooks. Only one reason marks the fact that Red himself\\\\ndidn\\\\\\'t commit suicide. That reason is Andy. Red figures out that he\\\\ndoes have a purpose outside of prison which is to see his best friend\\\\nagain and to \"give him a handshake\". And as the movie comes to a\\\\nmarvelous ending, that hope to see Andy becomes a reality.<br/><br/>Overall the best movie I have ever watched and I am glad to say that I\\\\nwill continue to keep watching it again and again and again.\\\\n</p>\\'], [\"<p>\\\\nThe \\'Shawshank Redemption\\' undoubtedly deserves to be the highest rated\\\\nmovie. The movie depicts how a four lettered word \\'Hope\\' brings wonders\\\\nto our lives and makes something impossible to possible.<br/><br/>Though the plot of the movie focuses on how Andy Dufrane, a falsely\\\\nconvicted prisoner gets out of the prison, the beauty of the movie lies\\\\nin the characterization of Andy Dufrane (just amazing) and how he\\\\ninfluences his fellow prisoner \\'Red\\'. The narration by Morgan Freeman\\\\nin the role of \\'Red\\' is perhaps one of the best narrations i have ever\\\\ncome across. This story proves that the king of horrors, Stephen King,\\\\nis equally good at any other genre of \\'Story Writing\\'(Hats off). The\\\\ndialogues towards the end of the movie about hope are truly inspiring.\\\\nThe background score of the movie is excellent. Tom Robbins and Morgan\\\\nFreeman at their best in the roles of Andy Dufrane and Red\\\\nrespectively.<br/><br/>Didn\\'t watch the movie??...go grab a DVD and watch it as soon as\\\\npossible. Can\\'t miss a movie like this....\\\\n</p>\"], [\\'<p>\\\\nI watched this movie for the umpteenth time probably last Sunday and\\\\nhow much I loved it yet again!!! A movie I would never ever get bored\\\\nof and definitely, one of my all time favorites. A simple yet wonderful\\\\nstory about HOPE!!! HOPE \\\\xc2\\\\x96 One word that drives all of us and gives us\\\\nreason to live. We push ourselves through our mundane lives in the hope\\\\nof achieving / finding something that we dream of. In the words of this\\\\nmovie\\\\\\'s protagonist \\\\xc2\\\\x96 \"hope is a good thing, maybe the best of things,\\\\nand no good thing ever dies\"!!! Superlative performances by Tim Robbins\\\\nand Morgan Freeman.<br/><br/>A must watch if you haven\\\\\\'t!!!\\\\n</p>\\'], [\"<p>\\\\nThis movie I\\'m not going to call this film the IMDb #1 movie, but I\\\\nreally can\\'t deny that this is fantastic. The cast, the score, the\\\\nwriting, and the power are all here in this film, and filled with\\\\nstrength. It\\'s one of those movies that you will continue to think\\\\nabout even after the film is over. It is about a friendship, a life, an\\\\nevil, and a hope. A hope that is considered in many ways to be bridge\\\\nto insanity inside the prison walls. We see these people as years of\\\\ntime goes by. We see friendships grow, and topics change. It really\\\\nputs you in the prison, and makes you feel what\\'s like to behind those\\\\nbars. You feel the friendship, the hope, the darkness, and the pure\\\\nhorror of it all.<br/><br/>4 stars out of 4\\\\n</p>\"], [\\'<p><b>*** This review may contain spoilers ***</b></p>\\'], [\\'<p>\\\\nI never saw this film on the silver screen. I didn\\\\\\'t want to see it on\\\\nvideo either.<br/><br/>The video store owner implored me to watch it and I remember my\\\\nemphatic reply. \"I\\\\\\'m not watching a 3 hour film about a prison con\\\\ndoing tax returns for the guards\". Fortunately for me, this video store\\\\nowner was a mightily persistent sort and I begrudgingly walked home not\\\\nknowing that I had just rented the greatest film ever made.<br/><br/>This film received no hype nor the mega-bucks publicity given to a lot\\\\nof movie trash out there. Because they didn\\\\\\'t need to - all they needed\\\\nto do was to let people watch it because word of mouth is the best\\\\nmarketing ticket in town. And so it proved.<br/><br/>The movie is long and relies on a storyline which has been covered many\\\\ntimes. Wrongful conviction, brutality in jail, justice in the end. But\\\\nit is the way in which the story is told and acted out that defines it,\\\\nquite rightly, as IMDb\\\\\\'s top ranked film.<br/><br/>I don\\\\\\'t care for Stephen King as an author but his vivid imagination\\\\ncoupled with his skill at telling a story (a short story in this case)\\\\nis top drawer. We have a man (Dufresne) who after being convicted\\\\nwrongfully for murder, uses his accounting skills in jail solely to\\\\nsurvive. Red (Freeman), the man who can \"get things\" befriends him. The\\\\nstory then slowly unravels with shocking scenes of brutality\\\\nintertwined with flickers of how the human spirit can overcome the most\\\\nhazardous odds. The Warden, Samuel Norton, is magnificent as a man\\\\nwhose corruption has spiralled out of control and will do almost\\\\nanything to retain the status quo. Clancy Brown as the brutal guard\\\\ncompletes the double act.<br/><br/>The story twists and turns leaving the audience not quite knowing\\\\nwhether we are in for a harrowing or euphoric ending. And when the\\\\nending comes on that Mexican Beach you can almost hear the triumphant\\\\ncheers ringing around the cinema halls.<br/><br/>This is film making at its very best and it is highly unlikely that\\\\nRobbins and Freeman will ever better it. Its one of those few occasions\\\\nwhere 10 stars is not nearly high enough.<br/><br/>So if you have been living under a rock or are as sceptical as I was in\\\\nthe early 90\\\\\\'s, then it\\\\\\'s time for me to adopt my friendly video store\\\\nowners guise and say \"Watch this - its the best film ever made\".\\\\n</p>\\'], [\\'<p>\\\\nOut of the three genre-defining classics released in 1994, The\\\\nShawshank Redemption was the one that ended up bearing the maximum\\\\nbrunt. First commercially by failing to recover its budget for it\\\\ndebuted in theatres together with one of cinema\\\\\\'s greatest watershed\\\\nevents; Pulp Fiction. And then at Academy Awards where it was nominated\\\\nfor seven Oscars yet failed to win any, thanks to the sweeping show by\\\\nthe critics\\\\\\' darling, Forrest Gump.<br/><br/>But life ever since has been very kind to this film, and both critics &amp;\\\\nviewers have embraced its uplifting story of hope &amp; friendship with\\\\nremarkable amount of respect, love &amp; kindness. Today, The Shawshank\\\\nRedemption enjoys a position that\\\\\\'s arguably even higher than the two\\\\nclassics which eclipsed it back in 1994 and while it was discarded at\\\\nits time of release, it is now rightly &amp; universally acknowledged as\\\\none of the greatest films of all time.<br/><br/>The Shawshank Redemption tells the story of Andy Dufresne, a successful\\\\nbanker, who is wrongfully convicted of murdering his wife &amp; her illicit\\\\nlover and is ultimately sentenced to two consecutive life terms in\\\\nprison where his coping with the brutal hardships of confined life\\\\nslowly earns him the respect of his fellow inmates &amp; prison staff,\\\\nincluding that of \"Red\" in whom Andy finds a trusted ally. The\\\\nremainder of the film explores their friendship over the next two\\\\ndecades.<br/><br/>Written &amp; directed by Frank Darabont, this prison drama is a simple but\\\\nprofoundly moving tale of hope, friendship &amp; redemption that\\\\\\'ll manage\\\\nto connect deeply with most of us in one way or another plus it also\\\\nmarks Darabont\\\\\\'s directional debut and he couldn\\\\\\'t have asked for a\\\\nbetter start. All this film has is men in either prison or police\\\\nuniforms talking to one another over the course of its runtime and yet\\\\nit never looked dull or felt like dragging at any given moment.<br/><br/>Cinematography exquisitely captures the monotonous daily life inside\\\\nprison and provides considerable depth &amp; realism to the era this film\\\\nis set in. Every moment of despair has a shadowy appearance while\\\\nmoments of hope gleam with light. Editing is spectacular too as the\\\\ngradual progression of Andy\\\\\\'s life, his friendship with Red, and his\\\\ndetermination to not give in to the four walls containing him is\\\\neffectively unfolded. And Thomas Newman\\\\\\'s score beautifully blends with\\\\nthe film\\\\\\'s tone &amp; characters\\\\\\' lives, and is emotionally fulfilling.<br/><br/>Coming to the performances, Tim Robbins delivers a swashbuckling\\\\nperformance as Andy Dufresne, the banker wrongfully convicted for the\\\\ncrime he didn\\\\\\'t commit. And if Robbins is at his best, then Morgan\\\\nFreeman is even better as Red, Andy\\\\\\'s friend who is also serving a life\\\\nsentence &amp; is notorious amongst the inmates for he can smuggle goods\\\\ninto the prison. Freeman also narrates the story to us at which he does\\\\nan even better job. His work is grounded &amp; can go easily unnoticed, but\\\\nthe character of Red is the soul of this story.<br/><br/>There is a reason why this film still connects with so many people &amp;\\\\nwhy many of them have latched on to it. There is a reason why even\\\\nafter two decades, its legacy keeps flourishing &amp; viewers keep\\\\nreturning to it despite its low entertainment value. One major reason\\\\nis that even though The Shawshank Redemption is a prison drama, its\\\\nstory of imprisonment goes far beyond the bricks &amp; steel rods of a\\\\njailhouse. The entire picture is a reflection of our own imprisonment\\\\nin the institutions of our daily lives; institutions like work, family,\\\\nsociety etc &amp; living up to the expectations of each one of them.<br/><br/>On an overall scale, The Shawshank Redemption stresses that based on\\\\nthe outlook of life, there are only two types of people: one who can be\\\\nfree even in prison while others who find themselves imprisoned even in\\\\nfreedom. The message it is trying to resonate is clear: Fear can hold\\\\nyou prisoner, Hope can set you free. And if we all give ourselves some\\\\nhope, there is nothing we can\\\\\\'t survive. Yes, it all seems preachy n\\\\neverything, but then if there\\\\\\'s ever been a motion picture that has\\\\nearned this sort of right, it\\\\\\'s The Shawshank Redemption. Strongly\\\\nrecommended.\\\\n</p>\\']]'"
      ]
     },
     "execution_count": 49,
     "metadata": {},
     "output_type": "execute_result"
    }
   ],
   "source": []
  },
  {
   "cell_type": "code",
   "execution_count": 11,
   "metadata": {
    "collapsed": true
   },
   "outputs": [],
   "source": [
    "import nltk"
   ]
  },
  {
   "cell_type": "code",
   "execution_count": null,
   "metadata": {
    "collapsed": false
   },
   "outputs": [],
   "source": []
  },
  {
   "cell_type": "code",
   "execution_count": 10,
   "metadata": {
    "collapsed": false
   },
   "outputs": [],
   "source": [
    "from nltk.tokenize import sent_tokenize, word_tokenize"
   ]
  },
  {
   "cell_type": "code",
   "execution_count": 58,
   "metadata": {
    "collapsed": false
   },
   "outputs": [
    {
     "data": {
      "text/plain": [
       "632"
      ]
     },
     "execution_count": 58,
     "metadata": {},
     "output_type": "execute_result"
    }
   ],
   "source": [
    "test = 'This is a test of nltk. What is going on. I hate this movie. It was great. It was not great, I did not love it.'\n",
    "\n",
    "count = word_tokenize(test1)\n",
    "\n",
    "len(count)"
   ]
  },
  {
   "cell_type": "code",
   "execution_count": 17,
   "metadata": {
    "collapsed": false
   },
   "outputs": [
    {
     "data": {
      "text/plain": [
       "['This is a test of nltk.',\n",
       " 'What is going on.',\n",
       " 'I hate this movie.',\n",
       " 'It was great.',\n",
       " 'It was not great, I did not love it.']"
      ]
     },
     "execution_count": 17,
     "metadata": {},
     "output_type": "execute_result"
    }
   ],
   "source": [
    "sent_tokenize(test)"
   ]
  },
  {
   "cell_type": "code",
   "execution_count": 59,
   "metadata": {
    "collapsed": false
   },
   "outputs": [
    {
     "data": {
      "text/plain": [
       "list"
      ]
     },
     "execution_count": 59,
     "metadata": {},
     "output_type": "execute_result"
    }
   ],
   "source": [
    "tokens = word_tokenize(test1)\n",
    "type(tokens)"
   ]
  },
  {
   "cell_type": "code",
   "execution_count": 60,
   "metadata": {
    "collapsed": false
   },
   "outputs": [
    {
     "name": "stdout",
     "output_type": "stream",
     "text": [
      "*** Introductory Examples for the NLTK Book ***\n",
      "Loading text1, ..., text9 and sent1, ..., sent9\n",
      "Type the name of the text or sentence to view it.\n",
      "Type: 'texts()' or 'sents()' to list the materials.\n",
      "text1: Moby Dick by Herman Melville 1851\n",
      "text2: Sense and Sensibility by Jane Austen 1811\n",
      "text3: The Book of Genesis\n",
      "text4: Inaugural Address Corpus\n",
      "text5: Chat Corpus\n",
      "text6: Monty Python and the Holy Grail\n",
      "text7: Wall Street Journal\n",
      "text8: Personals Corpus\n",
      "text9: The Man Who Was Thursday by G . K . Chesterton 1908\n"
     ]
    }
   ],
   "source": [
    "from nltk.book import *"
   ]
  },
  {
   "cell_type": "code",
   "execution_count": 66,
   "metadata": {
    "collapsed": false
   },
   "outputs": [
    {
     "name": "stdout",
     "output_type": "stream",
     "text": [
      "Displaying 2 of 2 matches:\n",
      "ersary . BLACK KNIGHT : ' Tis but a scratch . ARTHUR : A scratch ? Your arm ' s\n",
      " : ' Tis but a scratch . ARTHUR : A scratch ? Your arm ' s off ! BLACK KNIGHT :\n"
     ]
    }
   ],
   "source": [
    "text6.concordance(\"scratch\")"
   ]
  },
  {
   "cell_type": "code",
   "execution_count": 70,
   "metadata": {
    "collapsed": false
   },
   "outputs": [
    {
     "ename": "AttributeError",
     "evalue": "'list' object has no attribute 'lower'",
     "output_type": "error",
     "traceback": [
      "\u001b[0;31m---------------------------------------------------------------------------\u001b[0m",
      "\u001b[0;31mAttributeError\u001b[0m                            Traceback (most recent call last)",
      "\u001b[0;32m<ipython-input-70-cdedfaf080d7>\u001b[0m in \u001b[0;36m<module>\u001b[0;34m()\u001b[0m\n\u001b[0;32m----> 1\u001b[0;31m \u001b[0mtext6\u001b[0m\u001b[0;34m.\u001b[0m\u001b[0mconcordance\u001b[0m\u001b[0;34m(\u001b[0m\u001b[0;34m[\u001b[0m\u001b[0;34m\"flesh\"\u001b[0m\u001b[0;34m,\u001b[0m\u001b[0;34m\"wound\"\u001b[0m\u001b[0;34m]\u001b[0m\u001b[0;34m)\u001b[0m\u001b[0;34m\u001b[0m\u001b[0m\n\u001b[0m",
      "\u001b[0;32m/Users/Paul/anaconda/lib/python2.7/site-packages/nltk/text.py\u001b[0m in \u001b[0;36mconcordance\u001b[0;34m(self, word, width, lines)\u001b[0m\n\u001b[1;32m    332\u001b[0m                                                        key=lambda s:s.lower())\n\u001b[1;32m    333\u001b[0m \u001b[0;34m\u001b[0m\u001b[0m\n\u001b[0;32m--> 334\u001b[0;31m         \u001b[0mself\u001b[0m\u001b[0;34m.\u001b[0m\u001b[0m_concordance_index\u001b[0m\u001b[0;34m.\u001b[0m\u001b[0mprint_concordance\u001b[0m\u001b[0;34m(\u001b[0m\u001b[0mword\u001b[0m\u001b[0;34m,\u001b[0m \u001b[0mwidth\u001b[0m\u001b[0;34m,\u001b[0m \u001b[0mlines\u001b[0m\u001b[0;34m)\u001b[0m\u001b[0;34m\u001b[0m\u001b[0m\n\u001b[0m\u001b[1;32m    335\u001b[0m \u001b[0;34m\u001b[0m\u001b[0m\n\u001b[1;32m    336\u001b[0m     \u001b[0;32mdef\u001b[0m \u001b[0mcollocations\u001b[0m\u001b[0;34m(\u001b[0m\u001b[0mself\u001b[0m\u001b[0;34m,\u001b[0m \u001b[0mnum\u001b[0m\u001b[0;34m=\u001b[0m\u001b[0;36m20\u001b[0m\u001b[0;34m,\u001b[0m \u001b[0mwindow_size\u001b[0m\u001b[0;34m=\u001b[0m\u001b[0;36m2\u001b[0m\u001b[0;34m)\u001b[0m\u001b[0;34m:\u001b[0m\u001b[0;34m\u001b[0m\u001b[0m\n",
      "\u001b[0;32m/Users/Paul/anaconda/lib/python2.7/site-packages/nltk/text.py\u001b[0m in \u001b[0;36mprint_concordance\u001b[0;34m(self, word, width, lines)\u001b[0m\n\u001b[1;32m    186\u001b[0m         \u001b[0mcontext\u001b[0m \u001b[0;34m=\u001b[0m \u001b[0mwidth\u001b[0m \u001b[0;34m//\u001b[0m \u001b[0;36m4\u001b[0m \u001b[0;31m# approx number of words of context\u001b[0m\u001b[0;34m\u001b[0m\u001b[0m\n\u001b[1;32m    187\u001b[0m \u001b[0;34m\u001b[0m\u001b[0m\n\u001b[0;32m--> 188\u001b[0;31m         \u001b[0moffsets\u001b[0m \u001b[0;34m=\u001b[0m \u001b[0mself\u001b[0m\u001b[0;34m.\u001b[0m\u001b[0moffsets\u001b[0m\u001b[0;34m(\u001b[0m\u001b[0mword\u001b[0m\u001b[0;34m)\u001b[0m\u001b[0;34m\u001b[0m\u001b[0m\n\u001b[0m\u001b[1;32m    189\u001b[0m         \u001b[0;32mif\u001b[0m \u001b[0moffsets\u001b[0m\u001b[0;34m:\u001b[0m\u001b[0;34m\u001b[0m\u001b[0m\n\u001b[1;32m    190\u001b[0m             \u001b[0mlines\u001b[0m \u001b[0;34m=\u001b[0m \u001b[0mmin\u001b[0m\u001b[0;34m(\u001b[0m\u001b[0mlines\u001b[0m\u001b[0;34m,\u001b[0m \u001b[0mlen\u001b[0m\u001b[0;34m(\u001b[0m\u001b[0moffsets\u001b[0m\u001b[0;34m)\u001b[0m\u001b[0;34m)\u001b[0m\u001b[0;34m\u001b[0m\u001b[0m\n",
      "\u001b[0;32m/Users/Paul/anaconda/lib/python2.7/site-packages/nltk/text.py\u001b[0m in \u001b[0;36moffsets\u001b[0;34m(self, word)\u001b[0m\n\u001b[1;32m    165\u001b[0m             \u001b[0mindex\u001b[0m\u001b[0;34m,\u001b[0m \u001b[0mthen\u001b[0m \u001b[0mgiven\u001b[0m \u001b[0mword\u001b[0m\u001b[0;31m'\u001b[0m\u001b[0ms\u001b[0m \u001b[0mkey\u001b[0m \u001b[0mwill\u001b[0m \u001b[0mbe\u001b[0m \u001b[0mlooked\u001b[0m \u001b[0mup\u001b[0m\u001b[0;34m.\u001b[0m\u001b[0;34m\u001b[0m\u001b[0m\n\u001b[1;32m    166\u001b[0m         \"\"\"\n\u001b[0;32m--> 167\u001b[0;31m         \u001b[0mword\u001b[0m \u001b[0;34m=\u001b[0m \u001b[0mself\u001b[0m\u001b[0;34m.\u001b[0m\u001b[0m_key\u001b[0m\u001b[0;34m(\u001b[0m\u001b[0mword\u001b[0m\u001b[0;34m)\u001b[0m\u001b[0;34m\u001b[0m\u001b[0m\n\u001b[0m\u001b[1;32m    168\u001b[0m         \u001b[0;32mreturn\u001b[0m \u001b[0mself\u001b[0m\u001b[0;34m.\u001b[0m\u001b[0m_offsets\u001b[0m\u001b[0;34m[\u001b[0m\u001b[0mword\u001b[0m\u001b[0;34m]\u001b[0m\u001b[0;34m\u001b[0m\u001b[0m\n\u001b[1;32m    169\u001b[0m \u001b[0;34m\u001b[0m\u001b[0m\n",
      "\u001b[0;32m/Users/Paul/anaconda/lib/python2.7/site-packages/nltk/text.py\u001b[0m in \u001b[0;36m<lambda>\u001b[0;34m(s)\u001b[0m\n\u001b[1;32m    330\u001b[0m             \u001b[0;31m#print(\"Building index...\")\u001b[0m\u001b[0;34m\u001b[0m\u001b[0;34m\u001b[0m\u001b[0m\n\u001b[1;32m    331\u001b[0m             self._concordance_index = ConcordanceIndex(self.tokens,\n\u001b[0;32m--> 332\u001b[0;31m                                                        key=lambda s:s.lower())\n\u001b[0m\u001b[1;32m    333\u001b[0m \u001b[0;34m\u001b[0m\u001b[0m\n\u001b[1;32m    334\u001b[0m         \u001b[0mself\u001b[0m\u001b[0;34m.\u001b[0m\u001b[0m_concordance_index\u001b[0m\u001b[0;34m.\u001b[0m\u001b[0mprint_concordance\u001b[0m\u001b[0;34m(\u001b[0m\u001b[0mword\u001b[0m\u001b[0;34m,\u001b[0m \u001b[0mwidth\u001b[0m\u001b[0;34m,\u001b[0m \u001b[0mlines\u001b[0m\u001b[0;34m)\u001b[0m\u001b[0;34m\u001b[0m\u001b[0m\n",
      "\u001b[0;31mAttributeError\u001b[0m: 'list' object has no attribute 'lower'"
     ]
    }
   ],
   "source": [
    "text6.concordance([\"flesh\",\"wound\"])"
   ]
  },
  {
   "cell_type": "code",
   "execution_count": null,
   "metadata": {
    "collapsed": true
   },
   "outputs": [],
   "source": []
  }
 ],
 "metadata": {
  "kernelspec": {
   "display_name": "Python 2",
   "language": "python",
   "name": "python2"
  },
  "language_info": {
   "codemirror_mode": {
    "name": "ipython",
    "version": 2
   },
   "file_extension": ".py",
   "mimetype": "text/x-python",
   "name": "python",
   "nbconvert_exporter": "python",
   "pygments_lexer": "ipython2",
   "version": "2.7.11"
  }
 },
 "nbformat": 4,
 "nbformat_minor": 0
}
