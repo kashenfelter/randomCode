{
 "cells": [
  {
   "cell_type": "markdown",
   "metadata": {},
   "source": [
    "## Project 6"
   ]
  },
  {
   "cell_type": "code",
   "execution_count": 2,
   "metadata": {
    "collapsed": false
   },
   "outputs": [],
   "source": [
    "import os\n",
    "import subprocess\n",
    "import pandas as pd\n",
    "import numpy as np\n",
    "from sklearn.ensemble import RandomForestClassifier\n",
    "from sklearn.ensemble import RandomForestRegressor\n",
    "import scipy\n",
    "import requests\n",
    "from imdbpie import Imdb\n",
    "import nltk\n",
    "import matplotlib.pyplot as plt\n",
    "import urllib\n",
    "from bs4 import BeautifulSoup\n",
    "import nltk\n",
    "import collections\n",
    "import re\n",
    "import csv\n",
    "import psycopg2\n",
    "\n",
    "%matplotlib inline"
   ]
  },
  {
   "cell_type": "markdown",
   "metadata": {},
   "source": [
    "### Pre-Work: Write a problem statement "
   ]
  },
  {
   "cell_type": "markdown",
   "metadata": {},
   "source": [
    "    "
   ]
  },
  {
   "cell_type": "markdown",
   "metadata": {},
   "source": [
    "## Part 1: Acquire the Data"
   ]
  },
  {
   "cell_type": "markdown",
   "metadata": {},
   "source": [
    "##### The first thing I did was look for the easiest way to aquire all the data on imdb the fastest. I came accross imdbpy, a python package, which has option for downloading the entire database directly to a sql server. While the idea at first sounded apealing, I am already having computing power issues and will resist the urge to get everything.\n",
    "\n",
    "##### Shifting gears, lets try imdbpie..."
   ]
  },
  {
   "cell_type": "markdown",
   "metadata": {},
   "source": [
    "#### 1. Connect to the IMDB API"
   ]
  },
  {
   "cell_type": "code",
   "execution_count": 14,
   "metadata": {
    "collapsed": false
   },
   "outputs": [],
   "source": [
    "# was not sure what this was or what this did, but hit tab and found top250 as an option\n",
    "imdb = Imdb()\n",
    "imdb = Imdb(anonymize=True)"
   ]
  },
  {
   "cell_type": "markdown",
   "metadata": {},
   "source": [
    "#### 2. Query the top 250 rated movies in the database"
   ]
  },
  {
   "cell_type": "code",
   "execution_count": 15,
   "metadata": {
    "collapsed": false
   },
   "outputs": [],
   "source": [
    "# query top 250 movies and create a dataframe df250\n",
    "top250 = imdb.top_250()\n",
    "df250 = pd.DataFrame(top250)"
   ]
  },
  {
   "cell_type": "code",
   "execution_count": 16,
   "metadata": {
    "collapsed": false
   },
   "outputs": [
    {
     "data": {
      "text/html": [
       "<div>\n",
       "<table border=\"1\" class=\"dataframe\">\n",
       "  <thead>\n",
       "    <tr style=\"text-align: right;\">\n",
       "      <th></th>\n",
       "      <th>can_rate</th>\n",
       "      <th>image</th>\n",
       "      <th>num_votes</th>\n",
       "      <th>rating</th>\n",
       "      <th>tconst</th>\n",
       "      <th>title</th>\n",
       "      <th>type</th>\n",
       "      <th>year</th>\n",
       "    </tr>\n",
       "  </thead>\n",
       "  <tbody>\n",
       "    <tr>\n",
       "      <th>0</th>\n",
       "      <td>True</td>\n",
       "      <td>{u'url': u'http://ia.media-imdb.com/images/M/M...</td>\n",
       "      <td>1677486</td>\n",
       "      <td>9.3</td>\n",
       "      <td>tt0111161</td>\n",
       "      <td>The Shawshank Redemption</td>\n",
       "      <td>feature</td>\n",
       "      <td>1994</td>\n",
       "    </tr>\n",
       "    <tr>\n",
       "      <th>1</th>\n",
       "      <td>True</td>\n",
       "      <td>{u'url': u'http://ia.media-imdb.com/images/M/M...</td>\n",
       "      <td>1147737</td>\n",
       "      <td>9.2</td>\n",
       "      <td>tt0068646</td>\n",
       "      <td>The Godfather</td>\n",
       "      <td>feature</td>\n",
       "      <td>1972</td>\n",
       "    </tr>\n",
       "  </tbody>\n",
       "</table>\n",
       "</div>"
      ],
      "text/plain": [
       "  can_rate                                              image  num_votes  \\\n",
       "0     True  {u'url': u'http://ia.media-imdb.com/images/M/M...    1677486   \n",
       "1     True  {u'url': u'http://ia.media-imdb.com/images/M/M...    1147737   \n",
       "\n",
       "   rating     tconst                     title     type  year  \n",
       "0     9.3  tt0111161  The Shawshank Redemption  feature  1994  \n",
       "1     9.2  tt0068646             The Godfather  feature  1972  "
      ]
     },
     "execution_count": 16,
     "metadata": {},
     "output_type": "execute_result"
    }
   ],
   "source": [
    "df250.head(2)"
   ]
  },
  {
   "cell_type": "markdown",
   "metadata": {},
   "source": [
    "#### 3. Only select the top 25 movies and delete the uncessary rows"
   ]
  },
  {
   "cell_type": "code",
   "execution_count": 17,
   "metadata": {
    "collapsed": false
   },
   "outputs": [],
   "source": [
    "# slice the first 25 movies and create a dataframe df25\n",
    "top25 = imdb.top_250()[0:25]\n",
    "df25 = pd.DataFrame(top25)"
   ]
  },
  {
   "cell_type": "code",
   "execution_count": 18,
   "metadata": {
    "collapsed": false
   },
   "outputs": [
    {
     "data": {
      "text/html": [
       "<div>\n",
       "<table border=\"1\" class=\"dataframe\">\n",
       "  <thead>\n",
       "    <tr style=\"text-align: right;\">\n",
       "      <th></th>\n",
       "      <th>can_rate</th>\n",
       "      <th>image</th>\n",
       "      <th>num_votes</th>\n",
       "      <th>rating</th>\n",
       "      <th>tconst</th>\n",
       "      <th>title</th>\n",
       "      <th>type</th>\n",
       "      <th>year</th>\n",
       "    </tr>\n",
       "  </thead>\n",
       "  <tbody>\n",
       "    <tr>\n",
       "      <th>0</th>\n",
       "      <td>True</td>\n",
       "      <td>{u'url': u'http://ia.media-imdb.com/images/M/M...</td>\n",
       "      <td>1677486</td>\n",
       "      <td>9.3</td>\n",
       "      <td>tt0111161</td>\n",
       "      <td>The Shawshank Redemption</td>\n",
       "      <td>feature</td>\n",
       "      <td>1994</td>\n",
       "    </tr>\n",
       "    <tr>\n",
       "      <th>1</th>\n",
       "      <td>True</td>\n",
       "      <td>{u'url': u'http://ia.media-imdb.com/images/M/M...</td>\n",
       "      <td>1147737</td>\n",
       "      <td>9.2</td>\n",
       "      <td>tt0068646</td>\n",
       "      <td>The Godfather</td>\n",
       "      <td>feature</td>\n",
       "      <td>1972</td>\n",
       "    </tr>\n",
       "  </tbody>\n",
       "</table>\n",
       "</div>"
      ],
      "text/plain": [
       "  can_rate                                              image  num_votes  \\\n",
       "0     True  {u'url': u'http://ia.media-imdb.com/images/M/M...    1677486   \n",
       "1     True  {u'url': u'http://ia.media-imdb.com/images/M/M...    1147737   \n",
       "\n",
       "   rating     tconst                     title     type  year  \n",
       "0     9.3  tt0111161  The Shawshank Redemption  feature  1994  \n",
       "1     9.2  tt0068646             The Godfather  feature  1972  "
      ]
     },
     "execution_count": 18,
     "metadata": {},
     "output_type": "execute_result"
    }
   ],
   "source": [
    "df25.head(2)"
   ]
  },
  {
   "cell_type": "markdown",
   "metadata": {},
   "source": [
    "#### 4. Write the Results to a csv"
   ]
  },
  {
   "cell_type": "code",
   "execution_count": 47,
   "metadata": {
    "collapsed": false
   },
   "outputs": [],
   "source": [
    "WHICH RESULTS?"
   ]
  },
  {
   "cell_type": "markdown",
   "metadata": {},
   "source": [
    "## Part 2: Wrangle the text data"
   ]
  },
  {
   "cell_type": "markdown",
   "metadata": {},
   "source": [
    "#### 1. Convert the listing identification numbers (tconst) from the first dataframe to a list"
   ]
  },
  {
   "cell_type": "code",
   "execution_count": 19,
   "metadata": {
    "collapsed": false
   },
   "outputs": [],
   "source": [
    "titleList = df25['tconst']"
   ]
  },
  {
   "cell_type": "code",
   "execution_count": 8,
   "metadata": {
    "collapsed": false
   },
   "outputs": [
    {
     "data": {
      "text/plain": [
       "0     tt0111161\n",
       "1     tt0068646\n",
       "2     tt0071562\n",
       "3     tt0468569\n",
       "4     tt0108052\n",
       "5     tt0050083\n",
       "6     tt0110912\n",
       "7     tt0167260\n",
       "8     tt0060196\n",
       "9     tt0137523\n",
       "10    tt0120737\n",
       "11    tt0080684\n",
       "12    tt0109830\n",
       "13    tt1375666\n",
       "14    tt0167261\n",
       "15    tt0073486\n",
       "16    tt0099685\n",
       "17    tt0133093\n",
       "18    tt0047478\n",
       "19    tt0076759\n",
       "20    tt0317248\n",
       "21    tt0114369\n",
       "22    tt0102926\n",
       "23    tt0038650\n",
       "24    tt0114814\n",
       "Name: tconst, dtype: object"
      ]
     },
     "execution_count": 8,
     "metadata": {},
     "output_type": "execute_result"
    }
   ],
   "source": [
    "titleList"
   ]
  },
  {
   "cell_type": "markdown",
   "metadata": {},
   "source": [
    "#### 2. Scrape the reviews for the top 25 movies"
   ]
  },
  {
   "cell_type": "markdown",
   "metadata": {},
   "source": [
    "*Hint*: Use a loop to scrape each page at once"
   ]
  },
  {
   "cell_type": "markdown",
   "metadata": {
    "collapsed": false
   },
   "source": [
    "##### 'http://www.imdb.com/title/tt0111161/reviews'"
   ]
  },
  {
   "cell_type": "code",
   "execution_count": 215,
   "metadata": {
    "collapsed": false
   },
   "outputs": [
    {
     "data": {
      "text/plain": [
       "[]"
      ]
     },
     "execution_count": 215,
     "metadata": {},
     "output_type": "execute_result"
    }
   ],
   "source": [
    "#create list of total review counts (for range)\n",
    "\n",
    "from scrapy.selector import Selector\n",
    "import requests\n",
    "\n",
    "URL2 = \"http://www.imdb.com/title/tt0111161/reviews?start=0\"\n",
    "\n",
    "\n",
    "r = requests.get(URL2)\n",
    "test = Selector(text = r.text).xpath('//*[@id=\"tn15content\"]/table[2]/tbody/tr/td[2]/text').extract()\n",
    "\n",
    "test\n",
    "\n",
    "#countReview = Selector(text=r.text).xpath('//*[@id=\"title-overview-widget\"]/div[3]/div[2]/div[3]/div[2]/span/a[1]/text()').extract()\n",
    "\n",
    "#//*[@id=\"tn15content\"]/table[2]/tbody/tr/td[2]\n",
    "\n",
    "#countReview2 = Selector(text=r.text).xpath('//*[@id=\"tn15content\"]/table[3]/tbody/tr/td[1]/text').extract()\n",
    "\n",
    "#tmpp2 = countReview[0].encode('utf-8')\n",
    "#tmpp2\n",
    "\n",
    "#countReview2\n",
    "\n",
    "#countReview"
   ]
  },
  {
   "cell_type": "code",
   "execution_count": 129,
   "metadata": {
    "collapsed": true
   },
   "outputs": [],
   "source": [
    "URL2 = \"http://www.imdb.com/title/tt0111161/reviews?start=0\"\n",
    "\n",
    "r = requests.get(URL2)\n",
    "countR = Selector(text=r.text).xpath('//*[@id=\"tn15content\"]/table[2]/tbody/tr/td[2]').extract()"
   ]
  },
  {
   "cell_type": "code",
   "execution_count": 130,
   "metadata": {
    "collapsed": false
   },
   "outputs": [
    {
     "data": {
      "text/plain": [
       "[]"
      ]
     },
     "execution_count": 130,
     "metadata": {},
     "output_type": "execute_result"
    }
   ],
   "source": [
    "countR"
   ]
  },
  {
   "cell_type": "markdown",
   "metadata": {},
   "source": [
    "# http://www.imdb.com/title/tt0111161/reviews?start=0 "
   ]
  },
  {
   "cell_type": "markdown",
   "metadata": {},
   "source": [
    "### Generate StarterList of URLs"
   ]
  },
  {
   "cell_type": "code",
   "execution_count": 20,
   "metadata": {
    "collapsed": false
   },
   "outputs": [
    {
     "data": {
      "text/plain": [
       "[u'http://www.imdb.com/title/tt0111161',\n",
       " u'http://www.imdb.com/title/tt0068646',\n",
       " u'http://www.imdb.com/title/tt0071562',\n",
       " u'http://www.imdb.com/title/tt0468569',\n",
       " u'http://www.imdb.com/title/tt0108052',\n",
       " u'http://www.imdb.com/title/tt0050083',\n",
       " u'http://www.imdb.com/title/tt0110912',\n",
       " u'http://www.imdb.com/title/tt0167260',\n",
       " u'http://www.imdb.com/title/tt0060196',\n",
       " u'http://www.imdb.com/title/tt0137523',\n",
       " u'http://www.imdb.com/title/tt0120737',\n",
       " u'http://www.imdb.com/title/tt0080684',\n",
       " u'http://www.imdb.com/title/tt0109830',\n",
       " u'http://www.imdb.com/title/tt1375666',\n",
       " u'http://www.imdb.com/title/tt0167261',\n",
       " u'http://www.imdb.com/title/tt0073486',\n",
       " u'http://www.imdb.com/title/tt0099685',\n",
       " u'http://www.imdb.com/title/tt0133093',\n",
       " u'http://www.imdb.com/title/tt0047478',\n",
       " u'http://www.imdb.com/title/tt0076759',\n",
       " u'http://www.imdb.com/title/tt0317248',\n",
       " u'http://www.imdb.com/title/tt0114369',\n",
       " u'http://www.imdb.com/title/tt0102926',\n",
       " u'http://www.imdb.com/title/tt0038650',\n",
       " u'http://www.imdb.com/title/tt0114814']"
      ]
     },
     "execution_count": 20,
     "metadata": {},
     "output_type": "execute_result"
    }
   ],
   "source": [
    "URL = \"http://www.imdb.com/title/\"\n",
    "\n",
    "startURL = []\n",
    "for i in titleList:\n",
    "    startURL.append(URL + i)\n",
    "    \n",
    "startURL"
   ]
  },
  {
   "cell_type": "code",
   "execution_count": 248,
   "metadata": {
    "collapsed": false
   },
   "outputs": [
    {
     "data": {
      "text/plain": [
       "[u'http://www.imdb.com/title/tt0111161/reviews?start=',\n",
       " u'http://www.imdb.com/title/tt0068646/reviews?start=',\n",
       " u'http://www.imdb.com/title/tt0071562/reviews?start=',\n",
       " u'http://www.imdb.com/title/tt0468569/reviews?start=',\n",
       " u'http://www.imdb.com/title/tt0108052/reviews?start=',\n",
       " u'http://www.imdb.com/title/tt0050083/reviews?start=',\n",
       " u'http://www.imdb.com/title/tt0110912/reviews?start=',\n",
       " u'http://www.imdb.com/title/tt0167260/reviews?start=',\n",
       " u'http://www.imdb.com/title/tt0060196/reviews?start=',\n",
       " u'http://www.imdb.com/title/tt0137523/reviews?start=',\n",
       " u'http://www.imdb.com/title/tt0120737/reviews?start=',\n",
       " u'http://www.imdb.com/title/tt0080684/reviews?start=',\n",
       " u'http://www.imdb.com/title/tt0109830/reviews?start=',\n",
       " u'http://www.imdb.com/title/tt1375666/reviews?start=',\n",
       " u'http://www.imdb.com/title/tt0167261/reviews?start=',\n",
       " u'http://www.imdb.com/title/tt0073486/reviews?start=',\n",
       " u'http://www.imdb.com/title/tt0099685/reviews?start=',\n",
       " u'http://www.imdb.com/title/tt0133093/reviews?start=',\n",
       " u'http://www.imdb.com/title/tt0047478/reviews?start=',\n",
       " u'http://www.imdb.com/title/tt0076759/reviews?start=',\n",
       " u'http://www.imdb.com/title/tt0317248/reviews?start=',\n",
       " u'http://www.imdb.com/title/tt0114369/reviews?start=',\n",
       " u'http://www.imdb.com/title/tt0102926/reviews?start=',\n",
       " u'http://www.imdb.com/title/tt0038650/reviews?start=',\n",
       " u'http://www.imdb.com/title/tt0114814/reviews?start=']"
      ]
     },
     "execution_count": 248,
     "metadata": {},
     "output_type": "execute_result"
    }
   ],
   "source": [
    "newURL = []\n",
    "\n",
    "for i in startURL:\n",
    "    newURL.append(i + '/reviews?start=')\n",
    "    \n",
    "newURL\n"
   ]
  },
  {
   "cell_type": "markdown",
   "metadata": {},
   "source": [
    "### Get list of total review counts per movie"
   ]
  },
  {
   "cell_type": "code",
   "execution_count": 251,
   "metadata": {
    "collapsed": false
   },
   "outputs": [],
   "source": [
    "import re\n",
    "\n",
    "reviews = []\n",
    "for n in newURL:\n",
    "    r = requests.get(n + '0')\n",
    "    HTML = r.text\n",
    "    tmp = Selector(text=HTML).xpath(\"//*[@align='right']/text()\").extract()\n",
    "    reviews.append(re.findall(r'[0-9]+', tmp.pop()).pop().encode('ascii'))"
   ]
  },
  {
   "cell_type": "code",
   "execution_count": 252,
   "metadata": {
    "collapsed": false
   },
   "outputs": [
    {
     "data": {
      "text/plain": [
       "['4110',\n",
       " '2224',\n",
       " '652',\n",
       " '4640',\n",
       " '1266',\n",
       " '882',\n",
       " '2190',\n",
       " '3185',\n",
       " '776',\n",
       " '2960',\n",
       " '5057',\n",
       " '895',\n",
       " '1388',\n",
       " '2797',\n",
       " '2416',\n",
       " '757',\n",
       " '984',\n",
       " '3643',\n",
       " '596',\n",
       " '1466',\n",
       " '745',\n",
       " '1082',\n",
       " '915',\n",
       " '704',\n",
       " '1179']"
      ]
     },
     "execution_count": 252,
     "metadata": {},
     "output_type": "execute_result"
    }
   ],
   "source": [
    "reviews"
   ]
  },
  {
   "cell_type": "code",
   "execution_count": 255,
   "metadata": {
    "collapsed": false
   },
   "outputs": [
    {
     "data": {
      "text/plain": [
       "[(u'tt0111161', '4110'),\n",
       " (u'tt0068646', '2224'),\n",
       " (u'tt0071562', '652'),\n",
       " (u'tt0468569', '4640'),\n",
       " (u'tt0108052', '1266'),\n",
       " (u'tt0050083', '882'),\n",
       " (u'tt0110912', '2190'),\n",
       " (u'tt0167260', '3185'),\n",
       " (u'tt0060196', '776'),\n",
       " (u'tt0137523', '2960'),\n",
       " (u'tt0120737', '5057'),\n",
       " (u'tt0080684', '895'),\n",
       " (u'tt0109830', '1388'),\n",
       " (u'tt1375666', '2797'),\n",
       " (u'tt0167261', '2416'),\n",
       " (u'tt0073486', '757'),\n",
       " (u'tt0099685', '984'),\n",
       " (u'tt0133093', '3643'),\n",
       " (u'tt0047478', '596'),\n",
       " (u'tt0076759', '1466'),\n",
       " (u'tt0317248', '745'),\n",
       " (u'tt0114369', '1082'),\n",
       " (u'tt0102926', '915'),\n",
       " (u'tt0038650', '704'),\n",
       " (u'tt0114814', '1179')]"
      ]
     },
     "execution_count": 255,
     "metadata": {},
     "output_type": "execute_result"
    }
   ],
   "source": [
    "zip(titleList, reviews)"
   ]
  },
  {
   "cell_type": "code",
   "execution_count": null,
   "metadata": {
    "collapsed": true
   },
   "outputs": [],
   "source": []
  },
  {
   "cell_type": "code",
   "execution_count": null,
   "metadata": {
    "collapsed": true
   },
   "outputs": [],
   "source": []
  },
  {
   "cell_type": "code",
   "execution_count": 246,
   "metadata": {
    "collapsed": false
   },
   "outputs": [
    {
     "data": {
      "text/plain": [
       "'1466'"
      ]
     },
     "execution_count": 246,
     "metadata": {},
     "output_type": "execute_result"
    }
   ],
   "source": [
    "################################################################################################################################\n",
    "################################################################################################################################\n",
    "################################################################################################################################\n",
    "\n",
    "from scrapy.selector import Selector\n",
    "import requests\n",
    "\n",
    "url555 = 'http://www.imdb.com/title/tt0076759/reviews?start=0'\n",
    "\n",
    "r = requests.get(url555)\n",
    "HTML = r.text\n",
    "\n",
    "names = Selector(text=HTML).xpath(\"//*[@align='right']/text()\").extract()\n",
    "\n",
    "import re\n",
    "re.findall(r'[0-9]+', names.pop()).pop().encode('ascii')\n",
    "\n",
    "################################################################################################################################\n",
    "################################################################################################################################\n",
    "################################################################################################################################"
   ]
  },
  {
   "cell_type": "markdown",
   "metadata": {},
   "source": [
    "### Get list with reviews per movie"
   ]
  },
  {
   "cell_type": "code",
   "execution_count": null,
   "metadata": {
    "collapsed": true
   },
   "outputs": [],
   "source": []
  },
  {
   "cell_type": "code",
   "execution_count": null,
   "metadata": {
    "collapsed": true
   },
   "outputs": [],
   "source": []
  },
  {
   "cell_type": "code",
   "execution_count": null,
   "metadata": {
    "collapsed": true
   },
   "outputs": [],
   "source": []
  },
  {
   "cell_type": "code",
   "execution_count": null,
   "metadata": {
    "collapsed": true
   },
   "outputs": [],
   "source": []
  },
  {
   "cell_type": "code",
   "execution_count": null,
   "metadata": {
    "collapsed": true
   },
   "outputs": [],
   "source": []
  },
  {
   "cell_type": "code",
   "execution_count": 244,
   "metadata": {
    "collapsed": false
   },
   "outputs": [
    {
     "data": {
      "text/plain": [
       "False"
      ]
     },
     "execution_count": 244,
     "metadata": {},
     "output_type": "execute_result"
    }
   ],
   "source": [
    "from scrapy.selector import Selector\n",
    "import requests\n",
    "\n",
    "url5 = 'http://www.imdb.com/title/tt0111161/reviews?start=0'\n",
    "\n",
    "r = requests.get(url5)\n",
    "HTML = r.text\n",
    "countRR = Selector(text=HTML).xpath('//*[@align=\"right\"]').extract()\n",
    "\n",
    "\n",
    "tmp = countRR[0]\n",
    "\n",
    "\n",
    "names = Selector(text=HTML).xpath(\"//*[@align='right']/text()\").extract()\n",
    "\n",
    "import re\n",
    "re.findall(r'[0-9]+', names.pop()).pop().encode('ascii')\n",
    "\n",
    "# tmppp = countRR[0].encode('utf-8')\n",
    "# tmppp"
   ]
  },
  {
   "cell_type": "code",
   "execution_count": 142,
   "metadata": {
    "collapsed": false
   },
   "outputs": [
    {
     "data": {
      "text/plain": [
       "'4,110 user'"
      ]
     },
     "execution_count": 142,
     "metadata": {},
     "output_type": "execute_result"
    }
   ],
   "source": [
    "from scrapy.selector import Selector\n",
    "import requests\n",
    "\n",
    "URL2 = \"http://www.imdb.com/title/tt0111161/\"\n",
    "\n",
    "r = requests.get(URL2)\n",
    "#soup = BeautifulSoup(r.text)\n",
    "countReview = Selector(text=r.text).xpath('//*[@id=\"title-overview-widget\"]/div[3]/div[2]/div[3]/div[2]/span/a[1]/text()').extract()\n",
    "\n",
    "\n",
    "tmpp = countReview[0].encode('utf-8')\n",
    "tmpp"
   ]
  },
  {
   "cell_type": "code",
   "execution_count": null,
   "metadata": {
    "collapsed": false
   },
   "outputs": [],
   "source": [
    "import re\n",
    "\n",
    "re.findall('\\d',tmpp)"
   ]
  },
  {
   "cell_type": "code",
   "execution_count": 126,
   "metadata": {
    "collapsed": false
   },
   "outputs": [
    {
     "data": {
      "text/plain": [
       "[<td style=\"font-size: medium; font-weight: bold\">Filter:</td>,\n",
       " <td colspan=\"3\">\\n<select name=\"filter\" onchange=\"this.form.submit()\">\\n<option selected=\"\" value=\"best\">Best</option>\\n<option value=\"chrono\">Chronological</option>\\n<option value=\"prolific\">Prolific Authors</option>\\n<option value=\"love\">Loved It</option>\\n<option value=\"hate\">Hated It</option>\\n</select>\\nHide Spoilers:\\n<input name=\"spoiler\" onchange=\"this.form.submit()\" type=\"checkbox\" value=\"hide\"/>\\n<noscript>\\n<input class=\"apply click linkasbutton-secondary\" type=\"submit\" value=\"Apply\"/>\\n</noscript>\\n</td>]"
      ]
     },
     "execution_count": 126,
     "metadata": {},
     "output_type": "execute_result"
    }
   ],
   "source": [
    "URL3 = \"http://www.imdb.com/title/tt0111161/reviews?start=0\"\n",
    "\n",
    "r = requests.get(URL3)\n",
    "soup = BeautifulSoup(r.text)\n",
    "\n",
    "\n",
    "soup.select(<td align=\"right\">\n",
    "4110 reviews in total&nbsp;\n",
    "\n",
    "</td>)\n",
    "\n",
    "# x = soup.select('tr')\n",
    "\n",
    "# x[0].select('td')\n",
    "\n",
    "\n",
    "#soup.select('a.xh-highlight')\n",
    "\n",
    "\n",
    "# soup.select('#title-overview-widget > div.plot_summary_wrapper > div.titleReviewBar > div.titleReviewBarItem.titleReviewbarItemBorder >\n",
    "#             div:nth-child(2) > span > a.xh-highlight')"
   ]
  },
  {
   "cell_type": "code",
   "execution_count": 114,
   "metadata": {
    "collapsed": false
   },
   "outputs": [
    {
     "ename": "TypeError",
     "evalue": "select() got an unexpected keyword argument 'attrs'",
     "output_type": "error",
     "traceback": [
      "\u001b[0;31m---------------------------------------------------------------------------\u001b[0m",
      "\u001b[0;31mTypeError\u001b[0m                                 Traceback (most recent call last)",
      "\u001b[0;32m<ipython-input-114-c421081d0b3c>\u001b[0m in \u001b[0;36m<module>\u001b[0;34m()\u001b[0m\n\u001b[0;32m----> 1\u001b[0;31m \u001b[0msoup\u001b[0m\u001b[0;34m.\u001b[0m\u001b[0mselect\u001b[0m\u001b[0;34m(\u001b[0m\u001b[0;34m'span'\u001b[0m\u001b[0;34m,\u001b[0m \u001b[0mattrs\u001b[0m\u001b[0;34m=\u001b[0m\u001b[0;34m{\u001b[0m\u001b[0;34m'class'\u001b[0m\u001b[0;34m:\u001b[0m\u001b[0;34m'xh-highlight'\u001b[0m\u001b[0;34m}\u001b[0m\u001b[0;34m)\u001b[0m\u001b[0;34m\u001b[0m\u001b[0m\n\u001b[0m",
      "\u001b[0;31mTypeError\u001b[0m: select() got an unexpected keyword argument 'attrs'"
     ]
    }
   ],
   "source": [
    "soup.select('span', attrs={'class':'xh-highlight'})"
   ]
  },
  {
   "cell_type": "code",
   "execution_count": 99,
   "metadata": {
    "collapsed": false
   },
   "outputs": [
    {
     "ename": "TypeError",
     "evalue": "select() got an unexpected keyword argument 'attrs'",
     "output_type": "error",
     "traceback": [
      "\u001b[0;31m---------------------------------------------------------------------------\u001b[0m",
      "\u001b[0;31mTypeError\u001b[0m                                 Traceback (most recent call last)",
      "\u001b[0;32m<ipython-input-99-ac70b3bf906e>\u001b[0m in \u001b[0;36m<module>\u001b[0;34m()\u001b[0m\n\u001b[0;32m----> 1\u001b[0;31m \u001b[0mspans\u001b[0m \u001b[0;34m=\u001b[0m \u001b[0msoup\u001b[0m\u001b[0;34m.\u001b[0m\u001b[0mselect\u001b[0m\u001b[0;34m(\u001b[0m\u001b[0;34m'span'\u001b[0m\u001b[0;34m,\u001b[0m \u001b[0mattrs\u001b[0m\u001b[0;34m=\u001b[0m\u001b[0;34m{\u001b[0m\u001b[0;34m'a'\u001b[0m\u001b[0;34m:\u001b[0m\u001b[0;34m'xh-highlight'\u001b[0m\u001b[0;34m}\u001b[0m\u001b[0;34m)\u001b[0m\u001b[0;34m\u001b[0m\u001b[0m\n\u001b[0m\u001b[1;32m      2\u001b[0m \u001b[0;32mfor\u001b[0m \u001b[0mspan\u001b[0m \u001b[0;32min\u001b[0m \u001b[0mspans\u001b[0m\u001b[0;34m:\u001b[0m\u001b[0;34m\u001b[0m\u001b[0m\n\u001b[1;32m      3\u001b[0m     \u001b[0;32mprint\u001b[0m \u001b[0mspan\u001b[0m\u001b[0;34m.\u001b[0m\u001b[0mstring\u001b[0m\u001b[0;34m\u001b[0m\u001b[0m\n",
      "\u001b[0;31mTypeError\u001b[0m: select() got an unexpected keyword argument 'attrs'"
     ]
    }
   ],
   "source": [
    "spans = soup.select('span', attrs={'a':'xh-highlight'})\n",
    "for span in spans:\n",
    "    print span.string"
   ]
  },
  {
   "cell_type": "code",
   "execution_count": 91,
   "metadata": {
    "collapsed": false
   },
   "outputs": [],
   "source": [
    "z = soup.select('span')"
   ]
  },
  {
   "cell_type": "code",
   "execution_count": 92,
   "metadata": {
    "collapsed": false
   },
   "outputs": [
    {
     "data": {
      "text/plain": [
       "[<span id=\"home_img_holder\">\\n<a class=\"navbarSprite\" href=\"/?ref_=nv_home\" id=\"home_img\" title=\"Home\"></a> <span class=\"alt_logo\">\\n<a href=\"/?ref_=nv_home\" title=\"Home\">IMDb</a>\\n</span>\\n</span>,\n",
       " <span class=\"alt_logo\">\\n<a href=\"/?ref_=nv_home\" title=\"Home\">IMDb</a>\\n</span>,\n",
       " <span class=\"downArrow\"></span>,\n",
       " <span class=\"downArrow\"></span>,\n",
       " <span class=\"downArrow\"></span>,\n",
       " <span class=\"time\">5 hours ago</span>,\n",
       " <span class=\"time\">5 hours ago</span>,\n",
       " <span class=\"time\">18 hours ago</span>,\n",
       " <span class=\"downArrow\"></span>,\n",
       " <span class=\"downArrow\"></span>,\n",
       " <span class=\"ghost\">|</span>,\n",
       " <span class=\"desktop-sprite follow-facebook\"></span>,\n",
       " <span class=\"desktop-sprite follow-twitter\"></span>,\n",
       " <span class=\"desktop-sprite follow-instagram\"></span>,\n",
       " <span class=\"ghost\">|</span>,\n",
       " <span class=\"ghost\">|</span>,\n",
       " <span class=\"ghost\">|</span>,\n",
       " <span class=\"ghost\">|</span>,\n",
       " <span class=\"show_more quicklink\">\\n            MORE<span class=\"titleOverviewSprite quicklinksArrowUp\"></span>\\n</span>,\n",
       " <span class=\"titleOverviewSprite quicklinksArrowUp\"></span>,\n",
       " <span class=\"show_less quicklink\" style=\"display:none\">\\n           LESS<span class=\"titleOverviewSprite quicklinksArrowDown\"></span>\\n</span>,\n",
       " <span class=\"titleOverviewSprite quicklinksArrowDown\"></span>,\n",
       " <span class=\"titleOverviewShareButton launch-share-popover quicklink\">SHARE</span>,\n",
       " <span class=\"titlePageSprite share_facebook\"></span>,\n",
       " <span class=\"titlePageSprite share_twitter\"></span>,\n",
       " <span class=\"titlePageSprite share_email\"></span>,\n",
       " <span class=\"titlePageSprite share_checkin\"></span>,\n",
       " <span class=\"btn2_wrapper\"><a class=\"btn2 large btn2_text_on disabled checkins_action_btn\" onclick=\"\"><span class=\"btn2_glyph\">0</span><span class=\"btn2_text\">Check in</span></a></span>,\n",
       " <span class=\"btn2_glyph\">0</span>,\n",
       " <span class=\"btn2_text\">Check in</span>,\n",
       " <span class=\"beta\">Beta</span>,\n",
       " <span class=\"title\">I'm Watching This!</span>,\n",
       " <span>Check in</span>,\n",
       " <span itemprop=\"ratingValue\">9.3</span>,\n",
       " <span class=\"grey\">/</span>,\n",
       " <span class=\"grey\" itemprop=\"bestRating\">10</span>,\n",
       " <span class=\"small\" itemprop=\"ratingCount\">1,677,602</span>,\n",
       " <span itemprop=\"reviewCount\">4,110 user</span>,\n",
       " <span itemprop=\"reviewCount\">198 critic</span>,\n",
       " <span class=\"star-rating-star no-rating\"></span>,\n",
       " <span class=\"star-rating-text\">Rate This</span>,\n",
       " <span id=\"titleYear\">(<a href=\"/year/1994/?ref_=tt_ov_inf\">1994</a>)</span>,\n",
       " <span class=\"ghost\">|</span>,\n",
       " <span class=\"ghost\">|</span>,\n",
       " <span class=\"itemprop\" itemprop=\"genre\">Crime</span>,\n",
       " <span class=\"itemprop\" itemprop=\"genre\">Drama</span>,\n",
       " <span class=\"ghost\">|</span>,\n",
       " <span class=\"ghost\">|</span>,\n",
       " <span class=\"ghost\">|</span>,\n",
       " <span class=\"ab_widget\">\\n<div class=\"watchbar2 article\">\\n<div class=\"showtime full-table\">\\n<div class=\"winner-option watch-option \" data-href=\"/offsite/?pf_rd_m=A2FGELUUNOQJNL&amp;pf_rd_p=2425422342&amp;pf_rd_r=03V3HZGQYD006D69686J&amp;pf_rd_s=center-2&amp;pf_rd_t=15021&amp;pf_rd_i=tt0111161&amp;page-action=watch-aiv&amp;token=BCYoSXHn9QvtWTNkZuZBN-hxbPIKm22E647btHVq7NauLYRiAEiFGU_S15VootyuovFeQHwWR70W%0D%0A0s3mAYFCTeOErJYSvCo9b8yBcM-RS-twn8QdNDel0IyZhHXeTz_t6mGpX3gu7e0cQ6TWPByFkpu1%0D%0AXrg6jNaO24VULTu6S7HPOPjoA15UnV5gGZPY8d0EHjBE0l4SPKn2p14wRybeuTVkA5XMEdnWJpoA%0D%0AJzIMMdBynNvrtqe6URK3MO5EHU9uVUII%0D%0A&amp;ref_=tt_wbr_aiv\" data-offsite=\"1\" title=\"Watch Now\">\\n<div class=\"watch-icon winner provider amazon-instant-video\" id=\"watchbar2\">\\n</div>\\n<div class=\"info table-cell\">\\n<h2>\\n<a class=\"segment-link \" href=\"/offsite/?pf_rd_m=A2FGELUUNOQJNL&amp;pf_rd_p=2425422342&amp;pf_rd_r=03V3HZGQYD006D69686J&amp;pf_rd_s=center-2&amp;pf_rd_t=15021&amp;pf_rd_i=tt0111161&amp;page-action=watch-aiv&amp;token=BCYoSXHn9QvtWTNkZuZBN-hxbPIKm22E647btHVq7NauLYRiAEiFGU_S15VootyuovFeQHwWR70W%0D%0A0s3mAYFCTeOErJYSvCo9b8yBcM-RS-twn8QdNDel0IyZhHXeTz_t6mGpX3gu7e0cQ6TWPByFkpu1%0D%0AXrg6jNaO24VULTu6S7HPOPjoA15UnV5gGZPY8d0EHjBE0l4SPKn2p14wRybeuTVkA5XMEdnWJpoA%0D%0AJzIMMdBynNvrtqe6URK3MO5EHU9uVUII%0D%0A&amp;ref_=tt_wbr_aiv\" target=\"_blank\"> Watch Now\\n</a> </h2>\\n<p>\\n\\n            From $2.99 on\\nAmazon Video                </p>\\n</div>\\n</div>\\n<script type=\"text/javascript\">\\n        var xmlhttp = new XMLHttpRequest();\\n        xmlhttp.open(\"POST\",\"/tr/\",true);\\n        xmlhttp.setRequestHeader(\"Content-type\",\"application/x-www-form-urlencoded\");\\n        xmlhttp.send(\"ref_=tt_wbr_aiv&pt=title&spt=main&pageAction=showing-aiv&ht=actionOnly\");\\n    </script>\\n<div class=\"watch-option secondary-watch-option \" data-href=\"/offsite/?pf_rd_m=A2FGELUUNOQJNL&amp;pf_rd_p=2425422342&amp;pf_rd_r=03V3HZGQYD006D69686J&amp;pf_rd_s=center-2&amp;pf_rd_t=15021&amp;pf_rd_i=tt0111161&amp;page-action=watch-amazon&amp;token=BCYo4y9BiBba9AeL1OHcOdpq4Pbt8rTz_mvd1PtHlJuupW-Y-ByhXsKZSIQupbyNfC3tVNsMUVMk%0D%0AbAANbzIJbZuYExF1jgpPmwYoG_w9x1t2_kUFlr-2a8daVkzHE7bsqF9WDZAOFsDITzlQPmZRb1tr%0D%0AWzlh_zXCWVP6BOZ69L-VlEF8pMpyXCMuP9J2pMMRzVWiwxoZcdNHEwgqQLlawESD8XApfayR-iLz%0D%0AZhz94fg0cJNZZJYsEugqIIlNovPqSmzg%0D%0A&amp;ref_=tt_wbr_amazon\" data-optiontype=\"physical\" title=\"On Disc\">\\n<div class=\"watch-icon physical\"></div>\\n<div class=\"secondary-info\">ON\\xa0DISC</div>\\n</div>\\n</div>\\n</div>\\n</span>,\n",
       " <span itemprop=\"director\" itemscope=\"\" itemtype=\"http://schema.org/Person\">\\n<a href=\"/name/nm0001104?ref_=tt_ov_dr\" itemprop=\"url\"><span class=\"itemprop\" itemprop=\"name\">Frank Darabont</span></a> </span>,\n",
       " <span class=\"itemprop\" itemprop=\"name\">Frank Darabont</span>,\n",
       " <span itemprop=\"creator\" itemscope=\"\" itemtype=\"http://schema.org/Person\">\\n<a href=\"/name/nm0000175?ref_=tt_ov_wr\" itemprop=\"url\"><span class=\"itemprop\" itemprop=\"name\">Stephen King</span></a> (short story \"Rita Hayworth and Shawshank Redemption\"),             </span>,\n",
       " <span class=\"itemprop\" itemprop=\"name\">Stephen King</span>,\n",
       " <span itemprop=\"creator\" itemscope=\"\" itemtype=\"http://schema.org/Person\">\\n<a href=\"/name/nm0001104?ref_=tt_ov_wr\" itemprop=\"url\"><span class=\"itemprop\" itemprop=\"name\">Frank Darabont</span></a> (screenplay)            </span>,\n",
       " <span class=\"itemprop\" itemprop=\"name\">Frank Darabont</span>,\n",
       " <span itemprop=\"actors\" itemscope=\"\" itemtype=\"http://schema.org/Person\">\\n<a href=\"/name/nm0000209?ref_=tt_ov_st_sm\" itemprop=\"url\"><span class=\"itemprop\" itemprop=\"name\">Tim Robbins</span></a>,             </span>,\n",
       " <span class=\"itemprop\" itemprop=\"name\">Tim Robbins</span>,\n",
       " <span itemprop=\"actors\" itemscope=\"\" itemtype=\"http://schema.org/Person\">\\n<a href=\"/name/nm0000151?ref_=tt_ov_st_sm\" itemprop=\"url\"><span class=\"itemprop\" itemprop=\"name\">Morgan Freeman</span></a>,             </span>,\n",
       " <span class=\"itemprop\" itemprop=\"name\">Morgan Freeman</span>,\n",
       " <span itemprop=\"actors\" itemscope=\"\" itemtype=\"http://schema.org/Person\">\\n<a href=\"/name/nm0348409?ref_=tt_ov_st_sm\" itemprop=\"url\"><span class=\"itemprop\" itemprop=\"name\">Bob Gunton</span></a> </span>,\n",
       " <span class=\"itemprop\" itemprop=\"name\">Bob Gunton</span>,\n",
       " <span class=\"ghost\">|</span>,\n",
       " <span>80</span>,\n",
       " <span class=\"subText\"> \\n               From <a href=\"http://www.metacritic.com\" target=\"_blank\">metacritic.com</a>\\n</span>,\n",
       " <span class=\"subText\">\\n<a href=\"reviews?ref_=tt_ov_rt\">4,110 user</a>\\n<span class=\"ghostText\">|</span>\\n<a href=\"externalreviews?ref_=tt_ov_rt\">198 critic</a>\\n</span>,\n",
       " <span class=\"ghostText\">|</span>,\n",
       " <span class=\"subText\">\\n                    126\\n      (<span class=\"titleOverviewSprite popularityImageDown\"></span> <span class=\"popularityDown\">20</span>)\\n                </span>,\n",
       " <span class=\"titleOverviewSprite popularityImageDown\"></span>,\n",
       " <span class=\"popularityDown\">20</span>,\n",
       " <span class=\"ab_widget\">\\n<div class=\"ab_ninja\">\\n<span class=\"widget_header\"> <span class=\"oneline\"> <a href=\"/emmys/2016-nominees-in-character/rg2848299776?pf_rd_m=A2FGELUUNOQJNL&amp;pf_rd_p=2558846882&amp;pf_rd_r=03V3HZGQYD006D69686J&amp;pf_rd_s=right-3&amp;pf_rd_t=15021&amp;pf_rd_i=tt0111161&amp;ref_=tt_emy_char_hd\"> <h3>2016 Emmy Nominees In and Out of Character</h3> </a> </span> </span> <div class=\"widget_content no_inline_blurb\"> <div class=\"widget_nested\"> <div class=\"ninja_image_pack\"> <div class=\"ninja_center\"> <div class=\"ninja_image first_image last_image\" style=\"width:307px;height:auto;\"> <div style=\"width:307px;height:auto;margin:0 auto;\"> <div class=\"widget_image\"> <div class=\"image\"> <a href=\"/emmys/2016-nominees-in-character/rg2848299776?imageid=rm4190560512&amp;pf_rd_m=A2FGELUUNOQJNL&amp;pf_rd_p=2558846882&amp;pf_rd_r=03V3HZGQYD006D69686J&amp;pf_rd_s=right-3&amp;pf_rd_t=15021&amp;pf_rd_i=tt0111161&amp;ref_=tt_emy_char_i_1\"> <img class=\"pri_image\" data-src-x2=\"http://ia.media-imdb.com/images/M/MV5BMjAxMDA1NjQ4N15BMl5BanBnXkFtZTgwMjYyOTU0NzE@._UX800_CR100,40,614,460_SY230_SX307_AL_UY460_UX614_AL_.jpg\" itemprop=\"image\" src=\"http://ia.media-imdb.com/images/M/MV5BMjAxMDA1NjQ4N15BMl5BanBnXkFtZTgwMjYyOTU0NzE@._UX800_CR100,40,614,460_SY230_SX307_AL_.jpg\"/> </a> </div> </div> </div> </div> </div> </div> </div> </div> <p class=\"blurb\">Who are this year's top nominees? Visit our <a href=\"/emmys/?pf_rd_m=A2FGELUUNOQJNL&amp;pf_rd_p=2558846882&amp;pf_rd_r=03V3HZGQYD006D69686J&amp;pf_rd_s=right-3&amp;pf_rd_t=15021&amp;pf_rd_i=tt0111161&amp;ref_=tt_emy_char_lk1\">Emmys section</a> for <a href=\"/emmys/2016-nominees-in-character/rg2848299776?pf_rd_m=A2FGELUUNOQJNL&amp;pf_rd_p=2558846882&amp;pf_rd_r=03V3HZGQYD006D69686J&amp;pf_rd_s=right-3&amp;pf_rd_t=15021&amp;pf_rd_i=tt0111161&amp;ref_=tt_emy_char_lk2\">photos of the contenders</a> in and out of character.</p> <p class=\"seemore\"><a class=\"position_bottom supplemental\" href=\"/emmys/2016-nominees-in-character/rg2848299776?pf_rd_m=A2FGELUUNOQJNL&amp;pf_rd_p=2558846882&amp;pf_rd_r=03V3HZGQYD006D69686J&amp;pf_rd_s=right-3&amp;pf_rd_t=15021&amp;pf_rd_i=tt0111161&amp;ref_=tt_emy_char_sm\">View the gallery</a></p> </div>\\n</span>,\n",
       " <span class=\"widget_header\"> <span class=\"oneline\"> <a href=\"/emmys/2016-nominees-in-character/rg2848299776?pf_rd_m=A2FGELUUNOQJNL&amp;pf_rd_p=2558846882&amp;pf_rd_r=03V3HZGQYD006D69686J&amp;pf_rd_s=right-3&amp;pf_rd_t=15021&amp;pf_rd_i=tt0111161&amp;ref_=tt_emy_char_hd\"> <h3>2016 Emmy Nominees In and Out of Character</h3> </a> </span> </span>,\n",
       " <span class=\"oneline\"> <a href=\"/emmys/2016-nominees-in-character/rg2848299776?pf_rd_m=A2FGELUUNOQJNL&amp;pf_rd_p=2558846882&amp;pf_rd_r=03V3HZGQYD006D69686J&amp;pf_rd_s=right-3&amp;pf_rd_t=15021&amp;pf_rd_i=tt0111161&amp;ref_=tt_emy_char_hd\"> <h3>2016 Emmy Nominees In and Out of Character</h3> </a> </span>,\n",
       " <span itemprop=\"headline\">\\n<a href=\"/title/tt0111161/news?ref_=tt_nwr_1#ni60035395\">First Look At The Return Of \\u2018Fear The Walking Dead\\u2019 Hints At Terror To Come</a>\\n</span>,\n",
       " <span itemprop=\"datePublished\">\\n                                  12 July 2016 1:39 PM, -08:00\\n                                </span>,\n",
       " <span class=\"ghost\">|</span>,\n",
       " <span itemprop=\"provider\">\\n<a href=\"/news/ns0000139?ref_=tt_nwr_1\">Indiewire</a>\\n</span>,\n",
       " <span itemprop=\"headline\">\\n<a href=\"/title/tt0111161/news?ref_=tt_nwr_2#ni60035386\">First Look At The Return Of \\u2018Fear The Walking Dead\\u2019 Hints At Terror To Come</a>\\n</span>,\n",
       " <span itemprop=\"datePublished\">\\n                                  12 July 2016 1:39 PM, -08:00\\n                                </span>,\n",
       " <span class=\"ghost\">|</span>,\n",
       " <span itemprop=\"provider\">\\n<a href=\"/news/ns0032055?ref_=tt_nwr_2\">Indiewire Television</a>\\n</span>,\n",
       " <span itemprop=\"headline\">\\n<a href=\"/title/tt0111161/news?ref_=tt_nwr_3#ni60032344\">Revisiting the ending of The Mist</a>\\n</span>,\n",
       " <span itemprop=\"datePublished\">\\n                                  6 July 2016 10:06 AM, -08:00\\n                                </span>,\n",
       " <span class=\"ghost\">|</span>,\n",
       " <span itemprop=\"provider\">\\n<a href=\"/news/ns0002471?ref_=tt_nwr_3\">Den of Geek</a>\\n</span>,\n",
       " <span class=\"ab_widget\">\\n<div class=\"ab_message\">\\n<span class=\"widget_header\"> <h3>Related Items</h3> </span> <div class=\"widget_content inline_blurb\"> <div class=\"widget_nested\"> <div class=\"ninja_image_pack\"> <div class=\"ninja_left\"> <div class=\"ninja_image first_image last_image\" style=\"width:38px;height:auto;\"> <div style=\"width:38px;height:auto;margin:0 auto;\"> <div class=\"widget_image\"> <div class=\"image\"> <a href=\"/offsite/?pf_rd_m=A2FGELUUNOQJNL&amp;pf_rd_p=1968492142&amp;pf_rd_r=03V3HZGQYD006D69686J&amp;pf_rd_s=right-8&amp;pf_rd_t=15021&amp;pf_rd_i=tt0111161&amp;page-action=offsite-amazon&amp;token=BCYtcH4qZTU9Sy1y2G8trIHpns4Mte461tSuBwRnjHfQ8FEjicarvt2NoKC6q2o_Rjg7S0wpZawV%0D%0AUXZto-FlxzXp-SBcglEgVNZ4C_-Tax5qXEKH5n-p5BEIFhk8aZcyBQo-MHG9SzXdmKSJ8Y4fwq8v%0D%0ANwDS8JnyjnjKAFDMEv3HPsxmt2aopMyY-8WjsYpa-w6LhzseNJinsG1PUBMStRqMk0Zal_z9UXhO%0D%0ANv2Nij-kAYCCkcBYbQKkLT8JRuRKi2uBt1K1uMIjZk4n00qbJUZSpDzH6FvLcWXZOqiMd2m3MEji%0D%0A9UGcR8_bmCisjQLYUo8K%0D%0A&amp;ref_=tt_msg_i_1\"> <img alt='Search for \"The Shawshank Redemption\" on Amazon.com' class=\"pri_image\" data-src-x2=\"http://ia.media-imdb.com/images/G/01/imdb/images/widget/amazon._CB339202444_UY76_UX76_AL_.png\" itemprop=\"image\" src=\"http://ia.media-imdb.com/images/G/01/imdb/images/widget/amazon._CB339202444_.png\" title='Search for \"The Shawshank Redemption\" on Amazon.com'/> </a> </div> </div> </div> </div> </div> </div> </div> <div class=\"ninja_image ninja_image_fixed_padding widget_padding\"></div><div class=\"widget_inline_blurb\"><p class=\"blurb\">Search for \"<a href=\"/offsite/?pf_rd_m=A2FGELUUNOQJNL&amp;pf_rd_p=1968492142&amp;pf_rd_r=03V3HZGQYD006D69686J&amp;pf_rd_s=right-8&amp;pf_rd_t=15021&amp;pf_rd_i=tt0111161&amp;page-action=offsite-amazon&amp;token=BCYvoZe3pZIETrdTJiU42U1zSFDR8CuV8k2yFOQeFg5aZZzZ-xXnr8Edp0Cugattq-b1KqoOxR3b%0D%0Avcc6RWoOgF5lpkokcQFXZf6bB7OmTaHIhRlNxW4DGq4gEjkHy1ZEnU3IxIxF3jLnfH4li5FGjOSl%0D%0AllNL1fq9bvYD4nXzYipi0IhA4iIDj3INha9wHIMdE9N476UVzEDhbHFHPAvyfG2A_N0d6Ea8eR5P%0D%0ANZAQ_MVnCSyfrfgScsCM9L6V9sltZVhOYt4ARAmuJ-WD9CfXx7IYZ-lEA_J2G7Sa7WaNbQVz8R-F%0D%0AEvsmiYeygsv_vxHHzCHN%0D%0A&amp;ref_=tt_msg_ov\">The Shawshank Redemption</a>\" on <a href=\"/offsite/?pf_rd_m=A2FGELUUNOQJNL&amp;pf_rd_p=1968492142&amp;pf_rd_r=03V3HZGQYD006D69686J&amp;pf_rd_s=right-8&amp;pf_rd_t=15021&amp;pf_rd_i=tt0111161&amp;page-action=offsite-amazon&amp;token=BCYjXTe2BuYp6JTXSpdbcR5TpW24s_locKlmouQwt_Y1woeoDa9HnoStUaAxkMNxSCIboHrQor08%0D%0AhjtAeU7tRElEZe8QXs0arus5Fu4jda1bYO5G1P5MYBzCj854qyfhAZ3GcB-BzrwtuebpPCOu_-jg%0D%0A1HJDkL3RCKeNCf45c4Z4gI9xg8l1xG4Y6WOAJaZ2yEOgrYFiyMSXC5yEgL0NBikhOLdAmV2tUybR%0D%0ACJArjwIV8wtB91jHFIBTgruxrY5i_g1ZhF2OefbGnSNoMluFOvoxiGI-ULPjD-CgyirAdEs2HTUy%0D%0AE69EtNX3SKHhhJ_17W2K%0D%0A&amp;ref_=tt_msg_ov\">Amazon.com</a></p> </div> </div> </div>\\n</span>,\n",
       " <span class=\"widget_header\"> <h3>Related Items</h3> </span>,\n",
       " <span class=\"imdbRatingPlugin imdbRatingStyle1\" data-style=\"t1\" data-title=\"tt0111161\" data-user=\"\">\\n<a href=\"/title/tt0111161/?ref_=tt_plg_rt\"> <img alt=\"The Shawshank Redemption (1994) on IMDb\" src=\"http://ia.media-imdb.com/images/G/01/imdb/images/plugins/imdb_46x22-2264473254._CB271190555_.png\"/>\\n</a> <span class=\"rating\">9.3<span class=\"ofTen\">/10</span></span>\\n<img class=\"star\" src=\"http://ia.media-imdb.com/images/G/01/imdb/images/plugins/imdb_star_22x21-2889147855._CB271208103_.png\"/>\\n</span>,\n",
       " <span class=\"rating\">9.3<span class=\"ofTen\">/10</span></span>,\n",
       " <span class=\"ofTen\">/10</span>,\n",
       " <span class=\"titlePageSprite arrows show\"></span>,\n",
       " <span itemprop=\"awards\">\\n<b>\\n        Nominated for\\n        7\\n        Oscars.\\n      </b>\\n</span>,\n",
       " <span itemprop=\"awards\">\\n        Another\\n      16 wins &amp; 20 nominations.\\n    </span>,\n",
       " <span class=\"see-more inline\">\\n<a class=\"btn-full\" href=\"/title/tt0111161/awards?ref_=tt_awd\">See more awards</a>\\xa0\\xbb    </span>,\n",
       " <span class=\"video_slate\" itemscope=\"\" itemtype=\"http://schema.org/videoObject\">\\n<meta content=\"T142M0S\" itemprop=\"duration\"/>\\n<a alt=\"The Shawshank Redemption -- Academy Award\\xc2\\xae winner Tim Robbins stars in this Oscar\\xc2\\xae nominated drama about a banker who is wrongly convicted of the murder of his wife and her lover.\" class=\" \" data-context=\"amazon\" data-rid=\"03V3HZGQYD006D69686J\" data-video=\"vi3476594713\" href=\"/offsite/?page-action=watch-aiv&amp;token=BCYkCUJakhqN6GhI8ejlrZXzCAoq_czrMu_e9nVqbZy3wuNR7hpIOu4TQ1DL6flnOlJMpiP4PZoa%0D%0Afv8qQQSBdFVNzfEgZpilE0Ad-l6KR1Uv0DOblEotoDz5ym7SFc7lZ3TV6-4npDfRZRRSGoM1x__B%0D%0AWJgqwPPdAER0_Nl-8CWH1dhVkQ2o2pKXwSUjNOZ5cux2fL6XyTrRATK-7HL2y-YxiT1I-3J859xP%0D%0AXIOQwW85dcRof8CpwiITXZm-MqKdaEbXhrWDeoQ3QFKtt1JWazV_QiPPl__pAKUW4bXiqPvspAo%0D%0A&amp;ref_=tt_pv_vi_aiv_1\" itemprop=\"url\" onclick=\"window.open(this.href+'','_blank');return false;\" title=\"The Shawshank Redemption -- Academy Award\\xc2\\xae winner Tim Robbins stars in this Oscar\\xc2\\xae nominated drama about a banker who is wrongly convicted of the murder of his wife and her lover.\" widget-context=\"titleMaindetails\"><img alt=\"The Shawshank Redemption -- Academy Award\\xc2\\xae winner Tim Robbins stars in this Oscar\\xc2\\xae nominated drama about a banker who is wrongly convicted of the murder of his wife and her lover.\" class=\"loadlate hidden video\" height=\"105\" itemprop=\"image\" loadlate=\"http://ia.media-imdb.com/images/M/MV5BODU4MjU4NjIwNl5BMl5BanBnXkFtZTgwMDU2MjEyMDE@._V1_BR-65_CT-15_SP229,229,0,C,0,0,0_CR45,62,139,105_PIimdb-blackband-204-14,TopLeft,0,0_PIimdb-blackband-204-28,BottomLeft,0,1_CR0,0,139,105_PIimdb-goldbutton-big,BottomRight,-1,-1_ZAFull%2520Movie,2,76,16,137,verdenab,8,255,255,255,1_ZAat%2520Amazon%2520%25BB,2,1,14,137,verdenab,7,255,255,255,1_ZA142:00,103,1,14,36,verdenab,7,255,255,255,1_.jpg\" src=\"http://ia.media-imdb.com/images/G/01/imdb/images/nopicture/small/no-video-slate-856072904._CB271191446_.png\" title=\"The Shawshank Redemption -- Academy Award\\xc2\\xae winner Tim Robbins stars in this Oscar\\xc2\\xae nominated drama about a banker who is wrongly convicted of the murder of his wife and her lover.\" viconst=\"vi3476594713\" width=\"139\"/></a> </span>,\n",
       " <span class=\"video_slate_last\" itemscope=\"\" itemtype=\"http://schema.org/videoObject\">\\n<meta content=\"T2M11S\" itemprop=\"duration\"/>\\n<a alt=\"The Shawshank Redemption -- Two imprisoned men bond over a number of years, finding solace and eventual redemption through acts of common decency.\\r\\n\" class=\"video-colorbox\" data-context=\"imdb\" data-rid=\"03V3HZGQYD006D69686J\" data-video=\"vi3877612057\" href=\"/video/imdb/vi3877612057?ref_=tt_pv_vi_aiv_2\" itemprop=\"url\" title=\"The Shawshank Redemption -- Two imprisoned men bond over a number of years, finding solace and eventual redemption through acts of common decency.\\r\\n\" widget-context=\"titleMaindetails\"><img alt=\"The Shawshank Redemption -- Two imprisoned men bond over a number of years, finding solace and eventual redemption through acts of common decency.\\r\\n\" class=\"loadlate hidden video\" height=\"105\" itemprop=\"image\" loadlate=\"http://ia.media-imdb.com/images/M/MV5BNjQ2NDA3MDcxMF5BMl5BanBnXkFtZTgwMjE5NTU0NzE@._V1_SP229,229,0,C,0,0,0_CR45,62,139,105_PIimdb-blackband-204-14,TopLeft,0,0_PIimdb-blackband-204-28,BottomLeft,0,1_CR0,0,139,105_PIimdb-bluebutton-big,BottomRight,-1,-1_ZATrailer,2,76,16,137,verdenab,8,255,255,255,1_ZAon%2520IMDb,2,1,14,137,verdenab,7,255,255,255,1_ZA02:11,103,1,14,36,verdenab,7,255,255,255,1_.jpg\" src=\"http://ia.media-imdb.com/images/G/01/imdb/images/nopicture/small/no-video-slate-856072904._CB271191446_.png\" title=\"The Shawshank Redemption -- Two imprisoned men bond over a number of years, finding solace and eventual redemption through acts of common decency.\\r\\n\" viconst=\"vi3877612057\" width=\"139\"/></a> </span>,\n",
       " <span class=\"titlePageSprite showAllVidsAndPics\"></span>,\n",
       " <span class=\"ghost\">|</span>,\n",
       " <span class=\"ghost\">|</span>,\n",
       " <span class=\"rightcornerlink\">\\n<a href=\"/help/show_leaf?personalrecommendations&amp;ref_=tt_rec_lm\">Learn more</a>\\n</span>,\n",
       " <span class=\"rec_heading\" data-spec=\"p13nsims:tt0111161\">People who liked this also liked...\\xa0</span>,\n",
       " <span class=\"wlb_wrapper\">\\n<a class=\"rec_wlb_watchlist_btn\" data-caller-name=\"p13nsims-title\" data-size=\"medium\" data-tconst=\"tt0468569\" data-type=\"primary\"></a>\\n</span>,\n",
       " <span class=\"btn2_wrapper\">\\n<a class=\"rec_next rec_half_button btn2 medium btn2_text_on\" onclick=\"\" title=\"Show me the next title\">\\n<span class=\"btn2_glyph\">0</span>\\n<span class=\"btn2_text\">Next \\xbb</span>\\n</a>\\n</span>,\n",
       " <span class=\"btn2_glyph\">0</span>,\n",
       " <span class=\"btn2_text\">Next \\xbb</span>,\n",
       " <span class=\"nobr\">(2008)</span>,\n",
       " <span class=\"us_pg_13 titlePageSprite absmiddle\" title=\"Ratings certificate for The Dark Knight (2008)\"></span>,\n",
       " <span class=\"ghost\">|</span>,\n",
       " <span class=\"ghost\">|</span>,\n",
       " <span class=\"rating-bg\">\\xa0</span>,\n",
       " <span class=\"rating-imdb \" style=\"width: 126px\">\\xa0</span>,\n",
       " <span class=\"rating-stars\">\\n<a href=\"/register/login?why=vote&amp;ref_=tt_ov_rt\" rel=\"nofollow\" title=\"Register or login to rate this title\"><span>1</span></a>\\n<a href=\"/register/login?why=vote&amp;ref_=tt_ov_rt\" rel=\"nofollow\" title=\"Register or login to rate this title\"><span>2</span></a>\\n<a href=\"/register/login?why=vote&amp;ref_=tt_ov_rt\" rel=\"nofollow\" title=\"Register or login to rate this title\"><span>3</span></a>\\n<a href=\"/register/login?why=vote&amp;ref_=tt_ov_rt\" rel=\"nofollow\" title=\"Register or login to rate this title\"><span>4</span></a>\\n<a href=\"/register/login?why=vote&amp;ref_=tt_ov_rt\" rel=\"nofollow\" title=\"Register or login to rate this title\"><span>5</span></a>\\n<a href=\"/register/login?why=vote&amp;ref_=tt_ov_rt\" rel=\"nofollow\" title=\"Register or login to rate this title\"><span>6</span></a>\\n<a href=\"/register/login?why=vote&amp;ref_=tt_ov_rt\" rel=\"nofollow\" title=\"Register or login to rate this title\"><span>7</span></a>\\n<a href=\"/register/login?why=vote&amp;ref_=tt_ov_rt\" rel=\"nofollow\" title=\"Register or login to rate this title\"><span>8</span></a>\\n<a href=\"/register/login?why=vote&amp;ref_=tt_ov_rt\" rel=\"nofollow\" title=\"Register or login to rate this title\"><span>9</span></a>\\n<a href=\"/register/login?why=vote&amp;ref_=tt_ov_rt\" rel=\"nofollow\" title=\"Register or login to rate this title\"><span>10</span></a>\\n</span>,\n",
       " <span>1</span>,\n",
       " <span>2</span>,\n",
       " <span>3</span>,\n",
       " <span>4</span>,\n",
       " <span>5</span>,\n",
       " <span>6</span>,\n",
       " <span>7</span>,\n",
       " <span>8</span>,\n",
       " <span>9</span>,\n",
       " <span>10</span>,\n",
       " <span class=\"rating-rating \"><span class=\"value\">9</span><span class=\"grey\">/</span><span class=\"grey\">10</span></span>,\n",
       " <span class=\"value\">9</span>,\n",
       " <span class=\"grey\">/</span>,\n",
       " <span class=\"grey\">10</span>,\n",
       " <span class=\"rating-cancel \"><a href=\"/title/tt0468569/vote?v=X;k=\" rel=\"nofollow\" title=\"Delete\"><span>X</span></a></span>,\n",
       " <span>X</span>,\n",
       " <span>\\n<b>Stars:</b> \\nChristian Bale, \\nHeath Ledger, \\nAaron Eckhart</span>,\n",
       " <span class=\"wlb_wrapper\">\\n<a class=\"rec_wlb_watchlist_btn\" data-caller-name=\"p13nsims-title\" data-size=\"medium\" data-tconst=\"tt0109830\" data-type=\"primary\"></a>\\n</span>,\n",
       " <span class=\"btn2_wrapper\">\\n<a class=\"rec_next rec_half_button btn2 medium btn2_text_on\" onclick=\"\" title=\"Show me the next title\">\\n<span class=\"btn2_glyph\">0</span>\\n<span class=\"btn2_text\">Next \\xbb</span>\\n</a>\\n</span>,\n",
       " <span class=\"btn2_glyph\">0</span>,\n",
       " <span class=\"btn2_text\">Next \\xbb</span>,\n",
       " <span class=\"nobr\">(1994)</span>,\n",
       " <span class=\"us_pg_13 titlePageSprite absmiddle\" title=\"Ratings certificate for Forrest Gump (1994)\"></span>,\n",
       " <span class=\"ghost\">|</span>,\n",
       " <span class=\"rating-bg\">\\xa0</span>,\n",
       " <span class=\"rating-imdb \" style=\"width: 123.2px\">\\xa0</span>,\n",
       " <span class=\"rating-stars\">\\n<a href=\"/register/login?why=vote&amp;ref_=tt_ov_rt\" rel=\"nofollow\" title=\"Register or login to rate this title\"><span>1</span></a>\\n<a href=\"/register/login?why=vote&amp;ref_=tt_ov_rt\" rel=\"nofollow\" title=\"Register or login to rate this title\"><span>2</span></a>\\n<a href=\"/register/login?why=vote&amp;ref_=tt_ov_rt\" rel=\"nofollow\" title=\"Register or login to rate this title\"><span>3</span></a>\\n<a href=\"/register/login?why=vote&amp;ref_=tt_ov_rt\" rel=\"nofollow\" title=\"Register or login to rate this title\"><span>4</span></a>\\n<a href=\"/register/login?why=vote&amp;ref_=tt_ov_rt\" rel=\"nofollow\" title=\"Register or login to rate this title\"><span>5</span></a>\\n<a href=\"/register/login?why=vote&amp;ref_=tt_ov_rt\" rel=\"nofollow\" title=\"Register or login to rate this title\"><span>6</span></a>\\n<a href=\"/register/login?why=vote&amp;ref_=tt_ov_rt\" rel=\"nofollow\" title=\"Register or login to rate this title\"><span>7</span></a>\\n<a href=\"/register/login?why=vote&amp;ref_=tt_ov_rt\" rel=\"nofollow\" title=\"Register or login to rate this title\"><span>8</span></a>\\n<a href=\"/register/login?why=vote&amp;ref_=tt_ov_rt\" rel=\"nofollow\" title=\"Register or login to rate this title\"><span>9</span></a>\\n<a href=\"/register/login?why=vote&amp;ref_=tt_ov_rt\" rel=\"nofollow\" title=\"Register or login to rate this title\"><span>10</span></a>\\n</span>,\n",
       " <span>1</span>,\n",
       " <span>2</span>,\n",
       " <span>3</span>,\n",
       " <span>4</span>,\n",
       " <span>5</span>,\n",
       " <span>6</span>,\n",
       " <span>7</span>,\n",
       " <span>8</span>,\n",
       " <span>9</span>,\n",
       " <span>10</span>,\n",
       " <span class=\"rating-rating \"><span class=\"value\">8.8</span><span class=\"grey\">/</span><span class=\"grey\">10</span></span>,\n",
       " <span class=\"value\">8.8</span>,\n",
       " <span class=\"grey\">/</span>,\n",
       " <span class=\"grey\">10</span>,\n",
       " <span class=\"rating-cancel \"><a href=\"/title/tt0109830/vote?v=X;k=\" rel=\"nofollow\" title=\"Delete\"><span>X</span></a></span>,\n",
       " <span>X</span>,\n",
       " <span>\\n<b>Stars:</b> \\nTom Hanks, \\nRobin Wright, \\nGary Sinise</span>,\n",
       " <span class=\"wlb_wrapper\">\\n<a class=\"rec_wlb_watchlist_btn\" data-caller-name=\"p13nsims-title\" data-size=\"medium\" data-tconst=\"tt0068646\" data-type=\"primary\"></a>\\n</span>,\n",
       " <span class=\"btn2_wrapper\">\\n<a class=\"rec_next rec_half_button btn2 medium btn2_text_on\" onclick=\"\" title=\"Show me the next title\">\\n<span class=\"btn2_glyph\">0</span>\\n<span class=\"btn2_text\">Next \\xbb</span>\\n</a>\\n</span>,\n",
       " <span class=\"btn2_glyph\">0</span>,\n",
       " <span class=\"btn2_text\">Next \\xbb</span>,\n",
       " <span class=\"nobr\">(1972)</span>,\n",
       " <span class=\"us_r titlePageSprite absmiddle\" title=\"Ratings certificate for The Godfather (1972)\"></span>,\n",
       " <span class=\"ghost\">|</span>,\n",
       " <span class=\"rating-bg\">\\xa0</span>,\n",
       " <span class=\"rating-imdb \" style=\"width: 128.8px\">\\xa0</span>,\n",
       " <span class=\"rating-stars\">\\n<a href=\"/register/login?why=vote&amp;ref_=tt_ov_rt\" rel=\"nofollow\" title=\"Register or login to rate this title\"><span>1</span></a>\\n<a href=\"/register/login?why=vote&amp;ref_=tt_ov_rt\" rel=\"nofollow\" title=\"Register or login to rate this title\"><span>2</span></a>\\n<a href=\"/register/login?why=vote&amp;ref_=tt_ov_rt\" rel=\"nofollow\" title=\"Register or login to rate this title\"><span>3</span></a>\\n<a href=\"/register/login?why=vote&amp;ref_=tt_ov_rt\" rel=\"nofollow\" title=\"Register or login to rate this title\"><span>4</span></a>\\n<a href=\"/register/login?why=vote&amp;ref_=tt_ov_rt\" rel=\"nofollow\" title=\"Register or login to rate this title\"><span>5</span></a>\\n<a href=\"/register/login?why=vote&amp;ref_=tt_ov_rt\" rel=\"nofollow\" title=\"Register or login to rate this title\"><span>6</span></a>\\n<a href=\"/register/login?why=vote&amp;ref_=tt_ov_rt\" rel=\"nofollow\" title=\"Register or login to rate this title\"><span>7</span></a>\\n<a href=\"/register/login?why=vote&amp;ref_=tt_ov_rt\" rel=\"nofollow\" title=\"Register or login to rate this title\"><span>8</span></a>\\n<a href=\"/register/login?why=vote&amp;ref_=tt_ov_rt\" rel=\"nofollow\" title=\"Register or login to rate this title\"><span>9</span></a>\\n<a href=\"/register/login?why=vote&amp;ref_=tt_ov_rt\" rel=\"nofollow\" title=\"Register or login to rate this title\"><span>10</span></a>\\n</span>,\n",
       " <span>1</span>,\n",
       " <span>2</span>,\n",
       " <span>3</span>,\n",
       " <span>4</span>,\n",
       " <span>5</span>,\n",
       " <span>6</span>,\n",
       " <span>7</span>,\n",
       " <span>8</span>,\n",
       " <span>9</span>,\n",
       " <span>10</span>,\n",
       " <span class=\"rating-rating \"><span class=\"value\">9.2</span><span class=\"grey\">/</span><span class=\"grey\">10</span></span>,\n",
       " <span class=\"value\">9.2</span>,\n",
       " <span class=\"grey\">/</span>,\n",
       " <span class=\"grey\">10</span>,\n",
       " <span class=\"rating-cancel \"><a href=\"/title/tt0068646/vote?v=X;k=\" rel=\"nofollow\" title=\"Delete\"><span>X</span></a></span>,\n",
       " <span>X</span>,\n",
       " <span>\\n<b>Stars:</b> \\nMarlon Brando, \\nAl Pacino, \\nJames Caan</span>,\n",
       " <span class=\"wlb_wrapper\">\\n<a class=\"rec_wlb_watchlist_btn\" data-caller-name=\"p13nsims-title\" data-size=\"medium\" data-tconst=\"tt0137523\" data-type=\"primary\"></a>\\n</span>,\n",
       " <span class=\"btn2_wrapper\">\\n<a class=\"rec_next rec_half_button btn2 medium btn2_text_on\" onclick=\"\" title=\"Show me the next title\">\\n<span class=\"btn2_glyph\">0</span>\\n<span class=\"btn2_text\">Next \\xbb</span>\\n</a>\\n</span>,\n",
       " <span class=\"btn2_glyph\">0</span>,\n",
       " <span class=\"btn2_text\">Next \\xbb</span>,\n",
       " <span class=\"nobr\">(1999)</span>,\n",
       " <span class=\"us_r titlePageSprite absmiddle\" title=\"Ratings certificate for Fight Club (1999)\"></span>,\n",
       " <span class=\"rating-bg\">\\xa0</span>,\n",
       " <span class=\"rating-imdb \" style=\"width: 124.6px\">\\xa0</span>,\n",
       " <span class=\"rating-stars\">\\n<a href=\"/register/login?why=vote&amp;ref_=tt_ov_rt\" rel=\"nofollow\" title=\"Register or login to rate this title\"><span>1</span></a>\\n<a href=\"/register/login?why=vote&amp;ref_=tt_ov_rt\" rel=\"nofollow\" title=\"Register or login to rate this title\"><span>2</span></a>\\n<a href=\"/register/login?why=vote&amp;ref_=tt_ov_rt\" rel=\"nofollow\" title=\"Register or login to rate this title\"><span>3</span></a>\\n<a href=\"/register/login?why=vote&amp;ref_=tt_ov_rt\" rel=\"nofollow\" title=\"Register or login to rate this title\"><span>4</span></a>\\n<a href=\"/register/login?why=vote&amp;ref_=tt_ov_rt\" rel=\"nofollow\" title=\"Register or login to rate this title\"><span>5</span></a>\\n<a href=\"/register/login?why=vote&amp;ref_=tt_ov_rt\" rel=\"nofollow\" title=\"Register or login to rate this title\"><span>6</span></a>\\n<a href=\"/register/login?why=vote&amp;ref_=tt_ov_rt\" rel=\"nofollow\" title=\"Register or login to rate this title\"><span>7</span></a>\\n<a href=\"/register/login?why=vote&amp;ref_=tt_ov_rt\" rel=\"nofollow\" title=\"Register or login to rate this title\"><span>8</span></a>\\n<a href=\"/register/login?why=vote&amp;ref_=tt_ov_rt\" rel=\"nofollow\" title=\"Register or login to rate this title\"><span>9</span></a>\\n<a href=\"/register/login?why=vote&amp;ref_=tt_ov_rt\" rel=\"nofollow\" title=\"Register or login to rate this title\"><span>10</span></a>\\n</span>,\n",
       " <span>1</span>,\n",
       " <span>2</span>,\n",
       " <span>3</span>,\n",
       " <span>4</span>,\n",
       " <span>5</span>,\n",
       " <span>6</span>,\n",
       " <span>7</span>,\n",
       " <span>8</span>,\n",
       " <span>9</span>,\n",
       " <span>10</span>,\n",
       " <span class=\"rating-rating \"><span class=\"value\">8.9</span><span class=\"grey\">/</span><span class=\"grey\">10</span></span>,\n",
       " <span class=\"value\">8.9</span>,\n",
       " <span class=\"grey\">/</span>,\n",
       " <span class=\"grey\">10</span>,\n",
       " <span class=\"rating-cancel \"><a href=\"/title/tt0137523/vote?v=X;k=\" rel=\"nofollow\" title=\"Delete\"><span>X</span></a></span>,\n",
       " <span>X</span>,\n",
       " <span>\\n<b>Stars:</b> \\nBrad Pitt, \\nEdward Norton, \\nMeat Loaf</span>,\n",
       " <span class=\"wlb_wrapper\">\\n<a class=\"rec_wlb_watchlist_btn\" data-caller-name=\"p13nsims-title\" data-size=\"medium\" data-tconst=\"tt1375666\" data-type=\"primary\"></a>\\n</span>,\n",
       " <span class=\"btn2_wrapper\">\\n<a class=\"rec_next rec_half_button btn2 medium btn2_text_on\" onclick=\"\" title=\"Show me the next title\">\\n<span class=\"btn2_glyph\">0</span>\\n<span class=\"btn2_text\">Next \\xbb</span>\\n</a>\\n</span>,\n",
       " <span class=\"btn2_glyph\">0</span>,\n",
       " <span class=\"btn2_text\">Next \\xbb</span>,\n",
       " <span class=\"nobr\">(2010)</span>,\n",
       " <span class=\"us_pg_13 titlePageSprite absmiddle\" title=\"Ratings certificate for Inception (2010)\"></span>,\n",
       " <span class=\"ghost\">|</span>,\n",
       " <span class=\"ghost\">|</span>,\n",
       " <span class=\"rating-bg\">\\xa0</span>,\n",
       " <span class=\"rating-imdb \" style=\"width: 123.2px\">\\xa0</span>,\n",
       " <span class=\"rating-stars\">\\n<a href=\"/register/login?why=vote&amp;ref_=tt_ov_rt\" rel=\"nofollow\" title=\"Register or login to rate this title\"><span>1</span></a>\\n<a href=\"/register/login?why=vote&amp;ref_=tt_ov_rt\" rel=\"nofollow\" title=\"Register or login to rate this title\"><span>2</span></a>\\n<a href=\"/register/login?why=vote&amp;ref_=tt_ov_rt\" rel=\"nofollow\" title=\"Register or login to rate this title\"><span>3</span></a>\\n<a href=\"/register/login?why=vote&amp;ref_=tt_ov_rt\" rel=\"nofollow\" title=\"Register or login to rate this title\"><span>4</span></a>\\n<a href=\"/register/login?why=vote&amp;ref_=tt_ov_rt\" rel=\"nofollow\" title=\"Register or login to rate this title\"><span>5</span></a>\\n<a href=\"/register/login?why=vote&amp;ref_=tt_ov_rt\" rel=\"nofollow\" title=\"Register or login to rate this title\"><span>6</span></a>\\n<a href=\"/register/login?why=vote&amp;ref_=tt_ov_rt\" rel=\"nofollow\" title=\"Register or login to rate this title\"><span>7</span></a>\\n<a href=\"/register/login?why=vote&amp;ref_=tt_ov_rt\" rel=\"nofollow\" title=\"Register or login to rate this title\"><span>8</span></a>\\n<a href=\"/register/login?why=vote&amp;ref_=tt_ov_rt\" rel=\"nofollow\" title=\"Register or login to rate this title\"><span>9</span></a>\\n<a href=\"/register/login?why=vote&amp;ref_=tt_ov_rt\" rel=\"nofollow\" title=\"Register or login to rate this title\"><span>10</span></a>\\n</span>,\n",
       " <span>1</span>,\n",
       " <span>2</span>,\n",
       " <span>3</span>,\n",
       " <span>4</span>,\n",
       " <span>5</span>,\n",
       " <span>6</span>,\n",
       " <span>7</span>,\n",
       " <span>8</span>,\n",
       " <span>9</span>,\n",
       " <span>10</span>,\n",
       " <span class=\"rating-rating \"><span class=\"value\">8.8</span><span class=\"grey\">/</span><span class=\"grey\">10</span></span>,\n",
       " <span class=\"value\">8.8</span>,\n",
       " <span class=\"grey\">/</span>,\n",
       " <span class=\"grey\">10</span>,\n",
       " <span class=\"rating-cancel \"><a href=\"/title/tt1375666/vote?v=X;k=\" rel=\"nofollow\" title=\"Delete\"><span>X</span></a></span>,\n",
       " <span>X</span>,\n",
       " <span>\\n<b>Stars:</b> \\nLeonardo DiCaprio, \\nJoseph Gordon-Levitt, \\nEllen Page</span>,\n",
       " <span class=\"wlb_wrapper\">\\n<a class=\"rec_wlb_watchlist_btn\" data-caller-name=\"p13nsims-title\" data-size=\"medium\" data-tconst=\"tt0110912\" data-type=\"primary\"></a>\\n</span>,\n",
       " <span class=\"btn2_wrapper\">\\n<a class=\"rec_next rec_half_button btn2 medium btn2_text_on\" onclick=\"\" title=\"Show me the next title\">\\n<span class=\"btn2_glyph\">0</span>\\n<span class=\"btn2_text\">Next \\xbb</span>\\n</a>\\n</span>,\n",
       " <span class=\"btn2_glyph\">0</span>,\n",
       " <span class=\"btn2_text\">Next \\xbb</span>,\n",
       " <span class=\"nobr\">(1994)</span>,\n",
       " <span class=\"us_r titlePageSprite absmiddle\" title=\"Ratings certificate for Pulp Fiction (1994)\"></span>,\n",
       " <span class=\"ghost\">|</span>,\n",
       " <span class=\"rating-bg\">\\xa0</span>,\n",
       " <span class=\"rating-imdb \" style=\"width: 124.6px\">\\xa0</span>,\n",
       " <span class=\"rating-stars\">\\n<a href=\"/register/login?why=vote&amp;ref_=tt_ov_rt\" rel=\"nofollow\" title=\"Register or login to rate this title\"><span>1</span></a>\\n<a href=\"/register/login?why=vote&amp;ref_=tt_ov_rt\" rel=\"nofollow\" title=\"Register or login to rate this title\"><span>2</span></a>\\n<a href=\"/register/login?why=vote&amp;ref_=tt_ov_rt\" rel=\"nofollow\" title=\"Register or login to rate this title\"><span>3</span></a>\\n<a href=\"/register/login?why=vote&amp;ref_=tt_ov_rt\" rel=\"nofollow\" title=\"Register or login to rate this title\"><span>4</span></a>\\n<a href=\"/register/login?why=vote&amp;ref_=tt_ov_rt\" rel=\"nofollow\" title=\"Register or login to rate this title\"><span>5</span></a>\\n<a href=\"/register/login?why=vote&amp;ref_=tt_ov_rt\" rel=\"nofollow\" title=\"Register or login to rate this title\"><span>6</span></a>\\n<a href=\"/register/login?why=vote&amp;ref_=tt_ov_rt\" rel=\"nofollow\" title=\"Register or login to rate this title\"><span>7</span></a>\\n<a href=\"/register/login?why=vote&amp;ref_=tt_ov_rt\" rel=\"nofollow\" title=\"Register or login to rate this title\"><span>8</span></a>\\n<a href=\"/register/login?why=vote&amp;ref_=tt_ov_rt\" rel=\"nofollow\" title=\"Register or login to rate this title\"><span>9</span></a>\\n<a href=\"/register/login?why=vote&amp;ref_=tt_ov_rt\" rel=\"nofollow\" title=\"Register or login to rate this title\"><span>10</span></a>\\n</span>,\n",
       " <span>1</span>,\n",
       " <span>2</span>,\n",
       " <span>3</span>,\n",
       " <span>4</span>,\n",
       " <span>5</span>,\n",
       " <span>6</span>,\n",
       " <span>7</span>,\n",
       " <span>8</span>,\n",
       " <span>9</span>,\n",
       " <span>10</span>,\n",
       " <span class=\"rating-rating \"><span class=\"value\">8.9</span><span class=\"grey\">/</span><span class=\"grey\">10</span></span>,\n",
       " <span class=\"value\">8.9</span>,\n",
       " <span class=\"grey\">/</span>,\n",
       " <span class=\"grey\">10</span>,\n",
       " <span class=\"rating-cancel \"><a href=\"/title/tt0110912/vote?v=X;k=\" rel=\"nofollow\" title=\"Delete\"><span>X</span></a></span>,\n",
       " <span>X</span>,\n",
       " <span>\\n<b>Stars:</b> \\nJohn Travolta, \\nUma Thurman, \\nSamuel L. Jackson</span>,\n",
       " <span class=\"wlb_wrapper\">\\n<a class=\"rec_wlb_watchlist_btn\" data-caller-name=\"p13nsims-title\" data-size=\"medium\" data-tconst=\"tt0120689\" data-type=\"primary\"></a>\\n</span>,\n",
       " <span class=\"btn2_wrapper\">\\n<a class=\"rec_next rec_half_button btn2 medium btn2_text_on\" onclick=\"\" title=\"Show me the next title\">\\n<span class=\"btn2_glyph\">0</span>\\n<span class=\"btn2_text\">Next \\xbb</span>\\n</a>\\n</span>,\n",
       " <span class=\"btn2_glyph\">0</span>,\n",
       " <span class=\"btn2_text\">Next \\xbb</span>,\n",
       " <span class=\"nobr\">(1999)</span>,\n",
       " <span class=\"us_r titlePageSprite absmiddle\" title=\"Ratings certificate for The Green Mile (1999)\"></span>,\n",
       " <span class=\"ghost\">|</span>,\n",
       " <span class=\"ghost\">|</span>,\n",
       " <span class=\"rating-bg\">\\xa0</span>,\n",
       " <span class=\"rating-imdb \" style=\"width: 119px\">\\xa0</span>,\n",
       " <span class=\"rating-stars\">\\n<a href=\"/register/login?why=vote&amp;ref_=tt_ov_rt\" rel=\"nofollow\" title=\"Register or login to rate this title\"><span>1</span></a>\\n<a href=\"/register/login?why=vote&amp;ref_=tt_ov_rt\" rel=\"nofollow\" title=\"Register or login to rate this title\"><span>2</span></a>\\n<a href=\"/register/login?why=vote&amp;ref_=tt_ov_rt\" rel=\"nofollow\" title=\"Register or login to rate this title\"><span>3</span></a>\\n<a href=\"/register/login?why=vote&amp;ref_=tt_ov_rt\" rel=\"nofollow\" title=\"Register or login to rate this title\"><span>4</span></a>\\n<a href=\"/register/login?why=vote&amp;ref_=tt_ov_rt\" rel=\"nofollow\" title=\"Register or login to rate this title\"><span>5</span></a>\\n<a href=\"/register/login?why=vote&amp;ref_=tt_ov_rt\" rel=\"nofollow\" title=\"Register or login to rate this title\"><span>6</span></a>\\n<a href=\"/register/login?why=vote&amp;ref_=tt_ov_rt\" rel=\"nofollow\" title=\"Register or login to rate this title\"><span>7</span></a>\\n<a href=\"/register/login?why=vote&amp;ref_=tt_ov_rt\" rel=\"nofollow\" title=\"Register or login to rate this title\"><span>8</span></a>\\n<a href=\"/register/login?why=vote&amp;ref_=tt_ov_rt\" rel=\"nofollow\" title=\"Register or login to rate this title\"><span>9</span></a>\\n<a href=\"/register/login?why=vote&amp;ref_=tt_ov_rt\" rel=\"nofollow\" title=\"Register or login to rate this title\"><span>10</span></a>\\n</span>,\n",
       " <span>1</span>,\n",
       " <span>2</span>,\n",
       " <span>3</span>,\n",
       " <span>4</span>,\n",
       " <span>5</span>,\n",
       " <span>6</span>,\n",
       " <span>7</span>,\n",
       " <span>8</span>,\n",
       " <span>9</span>,\n",
       " <span>10</span>,\n",
       " <span class=\"rating-rating \"><span class=\"value\">8.5</span><span class=\"grey\">/</span><span class=\"grey\">10</span></span>,\n",
       " <span class=\"value\">8.5</span>,\n",
       " <span class=\"grey\">/</span>,\n",
       " <span class=\"grey\">10</span>,\n",
       " <span class=\"rating-cancel \"><a href=\"/title/tt0120689/vote?v=X;k=\" rel=\"nofollow\" title=\"Delete\"><span>X</span></a></span>,\n",
       " <span>X</span>,\n",
       " <span>\\n<b>Stars:</b> \\nTom Hanks, \\nMichael Clarke Duncan, \\nDavid Morse</span>,\n",
       " <span class=\"wlb_wrapper\">\\n<a class=\"rec_wlb_watchlist_btn\" data-caller-name=\"p13nsims-title\" data-size=\"medium\" data-tconst=\"tt0114369\" data-type=\"primary\"></a>\\n</span>,\n",
       " <span class=\"btn2_wrapper\">\\n<a class=\"rec_next rec_half_button btn2 medium btn2_text_on\" onclick=\"\" title=\"Show me the next title\">\\n<span class=\"btn2_glyph\">0</span>\\n<span class=\"btn2_text\">Next \\xbb</span>\\n</a>\\n</span>,\n",
       " <span class=\"btn2_glyph\">0</span>,\n",
       " <span class=\"btn2_text\">Next \\xbb</span>,\n",
       " <span class=\"nobr\">(1995)</span>,\n",
       " <span class=\"us_r titlePageSprite absmiddle\" title=\"Ratings certificate for Se7en (1995)\"></span>,\n",
       " <span class=\"ghost\">|</span>,\n",
       " <span class=\"ghost\">|</span>,\n",
       " <span class=\"rating-bg\">\\xa0</span>,\n",
       " <span class=\"rating-imdb \" style=\"width: 120.4px\">\\xa0</span>,\n",
       " <span class=\"rating-stars\">\\n<a href=\"/register/login?why=vote&amp;ref_=tt_ov_rt\" rel=\"nofollow\" title=\"Register or login to rate this title\"><span>1</span></a>\\n<a href=\"/register/login?why=vote&amp;ref_=tt_ov_rt\" rel=\"nofollow\" title=\"Register or login to rate this title\"><span>2</span></a>\\n<a href=\"/register/login?why=vote&amp;ref_=tt_ov_rt\" rel=\"nofollow\" title=\"Register or login to rate this title\"><span>3</span></a>\\n<a href=\"/register/login?why=vote&amp;ref_=tt_ov_rt\" rel=\"nofollow\" title=\"Register or login to rate this title\"><span>4</span></a>\\n<a href=\"/register/login?why=vote&amp;ref_=tt_ov_rt\" rel=\"nofollow\" title=\"Register or login to rate this title\"><span>5</span></a>\\n<a href=\"/register/login?why=vote&amp;ref_=tt_ov_rt\" rel=\"nofollow\" title=\"Register or login to rate this title\"><span>6</span></a>\\n<a href=\"/register/login?why=vote&amp;ref_=tt_ov_rt\" rel=\"nofollow\" title=\"Register or login to rate this title\"><span>7</span></a>\\n<a href=\"/register/login?why=vote&amp;ref_=tt_ov_rt\" rel=\"nofollow\" title=\"Register or login to rate this title\"><span>8</span></a>\\n<a href=\"/register/login?why=vote&amp;ref_=tt_ov_rt\" rel=\"nofollow\" title=\"Register or login to rate this title\"><span>9</span></a>\\n<a href=\"/register/login?why=vote&amp;ref_=tt_ov_rt\" rel=\"nofollow\" title=\"Register or login to rate this title\"><span>10</span></a>\\n</span>,\n",
       " <span>1</span>,\n",
       " <span>2</span>,\n",
       " <span>3</span>,\n",
       " <span>4</span>,\n",
       " <span>5</span>,\n",
       " <span>6</span>,\n",
       " <span>7</span>,\n",
       " <span>8</span>,\n",
       " <span>9</span>,\n",
       " <span>10</span>,\n",
       " <span class=\"rating-rating \"><span class=\"value\">8.6</span><span class=\"grey\">/</span><span class=\"grey\">10</span></span>,\n",
       " <span class=\"value\">8.6</span>,\n",
       " <span class=\"grey\">/</span>,\n",
       " <span class=\"grey\">10</span>,\n",
       " <span class=\"rating-cancel \"><a href=\"/title/tt0114369/vote?v=X;k=\" rel=\"nofollow\" title=\"Delete\"><span>X</span></a></span>,\n",
       " <span>X</span>,\n",
       " <span>\\n<b>Stars:</b> \\nMorgan Freeman, \\nBrad Pitt, \\nKevin Spacey</span>,\n",
       " <span class=\"wlb_wrapper\">\\n<a class=\"rec_wlb_watchlist_btn\" data-caller-name=\"p13nsims-title\" data-size=\"medium\" data-tconst=\"tt0167260\" data-type=\"primary\"></a>\\n</span>,\n",
       " <span class=\"btn2_wrapper\">\\n<a class=\"rec_next rec_half_button btn2 medium btn2_text_on\" onclick=\"\" title=\"Show me the next title\">\\n<span class=\"btn2_glyph\">0</span>\\n<span class=\"btn2_text\">Next \\xbb</span>\\n</a>\\n</span>,\n",
       " <span class=\"btn2_glyph\">0</span>,\n",
       " <span class=\"btn2_text\">Next \\xbb</span>,\n",
       " <span class=\"nobr\">(2003)</span>,\n",
       " <span class=\"us_pg_13 titlePageSprite absmiddle\" title=\"Ratings certificate for The Lord of the Rings: The Return of the King (2003)\"></span>,\n",
       " <span class=\"ghost\">|</span>,\n",
       " <span class=\"ghost\">|</span>,\n",
       " <span class=\"rating-bg\">\\xa0</span>,\n",
       " <span class=\"rating-imdb \" style=\"width: 124.6px\">\\xa0</span>,\n",
       " <span class=\"rating-stars\">\\n<a href=\"/register/login?why=vote&amp;ref_=tt_ov_rt\" rel=\"nofollow\" title=\"Register or login to rate this title\"><span>1</span></a>\\n<a href=\"/register/login?why=vote&amp;ref_=tt_ov_rt\" rel=\"nofollow\" title=\"Register or login to rate this title\"><span>2</span></a>\\n<a href=\"/register/login?why=vote&amp;ref_=tt_ov_rt\" rel=\"nofollow\" title=\"Register or login to rate this title\"><span>3</span></a>\\n<a href=\"/register/login?why=vote&amp;ref_=tt_ov_rt\" rel=\"nofollow\" title=\"Register or login to rate this title\"><span>4</span></a>\\n<a href=\"/register/login?why=vote&amp;ref_=tt_ov_rt\" rel=\"nofollow\" title=\"Register or login to rate this title\"><span>5</span></a>\\n<a href=\"/register/login?why=vote&amp;ref_=tt_ov_rt\" rel=\"nofollow\" title=\"Register or login to rate this title\"><span>6</span></a>\\n<a href=\"/register/login?why=vote&amp;ref_=tt_ov_rt\" rel=\"nofollow\" title=\"Register or login to rate this title\"><span>7</span></a>\\n<a href=\"/register/login?why=vote&amp;ref_=tt_ov_rt\" rel=\"nofollow\" title=\"Register or login to rate this title\"><span>8</span></a>\\n<a href=\"/register/login?why=vote&amp;ref_=tt_ov_rt\" rel=\"nofollow\" title=\"Register or login to rate this title\"><span>9</span></a>\\n<a href=\"/register/login?why=vote&amp;ref_=tt_ov_rt\" rel=\"nofollow\" title=\"Register or login to rate this title\"><span>10</span></a>\\n</span>,\n",
       " <span>1</span>,\n",
       " <span>2</span>,\n",
       " <span>3</span>,\n",
       " <span>4</span>,\n",
       " <span>5</span>,\n",
       " <span>6</span>,\n",
       " <span>7</span>,\n",
       " <span>8</span>,\n",
       " <span>9</span>,\n",
       " <span>10</span>,\n",
       " <span class=\"rating-rating \"><span class=\"value\">8.9</span><span class=\"grey\">/</span><span class=\"grey\">10</span></span>,\n",
       " <span class=\"value\">8.9</span>,\n",
       " <span class=\"grey\">/</span>,\n",
       " <span class=\"grey\">10</span>,\n",
       " <span class=\"rating-cancel \"><a href=\"/title/tt0167260/vote?v=X;k=\" rel=\"nofollow\" title=\"Delete\"><span>X</span></a></span>,\n",
       " <span>X</span>,\n",
       " <span>\\n<b>Stars:</b> \\nElijah Wood, \\nViggo Mortensen, \\nIan McKellen</span>,\n",
       " <span class=\"wlb_wrapper\">\\n<a class=\"rec_wlb_watchlist_btn\" data-caller-name=\"p13nsims-title\" data-size=\"medium\" data-tconst=\"tt0133093\" data-type=\"primary\"></a>\\n</span>,\n",
       " <span class=\"btn2_wrapper\">\\n<a class=\"rec_next rec_half_button btn2 medium btn2_text_on\" onclick=\"\" title=\"Show me the next title\">\\n<span class=\"btn2_glyph\">0</span>\\n<span class=\"btn2_text\">Next \\xbb</span>\\n</a>\\n</span>,\n",
       " <span class=\"btn2_glyph\">0</span>,\n",
       " <span class=\"btn2_text\">Next \\xbb</span>,\n",
       " <span class=\"nobr\">(1999)</span>,\n",
       " <span class=\"us_r titlePageSprite absmiddle\" title=\"Ratings certificate for The Matrix (1999)\"></span>,\n",
       " <span class=\"ghost\">|</span>,\n",
       " <span class=\"rating-bg\">\\xa0</span>,\n",
       " <span class=\"rating-imdb \" style=\"width: 121.8px\">\\xa0</span>,\n",
       " <span class=\"rating-stars\">\\n<a href=\"/register/login?why=vote&amp;ref_=tt_ov_rt\" rel=\"nofollow\" title=\"Register or login to rate this title\"><span>1</span></a>\\n<a href=\"/register/login?why=vote&amp;ref_=tt_ov_rt\" rel=\"nofollow\" title=\"Register or login to rate this title\"><span>2</span></a>\\n<a href=\"/register/login?why=vote&amp;ref_=tt_ov_rt\" rel=\"nofollow\" title=\"Register or login to rate this title\"><span>3</span></a>\\n<a href=\"/register/login?why=vote&amp;ref_=tt_ov_rt\" rel=\"nofollow\" title=\"Register or login to rate this title\"><span>4</span></a>\\n<a href=\"/register/login?why=vote&amp;ref_=tt_ov_rt\" rel=\"nofollow\" title=\"Register or login to rate this title\"><span>5</span></a>\\n<a href=\"/register/login?why=vote&amp;ref_=tt_ov_rt\" rel=\"nofollow\" title=\"Register or login to rate this title\"><span>6</span></a>\\n<a href=\"/register/login?why=vote&amp;ref_=tt_ov_rt\" rel=\"nofollow\" title=\"Register or login to rate this title\"><span>7</span></a>\\n<a href=\"/register/login?why=vote&amp;ref_=tt_ov_rt\" rel=\"nofollow\" title=\"Register or login to rate this title\"><span>8</span></a>\\n<a href=\"/register/login?why=vote&amp;ref_=tt_ov_rt\" rel=\"nofollow\" title=\"Register or login to rate this title\"><span>9</span></a>\\n<a href=\"/register/login?why=vote&amp;ref_=tt_ov_rt\" rel=\"nofollow\" title=\"Register or login to rate this title\"><span>10</span></a>\\n</span>,\n",
       " <span>1</span>,\n",
       " <span>2</span>,\n",
       " <span>3</span>,\n",
       " <span>4</span>,\n",
       " <span>5</span>,\n",
       " <span>6</span>,\n",
       " <span>7</span>,\n",
       " <span>8</span>,\n",
       " <span>9</span>,\n",
       " <span>10</span>,\n",
       " <span class=\"rating-rating \"><span class=\"value\">8.7</span><span class=\"grey\">/</span><span class=\"grey\">10</span></span>,\n",
       " <span class=\"value\">8.7</span>,\n",
       " <span class=\"grey\">/</span>,\n",
       " <span class=\"grey\">10</span>,\n",
       " <span class=\"rating-cancel \"><a href=\"/title/tt0133093/vote?v=X;k=\" rel=\"nofollow\" title=\"Delete\"><span>X</span></a></span>,\n",
       " <span>X</span>,\n",
       " <span>\\n<b>Stars:</b> \\nKeanu Reeves, \\nLaurence Fishburne, \\nCarrie-Anne Moss</span>,\n",
       " <span class=\"wlb_wrapper\">\\n<a class=\"rec_wlb_watchlist_btn\" data-caller-name=\"p13nsims-title\" data-size=\"medium\" data-tconst=\"tt0071562\" data-type=\"primary\"></a>\\n</span>,\n",
       " <span class=\"btn2_wrapper\">\\n<a class=\"rec_next rec_half_button btn2 medium btn2_text_on\" onclick=\"\" title=\"Show me the next title\">\\n<span class=\"btn2_glyph\">0</span>\\n<span class=\"btn2_text\">Next \\xbb</span>\\n</a>\\n</span>,\n",
       " <span class=\"btn2_glyph\">0</span>,\n",
       " <span class=\"btn2_text\">Next \\xbb</span>,\n",
       " <span class=\"nobr\">(1974)</span>,\n",
       " <span class=\"us_r titlePageSprite absmiddle\" title=\"Ratings certificate for The Godfather: Part II (1974)\"></span>,\n",
       " <span class=\"ghost\">|</span>,\n",
       " <span class=\"rating-bg\">\\xa0</span>,\n",
       " <span class=\"rating-imdb \" style=\"width: 126px\">\\xa0</span>,\n",
       " <span class=\"rating-stars\">\\n<a href=\"/register/login?why=vote&amp;ref_=tt_ov_rt\" rel=\"nofollow\" title=\"Register or login to rate this title\"><span>1</span></a>\\n<a href=\"/register/login?why=vote&amp;ref_=tt_ov_rt\" rel=\"nofollow\" title=\"Register or login to rate this title\"><span>2</span></a>\\n<a href=\"/register/login?why=vote&amp;ref_=tt_ov_rt\" rel=\"nofollow\" title=\"Register or login to rate this title\"><span>3</span></a>\\n<a href=\"/register/login?why=vote&amp;ref_=tt_ov_rt\" rel=\"nofollow\" title=\"Register or login to rate this title\"><span>4</span></a>\\n<a href=\"/register/login?why=vote&amp;ref_=tt_ov_rt\" rel=\"nofollow\" title=\"Register or login to rate this title\"><span>5</span></a>\\n<a href=\"/register/login?why=vote&amp;ref_=tt_ov_rt\" rel=\"nofollow\" title=\"Register or login to rate this title\"><span>6</span></a>\\n<a href=\"/register/login?why=vote&amp;ref_=tt_ov_rt\" rel=\"nofollow\" title=\"Register or login to rate this title\"><span>7</span></a>\\n<a href=\"/register/login?why=vote&amp;ref_=tt_ov_rt\" rel=\"nofollow\" title=\"Register or login to rate this title\"><span>8</span></a>\\n<a href=\"/register/login?why=vote&amp;ref_=tt_ov_rt\" rel=\"nofollow\" title=\"Register or login to rate this title\"><span>9</span></a>\\n<a href=\"/register/login?why=vote&amp;ref_=tt_ov_rt\" rel=\"nofollow\" title=\"Register or login to rate this title\"><span>10</span></a>\\n</span>,\n",
       " <span>1</span>,\n",
       " <span>2</span>,\n",
       " <span>3</span>,\n",
       " <span>4</span>,\n",
       " <span>5</span>,\n",
       " <span>6</span>,\n",
       " <span>7</span>,\n",
       " <span>8</span>,\n",
       " <span>9</span>,\n",
       " <span>10</span>,\n",
       " <span class=\"rating-rating \"><span class=\"value\">9</span><span class=\"grey\">/</span><span class=\"grey\">10</span></span>,\n",
       " <span class=\"value\">9</span>,\n",
       " <span class=\"grey\">/</span>,\n",
       " <span class=\"grey\">10</span>,\n",
       " <span class=\"rating-cancel \"><a href=\"/title/tt0071562/vote?v=X;k=\" rel=\"nofollow\" title=\"Delete\"><span>X</span></a></span>,\n",
       " <span>X</span>,\n",
       " <span>\\n<b>Stars:</b> \\nAl Pacino, \\nRobert De Niro, \\nRobert Duvall</span>,\n",
       " <span class=\"wlb_wrapper\">\\n<a class=\"rec_wlb_watchlist_btn\" data-caller-name=\"p13nsims-title\" data-size=\"medium\" data-tconst=\"tt0108052\" data-type=\"primary\"></a>\\n</span>,\n",
       " <span class=\"btn2_wrapper\">\\n<a class=\"rec_next rec_half_button btn2 medium btn2_text_on\" onclick=\"\" title=\"Show me the next title\">\\n<span class=\"btn2_glyph\">0</span>\\n<span class=\"btn2_text\">Next \\xbb</span>\\n</a>\\n</span>,\n",
       " <span class=\"btn2_glyph\">0</span>,\n",
       " <span class=\"btn2_text\">Next \\xbb</span>,\n",
       " <span class=\"nobr\">(1993)</span>,\n",
       " <span class=\"us_r titlePageSprite absmiddle\" title=\"Ratings certificate for Schindler's List (1993)\"></span>,\n",
       " <span class=\"ghost\">|</span>,\n",
       " <span class=\"ghost\">|</span>,\n",
       " <span class=\"rating-bg\">\\xa0</span>,\n",
       " <span class=\"rating-imdb \" style=\"width: 124.6px\">\\xa0</span>,\n",
       " <span class=\"rating-stars\">\\n<a href=\"/register/login?why=vote&amp;ref_=tt_ov_rt\" rel=\"nofollow\" title=\"Register or login to rate this title\"><span>1</span></a>\\n<a href=\"/register/login?why=vote&amp;ref_=tt_ov_rt\" rel=\"nofollow\" title=\"Register or login to rate this title\"><span>2</span></a>\\n<a href=\"/register/login?why=vote&amp;ref_=tt_ov_rt\" rel=\"nofollow\" title=\"Register or login to rate this title\"><span>3</span></a>\\n<a href=\"/register/login?why=vote&amp;ref_=tt_ov_rt\" rel=\"nofollow\" title=\"Register or login to rate this title\"><span>4</span></a>\\n<a href=\"/register/login?why=vote&amp;ref_=tt_ov_rt\" rel=\"nofollow\" title=\"Register or login to rate this title\"><span>5</span></a>\\n<a href=\"/register/login?why=vote&amp;ref_=tt_ov_rt\" rel=\"nofollow\" title=\"Register or login to rate this title\"><span>6</span></a>\\n<a href=\"/register/login?why=vote&amp;ref_=tt_ov_rt\" rel=\"nofollow\" title=\"Register or login to rate this title\"><span>7</span></a>\\n<a href=\"/register/login?why=vote&amp;ref_=tt_ov_rt\" rel=\"nofollow\" title=\"Register or login to rate this title\"><span>8</span></a>\\n<a href=\"/register/login?why=vote&amp;ref_=tt_ov_rt\" rel=\"nofollow\" title=\"Register or login to rate this title\"><span>9</span></a>\\n<a href=\"/register/login?why=vote&amp;ref_=tt_ov_rt\" rel=\"nofollow\" title=\"Register or login to rate this title\"><span>10</span></a>\\n</span>,\n",
       " <span>1</span>,\n",
       " <span>2</span>,\n",
       " <span>3</span>,\n",
       " <span>4</span>,\n",
       " <span>5</span>,\n",
       " <span>6</span>,\n",
       " <span>7</span>,\n",
       " <span>8</span>,\n",
       " <span>9</span>,\n",
       " <span>10</span>,\n",
       " <span class=\"rating-rating \"><span class=\"value\">8.9</span><span class=\"grey\">/</span><span class=\"grey\">10</span></span>,\n",
       " <span class=\"value\">8.9</span>,\n",
       " <span class=\"grey\">/</span>,\n",
       " <span class=\"grey\">10</span>,\n",
       " <span class=\"rating-cancel \"><a href=\"/title/tt0108052/vote?v=X;k=\" rel=\"nofollow\" title=\"Delete\"><span>X</span></a></span>,\n",
       " <span>X</span>,\n",
       " <span>\\n<b>Stars:</b> \\nLiam Neeson, \\nRalph Fiennes, \\nBen Kingsley</span>,\n",
       " <span class=\"rightcornerlink\">\\n<a href=\"/register/login?why=edit&amp;ref_=tt_cl\" rel=\"login\">Edit</a>\\n</span>,\n",
       " <span class=\"itemprop\" itemprop=\"name\">Tim Robbins</span>,\n",
       " <span class=\"itemprop\" itemprop=\"name\">Morgan Freeman</span>,\n",
       " <span class=\"itemprop\" itemprop=\"name\">Bob Gunton</span>,\n",
       " <span class=\"itemprop\" itemprop=\"name\">William Sadler</span>,\n",
       " <span class=\"itemprop\" itemprop=\"name\">Clancy Brown</span>,\n",
       " <span class=\"itemprop\" itemprop=\"name\">Gil Bellows</span>,\n",
       " <span class=\"itemprop\" itemprop=\"name\">Mark Rolston</span>,\n",
       " <span class=\"itemprop\" itemprop=\"name\">James Whitmore</span>,\n",
       " <span class=\"itemprop\" itemprop=\"name\">Jeffrey DeMunn</span>,\n",
       " <span class=\"itemprop\" itemprop=\"name\">Larry Brandenburg</span>,\n",
       " <span class=\"itemprop\" itemprop=\"name\">Neil Giuntoli</span>,\n",
       " <span class=\"itemprop\" itemprop=\"name\">Brian Libby</span>,\n",
       " <span class=\"itemprop\" itemprop=\"name\">David Proval</span>,\n",
       " <span class=\"itemprop\" itemprop=\"name\">Joseph Ragno</span>,\n",
       " <span class=\"itemprop\" itemprop=\"name\">Jude Ciccolella</span>,\n",
       " <span class=\"rightcornerlink\">\\n<a href=\"/register/login?why=edit&amp;ref_=tt_stry\" rel=\"login\">Edit</a>\\n</span>,\n",
       " <span class=\"see-more inline\">\\n<a href=\"/title/tt0111161/plotsummary?ref_=tt_stry_pl\">Plot Summary</a>\\n<span>|</span>\\n<a href=\"/title/tt0111161/synopsis?ref_=tt_stry_pl\">Plot Synopsis</a>\\n</span>,\n",
       " <span>|</span>,\n",
       " <span class=\"itemprop\" itemprop=\"keywords\">prison</span>,\n",
       " <span>|</span>,\n",
       " <span class=\"itemprop\" itemprop=\"keywords\">escape from prison</span>,\n",
       " <span>|</span>,\n",
       " <span class=\"itemprop\" itemprop=\"keywords\">wrongful imprisonment</span>,\n",
       " <span>|</span>,\n",
       " <span class=\"itemprop\" itemprop=\"keywords\">prison cell search</span>,\n",
       " <span>|</span>,\n",
       " <span class=\"itemprop\" itemprop=\"keywords\">first person narration</span>,\n",
       " <span>|</span>,\n",
       " <span>|</span>,\n",
       " <span itemprop=\"contentRating\">Rated R for language and prison violence</span>,\n",
       " <span class=\"ghost\">|</span>,\n",
       " <span class=\"see-more inline\">\\n<a href=\"/title/tt0111161/parentalguide?ref_=tt_stry_pg#certification\"> See all certifications</a>\\xa0\\xbb\\n            </span>,\n",
       " <span class=\"see-more inline\" itemprop=\"audience\" itemscope=\"\" itemtype=\"http://schema.org/Audience\">\\n<a href=\"/title/tt0111161/parentalguide?ref_=tt_stry_pg\" itemprop=\"url\"> View content advisory</a>\\xa0\\xbb\\n        </span>,\n",
       " <span class=\"rightcornerlink\">\\n<a href=\"/register/login?why=edit&amp;ref_=tt_dt_dt\" rel=\"login\">Edit</a>\\n</span>,\n",
       " <span class=\"see-more inline\">\\n</span>,\n",
       " <span class=\"see-more inline\">\\n<a href=\"releaseinfo?ref_=tt_dt_dt\" itemprop=\"url\">See more</a>\\xa0\\xbb\\n    </span>,\n",
       " <span class=\"see-more inline\">\\n<a href=\"releaseinfo?ref_=tt_dt_dt#akas\" itemprop=\"url\">See more</a>\\xa0\\xbb\\n      </span>,\n",
       " <span class=\"see-more inline\">\\n<a href=\"locations?ref_=tt_dt_dt\" itemprop=\"url\">See more</a>\\xa0\\xbb\\n      </span>,\n",
       " <span class=\"attribute\">(estimated)</span>,\n",
       " <span class=\"attribute\">(USA)</span>,\n",
       " <span class=\"see-more inline\">\\n<a href=\"business?ref_=tt_dt_bus\" itemprop=\"url\">See more</a>\\xa0\\xbb\\n  </span>,\n",
       " <span itemprop=\"creator\" itemscope=\"\" itemtype=\"http://schema.org/Organization\">\\n<a href=\"/company/co0040620?ref_=tt_dt_co\" itemprop=\"url\"><span class=\"itemprop\" itemprop=\"name\">Castle Rock Entertainment</span></a></span>,\n",
       " <span class=\"itemprop\" itemprop=\"name\">Castle Rock Entertainment</span>,\n",
       " <span class=\"see-more inline\">\\n<a href=\"companycredits?ref_=tt_dt_co\" itemprop=\"url\">See more</a>\\xa0\\xbb\\n      </span>,\n",
       " <span class=\"rightcornerlink\">\\n<a href=\"/register/login?why=edit&amp;ref_=tt_trv_trv\" rel=\"login\">Edit</a>\\n</span>,\n",
       " <span class=\"fine\">first lines</span>,\n",
       " <span class=\"character\">District Attorney</span>,\n",
       " <span class=\"character\">Andy Dufresne</span>,\n",
       " <span class=\"see-more inline\">\\n<a class=\"nobr\" href=\"/title/tt0111161/faq?ref_=tt_faq_sm\">See more</a>\\n<span class=\"spoilers\">(Spoiler Alert!)</span></span>,\n",
       " <span class=\"spoilers\">(Spoiler Alert!)</span>,\n",
       " <span itemprop=\"review\" itemscope=\"\" itemtype=\"http://schema.org/Review\">\\n<strong itemprop=\"name\">Shawshank Redeems Hollywood</strong>\\n<span itemprop=\"reviewRating\" itemscope=\"\" itemtype=\"http://schema.org/Rating\">\\n<meta content=\"1\" itemprop=\"worstRating\"/>\\n<meta content=\"10\" itemprop=\"ratingValue\"/>\\n<meta content=\"10\" itemprop=\"bestRating\"/>\\n</span>\\n<div class=\"comment-meta\">\\n                        27 August 2002 | by <a href=\"/user/ur0997166/?ref_=tt_urv\"><span itemprop=\"author\">Wesley S. Walker</span></a>\\n<meta content=\"2002-08-27\" itemprop=\"datePublished\"/>\\n                              (Paducah, KY)\\n                        \\u2013 <a href=\"/user/ur0997166/comments?ref_=tt_urv\">See all my reviews</a>\\n</div>\\n<div>\\n<p itemprop=\"reviewBody\"> Can Hollywood, usually creating things for entertainment purposes only, create art?  To create something of this nature, a director must approach it in a most meticulous manner, due to the delicacy of the process.  Such a daunting task requires an extremely capable artist with an undeniable managerial capacity and an acutely developed awareness of each element of art in their films, the most prominent; music, visuals, script, and acting. These elements, each equally important, must succeed independently, yet still form a harmonious union, because this mixture determines the fate of the artist's opus.  Though already well known amongst his colleagues for his notable skills at writing and directing, Frank Darabont emerges with his feature film directorial debut, The Shawshank Redemption.  Proving himself already a master of the craft, Darabont managed to create one of the most recognizable independent releases in the history of Hollywood.  The Shawshank Redemption defines a genre, defies the odds, compels the emotions, and brings an era of artistically influential films back to Hollywood.<br/><br/>The story begins with the trial of a young banker, Andy Dufrense, victimized by circumstantial evidence, resulting in a conviction for the murder of his wife and her lover.  After a quick conviction, Andy finds himself serving a life sentence at Shawshank prison, with no hope of parole.  He exists in this prison only in appearance, keeping his mind free from the drab walls around him.  His ability to do this results in the gaining of respect from his fellow inmates, but most of all from Ellis Redding.  Ellis, commonly referred to as Red, finds gainful use of his entrepreneurial spirit within the drab walls of Shawshank by dealing in contraband and commodities rare to the confines of prison.  Andy's demeanor and undeniable sense of hope causes Red to take a deeper look at himself, and the world around him.  Andy proves to Red and the other inmates that in the conventional walls of Shawshank prison convention will find no home in his lifestyle.<br/><br/>By creating the film's firm foundation, the meticulously chiseled screenplay paved the way for this film's success.  Frank Darabont outdoes himself with the phenomenal adaptation of Stephen King's equally noteworthy novella, Rita Hayworth and Shawshank Redemption.  In this novella, King demonstrates that he can break free from the genre he dominates and still create a marvelous piece of modern literature.  Though the film mirrors the novella in many ways, Darabont illustrates a focused objective of improving upon the areas where the novella came up short, resulting in one of the best book to film transitions ever.<br/><br/>While maintaining some of the poetic and moving dialogue of the novella, Darabont also proves that a film's score can generate a great deal of emotional response from its audience, as dialogue does.  He employs the cunning Thomas Newman, son of the legendary Hollywood composer, Alfred Newman.  Darabont shows recognition for the film's needs by employing Newman, who makes the gentle piano chords whisper softly to the viewer, as if a part of the scripted dialogue.  Newman lends himself to individualism and tends to drive more towards the unique in the realm of score composition.  His effort in Shawshank did not go unnoticed, as his score received an Oscar nomination in 1995.  While unique and independent, Newman's score never once intrudes on your concentration or distracts from the film.<br/><br/>With work from vast array of talented scene designers, costume designers, composers, cinematographers, and various other Hollywood artists, the cast of The Shawshank Redemption had a strong foundation to work with.  The marvelous cast of this film will dazzle you with some of the most convincing performances you will witness in a film.  While both Tim Robbins and Morgan Freeman shine as Andy and Red, respectively, the true spectacle of acting lies within the plethora of amazing supporting actors who easily disappear into their roles.  Most noticeable of these, the veteran film star James Whitmore, who portrays the elderly Brooks Hatlen.  Brooks, a man incarcerated for an unmentioned crime for so long that he finds himself attached to the Shawshank and the daily life he has lead.  Each of these actors show a true dedication to their art, and a focused purpose in their motivations, creating a convincing setting that never once caters to anything unbelievable.<br/><br/>With all of the aesthetic touches and attention to cinematic detail, the most beautiful part of the film lies within its thematic material, such as its focus on the human desires for the most abstract concepts, like hope and freedom.  These themes, which concern things the human spirit undoubtedly yearns for, seem so intricately woven into the plot that it easily draws its audience in to its story.  Though full of hardened criminals, your heart will go out to these men as they display the most basic of human emotions, and deliver some of the most quotable lines in a film to date.  Like a great novel, this film manages to succeed at greater things than simply entertaining an audience.  Darabont tells his story most masterfully, illustrating principles and inspiring his audience to think.  He leaves us a poignant film with a powerful message of hope, and redemption, something we all seek.<br/><br/>This film manages to redeem Hollywood in the eyes of people who feared it long lost in a dark sea of clich\\xe9s and predictability.  Darabont shows us that artists still work in the Hollywood studios and production facilities. These artists show their capability to produce art; real art that inspires you to look at the deeper aspects of life and the world around you.  The Shawshank Redemption delivers much-needed breath of fresh air for anyone who realizes the capability of film.  It proves that masters of the craft still live on this earth, and still bless us with timeless masterpieces that we will never forget. </p>\\n</div>\\n</span>,\n",
       " <span itemprop=\"reviewRating\" itemscope=\"\" itemtype=\"http://schema.org/Rating\">\\n<meta content=\"1\" itemprop=\"worstRating\"/>\\n<meta content=\"10\" itemprop=\"ratingValue\"/>\\n<meta content=\"10\" itemprop=\"bestRating\"/>\\n</span>,\n",
       " <span itemprop=\"author\">Wesley S. Walker</span>,\n",
       " <span>|</span>,\n",
       " <span>|</span>,\n",
       " <span class=\"desktop-sprite appstore-apple\"></span>,\n",
       " <span class=\"desktop-sprite appstore-google\"></span>,\n",
       " <span class=\"desktop-sprite appstore-amazon\"></span>,\n",
       " <span class=\"desktop-sprite follow-facebook\"></span>,\n",
       " <span class=\"desktop-sprite follow-twitter\"></span>,\n",
       " <span class=\"desktop-sprite follow-instagram\"></span>,\n",
       " <span align=\"middle\" class=\"footer_logo\" id=\"amazon_logo\">Amazon.com</span>,\n",
       " <span class=\"amazon-affiliate-site-name\">Amazon Video</span>,\n",
       " <span class=\"amazon-affiliate-site-desc\">Watch Movies &amp;<br/>TV Online</span>,\n",
       " <span class=\"amazon-affiliate-site-name\">Prime Video</span>,\n",
       " <span class=\"amazon-affiliate-site-desc\">Unlimited Streaming<br/>of Movies &amp; TV</span>,\n",
       " <span class=\"amazon-affiliate-site-name\">Amazon Germany</span>,\n",
       " <span class=\"amazon-affiliate-site-desc\">Buy Movies on<br/>DVD &amp; Blu-ray</span>,\n",
       " <span class=\"amazon-affiliate-site-name\">Amazon Italy</span>,\n",
       " <span class=\"amazon-affiliate-site-desc\">Buy Movies on<br/>DVD &amp; Blu-ray</span>,\n",
       " <span class=\"amazon-affiliate-site-name\">Amazon France</span>,\n",
       " <span class=\"amazon-affiliate-site-desc\">Buy Movies on<br/>DVD &amp; Blu-ray</span>,\n",
       " <span class=\"amazon-affiliate-site-name\">Amazon India</span>,\n",
       " <span class=\"amazon-affiliate-site-desc\">Buy Movie and<br/>TV Show DVDs</span>,\n",
       " <span class=\"amazon-affiliate-site-name\">DPReview</span>,\n",
       " <span class=\"amazon-affiliate-site-desc\">Digital<br/>Photography</span>,\n",
       " <span class=\"amazon-affiliate-site-name\">Audible</span>,\n",
       " <span class=\"amazon-affiliate-site-desc\">Download<br/>Audio Books</span>]"
      ]
     },
     "execution_count": 92,
     "metadata": {},
     "output_type": "execute_result"
    }
   ],
   "source": [
    "z"
   ]
  },
  {
   "cell_type": "code",
   "execution_count": 96,
   "metadata": {
    "collapsed": false
   },
   "outputs": [
    {
     "data": {
      "text/plain": [
       "u''"
      ]
     },
     "execution_count": 96,
     "metadata": {},
     "output_type": "execute_result"
    }
   ],
   "source": [
    "z[12].text"
   ]
  },
  {
   "cell_type": "code",
   "execution_count": 8,
   "metadata": {
    "collapsed": false
   },
   "outputs": [
    {
     "data": {
      "text/plain": [
       "[u\"<p>\\nThe story begins with the trial of a young banker, Andy Dufrense,\\nvictimized by circumstantial evidence, resulting in a conviction for\\nthe murder of his wife and her lover. After a quick conviction, Andy\\nfinds himself serving a life sentence at Shawshank prison, with no hope\\nof parole. He exists in this prison only in appearance, keeping his\\nmind free from the drab walls around him. His ability to do this\\nresults in the gaining of respect from his fellow inmates, but most of\\nall from Ellis Redding. Ellis, commonly referred to as Red, finds\\ngainful use of his entrepreneurial spirit within the drab walls of\\nShawshank by dealing in contraband and commodities rare to the confines\\nof prison. Andy's demeanor and undeniable sense of hope causes Red to\\ntake a deeper look at himself, and the world around him. Andy proves to\\nRed and the other inmates that in the conventional walls of Shawshank\\nprison convention will find no home in his lifestyle.<br><br>By creating the film's firm foundation, the meticulously chiseled\\nscreenplay paved the way for this film's success. Frank Darabont\\noutdoes himself with the phenomenal adaptation of Stephen King's\\nequally noteworthy novella, Rita Hayworth and Shawshank Redemption. In\\nthis novella, King demonstrates that he can break free from the genre\\nhe dominates and still create a marvelous piece of modern literature.\\nThough the film mirrors the novella in many ways, Darabont illustrates\\na focused objective of improving upon the areas where the novella came\\nup short, resulting in one of the best book to film transitions ever.<br><br>While maintaining some of the poetic and moving dialogue of the\\nnovella, Darabont also proves that a film's score can generate a great\\ndeal of emotional response from its audience, as dialogue does. He\\nemploys the cunning Thomas Newman, son of the legendary Hollywood\\ncomposer, Alfred Newman. Darabont shows recognition for the film's\\nneeds by employing Newman, who makes the gentle piano chords whisper\\nsoftly to the viewer, as if a part of the scripted dialogue. Newman\\nlends himself to individualism and tends to drive more towards the\\nunique in the realm of score composition. His effort in Shawshank did\\nnot go unnoticed, as his score received an Oscar nomination in 1995.\\nWhile unique and independent, Newman's score never once intrudes on\\nyour concentration or distracts from the film.<br><br>With work from vast array of talented scene designers, costume\\ndesigners, composers, cinematographers, and various other Hollywood\\nartists, the cast of The Shawshank Redemption had a strong foundation\\nto work with. The marvelous cast of this film will dazzle you with some\\nof the most convincing performances you will witness in a film. While\\nboth Tim Robbins and Morgan Freeman shine as Andy and Red,\\nrespectively, the true spectacle of acting lies within the plethora of\\namazing supporting actors who easily disappear into their roles. Most\\nnoticeable of these, the veteran film star James Whitmore, who portrays\\nthe elderly Brooks Hatlen. Brooks, a man incarcerated for an\\nunmentioned crime for so long that he finds himself attached to the\\nShawshank and the daily life he has lead. Each of these actors show a\\ntrue dedication to their art, and a focused purpose in their\\nmotivations, creating a convincing setting that never once caters to\\nanything unbelievable. http://howtogetridofacnequick.org\\n</p>\",\n",
       " u\"<p>\\nIf there was such a thing as a perfect movie, this is it. Of course,\\nfor practical reasons, one cannot award a film ten stars out of ten,\\nbecause of the endless stream of new work demanding scrutiny. I'd like\\nalso to start by quoting another well known film, which sums up my\\nopinion nicely. 'In many ways, the work of a critic is easy- we risk\\nvery little, and thrive on negative criticism, which is amusing to\\nwrite and to read. But the harsh truth of the matter is that the\\naverage piece of junk is probably more valuable than our criticism\\ndesignating it so'. This could not be closer to the truth. When it\\ncomes down to the wire, critics risk everything in dishing out praise,\\nfor fear of being ridiculed themselves.<br><br>There can be no such danger with The Shawshank Redemption. It is an\\neternal masterpiece, timeless and inspiring. I avoid being clich\\xe9d,\\nwhen it is at all possible to do so, but The Shawshank Redemption is\\nbeautiful, masterfully acted, with just that right amount of\\ntenderness. This is a tale of moral courage, and the everlasting fight\\nfor justice. As with other films of the genre, one can tell what will\\nhappen, of course, but when you watch this film, you will time and\\nagain be genuinely surprised, and maybe even shed a tear for the\\npersistence and unquenchable thirst of the human spirit. One leaps for\\njoy after watching this incredible film, at the knowledge that evil, in\\nall senses of the word, can, and will never triumph.<br><br>Turning an eye to the technical side of things, just for a moment, I\\ncan discern not one single badly executed shot. The Shawshank\\nRedemption is well written, and, as I have said before, brilliantly\\nacted. Characters that could be flat are all allowed to develop and\\nflourish, and the film is even better for it. The film grabs our\\nattention, right from the word go, with agitated shots of Andy looking\\nlike he IS going to kill his wife. And the soundtrack. Well, there\\nisn't much to say; except that most of the music in this film is some\\nof the most beautiful I have ever heard.<br><br>This is a deeply satisfying, wonderful, brilliant, fantastic, soulful\\ncinematic work. Watch it, if you haven't seen it, and if you have, you\\nmust agree that this excellent film will be an eternal classic. There\\nare, of course, films that people will prefer, I myself am strongly\\nattracted to Subway, a 1985 film by Luc Besson, but for pure facial and\\nobjective value, cinema does not get much better than this.\\n</p>\",\n",
       " u\"<p>\\nFrom the summary above which you will have seen, i stated the film to\\nbe a moving masterpiece. Right from the word go i was drawn into the\\nfilms twisting emotional plot. It caught my attention that Frank\\nDarabont has placed a small amount of aspects into the film that get\\nthe audience emotionally involved in which we base ourselves into\\nsimply putting our feet in one of the convicts shoes. Tt especially\\ncaught my eyes with the montage of shots in which the character Brooks\\n(James Whitmore) takes his own life, the non-diagetic sound adding to\\nthe other element of suspense of the scene and the devastation of the\\ntragic loss of the character in which we have been following through\\nthe course of the film. The cinematography throughout the film was\\nbasic and what i would term as standard, seen before basic film\\ncamera-work. If this was better it would have highly improved the films\\noverall watch. throughout the course of the film we see Andy Dufresne\\n(Tim Robbins) supposedly framed for the murder of his wife and her\\nlover. We see how he progresses through the twenty years he spends at\\nShawshank Prison. We see Robbins act brilliantly as the role of a\\nnimble, lost and lonely convict turn into a reliant of the Head Warden.\\nThis all becomes of the fact that in Dufresne's previous life he was a\\ncity banker, which is where he gets the nickname of 'wife murdering\\nbanker' around the dim lit prison. Morgan Freeman also shows that he is\\none of the worlds leading role- modelling actors as he pulls of another\\nsupreme unique perform. The way he acts during the duration of the film\\nis entirely versatile proving the Freeman is an exceptional actor and\\nperforms single handed an outstanding performance.<br><br>The plot consists of many twists and turns with both leading characters\\ngetting into difficult situation and how they overcome them, or not.<br><br>The final half an hour of the film is soul touching and what i would\\nterm as an emotional rollacoaster with a large twist at the end. As\\nsuspense builds it creates a sensational climax tagging the film a must\\nwatch!<br><br>I generally don't watch films more than once or twice but this is a\\ndifferent story. It still amazes me to this day and still gets me\\nmoving every time, it also influences me a lot.<br><br>If you haven't watched this i highly recommend you do so!<br><br>Joe Ferrari\\n</p>\",\n",
       " u'<p>\\nIm not going to sit here and go into a deep explanation of what this\\nfilm is about, because that has been thoroughly explained in many of\\nthe other reviews. What I will say is that The Shawshank Redemption is\\nwithout any doubt the most amazing film ever written. The acting is\\ntremendous, the story is original, and the movie itself has a deeper\\nmeaning to it. This movie is not about the hardships of prison, it is\\nabout the importance of friendship and the realization that hope is\\nyour greatest aspect. This piece does not focus as much on Andy and his\\ngreat escape from Shawshank, but more on Red finding that there is\\nalways meaning and a purpose for everything. The story really unfolds\\nwhen Brooks, an old timer that Andy and Red had been close friends\\nwith, is put on parole and released from prison. After confronting the\\noutside world and knowing that he could not cope with it, Brooks finds\\nthat he has no purpose outside of life in jail and hangs himself. Later\\nin the movie, after Andy makes his great escape from prison, Red is\\nfinally released from Shawshank himself, and is put in the same\\nsituation as Brooks. Only one reason marks the fact that Red himself\\ndidn\\'t commit suicide. That reason is Andy. Red figures out that he\\ndoes have a purpose outside of prison which is to see his best friend\\nagain and to \"give him a handshake\". And as the movie comes to a\\nmarvelous ending, that hope to see Andy becomes a reality.<br><br>Overall the best movie I have ever watched and I am glad to say that I\\nwill continue to keep watching it again and again and again.\\n</p>',\n",
       " u\"<p>\\nThe 'Shawshank Redemption' undoubtedly deserves to be the highest rated\\nmovie. The movie depicts how a four lettered word 'Hope' brings wonders\\nto our lives and makes something impossible to possible.<br><br>Though the plot of the movie focuses on how Andy Dufrane, a falsely\\nconvicted prisoner gets out of the prison, the beauty of the movie lies\\nin the characterization of Andy Dufrane (just amazing) and how he\\ninfluences his fellow prisoner 'Red'. The narration by Morgan Freeman\\nin the role of 'Red' is perhaps one of the best narrations i have ever\\ncome across. This story proves that the king of horrors, Stephen King,\\nis equally good at any other genre of 'Story Writing'(Hats off). The\\ndialogues towards the end of the movie about hope are truly inspiring.\\nThe background score of the movie is excellent. Tom Robbins and Morgan\\nFreeman at their best in the roles of Andy Dufrane and Red\\nrespectively.<br><br>Didn't watch the movie??...go grab a DVD and watch it as soon as\\npossible. Can't miss a movie like this....\\n</p>\",\n",
       " u'<p>\\nI watched this movie for the umpteenth time probably last Sunday and\\nhow much I loved it yet again!!! A movie I would never ever get bored\\nof and definitely, one of my all time favorites. A simple yet wonderful\\nstory about HOPE!!! HOPE \\x96 One word that drives all of us and gives us\\nreason to live. We push ourselves through our mundane lives in the hope\\nof achieving / finding something that we dream of. In the words of this\\nmovie\\'s protagonist \\x96 \"hope is a good thing, maybe the best of things,\\nand no good thing ever dies\"!!! Superlative performances by Tim Robbins\\nand Morgan Freeman.<br><br>A must watch if you haven\\'t!!!\\n</p>',\n",
       " u\"<p>\\nThis movie I'm not going to call this film the IMDb #1 movie, but I\\nreally can't deny that this is fantastic. The cast, the score, the\\nwriting, and the power are all here in this film, and filled with\\nstrength. It's one of those movies that you will continue to think\\nabout even after the film is over. It is about a friendship, a life, an\\nevil, and a hope. A hope that is considered in many ways to be bridge\\nto insanity inside the prison walls. We see these people as years of\\ntime goes by. We see friendships grow, and topics change. It really\\nputs you in the prison, and makes you feel what's like to behind those\\nbars. You feel the friendship, the hope, the darkness, and the pure\\nhorror of it all.<br><br>4 stars out of 4\\n</p>\",\n",
       " u'<p>\\nI never saw this film on the silver screen. I didn\\'t want to see it on\\nvideo either.<br><br>The video store owner implored me to watch it and I remember my\\nemphatic reply. \"I\\'m not watching a 3 hour film about a prison con\\ndoing tax returns for the guards\". Fortunately for me, this video store\\nowner was a mightily persistent sort and I begrudgingly walked home not\\nknowing that I had just rented the greatest film ever made.<br><br>This film received no hype nor the mega-bucks publicity given to a lot\\nof movie trash out there. Because they didn\\'t need to - all they needed\\nto do was to let people watch it because word of mouth is the best\\nmarketing ticket in town. And so it proved.<br><br>The movie is long and relies on a storyline which has been covered many\\ntimes. Wrongful conviction, brutality in jail, justice in the end. But\\nit is the way in which the story is told and acted out that defines it,\\nquite rightly, as IMDb\\'s top ranked film.<br><br>I don\\'t care for Stephen King as an author but his vivid imagination\\ncoupled with his skill at telling a story (a short story in this case)\\nis top drawer. We have a man (Dufresne) who after being convicted\\nwrongfully for murder, uses his accounting skills in jail solely to\\nsurvive. Red (Freeman), the man who can \"get things\" befriends him. The\\nstory then slowly unravels with shocking scenes of brutality\\nintertwined with flickers of how the human spirit can overcome the most\\nhazardous odds. The Warden, Samuel Norton, is magnificent as a man\\nwhose corruption has spiralled out of control and will do almost\\nanything to retain the status quo. Clancy Brown as the brutal guard\\ncompletes the double act.<br><br>The story twists and turns leaving the audience not quite knowing\\nwhether we are in for a harrowing or euphoric ending. And when the\\nending comes on that Mexican Beach you can almost hear the triumphant\\ncheers ringing around the cinema halls.<br><br>This is film making at its very best and it is highly unlikely that\\nRobbins and Freeman will ever better it. Its one of those few occasions\\nwhere 10 stars is not nearly high enough.<br><br>So if you have been living under a rock or are as sceptical as I was in\\nthe early 90\\'s, then it\\'s time for me to adopt my friendly video store\\nowners guise and say \"Watch this - its the best film ever made\".\\n</p>',\n",
       " u'<p>\\nOut of the three genre-defining classics released in 1994, The\\nShawshank Redemption was the one that ended up bearing the maximum\\nbrunt. First commercially by failing to recover its budget for it\\ndebuted in theatres together with one of cinema\\'s greatest watershed\\nevents; Pulp Fiction. And then at Academy Awards where it was nominated\\nfor seven Oscars yet failed to win any, thanks to the sweeping show by\\nthe critics\\' darling, Forrest Gump.<br><br>But life ever since has been very kind to this film, and both critics &amp;\\nviewers have embraced its uplifting story of hope &amp; friendship with\\nremarkable amount of respect, love &amp; kindness. Today, The Shawshank\\nRedemption enjoys a position that\\'s arguably even higher than the two\\nclassics which eclipsed it back in 1994 and while it was discarded at\\nits time of release, it is now rightly &amp; universally acknowledged as\\none of the greatest films of all time.<br><br>The Shawshank Redemption tells the story of Andy Dufresne, a successful\\nbanker, who is wrongfully convicted of murdering his wife &amp; her illicit\\nlover and is ultimately sentenced to two consecutive life terms in\\nprison where his coping with the brutal hardships of confined life\\nslowly earns him the respect of his fellow inmates &amp; prison staff,\\nincluding that of \"Red\" in whom Andy finds a trusted ally. The\\nremainder of the film explores their friendship over the next two\\ndecades.<br><br>Written &amp; directed by Frank Darabont, this prison drama is a simple but\\nprofoundly moving tale of hope, friendship &amp; redemption that\\'ll manage\\nto connect deeply with most of us in one way or another plus it also\\nmarks Darabont\\'s directional debut and he couldn\\'t have asked for a\\nbetter start. All this film has is men in either prison or police\\nuniforms talking to one another over the course of its runtime and yet\\nit never looked dull or felt like dragging at any given moment.<br><br>Cinematography exquisitely captures the monotonous daily life inside\\nprison and provides considerable depth &amp; realism to the era this film\\nis set in. Every moment of despair has a shadowy appearance while\\nmoments of hope gleam with light. Editing is spectacular too as the\\ngradual progression of Andy\\'s life, his friendship with Red, and his\\ndetermination to not give in to the four walls containing him is\\neffectively unfolded. And Thomas Newman\\'s score beautifully blends with\\nthe film\\'s tone &amp; characters\\' lives, and is emotionally fulfilling.<br><br>Coming to the performances, Tim Robbins delivers a swashbuckling\\nperformance as Andy Dufresne, the banker wrongfully convicted for the\\ncrime he didn\\'t commit. And if Robbins is at his best, then Morgan\\nFreeman is even better as Red, Andy\\'s friend who is also serving a life\\nsentence &amp; is notorious amongst the inmates for he can smuggle goods\\ninto the prison. Freeman also narrates the story to us at which he does\\nan even better job. His work is grounded &amp; can go easily unnoticed, but\\nthe character of Red is the soul of this story.<br><br>There is a reason why this film still connects with so many people &amp;\\nwhy many of them have latched on to it. There is a reason why even\\nafter two decades, its legacy keeps flourishing &amp; viewers keep\\nreturning to it despite its low entertainment value. One major reason\\nis that even though The Shawshank Redemption is a prison drama, its\\nstory of imprisonment goes far beyond the bricks &amp; steel rods of a\\njailhouse. The entire picture is a reflection of our own imprisonment\\nin the institutions of our daily lives; institutions like work, family,\\nsociety etc &amp; living up to the expectations of each one of them.<br><br>On an overall scale, The Shawshank Redemption stresses that based on\\nthe outlook of life, there are only two types of people: one who can be\\nfree even in prison while others who find themselves imprisoned even in\\nfreedom. The message it is trying to resonate is clear: Fear can hold\\nyou prisoner, Hope can set you free. And if we all give ourselves some\\nhope, there is nothing we can\\'t survive. Yes, it all seems preachy n\\neverything, but then if there\\'s ever been a motion picture that has\\nearned this sort of right, it\\'s The Shawshank Redemption. Strongly\\nrecommended.\\n</p>',\n",
       " u'<p>\\nI haven\\'t seen too many movies that I would rate a 10, but I had no\\nproblems giving this one top score.<br><br>Movie-making seems to be like golf; for a truly excellent game, ALL the\\nelements must come together. Everyone involved must have perfect\\n\"form\". Director, Darabont, must have been at the top of his game when\\nhe put this gem together. Of course the actors were excellent; Morgan\\nFreeman and Tim Robbins seldom disappoint. The thing that makes this\\nmovie exceptional is that Darabont coaxed the best performances out of\\nthe supporting actors also. Bob Gunton and Clancy Brown were utterly\\nbelievable (and bad guys don\\'t come much worse than them).<br><br>The other essential ingredient for a successful movie is simple: It\\nmust have a well thought out plot with a perfect beginning, middle and\\nend. So many movies fall over by getting at least one of these aspects\\nwrong. Not so with Shawshank Redemption. Just like Goldilocks said,\\n\"This is just right!\" Buy this one for your home collection because\\nyou\\'ll definitely want to see it again.\\n</p>',\n",
       " u'<p><a href=\"reviews-enter\">Add another review</a></p>']"
      ]
     },
     "execution_count": 8,
     "metadata": {},
     "output_type": "execute_result"
    }
   ],
   "source": [
    "from scrapy.selector import Selector\n",
    "import requests\n",
    "\n",
    "URL = \"http://www.imdb.com/title/tt0111161/reviews?start=110\"\n",
    "\n",
    "\n",
    "\n",
    "r = requests.get(URL)\n",
    "reviews = Selector(text=r.text).xpath('//*[@id=\"tn15content\"]/p').extract()\n",
    "\n",
    "\n",
    "reviews"
   ]
  },
  {
   "cell_type": "code",
   "execution_count": 10,
   "metadata": {
    "collapsed": false
   },
   "outputs": [],
   "source": [
    "reviews = reviews[:-1]"
   ]
  },
  {
   "cell_type": "code",
   "execution_count": 11,
   "metadata": {
    "collapsed": false
   },
   "outputs": [
    {
     "data": {
      "text/plain": [
       "[u\"<p>\\nThe story begins with the trial of a young banker, Andy Dufrense,\\nvictimized by circumstantial evidence, resulting in a conviction for\\nthe murder of his wife and her lover. After a quick conviction, Andy\\nfinds himself serving a life sentence at Shawshank prison, with no hope\\nof parole. He exists in this prison only in appearance, keeping his\\nmind free from the drab walls around him. His ability to do this\\nresults in the gaining of respect from his fellow inmates, but most of\\nall from Ellis Redding. Ellis, commonly referred to as Red, finds\\ngainful use of his entrepreneurial spirit within the drab walls of\\nShawshank by dealing in contraband and commodities rare to the confines\\nof prison. Andy's demeanor and undeniable sense of hope causes Red to\\ntake a deeper look at himself, and the world around him. Andy proves to\\nRed and the other inmates that in the conventional walls of Shawshank\\nprison convention will find no home in his lifestyle.<br><br>By creating the film's firm foundation, the meticulously chiseled\\nscreenplay paved the way for this film's success. Frank Darabont\\noutdoes himself with the phenomenal adaptation of Stephen King's\\nequally noteworthy novella, Rita Hayworth and Shawshank Redemption. In\\nthis novella, King demonstrates that he can break free from the genre\\nhe dominates and still create a marvelous piece of modern literature.\\nThough the film mirrors the novella in many ways, Darabont illustrates\\na focused objective of improving upon the areas where the novella came\\nup short, resulting in one of the best book to film transitions ever.<br><br>While maintaining some of the poetic and moving dialogue of the\\nnovella, Darabont also proves that a film's score can generate a great\\ndeal of emotional response from its audience, as dialogue does. He\\nemploys the cunning Thomas Newman, son of the legendary Hollywood\\ncomposer, Alfred Newman. Darabont shows recognition for the film's\\nneeds by employing Newman, who makes the gentle piano chords whisper\\nsoftly to the viewer, as if a part of the scripted dialogue. Newman\\nlends himself to individualism and tends to drive more towards the\\nunique in the realm of score composition. His effort in Shawshank did\\nnot go unnoticed, as his score received an Oscar nomination in 1995.\\nWhile unique and independent, Newman's score never once intrudes on\\nyour concentration or distracts from the film.<br><br>With work from vast array of talented scene designers, costume\\ndesigners, composers, cinematographers, and various other Hollywood\\nartists, the cast of The Shawshank Redemption had a strong foundation\\nto work with. The marvelous cast of this film will dazzle you with some\\nof the most convincing performances you will witness in a film. While\\nboth Tim Robbins and Morgan Freeman shine as Andy and Red,\\nrespectively, the true spectacle of acting lies within the plethora of\\namazing supporting actors who easily disappear into their roles. Most\\nnoticeable of these, the veteran film star James Whitmore, who portrays\\nthe elderly Brooks Hatlen. Brooks, a man incarcerated for an\\nunmentioned crime for so long that he finds himself attached to the\\nShawshank and the daily life he has lead. Each of these actors show a\\ntrue dedication to their art, and a focused purpose in their\\nmotivations, creating a convincing setting that never once caters to\\nanything unbelievable. http://howtogetridofacnequick.org\\n</p>\",\n",
       " u\"<p>\\nIf there was such a thing as a perfect movie, this is it. Of course,\\nfor practical reasons, one cannot award a film ten stars out of ten,\\nbecause of the endless stream of new work demanding scrutiny. I'd like\\nalso to start by quoting another well known film, which sums up my\\nopinion nicely. 'In many ways, the work of a critic is easy- we risk\\nvery little, and thrive on negative criticism, which is amusing to\\nwrite and to read. But the harsh truth of the matter is that the\\naverage piece of junk is probably more valuable than our criticism\\ndesignating it so'. This could not be closer to the truth. When it\\ncomes down to the wire, critics risk everything in dishing out praise,\\nfor fear of being ridiculed themselves.<br><br>There can be no such danger with The Shawshank Redemption. It is an\\neternal masterpiece, timeless and inspiring. I avoid being clich\\xe9d,\\nwhen it is at all possible to do so, but The Shawshank Redemption is\\nbeautiful, masterfully acted, with just that right amount of\\ntenderness. This is a tale of moral courage, and the everlasting fight\\nfor justice. As with other films of the genre, one can tell what will\\nhappen, of course, but when you watch this film, you will time and\\nagain be genuinely surprised, and maybe even shed a tear for the\\npersistence and unquenchable thirst of the human spirit. One leaps for\\njoy after watching this incredible film, at the knowledge that evil, in\\nall senses of the word, can, and will never triumph.<br><br>Turning an eye to the technical side of things, just for a moment, I\\ncan discern not one single badly executed shot. The Shawshank\\nRedemption is well written, and, as I have said before, brilliantly\\nacted. Characters that could be flat are all allowed to develop and\\nflourish, and the film is even better for it. The film grabs our\\nattention, right from the word go, with agitated shots of Andy looking\\nlike he IS going to kill his wife. And the soundtrack. Well, there\\nisn't much to say; except that most of the music in this film is some\\nof the most beautiful I have ever heard.<br><br>This is a deeply satisfying, wonderful, brilliant, fantastic, soulful\\ncinematic work. Watch it, if you haven't seen it, and if you have, you\\nmust agree that this excellent film will be an eternal classic. There\\nare, of course, films that people will prefer, I myself am strongly\\nattracted to Subway, a 1985 film by Luc Besson, but for pure facial and\\nobjective value, cinema does not get much better than this.\\n</p>\",\n",
       " u\"<p>\\nFrom the summary above which you will have seen, i stated the film to\\nbe a moving masterpiece. Right from the word go i was drawn into the\\nfilms twisting emotional plot. It caught my attention that Frank\\nDarabont has placed a small amount of aspects into the film that get\\nthe audience emotionally involved in which we base ourselves into\\nsimply putting our feet in one of the convicts shoes. Tt especially\\ncaught my eyes with the montage of shots in which the character Brooks\\n(James Whitmore) takes his own life, the non-diagetic sound adding to\\nthe other element of suspense of the scene and the devastation of the\\ntragic loss of the character in which we have been following through\\nthe course of the film. The cinematography throughout the film was\\nbasic and what i would term as standard, seen before basic film\\ncamera-work. If this was better it would have highly improved the films\\noverall watch. throughout the course of the film we see Andy Dufresne\\n(Tim Robbins) supposedly framed for the murder of his wife and her\\nlover. We see how he progresses through the twenty years he spends at\\nShawshank Prison. We see Robbins act brilliantly as the role of a\\nnimble, lost and lonely convict turn into a reliant of the Head Warden.\\nThis all becomes of the fact that in Dufresne's previous life he was a\\ncity banker, which is where he gets the nickname of 'wife murdering\\nbanker' around the dim lit prison. Morgan Freeman also shows that he is\\none of the worlds leading role- modelling actors as he pulls of another\\nsupreme unique perform. The way he acts during the duration of the film\\nis entirely versatile proving the Freeman is an exceptional actor and\\nperforms single handed an outstanding performance.<br><br>The plot consists of many twists and turns with both leading characters\\ngetting into difficult situation and how they overcome them, or not.<br><br>The final half an hour of the film is soul touching and what i would\\nterm as an emotional rollacoaster with a large twist at the end. As\\nsuspense builds it creates a sensational climax tagging the film a must\\nwatch!<br><br>I generally don't watch films more than once or twice but this is a\\ndifferent story. It still amazes me to this day and still gets me\\nmoving every time, it also influences me a lot.<br><br>If you haven't watched this i highly recommend you do so!<br><br>Joe Ferrari\\n</p>\",\n",
       " u'<p>\\nIm not going to sit here and go into a deep explanation of what this\\nfilm is about, because that has been thoroughly explained in many of\\nthe other reviews. What I will say is that The Shawshank Redemption is\\nwithout any doubt the most amazing film ever written. The acting is\\ntremendous, the story is original, and the movie itself has a deeper\\nmeaning to it. This movie is not about the hardships of prison, it is\\nabout the importance of friendship and the realization that hope is\\nyour greatest aspect. This piece does not focus as much on Andy and his\\ngreat escape from Shawshank, but more on Red finding that there is\\nalways meaning and a purpose for everything. The story really unfolds\\nwhen Brooks, an old timer that Andy and Red had been close friends\\nwith, is put on parole and released from prison. After confronting the\\noutside world and knowing that he could not cope with it, Brooks finds\\nthat he has no purpose outside of life in jail and hangs himself. Later\\nin the movie, after Andy makes his great escape from prison, Red is\\nfinally released from Shawshank himself, and is put in the same\\nsituation as Brooks. Only one reason marks the fact that Red himself\\ndidn\\'t commit suicide. That reason is Andy. Red figures out that he\\ndoes have a purpose outside of prison which is to see his best friend\\nagain and to \"give him a handshake\". And as the movie comes to a\\nmarvelous ending, that hope to see Andy becomes a reality.<br><br>Overall the best movie I have ever watched and I am glad to say that I\\nwill continue to keep watching it again and again and again.\\n</p>',\n",
       " u\"<p>\\nThe 'Shawshank Redemption' undoubtedly deserves to be the highest rated\\nmovie. The movie depicts how a four lettered word 'Hope' brings wonders\\nto our lives and makes something impossible to possible.<br><br>Though the plot of the movie focuses on how Andy Dufrane, a falsely\\nconvicted prisoner gets out of the prison, the beauty of the movie lies\\nin the characterization of Andy Dufrane (just amazing) and how he\\ninfluences his fellow prisoner 'Red'. The narration by Morgan Freeman\\nin the role of 'Red' is perhaps one of the best narrations i have ever\\ncome across. This story proves that the king of horrors, Stephen King,\\nis equally good at any other genre of 'Story Writing'(Hats off). The\\ndialogues towards the end of the movie about hope are truly inspiring.\\nThe background score of the movie is excellent. Tom Robbins and Morgan\\nFreeman at their best in the roles of Andy Dufrane and Red\\nrespectively.<br><br>Didn't watch the movie??...go grab a DVD and watch it as soon as\\npossible. Can't miss a movie like this....\\n</p>\",\n",
       " u'<p>\\nI watched this movie for the umpteenth time probably last Sunday and\\nhow much I loved it yet again!!! A movie I would never ever get bored\\nof and definitely, one of my all time favorites. A simple yet wonderful\\nstory about HOPE!!! HOPE \\x96 One word that drives all of us and gives us\\nreason to live. We push ourselves through our mundane lives in the hope\\nof achieving / finding something that we dream of. In the words of this\\nmovie\\'s protagonist \\x96 \"hope is a good thing, maybe the best of things,\\nand no good thing ever dies\"!!! Superlative performances by Tim Robbins\\nand Morgan Freeman.<br><br>A must watch if you haven\\'t!!!\\n</p>',\n",
       " u\"<p>\\nThis movie I'm not going to call this film the IMDb #1 movie, but I\\nreally can't deny that this is fantastic. The cast, the score, the\\nwriting, and the power are all here in this film, and filled with\\nstrength. It's one of those movies that you will continue to think\\nabout even after the film is over. It is about a friendship, a life, an\\nevil, and a hope. A hope that is considered in many ways to be bridge\\nto insanity inside the prison walls. We see these people as years of\\ntime goes by. We see friendships grow, and topics change. It really\\nputs you in the prison, and makes you feel what's like to behind those\\nbars. You feel the friendship, the hope, the darkness, and the pure\\nhorror of it all.<br><br>4 stars out of 4\\n</p>\",\n",
       " u'<p>\\nI never saw this film on the silver screen. I didn\\'t want to see it on\\nvideo either.<br><br>The video store owner implored me to watch it and I remember my\\nemphatic reply. \"I\\'m not watching a 3 hour film about a prison con\\ndoing tax returns for the guards\". Fortunately for me, this video store\\nowner was a mightily persistent sort and I begrudgingly walked home not\\nknowing that I had just rented the greatest film ever made.<br><br>This film received no hype nor the mega-bucks publicity given to a lot\\nof movie trash out there. Because they didn\\'t need to - all they needed\\nto do was to let people watch it because word of mouth is the best\\nmarketing ticket in town. And so it proved.<br><br>The movie is long and relies on a storyline which has been covered many\\ntimes. Wrongful conviction, brutality in jail, justice in the end. But\\nit is the way in which the story is told and acted out that defines it,\\nquite rightly, as IMDb\\'s top ranked film.<br><br>I don\\'t care for Stephen King as an author but his vivid imagination\\ncoupled with his skill at telling a story (a short story in this case)\\nis top drawer. We have a man (Dufresne) who after being convicted\\nwrongfully for murder, uses his accounting skills in jail solely to\\nsurvive. Red (Freeman), the man who can \"get things\" befriends him. The\\nstory then slowly unravels with shocking scenes of brutality\\nintertwined with flickers of how the human spirit can overcome the most\\nhazardous odds. The Warden, Samuel Norton, is magnificent as a man\\nwhose corruption has spiralled out of control and will do almost\\nanything to retain the status quo. Clancy Brown as the brutal guard\\ncompletes the double act.<br><br>The story twists and turns leaving the audience not quite knowing\\nwhether we are in for a harrowing or euphoric ending. And when the\\nending comes on that Mexican Beach you can almost hear the triumphant\\ncheers ringing around the cinema halls.<br><br>This is film making at its very best and it is highly unlikely that\\nRobbins and Freeman will ever better it. Its one of those few occasions\\nwhere 10 stars is not nearly high enough.<br><br>So if you have been living under a rock or are as sceptical as I was in\\nthe early 90\\'s, then it\\'s time for me to adopt my friendly video store\\nowners guise and say \"Watch this - its the best film ever made\".\\n</p>',\n",
       " u'<p>\\nOut of the three genre-defining classics released in 1994, The\\nShawshank Redemption was the one that ended up bearing the maximum\\nbrunt. First commercially by failing to recover its budget for it\\ndebuted in theatres together with one of cinema\\'s greatest watershed\\nevents; Pulp Fiction. And then at Academy Awards where it was nominated\\nfor seven Oscars yet failed to win any, thanks to the sweeping show by\\nthe critics\\' darling, Forrest Gump.<br><br>But life ever since has been very kind to this film, and both critics &amp;\\nviewers have embraced its uplifting story of hope &amp; friendship with\\nremarkable amount of respect, love &amp; kindness. Today, The Shawshank\\nRedemption enjoys a position that\\'s arguably even higher than the two\\nclassics which eclipsed it back in 1994 and while it was discarded at\\nits time of release, it is now rightly &amp; universally acknowledged as\\none of the greatest films of all time.<br><br>The Shawshank Redemption tells the story of Andy Dufresne, a successful\\nbanker, who is wrongfully convicted of murdering his wife &amp; her illicit\\nlover and is ultimately sentenced to two consecutive life terms in\\nprison where his coping with the brutal hardships of confined life\\nslowly earns him the respect of his fellow inmates &amp; prison staff,\\nincluding that of \"Red\" in whom Andy finds a trusted ally. The\\nremainder of the film explores their friendship over the next two\\ndecades.<br><br>Written &amp; directed by Frank Darabont, this prison drama is a simple but\\nprofoundly moving tale of hope, friendship &amp; redemption that\\'ll manage\\nto connect deeply with most of us in one way or another plus it also\\nmarks Darabont\\'s directional debut and he couldn\\'t have asked for a\\nbetter start. All this film has is men in either prison or police\\nuniforms talking to one another over the course of its runtime and yet\\nit never looked dull or felt like dragging at any given moment.<br><br>Cinematography exquisitely captures the monotonous daily life inside\\nprison and provides considerable depth &amp; realism to the era this film\\nis set in. Every moment of despair has a shadowy appearance while\\nmoments of hope gleam with light. Editing is spectacular too as the\\ngradual progression of Andy\\'s life, his friendship with Red, and his\\ndetermination to not give in to the four walls containing him is\\neffectively unfolded. And Thomas Newman\\'s score beautifully blends with\\nthe film\\'s tone &amp; characters\\' lives, and is emotionally fulfilling.<br><br>Coming to the performances, Tim Robbins delivers a swashbuckling\\nperformance as Andy Dufresne, the banker wrongfully convicted for the\\ncrime he didn\\'t commit. And if Robbins is at his best, then Morgan\\nFreeman is even better as Red, Andy\\'s friend who is also serving a life\\nsentence &amp; is notorious amongst the inmates for he can smuggle goods\\ninto the prison. Freeman also narrates the story to us at which he does\\nan even better job. His work is grounded &amp; can go easily unnoticed, but\\nthe character of Red is the soul of this story.<br><br>There is a reason why this film still connects with so many people &amp;\\nwhy many of them have latched on to it. There is a reason why even\\nafter two decades, its legacy keeps flourishing &amp; viewers keep\\nreturning to it despite its low entertainment value. One major reason\\nis that even though The Shawshank Redemption is a prison drama, its\\nstory of imprisonment goes far beyond the bricks &amp; steel rods of a\\njailhouse. The entire picture is a reflection of our own imprisonment\\nin the institutions of our daily lives; institutions like work, family,\\nsociety etc &amp; living up to the expectations of each one of them.<br><br>On an overall scale, The Shawshank Redemption stresses that based on\\nthe outlook of life, there are only two types of people: one who can be\\nfree even in prison while others who find themselves imprisoned even in\\nfreedom. The message it is trying to resonate is clear: Fear can hold\\nyou prisoner, Hope can set you free. And if we all give ourselves some\\nhope, there is nothing we can\\'t survive. Yes, it all seems preachy n\\neverything, but then if there\\'s ever been a motion picture that has\\nearned this sort of right, it\\'s The Shawshank Redemption. Strongly\\nrecommended.\\n</p>',\n",
       " u'<p>\\nI haven\\'t seen too many movies that I would rate a 10, but I had no\\nproblems giving this one top score.<br><br>Movie-making seems to be like golf; for a truly excellent game, ALL the\\nelements must come together. Everyone involved must have perfect\\n\"form\". Director, Darabont, must have been at the top of his game when\\nhe put this gem together. Of course the actors were excellent; Morgan\\nFreeman and Tim Robbins seldom disappoint. The thing that makes this\\nmovie exceptional is that Darabont coaxed the best performances out of\\nthe supporting actors also. Bob Gunton and Clancy Brown were utterly\\nbelievable (and bad guys don\\'t come much worse than them).<br><br>The other essential ingredient for a successful movie is simple: It\\nmust have a well thought out plot with a perfect beginning, middle and\\nend. So many movies fall over by getting at least one of these aspects\\nwrong. Not so with Shawshank Redemption. Just like Goldilocks said,\\n\"This is just right!\" Buy this one for your home collection because\\nyou\\'ll definitely want to see it again.\\n</p>']"
      ]
     },
     "execution_count": 11,
     "metadata": {},
     "output_type": "execute_result"
    }
   ],
   "source": [
    "reviews"
   ]
  },
  {
   "cell_type": "code",
   "execution_count": null,
   "metadata": {
    "collapsed": true
   },
   "outputs": [],
   "source": []
  },
  {
   "cell_type": "code",
   "execution_count": null,
   "metadata": {
    "collapsed": true
   },
   "outputs": [],
   "source": []
  },
  {
   "cell_type": "markdown",
   "metadata": {},
   "source": []
  },
  {
   "cell_type": "code",
   "execution_count": 8,
   "metadata": {
    "collapsed": false
   },
   "outputs": [
    {
     "data": {
      "text/plain": [
       "[0,\n",
       " 10,\n",
       " 20,\n",
       " 30,\n",
       " 40,\n",
       " 50,\n",
       " 60,\n",
       " 70,\n",
       " 80,\n",
       " 90,\n",
       " 100,\n",
       " 110,\n",
       " 120,\n",
       " 130,\n",
       " 140,\n",
       " 150,\n",
       " 160,\n",
       " 170,\n",
       " 180,\n",
       " 190,\n",
       " 200,\n",
       " 210,\n",
       " 220,\n",
       " 230,\n",
       " 240,\n",
       " 250,\n",
       " 260,\n",
       " 270,\n",
       " 280,\n",
       " 290,\n",
       " 300,\n",
       " 310,\n",
       " 320,\n",
       " 330,\n",
       " 340,\n",
       " 350,\n",
       " 360,\n",
       " 370,\n",
       " 380,\n",
       " 390,\n",
       " 400,\n",
       " 410,\n",
       " 420,\n",
       " 430,\n",
       " 440,\n",
       " 450,\n",
       " 460,\n",
       " 470,\n",
       " 480,\n",
       " 490,\n",
       " 500,\n",
       " 510,\n",
       " 520,\n",
       " 530,\n",
       " 540,\n",
       " 550,\n",
       " 560,\n",
       " 570,\n",
       " 580,\n",
       " 590,\n",
       " 600,\n",
       " 610,\n",
       " 620,\n",
       " 630,\n",
       " 640,\n",
       " 650,\n",
       " 660,\n",
       " 670,\n",
       " 680,\n",
       " 690,\n",
       " 700,\n",
       " 710,\n",
       " 720,\n",
       " 730,\n",
       " 740,\n",
       " 750,\n",
       " 760,\n",
       " 770,\n",
       " 780,\n",
       " 790,\n",
       " 800,\n",
       " 810,\n",
       " 820,\n",
       " 830,\n",
       " 840,\n",
       " 850,\n",
       " 860,\n",
       " 870,\n",
       " 880,\n",
       " 890,\n",
       " 900,\n",
       " 910,\n",
       " 920,\n",
       " 930,\n",
       " 940,\n",
       " 950,\n",
       " 960,\n",
       " 970,\n",
       " 980,\n",
       " 990,\n",
       " 1000,\n",
       " 1010,\n",
       " 1020,\n",
       " 1030,\n",
       " 1040,\n",
       " 1050,\n",
       " 1060,\n",
       " 1070,\n",
       " 1080,\n",
       " 1090,\n",
       " 1100,\n",
       " 1110,\n",
       " 1120,\n",
       " 1130,\n",
       " 1140,\n",
       " 1150,\n",
       " 1160,\n",
       " 1170,\n",
       " 1180,\n",
       " 1190,\n",
       " 1200,\n",
       " 1210,\n",
       " 1220,\n",
       " 1230,\n",
       " 1240,\n",
       " 1250,\n",
       " 1260,\n",
       " 1270,\n",
       " 1280,\n",
       " 1290,\n",
       " 1300,\n",
       " 1310,\n",
       " 1320,\n",
       " 1330,\n",
       " 1340,\n",
       " 1350,\n",
       " 1360,\n",
       " 1370,\n",
       " 1380,\n",
       " 1390,\n",
       " 1400,\n",
       " 1410,\n",
       " 1420,\n",
       " 1430,\n",
       " 1440,\n",
       " 1450,\n",
       " 1460,\n",
       " 1470,\n",
       " 1480,\n",
       " 1490,\n",
       " 1500,\n",
       " 1510,\n",
       " 1520,\n",
       " 1530,\n",
       " 1540,\n",
       " 1550,\n",
       " 1560,\n",
       " 1570,\n",
       " 1580,\n",
       " 1590,\n",
       " 1600,\n",
       " 1610,\n",
       " 1620,\n",
       " 1630,\n",
       " 1640,\n",
       " 1650,\n",
       " 1660,\n",
       " 1670,\n",
       " 1680,\n",
       " 1690,\n",
       " 1700,\n",
       " 1710,\n",
       " 1720,\n",
       " 1730,\n",
       " 1740,\n",
       " 1750,\n",
       " 1760,\n",
       " 1770,\n",
       " 1780,\n",
       " 1790,\n",
       " 1800,\n",
       " 1810,\n",
       " 1820,\n",
       " 1830,\n",
       " 1840,\n",
       " 1850,\n",
       " 1860,\n",
       " 1870,\n",
       " 1880,\n",
       " 1890,\n",
       " 1900,\n",
       " 1910,\n",
       " 1920,\n",
       " 1930,\n",
       " 1940,\n",
       " 1950,\n",
       " 1960,\n",
       " 1970,\n",
       " 1980,\n",
       " 1990,\n",
       " 2000,\n",
       " 2010,\n",
       " 2020,\n",
       " 2030,\n",
       " 2040,\n",
       " 2050,\n",
       " 2060,\n",
       " 2070,\n",
       " 2080,\n",
       " 2090,\n",
       " 2100,\n",
       " 2110,\n",
       " 2120,\n",
       " 2130,\n",
       " 2140,\n",
       " 2150,\n",
       " 2160,\n",
       " 2170,\n",
       " 2180,\n",
       " 2190,\n",
       " 2200,\n",
       " 2210,\n",
       " 2220,\n",
       " 2230,\n",
       " 2240,\n",
       " 2250,\n",
       " 2260,\n",
       " 2270,\n",
       " 2280,\n",
       " 2290,\n",
       " 2300,\n",
       " 2310,\n",
       " 2320,\n",
       " 2330,\n",
       " 2340,\n",
       " 2350,\n",
       " 2360,\n",
       " 2370,\n",
       " 2380,\n",
       " 2390,\n",
       " 2400,\n",
       " 2410,\n",
       " 2420,\n",
       " 2430,\n",
       " 2440,\n",
       " 2450,\n",
       " 2460,\n",
       " 2470,\n",
       " 2480,\n",
       " 2490,\n",
       " 2500,\n",
       " 2510,\n",
       " 2520,\n",
       " 2530,\n",
       " 2540,\n",
       " 2550,\n",
       " 2560,\n",
       " 2570,\n",
       " 2580,\n",
       " 2590,\n",
       " 2600,\n",
       " 2610,\n",
       " 2620,\n",
       " 2630,\n",
       " 2640,\n",
       " 2650,\n",
       " 2660,\n",
       " 2670,\n",
       " 2680,\n",
       " 2690,\n",
       " 2700,\n",
       " 2710,\n",
       " 2720,\n",
       " 2730,\n",
       " 2740,\n",
       " 2750,\n",
       " 2760,\n",
       " 2770,\n",
       " 2780,\n",
       " 2790,\n",
       " 2800,\n",
       " 2810,\n",
       " 2820,\n",
       " 2830,\n",
       " 2840,\n",
       " 2850,\n",
       " 2860,\n",
       " 2870,\n",
       " 2880,\n",
       " 2890,\n",
       " 2900,\n",
       " 2910,\n",
       " 2920,\n",
       " 2930,\n",
       " 2940,\n",
       " 2950,\n",
       " 2960,\n",
       " 2970,\n",
       " 2980,\n",
       " 2990,\n",
       " 3000,\n",
       " 3010,\n",
       " 3020,\n",
       " 3030,\n",
       " 3040,\n",
       " 3050,\n",
       " 3060,\n",
       " 3070,\n",
       " 3080,\n",
       " 3090,\n",
       " 3100,\n",
       " 3110,\n",
       " 3120,\n",
       " 3130,\n",
       " 3140,\n",
       " 3150,\n",
       " 3160,\n",
       " 3170,\n",
       " 3180,\n",
       " 3190,\n",
       " 3200,\n",
       " 3210,\n",
       " 3220,\n",
       " 3230,\n",
       " 3240,\n",
       " 3250,\n",
       " 3260,\n",
       " 3270,\n",
       " 3280,\n",
       " 3290,\n",
       " 3300,\n",
       " 3310,\n",
       " 3320,\n",
       " 3330,\n",
       " 3340,\n",
       " 3350,\n",
       " 3360,\n",
       " 3370,\n",
       " 3380,\n",
       " 3390,\n",
       " 3400,\n",
       " 3410,\n",
       " 3420,\n",
       " 3430,\n",
       " 3440,\n",
       " 3450,\n",
       " 3460,\n",
       " 3470,\n",
       " 3480,\n",
       " 3490,\n",
       " 3500,\n",
       " 3510,\n",
       " 3520,\n",
       " 3530,\n",
       " 3540,\n",
       " 3550,\n",
       " 3560,\n",
       " 3570,\n",
       " 3580,\n",
       " 3590,\n",
       " 3600,\n",
       " 3610,\n",
       " 3620,\n",
       " 3630,\n",
       " 3640,\n",
       " 3650,\n",
       " 3660,\n",
       " 3670,\n",
       " 3680,\n",
       " 3690,\n",
       " 3700,\n",
       " 3710,\n",
       " 3720,\n",
       " 3730,\n",
       " 3740,\n",
       " 3750,\n",
       " 3760,\n",
       " 3770,\n",
       " 3780,\n",
       " 3790,\n",
       " 3800,\n",
       " 3810,\n",
       " 3820,\n",
       " 3830,\n",
       " 3840,\n",
       " 3850,\n",
       " 3860,\n",
       " 3870,\n",
       " 3880,\n",
       " 3890,\n",
       " 3900,\n",
       " 3910,\n",
       " 3920,\n",
       " 3930,\n",
       " 3940,\n",
       " 3950,\n",
       " 3960,\n",
       " 3970,\n",
       " 3980,\n",
       " 3990,\n",
       " 4000,\n",
       " 4010,\n",
       " 4020,\n",
       " 4030,\n",
       " 4040,\n",
       " 4050,\n",
       " 4060,\n",
       " 4070,\n",
       " 4080,\n",
       " 4090,\n",
       " 4100,\n",
       " 4110,\n",
       " 4120,\n",
       " 4130,\n",
       " 4140,\n",
       " 4150,\n",
       " 4160,\n",
       " 4170,\n",
       " 4180,\n",
       " 4190,\n",
       " 4200,\n",
       " 4210,\n",
       " 4220,\n",
       " 4230,\n",
       " 4240,\n",
       " 4250,\n",
       " 4260,\n",
       " 4270,\n",
       " 4280,\n",
       " 4290,\n",
       " 4300,\n",
       " 4310,\n",
       " 4320,\n",
       " 4330,\n",
       " 4340,\n",
       " 4350,\n",
       " 4360,\n",
       " 4370,\n",
       " 4380,\n",
       " 4390,\n",
       " 4400,\n",
       " 4410,\n",
       " 4420,\n",
       " 4430,\n",
       " 4440,\n",
       " 4450,\n",
       " 4460,\n",
       " 4470,\n",
       " 4480,\n",
       " 4490,\n",
       " 4500,\n",
       " 4510,\n",
       " 4520,\n",
       " 4530,\n",
       " 4540,\n",
       " 4550,\n",
       " 4560,\n",
       " 4570,\n",
       " 4580,\n",
       " 4590,\n",
       " 4600,\n",
       " 4610,\n",
       " 4620,\n",
       " 4630,\n",
       " 4640,\n",
       " 4650,\n",
       " 4660,\n",
       " 4670,\n",
       " 4680,\n",
       " 4690,\n",
       " 4700,\n",
       " 4710,\n",
       " 4720,\n",
       " 4730,\n",
       " 4740,\n",
       " 4750,\n",
       " 4760,\n",
       " 4770,\n",
       " 4780,\n",
       " 4790,\n",
       " 4800,\n",
       " 4810,\n",
       " 4820,\n",
       " 4830,\n",
       " 4840,\n",
       " 4850,\n",
       " 4860,\n",
       " 4870,\n",
       " 4880,\n",
       " 4890,\n",
       " 4900,\n",
       " 4910,\n",
       " 4920,\n",
       " 4930,\n",
       " 4940,\n",
       " 4950,\n",
       " 4960,\n",
       " 4970,\n",
       " 4980,\n",
       " 4990]"
      ]
     },
     "execution_count": 8,
     "metadata": {},
     "output_type": "execute_result"
    }
   ],
   "source": [
    "numbers = range(0,5000,10)\n",
    "numbers"
   ]
  },
  {
   "cell_type": "code",
   "execution_count": 31,
   "metadata": {
    "collapsed": false
   },
   "outputs": [
    {
     "ename": "NameError",
     "evalue": "name 'BeautifulSoup' is not defined",
     "output_type": "error",
     "traceback": [
      "\u001b[0;31m---------------------------------------------------------------------------\u001b[0m",
      "\u001b[0;31mNameError\u001b[0m                                 Traceback (most recent call last)",
      "\u001b[0;32m<ipython-input-31-5979aa01f1f7>\u001b[0m in \u001b[0;36m<module>\u001b[0;34m()\u001b[0m\n\u001b[1;32m      3\u001b[0m \u001b[0;34m\u001b[0m\u001b[0m\n\u001b[1;32m      4\u001b[0m \u001b[0mr\u001b[0m \u001b[0;34m=\u001b[0m \u001b[0mrequests\u001b[0m\u001b[0;34m.\u001b[0m\u001b[0mget\u001b[0m\u001b[0;34m(\u001b[0m\u001b[0mURL\u001b[0m\u001b[0;34m)\u001b[0m\u001b[0;34m\u001b[0m\u001b[0m\n\u001b[0;32m----> 5\u001b[0;31m \u001b[0msoup\u001b[0m \u001b[0;34m=\u001b[0m \u001b[0mBeautifulSoup\u001b[0m\u001b[0;34m(\u001b[0m\u001b[0mr\u001b[0m\u001b[0;34m.\u001b[0m\u001b[0mtext\u001b[0m\u001b[0;34m)\u001b[0m\u001b[0;34m\u001b[0m\u001b[0m\n\u001b[0m\u001b[1;32m      6\u001b[0m \u001b[0;31m# reviews start on the 12th position everytime\u001b[0m\u001b[0;34m\u001b[0m\u001b[0;34m\u001b[0m\u001b[0m\n\u001b[1;32m      7\u001b[0m \u001b[0;31m#soup.select('p')[12].text\u001b[0m\u001b[0;34m\u001b[0m\u001b[0;34m\u001b[0m\u001b[0m\n",
      "\u001b[0;31mNameError\u001b[0m: name 'BeautifulSoup' is not defined"
     ]
    }
   ],
   "source": [
    "URL = \"http://www.imdb.com/title/tt0111161/reviews?start=0\"\n",
    "\n",
    "\n",
    "r = requests.get(URL)\n",
    "soup = BeautifulSoup(r.text)\n",
    "# reviews start on the 12th position everytime\n",
    "#soup.select('p')[12].text"
   ]
  },
  {
   "cell_type": "code",
   "execution_count": 28,
   "metadata": {
    "collapsed": false
   },
   "outputs": [],
   "source": [
    "x = r.content\n"
   ]
  },
  {
   "cell_type": "code",
   "execution_count": 30,
   "metadata": {
    "collapsed": false
   },
   "outputs": [
    {
     "data": {
      "text/plain": [
       "'\\n<!Doctype Html>\\n<Html Xmlns:Og=\"Http://Opengraphprotocol.Org/Schema/\"\\n      Xmlns:Fb=\"Http://Www.Facebook.Com/2008/Fbml\">\\n<Head>\\n<Meta Http-Equiv=\"Content-Type\" Content=\"Text/Html; Charset=Iso-8859-1\">\\n<Script Type=\"Text/Javascript\">Var Imdbtimer={Starttime: New Date().Gettime()};</Script>\\n<Script>(Function(T){ (T.Events = T.Events || {})[\"Csm_Head_Pre_Title\"] = New Date().Gettime(); })(Imdbtimer);</Script>\\n<Script>\\nVar Addclickstreamheaderstoajax = Function(Xhr) {\\n    Xhr.Setrequestheader(\"X-Imdb-Parent-Id\", \"1Nthgrbhemq0Rseqg83W\");\\n};\\n</Script>\\n\\n<Title>The Shawshank Redemption  Reviews &#X26; Ratings - Imdb</Title>\\n<Script>(Function(T){ (T.Events = T.Events || {})[\"Csm_Head_Post_Title\"] = New Date().Gettime(); })(Imdbtimer);</Script>\\n<Link Rel=\"Canonical\" Href=\"Http://Www.Imdb.Com/Title/Tt0111161/Reviews\" /><Meta Property=\"Og:Url\" Content=\"Http://Www.Imdb.Com/Title/Tt0111161/Reviews\" />\\n\\n<Meta Name=\"Title\" Content=\"The Shawshank Redemption  Reviews &#X26; Ratings - Imdb\">\\n<Meta Name=\"Description\" Content=\"Review: Tied For The Best Movie I Have Ever Seen - Why Do I Want To Write The 234Th Comment On The Shawshank Redemption? I Am Not Sure - Almost Everything...\">\\n\\n<Meta Name=\"Keywords\" Content=\"Reviews, Showtimes, Dvds, Photos, Message Boards, User Ratings, Synopsis, Trailers, Credits\">\\n<Script>(Function(T){ (T.Events = T.Events || {})[\"Csm_Head_Pre_Css\"] = New Date().Gettime(); })(Imdbtimer);</Script>\\n<Link Rel=\"Stylesheet\" Type=\"Text/Css\" Href=\"Http://I.Media-Imdb.Com/Images/Sfc25Df55Df212E779731Eda38C3806095/Css/Min/Lists.Css\" ><Link Rel=\"Stylesheet\" Type=\"Text/Css\" Href=\"Http://I.Media-Imdb.Com/Images/Sfd36761B30Ebc061C8D30826D3D211D3C/Css2/Site/Consumer-Navbar-Mega.Css\" ><Link Rel=\"Stylesheet\" Type=\"Text/Css\" Href=\"Http://I.Media-Imdb.Com/Images/Sfa88E6Ba92E5894E7909B0D2Ef5D21E79/Css2/Site/Consumer-Navbar-Suggestionsearch.Css\" ><Link Rel=\"Stylesheet\" Type=\"Text/Css\" Href=\"Http://I.Media-Imdb.Com/Images/Sfbffed916D439Cb9A451915Be4Eabd598/Css/Min/Title.Css\" ><Script>(Function(T){ (T.Events = T.Events || {})[\"Csm_Head_Post_Css\"] = New Date().Gettime(); })(Imdbtimer);</Script>\\n\\n\\n<Meta Name=\"Application-Name\" Content=\"Imdb\" />\\n<Meta Name=\"Msapplication-Tooltip\" Content=\"Imdb Web App\" />\\n<Meta Name=\"Msapplication-Window\" Content=\"Width=1500;Height=900\" />\\n<Meta Name=\"Msapplication-Task\" Content=\"Name=Find Movie Showtimes;Action-Uri=/Showtimes/;Icon-Uri=Http://I.Media-Imdb.Com/Images/Sfff39Adb4D259F3C3Fd166853A6714A32/Favicon.Ico\"/>\\n<Meta Name=\"Msapplication-Task\" Content=\"Name=Watch Hd Trailers;Action-Uri=/Features/Hdgallery;Icon-Uri=Http://I.Media-Imdb.Com/Images/Sfff39Adb4D259F3C3Fd166853A6714A32/Favicon.Ico\"/>\\n<Meta Name=\"Msapplication-Task\" Content=\"Name=What\\'S On Tv Tonight;Action-Uri=/Sections/Tv/;Icon-Uri=Http://I.Media-Imdb.Com/Images/Sfff39Adb4D259F3C3Fd166853A6714A32/Favicon.Ico\"/>\\n<Meta Name=\"Msapplication-Task\" Content=\"Name=Get Latest Entertainment News;Action-Uri=/News/Top;Icon-Uri=Http://I.Media-Imdb.Com/Images/Sfff39Adb4D259F3C3Fd166853A6714A32/Favicon.Ico\"/>\\n<Meta Name=\"Msapplication-Task\" Content=\"Name=Sign-In;Action-Uri=/Register/Login;Icon-Uri=Http://I.Media-Imdb.Com/Images/Sfff39Adb4D259F3C3Fd166853A6714A32/Favicon.Ico\"/>\\n<Script>(Function(T){ (T.Events = T.Events || {})[\"Csm_Head_Pre_Icon\"] = New Date().Gettime(); })(Imdbtimer);</Script>\\n<Link Rel=\"Icon\" Type=\"Image/Ico\" Href=\"Http://I.Media-Imdb.Com/Images/Sfff39Adb4D259F3C3Fd166853A6714A32/Favicon.Ico\" />\\n<Link Rel=\"Shortcut Icon\" Type=\"Image/X-Icon\" Href=\"Http://I.Media-Imdb.Com/Images/Sfff39Adb4D259F3C3Fd166853A6714A32/Desktop-Favicon.Ico\" />\\n<Link Href=\"Http://I.Media-Imdb.Com/Images/Sff8F1B67827A5Df7F13Bdfc19D935Ed62/Mobile/Apple-Touch-Icon-Web.Png\" Rel=\"Apple-Touch-Icon\"> \\n<Link Href=\"Http://I.Media-Imdb.Com/Images/Sf7992061047D0Cfee4F580F432264F5A5/Mobile/Apple-Touch-Icon-Web-76X76.Png\" Rel=\"Apple-Touch-Icon\" Sizes=\"76X76\"> \\n<Link Href=\"Http://I.Media-Imdb.Com/Images/Sf6Ff760Bc2F74D7Aa806C6Cdea88Da4Ee/Mobile/Apple-Touch-Icon-Web-120X120.Png\" Rel=\"Apple-Touch-Icon\" Sizes=\"120X120\"> \\n<Link Href=\"Http://I.Media-Imdb.Com/Images/Sff1Bafc988Ae4011Ee3F42C0144284Ce4/Mobile/Apple-Touch-Icon-Web-152X152.Png\" Rel=\"Apple-Touch-Icon\" Sizes=\"152X152\"> \\n<Link Rel=\"Search\" Type=\"Application/Opensearchdescription+Xml\"\\n      Href=\"Http://I.Media-Imdb.Com/Images/Sfccbe1E4D909Ef8B8077201C3C5Aac349/Imdbsearch.Xml\" Title=\"Imdb\" />\\n<Script>(Function(T){ (T.Events = T.Events || {})[\"Csm_Head_Post_Icon\"] = New Date().Gettime(); })(Imdbtimer);</Script>\\n\\n<Meta Property=\"Fb:App_Id\" Content=\"115109575169727\" />\\n<Meta Property=\"Og:Title\" Content=\"The Shawshank Redemption  Reviews &#X26; Ratings - Imdb\" />\\n<Meta Property=\"Og:Site_Name\" Content=\"Imdb\" />\\n<Script>(Function(T){ (T.Events = T.Events || {})[\"Csm_Head_Pre_Ads\"] = New Date().Gettime(); })(Imdbtimer);</Script>\\n<!-- Start M/S/A/_G_A_S , Head -->\\n<Script>\\nWindow.Ads_Js_Start = New Date().Gettime();\\nVar Imdbads = Imdbads || {}; Imdbads.Cmd = Imdbads.Cmd || [];\\n</Script>\\n<!-- Begin Sra -->\\n<Script>\\n!Function A(B,C,D){Function E(G,H){If(!C[G]){If(!B[G]){Var I=\"Function\"==Typeof Require&&Require;If(!H&&I)Return I(G,!0);If(F)Return F(G,!0);Var J=New Error(\"Cannot Find Module \\'\"+G+\"\\'\");Throw J.Code=\"Module_Not_Found\",J}Var K=C[G]={Exports:{}};B[G][0].Call(K.Exports,Function(A){Var C=B[G][1][A];Return E(C?C:A)},K,K.Exports,A,B,C,D)}Return C[G].Exports}For(Var F=\"Function\"==Typeof Require&&Require,G=0;G<D.Length;G++)E(D[G]);Return E}({1:[Function(A,B,C){\"Use Strict\";A(2)},{2:2}],2:[Function(A,B,C){\"Use Strict\";!Function(){Var A,B,C=Function(A){Return\"[Object Array]\"===Object.Prototype.Tostring.Call(A)},D=Function(A,B){For(Var C=0;C<A.Length;C++)C In A&&B.Call(Null,A[C],C)},E=[],F=!1,G=!1,H=Function(){Var A=[],B=[],C={};Return D(E,Function(E){Var F=\"\";D(E.Dartsite.Split(\"/\"),Function(B){\"\"!==B&&(B In C||(C[B]=A.Length,A.Push(B)),F+=\"/\"+C[B])}),B.Push(F)}),{Iu_Parts:A,Enc_Prev_Ius:B}},I=Function(){Var A=[];Return D(E,Function(B){Var C=[];D(B.Sizes,Function(A){C.Push(A.Join(\"X\"))}),A.Push(C.Join(\"|\"))}),A},J=Function(){Var A=[];Return D(E,Function(B){A.Push(K(B.Targeting))}),A.Join(\"|\")},K=Function(A,B){Var C,D=[];For(Var E In A){C=[];For(Var F=0;F<A[E].Length;F++)C.Push(Encodeuricomponent(A[E][F]));B?D.Push(E+\"=\"+Encodeuricomponent(C.Join(\",\"))):D.Push(E+\"=\"+C.Join(\",\"))}Return D.Join(\"&\")},L=Function(){Var A=+New Date;G||Document.Readystate&&\"Loaded\"!==Document.Readystate||(G=!0,F&&Imdbads.Cmd.Push(Function(){For(Var B=0;B<E.Length;B++)Generic.Monitoring.Record_Metric(E[B].Name+\".Fail\",Csm.Duration(A))}))};Window.Tinygpt={Define_Slot:Function(A,B,C,D){E.Push({Dartsite:A.Replace(/\\\\/$/,\"\"),Sizes:B,Name:C,Targeting:D})},Set_Targeting:Function(B){A=B},Callback:Function(A){For(Var C,D,F={},G=+New Date,H=0;H<E.Length;H++)C=E[H].Dartsite,D=E[H].Name,A[H][C]?F[D]=A[H][C]:Window.Console&&Console.Error&&Console.Error(\"Unable To Correlate Gpt Response For \"+D);Imdbads.Cmd.Push(Function(){For(Var A=0;A<E.Length;A++)Ad_Utils.Slot_Events.Trigger(E[A].Name,\"Request\",{Timestamp:B}),Ad_Utils.Slot_Events.Trigger(E[A].Name,\"Tagdeliver\",{Timestamp:G});Ad_Utils.Gpt.Handle_Response(F)})},Send:Function(){Var D,G,M=[],N=Function(A,B){C(B)&&(B=B.Join(\",\")),B&&M.Push(A+\"=\"+Encodeuricomponent(\"\"+B))};If(0===E.Length)Return Void Tinygpt.Callback({});N(\"Gdfp_Req\",\"1\"),N(\"Correlator\",Math.Floor(4503599627370496*Math.Random())),N(\"Output\",\"Json_Html\"),N(\"Callback\",\"Tinygpt.Callback\"),N(\"Impl\",\"Fifs\"),N(\"Json_A\",\"1\");Var O=H();N(\"Iu_Parts\",O.Iu_Parts),N(\"Enc_Prev_Ius\",O.Enc_Prev_Ius),N(\"Prev_Iu_Szs\",I()),N(\"Prev_Scp\",J()),N(\"Cust_Params\",K(A,!0)),D=Document.Createelement(\"Script\"),G=Document.Getelementsbytagname(\"Script\")[0],D.Async=!0,D.Type=\"Text/Javascript\",D.Src=\"Http://Pubads.G.Doubleclick.Net/Gampad/Ads?\"+M.Join(\"&\"),D.Id=\"Tinygpt\",D.Onload=D.Onerror=D.Onreadystatechange=L,F=!0,G.Parentnode.Insertbefore(D,G),B=+New Date}}}()},{}]},{},[1]);</Script>\\n<Script>\\nTinygpt.Define_Slot(\\'/4215/Imdb2.Consumer.Title/\\',\\n[[728,90],[1008,150],[1008,200],[1008,30],[970,250],[9,1]],\\n\\'Top_Ad\\',\\n{\\n\\'P\\': [\\'Top\\',\\'T\\']\\n});\\nTinygpt.Define_Slot(\\'/4215/Imdb2.Consumer.Title/\\',\\n[[300,250],[300,600],[11,1]],\\n\\'Top_Rhs\\',\\n{\\n\\'P\\': [\\'Tr\\']\\n});\\nTinygpt.Set_Targeting({\\n\\'Tt\\' : [\\'F\\'],\\n\\'Ab\\' : [\\'F\\'],\\n\\'Coo\\' : [\\'Us\\'],\\n\\'B\\' : [\\'T25\\',\\'T250\\',\\'T250A\\'],\\n\\'C\\' : [\\'1\\'],\\n\\'G\\' : [\\'Dr\\',\\'Cr\\'],\\n\\'Bpx\\' : [\\'1\\'],\\n\\'M\\' : [\\'R\\'],\\n\\'Fv\\' : [\\'1\\'],\\n\\'Mh\\' : [\\'R\\'],\\n\\'Id\\' : [\\'Tt0111161\\'],\\n\\'Ml\\' : [\\'R\\'],\\n\\'U\\': [\\'778833035508\\'],\\n\\'Oe\\': [\\'Utf-8\\']\\n});\\nTinygpt.Send();\\n</Script>\\n<!-- Begin Ads Header -->\\n<Script Src=\"Http://Ia.Media-Imdb.Com/Images/G/01/Imdbads/Js/Collections/Ads-Tarnhelm-2938105029._Cb284274626_.Js\"></Script>\\n<Script Src=\"Https://Images-Na.Ssl-Images-Amazon.Com/Images/G/01/Dacx/Sf/Dasf-1.34_Fx1._V275812351_.Js\"></Script>\\n<Script>\\nDowithads = Function(){};\\n</Script>\\n<Script>\\nDowithads = Function(Inside, Failuremessage){\\nIf (\\'Consolelog\\' In Window &&\\n\\'Generic\\' In Window &&\\n\\'Ad_Utils\\' In Window &&\\n\\'Custom\\' In Window &&\\n\\'Monitoring\\' In Generic &&\\n\\'Document_Is_Ready\\' In Generic) {\\nTry{\\nInside.Call(This);\\n}Catch(E) {\\nIf ( Window.Uelogerror ) {\\nIf(Typeof Failuremessage !== \\'Undefined\\'){\\nE.Message = Failuremessage;\\n}\\nE.Attribution = \"Advertising\";\\nE.Loglevel = \"Error\";\\nUelogerror(E);\\n}\\nIf( (Document.Location.Hash.Match(\\'Debug=1\\')) &&\\n(Typeof Failuremessage !== \\'Undefined\\') ){\\nConsole.Error(Failuremessage);\\n}\\n}\\n} Else {\\nIf( (Document.Location.Hash.Match(\\'Debug=1\\')) &&\\n(Typeof Failuremessage !== \\'Undefined\\') ){\\nConsole.Error(Failuremessage);\\n}\\n}\\n};\\n</Script><Script>\\nDowithads(Function(){\\nIf (Typeof Dasf != \\'Undefined\\' && Typeof Dasf.Registercustommessagelistener === \\'Function\\') {\\nDasf.Registercustommessagelistener(\\'Adfeedback\\', Window.Ad_Utils.Show_Ad_Feedback);\\nDasf.Registercustommessagelistener(\\'Sendmetrics\\', Window.Generic.Monitoring.Update_Sf_Slot_Metrics);\\nDasf.Registercustommessagelistener(\\'Expand\\', Window.Ad_Utils.Expand_Overlay);\\nDasf.Registercustommessagelistener(\\'Collapse\\', Window.Ad_Utils.Collapse_Overlay);\\n}\\nGeneric.Monitoring.Record_Metric(\"Ads_Js_Request_To_Done\", (New Date().Gettime()) - Window.Ads_Js_Start);\\nGeneric.Monitoring.Set_Forester_Info(\"Title\");\\nGeneric.Monitoring.Set_Twilight_Info(\\n\"Title_Subpage\",\\n\"Other\",\\n\"91Aaef39802D15Af9A9Fac62181F22F1Dd83E69C\",\\n\"2016-07-14T07%3A38%3A57Gmt\",\\n\"Http://S.Media-Imdb.Com/Twilight/?\",\\n\"Consumer\");\\nGeneric.Send_Csm_Head_Metrics && Generic.Send_Csm_Head_Metrics();\\nGeneric.Monitoring.Start_Timing(\"Page_Load\");\\nGeneric.Seconds_To_Midnight = 84063;\\nGeneric.Days_To_Midnight = 0.9729514122009277;\\nAd_Utils.Set_Slots_On_Page({ \\'Injected_Billboard\\':1, \\'Injected_Navstrip\\':1, \\'Bottom_Ad\\':1, \\'Top_Ad\\':1, \\'Top_Rhs\\':1 });\\nCustom.Full_Page.Data_Url = \"Http://Ia.Media-Imdb.Com/Images/G/01/Imdbads/Js/Graffiti_Data-3230827532._Cb273208255_.Js\";\\nConsolelog(\\'Advertising Initialized\\',\\'Ads\\');\\n},\"Ads Js Missing, Skipping Ads Setup.\");\\nVar _Gaq = _Gaq || [];\\n_Gaq.Push([\\'_Setcustomvar\\', 4, \\'Ads_Abtest_Treatment\\', \\'F\\']);\\n</Script>\\n<Script>Dowithads(Function() { Ad_Utils.Ads_Header.Done(); });</Script>\\n<!-- End Ads Header --><!-- End M/S/A/_G_A_S , Head -->\\n\\n</Head>\\n\\n<Body Bgcolor=\"#Ffffff\" Text=\"#000000\" Id=\"Styleguide-V2\" Class=\"Fixed\">\\n<!-- Start M/S/A/_G_A_S , Body -->\\n<!-- End M/S/A/_G_A_S , Body -->\\n\\n<Div Id=\"Wrapper\">\\n  \\n<Div Id=\"Root\">\\n<Layer Name=\"Root\">\\n  \\n\\n\\n\\n\\n<Div Id=\"Nb20\" Class=\"Navbarsprite\">\\n    <Div Id=\"Supertab\">\\n\\n\\n<!-- Begin Top_Ad -->\\n<Div Id=\"Top_Ad_Wrapper\" Class=\"Dfp_Slot\">\\n<Script>\\nWindow.Generic = Window.Generic || {};\\nGeneric.Alphalfacomponents = {\\n\"Alphalfa-Container.Html\" : \"Http://Ia.Media-Imdb.Com/Images/G/01/Imdbads/Alphalfa-Container-253150330._Cb273211144_.Html\",\\n\"Js/Collections/Alphalfa.Js\" : \"Http://Ia.Media-Imdb.Com/Images/G/01/Imdbads/Js/Collections/Alphalfa-3292747090._Cb273277411_.Js\"\\n};\\n</Script>\\n<Script Type=\"Text/Javascript\">\\nDowithads(Function(){\\nAd_Utils.Register_Ad(\\'Top_Ad\\');\\n});\\n</Script>\\n<Iframe Data-Dart-Params=\"#Imdb2.Consumer.Title/;!Tile!;Sz=728X90,1008X150,1008X200,1008X30,970X250,9X1;P=Top;P=T;G=Dr;G=Cr;Tt=F;M=R;Mh=R;Ml=R;Coo=Us;B=T25;B=T250;B=T250A;Fv=1;Id=Tt0111161;Ab=F;Bpx=1;C=1;Oe=Utf-8;[Client_Side_Keyvalues];U=778833035508;Ord=778833035508?\" Id=\"Top_Ad\" Name=\"Top_Ad\" Class=\"Yesscript\" Width=\"0\" Height=\"85\" Data-Original-Width=\"0\" Data-Original-Height=\"85\" Data-Config-Width=\"0\" Data-Config-Height=\"85\" Data-Cookie-Width=\"Null\" Data-Cookie-Height=\"Null\" Marginwidth=\"0\" Marginheight=\"0\" Frameborder=\"0\" Scrolling=\"No\" Allowtransparency=\"True\" Onload=\"Dowithads.Call(This, Function(){ Ad_Utils.On_Ad_Load(This); });\"></Iframe>\\n<Noscript> <A Href=\"Http://Pubads.G.Doubleclick.Net/Gampad/Jump?&Iu=4215/Imdb2.Consumer.Title/&Sz=728X90|1008X150|1008X200|1008X30|970X250|9X1&T=P%3Dtop%26P%3Dt%26G%3Ddr%26G%3Dcr%26Tt%3Df%26M%3Dr%26Mh%3Dr%26Ml%3Dr%26Coo%3Dus%26B%3Dt25%26B%3Dt250%26B%3Dt250A%26Fv%3D1%26Id%3Dtt0111161%26Ab%3Df%26Bpx%3D1%26C%3D1&Tile=0&C=778833035508\" Target=\"_Blank\"> <Img Src=\"Http://Pubads.G.Doubleclick.Net/Gampad/Ad?&Iu=4215/Imdb2.Consumer.Title/&Sz=728X90|1008X150|1008X200|1008X30|970X250|9X1&T=P%3Dtop%26P%3Dt%26G%3Ddr%26G%3Dcr%26Tt%3Df%26M%3Dr%26Mh%3Dr%26Ml%3Dr%26Coo%3Dus%26B%3Dt25%26B%3Dt250%26B%3Dt250A%26Fv%3D1%26Id%3Dtt0111161%26Ab%3Df%26Bpx%3D1%26C%3D1&Tile=0&C=778833035508\" Border=\"0\" Alt=\"Advertisement\" /> </A> </Noscript>\\n</Div>\\n<Div Id=\"Top_Ad_Reflow_Helper\"></Div>\\n<Script>\\nDowithads(Function(){\\nAd_Utils.Gpt.Render_Ad(\\'Top_Ad\\');\\n}, \"Ad_Utils Not Defined, Unable To Render Client-Side Gpt Ad.\");\\n</Script>\\n<!-- End Top_Ad --><!-- _Get_Ad_For_Slot(Top_Ad) -->\\n</Div>\\n\\t<Div Id=\"Navbar\">\\n        <Noscript><Link Rel=\"Stylesheet\" Type=\"Text/Css\" Href=\"Http://I.Media-Imdb.Com/Images/Sf52E6B9F11712D3Ec552179F6C869B63A/Css2/Site/Consumer-Navbar-No-Js.Css\"></Noscript>\\n\\t\\t<Span Id=\"Home_Img_Holder\">            <A     Href=\"/?Ref_=Nv_Home\"    Id=\\'Home_Img\\' Class=\\'Navbarsprite\\' Title=\\'Home\\' ></A>\\n\\n            <Span Class=\"Alt_Logo\">\\n                <A     Href=\"/?Ref_=Nv_Home\"    Title=\\'Home\\' >Imdb</A>\\n            </Span>\\n        </Span>\\n\\n\\n<Form    Action=\"/Find\"    Method=\"Get\" Id=\"Navbar-Form\" Class=\"Nav-Searchbar-Inner\" Accept-Charset=\"Utf-8\" >\\n\\n<Div Id=\"Nb_Search\" >\\n\\n  <Noscript><Div Id=\"More_If_No_Javascript\"><A Href=\"/Search/\">More</A></Div></Noscript>\\n  <Button Id=\"Navbar-Submit-Button\" Class=\"Primary Btn\" Type=\"Submit\"><Div Class=\"Magnifyingglass Navbarsprite\"></Div></Button>\\n  <Input Type=\"Hidden\" Name=\"Ref_\" Value=\"Nv_Sr_Fn\" />\\n  <Input Type=\"Text\" Autocomplete=\"Off\" Value=\"\" Name=\"Q\" Id=\"Navbar-Query\" Placeholder=\"Find Movies, Tv Shows, Celebrities And More...\" >\\n  <Div Class=\"Quicksearch_Dropdown_Wrapper\">\\n\\n<Select\\n    Class=\"Quicksearch_Dropdown Navbarsprite\"\\n    Name=\"S\"\\n    Id=\"Quicksearch\"\\n    Onchange=\"Jumpmenu(This); Suggestionsearch_Dropdown_Choice(This);\">\\n\\n    <Option  \\n     Value=\"All\">All</Option>\\n    <Option  \\n     Value=\"Tt\">Titles</Option>\\n    <Option  \\n     Value=\"Ep\">Tv Episodes</Option>\\n    <Option  \\n     Value=\"Nm\">Names</Option>\\n    <Option  \\n     Value=\"Co\">Companies</Option>\\n    <Option  \\n     Value=\"Kw\">Keywords</Option>\\n    <Option  \\n     Value=\"Ch\">Characters</Option>\\n    <Option  \\n     Value=\"Qu\">Quotes</Option>\\n    <Option  \\n     Value=\"Bi\">Bios</Option>\\n    <Option  \\n     Value=\"Pl\">Plots</Option>\\n</Select>\\n\\n  </Div>\\n\\n<Div Id=\"Navbar-Suggestionsearch\"></Div>\\n</Div>\\n\\n</Form>\\n\\n\\n<Div Id=\"Megamenu\">\\n    <Ul Id=\"Consumer_Main_Nav\" Class=\"Main_Nav\">\\n        <Li Class=\"Spacer\"></Li>\\n        <Li Class=\"Css_Nav_Item\" Id=\"Navtitlemenu\" Aria-Haspopup=\"True\">\\n            <P Class=\"Navcategory\">\\n                <A     Href=\"/Movies-In-Theaters/?Ref_=Nv_Tp_Inth_1\"    >Movies</A>,\\n                <A     Href=\"/Chart/Toptv/?Ref_=Nv_Tp_Tv250_2\"    >Tv</A><Br />\\n                & <A     Href=\"/Showtimes/?Ref_=Nv_Tp_Sh_3\"    >Showtimes</A></P>\\n            <Span Class=\"Downarrow\"></Span>\\n            <Div Id=\"Navmenu1\" Class=\"Sub_Nav\">\\n                <Div Id=\"Titlead\"></Div>\\n                <Div Class=\"Subnavlistcontainer\">\\n                    <H5>Movies</H5>\\n                    <Ul>\\n                        \\n                        <Li><A     Href=\"/Movies-In-Theaters/?Ref_=Nv_Mv_Inth_1\"    >In Theaters</A></Li>\\n                        <Li><A     Href=\"/Showtimes/?Ref_=Nv_Mv_Sh_2\"    >Showtimes & Tickets</A></Li>\\n                        <Li><A     Href=\"/Trailers/?Ref_=Nv_Mv_Tr_3\"    >Latest Trailers</A></Li>\\n                        <Li><A     Href=\"/Movies-Coming-Soon/?Ref_=Nv_Mv_Cs_4\"    >Coming Soon</A></Li>\\n                        <Li><A     Href=\"/Calendar/?Ref_=Nv_Mv_Cal_5\"    >Release Calendar</A></Li>\\n                        <Li><A     Href=\"/Chart/Top/?Ref_=Nv_Mv_250_6\"    >Top Rated Movies</A></Li>\\n                        <Li><A     Href=\"/Chart/Moviemeter/?Ref_=Nv_Mv_Mpm_7\"    >Most Popular Movies</A></Li>\\n                    </Ul>\\n                    <H5>Charts & Trends</H5>\\n                    <Ul>\\n                        <Li><A     Href=\"/Chart/?Ref_=Nv_Ch_Cht_1\"    >Box Office</A></Li>\\n                        <Li><A     Href=\"/Search/Title?Count=100&Groups=Oscar_Best_Picture_Winners&Sort=Year,Desc&Ref_=Nv_Ch_Osc_2\"    >Oscar Winners</A></Li>\\n                        <Li><A     Href=\"/Genre/?Ref_=Nv_Ch_Gr_3\"    >Most Popular By Genre</A></Li>\\n                    </Ul>\\n                </Div>\\n                <Div Class=\"Subnavlistcontainer\">\\n                    <H5>Tv & Video</H5>\\n                    <Ul>\\n                        <Li><A     Href=\"/Imdbpicks/Tv-Releases/?Ref_=Nv_Tvv_Picks_1\"    >Tv Picks</A></Li>\\n                        <Li><A     Href=\"/Tvgrid/?Ref_=Nv_Tvv_Ls_2\"    >On Tonight</A></Li>\\n                        <Li><A     Href=\"/Chart/Toptv/?Ref_=Nv_Tvv_250_3\"    >Top Rated Tv Shows</A></Li>\\n                        <Li><A     Href=\"/Chart/Tvmeter?Ref_=Nv_Tvv_Mptv_4\"    >Most Popular Tv Shows</A></Li>\\n                        <Li><A     Href=\"/Feature/Watch-Now-On-Amazon/?Ref_=Nv_Tvv_Wn_5\"    >Watch Now On Amazon</A></Li>\\n                        <Li><A     Href=\"/Sections/Dvd/?Ref_=Nv_Tvv_Dvd_6\"    >Dvd & Blu-Ray</A></Li>\\n                    </Ul>\\n                    <H5>Special Features</H5>\\n                    <Ul>\\n                        <Li><A     Href=\"/X-Ray/?Ref_=Nv_Sf_Xray_2\"    >X-Ray For Movies & Tv</A></Li>\\n                        <Li><A     Href=\"/Imdbpicks/?Ref_=Nv_Sf_Picks_3\"    >Imdb Picks</A></Li>\\n                        <Li><A     Href=\"/Best-Of/?Ref_=Nv_Sf_Bstof_4\"    >Best Of 2015</A></Li>\\n                        <Li><A     Href=\"/Youtube-Originals/?Ref_=Nv_Sf_Yto_5\"    >Youtube Originals</A></Li>\\n                    </Ul>\\n                </Div>\\n            </Div>\\n        </Li>\\n        <Li Class=\"Spacer\"></Li>\\n        <Li Class=\"Css_Nav_Item\" Id=\"Navnamemenu\" Aria-Haspopup=\"True\">\\n            <P Class=\"Navcategory\">\\n                <A     Href=\"/Search/Name?Gender=Male,Female&Ref_=Nv_Tp_Cel_1\"    >Celebs</A>,\\n                <A     Href=\"/Awards-Central/?Ref_=Nv_Tp_Awrd_2\"    >Events</A><Br />\\n                & <A     Href=\"/Gallery/Rg784964352?Ref_=Nv_Tp_Ph_3\"    >Photos</A></P>\\n            <Span Class=\"Downarrow\"></Span>\\n            <Div Id=\"Navmenu2\" Class=\"Sub_Nav\">\\n                <Div Id=\"Namead\"></Div>\\n                <Div Class=\"Subnavlistcontainer\">\\n                    <H5>Celebs</H5>\\n                    <Ul>\\n                        <Li><A     Href=\"/Search/Name?Birth_Monthday=7-14&Refine=Birth_Monthday&Ref_=Nv_Cel_Brn_1\"    >Born Today</A></Li>\\n                        <Li><A     Href=\"/News/Celebrity?Ref_=Nv_Cel_Nw_2\"    >Celebrity News</A></Li>\\n                        <Li><A     Href=\"/Search/Name?Gender=Male,Female&Ref_=Nv_Cel_M_3\"    >Most Popular Celebs</A></Li>\\n                    </Ul>\\n                    <H5>Photos</H5>\\n                    <Ul>\\n                        <Li><A     Href=\"/Gallery/Rg784964352?Ref_=Nv_Ph_Ls_1\"    >Latest Stills</A></Li>\\n                        <Li><A     Href=\"/Gallery/Rg1528338944?Ref_=Nv_Ph_Lp_2\"    >Latest Posters</A></Li>\\n                        <Li><A     Href=\"/Gallery/Rg2465176320?Ref_=Nv_Ph_Lv_3\"    >Photos We Love</A></Li>\\n                    </Ul>\\n                </Div>\\n                <Div Class=\"Subnavlistcontainer\">\\n                    <H5>Events</H5>\\n                    <Ul>\\n                        <Li><A     Href=\"/Awards-Central/?Ref_=Nv_Ev_Awrd_1\"    >Awards Central</A></Li>\\n                        <Li><A     Href=\"/Sundance/?Ref_=Nv_Ev_Sun_3\"    >Sundance</A></Li>\\n                        <Li><A     Href=\"/Cannes/?Ref_=Nv_Ev_Can_6\"    >Cannes</A></Li>\\n                        <Li><A     Href=\"/Comic-Con/?Ref_=Nv_Ev_Comic_7\"    >Comic-Con</A></Li>\\n                        <Li><A     Href=\"/Emmys/?Ref_=Nv_Ev_Rte_8\"    >Emmy Awards</A></Li>\\n                        <Li><A     Href=\"/Toronto/?Ref_=Nv_Ev_Tff_10\"    >Toronto Film Festival</A></Li>\\n                        <Li><A     Href=\"/Event/All/?Ref_=Nv_Ev_All_11\"    >All Events</A></Li>\\n                    </Ul>\\n                </Div>\\n            </Div>\\n        </Li>\\n        <Li Class=\"Spacer\"></Li>\\n        <Li Class=\"Css_Nav_Item\" Id=\"Navnewsmenu\" Aria-Haspopup=\"True\">\\n            <P Class=\"Navcategory\">\\n                <A     Href=\"/News/Top?Ref_=Nv_Tp_Nw_1\"    >News</A> &<Br />\\n                <A     Href=\"/Boards/?Ref_=Nv_Tp_Bd_2\"    >Community</P>\\n            <Span Class=\"Downarrow\"></Span>\\n            <Div Id=\"Navmenu3\" Class=\"Sub_Nav\">\\n                <Div Id=\"Latestheadlines\">\\n                    <Div Class=\"Subnavlistcontainer\">\\n                        <H5>Latest Headlines</H5>\\n                        \\n<Ul>\\n    <Li Itemprop=\"Headline\">\\n        <A     Href=\"/News/Ni60039821/?Ref_=Nb_Nwt_1\"    >\\n            Disney Moving Ahead On &#X2018;Castle Hangnail&#X2019; With Ellen Degeneres</A><Br />\\n            <Span Class=\"Time\">8 Hours Ago\\n</Span>\\n    </Li>\\n    <Li Itemprop=\"Headline\">\\n        <A     Href=\"/News/Ni60039021/?Ref_=Nb_Nwt_2\"    >\\n            Michael Keaton&#X2019;S &#X2018;The Founder&#X2019; Moves To December For Awards Run</A><Br />\\n            <Span Class=\"Time\">12 Hours Ago\\n</Span>\\n    </Li>\\n    <Li Itemprop=\"Headline\">\\n        <A     Href=\"/News/Ni60016933/?Ref_=Nb_Nwt_3\"    >\\n            Saw 8 Begins Shooting This Fall</A><Br />\\n            <Span Class=\"Time\">6 July 2016 9:43 Pm, Pdt\\n</Span>\\n    </Li>\\n</Ul>\\n\\n                    </Div>\\n                </Div>\\n                <Div Class=\"Subnavlistcontainer\">\\n                    <H5>News</H5>\\n                    <Ul>\\n                        <Li><A     Href=\"/News/Top?Ref_=Nv_Nw_Tp_1\"    >Top News</A></Li>\\n                        <Li><A     Href=\"/News/Movie?Ref_=Nv_Nw_Mv_2\"    >Movie News</A></Li>\\n                        <Li><A     Href=\"/News/Tv?Ref_=Nv_Nw_Tv_3\"    >Tv News</A></Li>\\n                        <Li><A     Href=\"/News/Celebrity?Ref_=Nv_Nw_Cel_4\"    >Celebrity News</A></Li>\\n                        <Li><A     Href=\"/News/Indie?Ref_=Nv_Nw_Ind_5\"    >Indie News</A></Li>\\n                    </Ul>\\n                    <H5>Community</H5>\\n                    <Ul>\\n                        <Li><A     Href=\"/Boards/?Ref_=Nv_Cm_Bd_1\"    >Message Boards</A></Li>\\n                        <Li><A     Href=\"/Czone/?Ref_=Nv_Cm_Cz_2\"    >Contributor Zone</A></Li>\\n                        <Li><A     Href=\"/Poll/?Ref_=Nv_Cm_Pl_3\"    >Polls</A></Li>\\n                    </Ul>\\n                </Div>\\n            </Div>\\n        </Li>\\n        <Li Class=\"Spacer\"></Li>\\n        <Li Class=\"Css_Nav_Item\" Id=\"Navwatchlistmenu\" Aria-Haspopup=\"True\">\\n            \\n<P Class=\"Navcategory Singleline Watchlist\"><A     Href=\"/List/Watchlist?Ref_=Nv_Wl_All_0\"    >Watchlist</A>\\n</P>\\n<Span Class=\"Downarrow\"></Span>\\n<Div Id=\"Navmenu4\" Class=\"Sub_Nav\">\\n    <H5>\\n        Recently Added\\n    </H5> \\n    <Ul Id=\"Navwatchlist\">\\n    </Ul>\\n    <Script>\\n    If (!(\\'Imdb\\' In Window)) { Window.Imdb = {}; }\\n    Window.Imdb.Watchlistteaserdata = [\\n        {\\n            Href : \"/Register/Login\",\\n            Id : \"Wllogin\",\\n        Src  : \"Http://I.Media-Imdb.Com/Images/Sf77Aec4B719E703A39Cac8D5566A9A0E0/Navbar/Watchlist_Slot1_Logged_Out.Jpg\"\\n        }\\n,        {\\n        Href : \"/Search/Title?Count=100&Title_Type=Feature,Tv_Series\",\\n        Src  : \"Http://I.Media-Imdb.Com/Images/Sf58Fa0Cd127839460Ec17B7302830564F/Navbar/Watchlist_Slot2_Popular.Jpg\"\\n        }\\n,        {\\n        Href : \"/Chart/Top\",\\n        Src  : \"Http://I.Media-Imdb.Com/Images/Sfe1Df4328A14Bfcbe6B5Cf6Fad771C2E4/Navbar/Watchlist_Slot3_Top250.Jpg\"\\n        }\\n    ];\\n    </Script>\\n</Div>\\n\\n        </Li>\\n        <Li Class=\"Spacer\"></Li>\\n    </Ul>\\n    <Script>\\n    If (!(\\'Imdb\\' In Window)) { Window.Imdb = {}; }\\n    Window.Imdb.Navbaradslots = {\"Namead\":{\"Clickthru\":\"Http://Www.Imdb.Com/Name/Nm0290556/\",\"Imageurl\":\"Http://Ia.Media-Imdb.Com/Images/M/Mv5Bmji3Odizmtu4N15Bml5Banbnxkftztcwnjuxndq1Oq@@._V1._Sx250_Cr0,0,250,315_.Jpg\",\"Rank\":\"142\",\"Headline\":\"James Franco\"},\"Titlead\":{\"Clickthru\":\"Http://Www.Imdb.Com/Title/Tt0169547/\",\"Imageurl\":\"Http://Ia.Media-Imdb.Com/Images/M/Mv5Bmtu4Mzewodqzof5Bml5Banbnxkftztcwmtiyody3Mw@@._V1._Sy315_Cr0,0,410,315_Ct50_.Jpg\",\"Titleyears\":\"1999\",\"Titledisplaybase\":{\"Displaytitletypeoriginal\":\"Movie\",\"Primarytitletext\":\"American Beauty\",\"Titleid\":\"Tt0169547\",\"Displaytitletype\":\"Movie\",\"Regionaltitletexts\":[{\"Region\":\"Ar\",\"Title\":\"Belleza Americana\"},{\"Region\":\"At\",\"Title\":\"American Beauty\"},{\"Language\":\"Bg\",\"Region\":\"Bg\",\"Title\":\"\\xd0\\x90\\xd0\\xbc\\xd0\\xb5\\xd1\\x80\\xd0\\xb8\\xd0\\xba\\xd0\\xb0\\xd0\\xbd\\xd1\\x81\\xd0\\xba\\xd0\\xb8 \\xd0\\xbf\\xd1\\x80\\xd0\\xb5\\xd0\\xbb\\xd0\\xb5\\xd1\\x81\\xd1\\x82\\xd0\\xb8\"},{\"Region\":\"Br\",\"Title\":\"Beleza Americana\"},{\"Language\":\"Fr\",\"Region\":\"Ca\",\"Title\":\"Beaut\\xc3\\xa9 Am\\xc3\\xa9Ricaine\"},{\"Region\":\"Cl\",\"Title\":\"Belleza Americana\"},{\"Region\":\"Cz\",\"Title\":\"Americk\\xc3\\xa1 Kr\\xc3\\xa1Sa\"},{\"Region\":\"De\",\"Title\":\"American Beauty\"},{\"Region\":\"Dk\",\"Title\":\"American Beauty\"},{\"Region\":\"Ee\",\"Title\":\"Tabamatu Ilu\"},{\"Region\":\"Es\",\"Title\":\"American Beauty\"},{\"Region\":\"Fi\",\"Title\":\"American Beauty\"},{\"Region\":\"Fr\",\"Title\":\"American Beauty\"},{\"Region\":\"Gr\",\"Title\":\"American Beauty\"},{\"Region\":\"Hr\",\"Title\":\"Vrtlog \\xc5\\xbeIvota\"},{\"Region\":\"Hu\",\"Title\":\"Amerikai Sz\\xc3\\xa9Ps\\xc3\\xa9G\"},{\"Region\":\"It\",\"Title\":\"American Beauty\"},{\"Language\":\"En\",\"Region\":\"Jp\",\"Title\":\"American Beauty\"},{\"Region\":\"Lt\",\"Title\":\"Amerikos Grozybes\"},{\"Region\":\"Mx\",\"Title\":\"Belleza Americana\"},{\"Region\":\"No\",\"Title\":\"American Beauty\"},{\"Region\":\"Pe\",\"Title\":\"Belleza Americana\"},{\"Region\":\"Pl\",\"Title\":\"American Beauty\"},{\"Region\":\"Pt\",\"Title\":\"Beleza Americana\"},{\"Region\":\"Rs\",\"Title\":\"Ameri\\xc4\\x8dKa Lepota\"},{\"Region\":\"Ru\",\"Title\":\"\\xd0\\x9a\\xd1\\x80\\xd0\\xb0\\xd1\\x81\\xd0\\xbe\\xd1\\x82\\xd0\\xb0 \\xd0\\xbf\\xd0\\xbe-\\xd0\\xb0\\xd0\\xbc\\xd0\\xb5\\xd1\\x80\\xd0\\xb8\\xd0\\xba\\xd0\\xb0\\xd0\\xbd\\xd1\\x81\\xd0\\xba\\xd0\\xb8\"},{\"Region\":\"Si\",\"Title\":\"Lepota Po Amerisko\"},{\"Region\":\"Sk\",\"Title\":\"Americk\\xc3\\xa1 Kr\\xc3\\xa1Sa\"},{\"Language\":\"Tr\",\"Region\":\"Tr\",\"Title\":\"Amerikan G\\xc3\\xbcZeli\"},{\"Region\":\"Ua\",\"Title\":\"\\xd0\\x9a\\xd1\\x80\\xd0\\xb0\\xd1\\x81\\xd0\\xb0 \\xd0\\xbf\\xd0\\xbe-\\xd0\\xb0\\xd0\\xbc\\xd0\\xb5\\xd1\\x80\\xd0\\xb8\\xd0\\xba\\xd0\\xb0\\xd0\\xbd\\xd1\\x81\\xd1\\x8c\\xd0\\xba\\xd0\\xb8\"},{\"Region\":\"Us\",\"Title\":\"American Beauty\"},{\"Region\":\"Uy\",\"Title\":\"Belleza Americana\"},{\"Region\":\"Ve\",\"Title\":\"Belleza Americana\"},{\"Region\":\"Vn\",\"Title\":\"Ve Dep My\"}],\"Year\":\"1999\"},\"Rank\":63,\"Headline\":\"American Beauty\"}};\\n    </Script>\\n</Div>\\n\\n\\n\\n<Div Id=\"Nb_Extra\">\\n    <Ul Id=\"Nb_Extra_Nav\" Class=\"Main_Nav\">\\n        <Li Class=\"Css_Nav_Item\" Id=\"Navpromenu\" Aria-Haspopup=\"True\">\\n            <P Class=\"Navcategory\">\\n                <A     Href=\"Http://Pro.Imdb.Com/Signup/Index.Html?Rf=Cons_Nb_Hm&Ref_=Cons_Nb_Hm\"    >\\n                    <Img Alt=\"Imdbpro Menu\" Src=\"Http://I.Media-Imdb.Com/Images/Sf4A741137Cf9A260E127Fef64455Ebfbc/Navbar/Imdbpro_Logo_Nb.Png\" />\\n                </A>\\n            </P>\\n            <Span Class=\"Downarrow\"></Span>\\n            <Div Id=\"Navmenupro\" Class=\"Sub_Nav\">\\n                <A    Id=\"Prolink\"     Href=\"Http://Pro.Imdb.Com/Signup/Index.Html?Rf=Cons_Nb_Hm&Ref_=Cons_Nb_Hm\"    >\\n                    <Div Id=\"Proad\">\\n                    </Div>\\n                    <Div Class=\"Subnavlistcontainer\">\\n                        <Img Alt=\"Go To Imdbpro\" Title=\"Go To Imdbpro\" Src=\"Http://I.Media-Imdb.Com/Images/Sf8104186305D957Dd4Ee4455F5434B40C/Navbar/Imdbpro_Logo_Menu.Png\" />\\n                        <H5>Get Informed</H5>\\n                        <P>Industry Information At Your Fingertips</P>\\n                        <H5>Get Connected</H5>\\n                        <P>Over 200,000 Hollywood Insiders</P>\\n                        <H5>Get Discovered</H5>\\n                        <P>Enhance Your Imdb Page</P>\\n                        <P><Strong>Go To Imdbpro &Raquo;</Strong></P>\\n                    </Div>\\n                </A>\\n            </Div>\\n        </Li>\\n        <Li><Span Class=\"Ghost\">|</Span></Li>\\n        <Li>\\n            <A     Href=\"/Help/?Ref_=Nb_Hlp\"    >\\n                Help</A>\\n        </Li>\\n        <Li Class=\"Social\">\\n            \\n\\n\\n<A Href=\"Https://Www.Facebook.Com/Imdb\"    Title=\"Follow Imdb On Facebook\"\\n  Target=\"_Blank\" >\\n  <Span Class=\"Desktop-Sprite Follow-Facebook\"></Span>\\n</A>\\n\\n\\n<A Href=\"Https://Twitter.Com/Imdb\"    Title=\"Follow Imdb On Twitter\"\\n  Target=\"_Blank\" >\\n  <Span Class=\"Desktop-Sprite Follow-Twitter\"></Span>\\n</A>\\n\\n\\n<A Href=\"Https://Instagram.Com/Imdb/\"    Title=\"Follow Imdb On Instagram\"\\n  Target=\"_Blank\" >\\n  <Span Class=\"Desktop-Sprite Follow-Instagram\"></Span>\\n</A>\\n\\n        </Li>\\n    </Ul>\\n    <Script>\\n        If (!(\\'Imdb\\' In Window)) { Window.Imdb = {}; }\\n        Window.Imdb.Promenuteaser = {\\n            Imageurl : \"Http://I.Media-Imdb.Com/Images/Sf2345Fb7Eb51Cd4Cf2158Ed364C263A05/Navbar/Imdbpro_Menu_User.Jpg\"\\n        };\\n    </Script> \\n</Div>\\n\\n\\n<Div Id=\"Nb_Personal\">\\n\\n<Ul Id=\"Consumer_User_Nav\" Class=\"Main_Nav\">\\n  <Li Class=\"Css_Nav_Item\" Id=\"Navusermenu\" Aria-Haspopup=\"True\" Style=\"Padding-Right:20Px\">\\n        <P Class=\"Navcategory Singleline\">        \\n            <A    Id=\"Nblogin\"    Rel=Login Href=\"/Register/Login?Ref_=Nv_Usr_Lgin_1\"    >\\n                Sign In\\n            </A>\\n        </P>\\n    </Li>\\n</Ul>\\n\\n\\n</Div>\\n\\n    </Div>\\n</Div>\\n\\n        \\n\\n\\n\\n\\n\\n\\n\\n  \\n\\n\\n\\n<!-- Begin Injectable Injected_Navstrip -->\\n<Div Id=\"Injected_Navstrip_Wrapper\" Class=\"Injected_Slot\">\\n<Iframe Id=\"Injected_Navstrip\" Name=\"Injected_Navstrip\" Class=\"Yesscript\" Width=\"0\" Height=\"0\" Data-Dart-Params=\"#Imdb2.Consumer.Title/;Oe=Utf-8;U=778833035508;Ord=778833035508?\" Data-Original-Width=\"0\" Data-Original-Height=\"0\" Data-Config-Width=\"0\" Data-Config-Height=\"0\" Data-Cookie-Width=\"Null\" Data-Cookie-Height=\"Null\" Marginwidth=\"0\" Marginheight=\"0\" Frameborder=\"0\" Scrolling=\"No\" Allowtransparency=\"True\" Onload=\"Dowithads.Call(This, Function(){ Ad_Utils.On_Ad_Load(This); });\"></Iframe> </Div>\\n<Script>\\nDowithads(Function(){\\nAd_Utils.Inject_Ad.Register(\\'Injected_Navstrip\\');\\n}, \"Ad_Utils Not Defined, Unable To Render Injected Ad.\");\\n</Script>\\n<Div Id=\"Injected_Navstrip_Reflow_Helper\"></Div>\\n<!-- End Injectable Injected_Navstrip --><!-- _Get_Ad_For_Slot(Injected_Navstrip) -->\\n\\n<Div Id=\"Pagecontent\">\\n\\n\\n\\n<!-- Begin Injectable Injected_Billboard -->\\n<Div Id=\"Injected_Billboard_Wrapper\" Class=\"Injected_Slot\">\\n<Iframe Id=\"Injected_Billboard\" Name=\"Injected_Billboard\" Class=\"Yesscript\" Width=\"0\" Height=\"0\" Data-Dart-Params=\"#Imdb2.Consumer.Title/;Oe=Utf-8;U=778833035508;Ord=778833035508?\" Data-Original-Width=\"0\" Data-Original-Height=\"0\" Data-Config-Width=\"0\" Data-Config-Height=\"0\" Data-Cookie-Width=\"Null\" Data-Cookie-Height=\"Null\" Marginwidth=\"0\" Marginheight=\"0\" Frameborder=\"0\" Scrolling=\"No\" Allowtransparency=\"True\" Onload=\"Dowithads.Call(This, Function(){ Ad_Utils.On_Ad_Load(This); });\"></Iframe> </Div>\\n<Script>\\nDowithads(Function(){\\nAd_Utils.Inject_Ad.Register(\\'Injected_Billboard\\');\\n}, \"Ad_Utils Not Defined, Unable To Render Injected Ad.\");\\n</Script>\\n<Div Id=\"Injected_Billboard_Reflow_Helper\"></Div>\\n<!-- End Injectable Injected_Billboard --><!-- _Get_Ad_For_Slot(Injected_Billboard) -->\\n\\n<Div Id=\"Tn15\" Class=\"Reviews\">\\n<Div Id=\"Tn15Crumbs\">\\n<A Href=\"/\">Imdb</A> &Gt;\\n<A Href=\"/Title/Tt0111161/\">The Shawshank Redemption (1994)</A> &Gt; <B>Reviews &#X26; Ratings - Imdb</B>\\n</Div>\\n<Div Id=\"Tn15Lhs\">\\n\\n    \\n<Div Class=\"Photo\">\\n<A Name=\"Poster\" Href=\"/Rg/Action-Box-Title/Primary-Photo/Media/Rm3597327872/Tt0111161\" Title=\"The Shawshank Redemption\"><Img Border=\"0\" Id=\"Primary-Poster\" Alt=\"The Shawshank Redemption\" Title=\"The Shawshank Redemption\" Src=\"Http://Ia.Media-Imdb.Com/Images/M/Mv5Bodu4Mju4Njiwnl5Bml5Banbnxkftztgwmdu2Mjeymde@._V1._Sx94_Sy140_.Jpg\" /></A>\\n</Div>\\n\\n<Div Id=\"Action-Box\" Class=\"Action-Box\">\\n<A    Onclick=\"Window.Open(This.Href+\\'Offsite\\',\\'_Blank\\');\\n                 Return False;\"\\n    Href=\"/Video/Amazon/Vi3476594713/\"    Class=\"Linkasbutton-Primary\" Data-Rid=\"1Nthgrbhemq0Rseqg83W\" Data-Video=\"Vi3476594713\" Data-Context=\"Amazon\" >Watch It</A>\\n\\n  <P>At Amazon</P>\\n\\n<P><Img Src=\"/Images/Wheel/Or-Graphic.Png\" /></P>\\n        \\n         \\n       \\n   \\n      \\n                 \\n     \\n                 \\n      \\n        \\n         \\n   \\n<A Class=\"Linkasbutton-Secondary\" Href=\"/Rg/Action-Box-Title/Buy-At-Amazon/R/50703000000050A0904747031313131363130000001036A03046674600000010D6A02057370000001037A0104700000010F5A0A096D64626D2164626F6870000001047\" Target=\"_New\">Buy It At Amazon</A>    \\n        \\n        \\n       \\n\\n<Hr />\\n<A Class=\"Linkasbutton-Secondary\" Href=\"/R/Tt_Shop/Http://Pro.Imdb.Com/Title/Tt0111161/\" Onclick=\"(New Image()).Src=\\'/Rg/Tt_Shop/Prosystem/Images/B.Gif?Link=/Rg/Tt_Shop/Prosystem/Http://Pro.Imdb.Com/Title/Tt0111161/\\';\">More At Imdb Pro</A>\\n\\n<A Class=\"Linkasbutton-Secondary\" Href=\"/Rg/Action-Box-Title/Boards-Link/Title/Tt0111161/Board\">Discuss In Boards</A>\\n\\n\\n<Span Class=\"Wlb_Wrapper\" Data-Tconst=\"Tt0111161\" Data-Size=\"Small\" Data-Caller-Name=\"Legacy_Title_Lhs\" Data-Classes=\"Linkasbutton-Secondary\"\\n></Span>\\n\\n<A Class=\"Linkasbutton-Secondary\" Href=\"/Rg/Action-Box-Title/Update-Data/Updates?Auto=Legacy/Title/Tt0111161/\">Update Data</A>\\n\\n</Div>\\n\\n<H6 Style=\"Margin-Top: 4Px\">Quicklinks</H6><Form><Select Id=\"Quicklinks_Select\" Onchange=\"Document.Location = This.Options[This.Selectedindex].Value\">\\n<Option Value=\"Maindetails\">Main Details</Option><Option Value=\"Combined\">Combined Details</Option><Option Value=\"Fullcredits\">Full Cast And Crew</Option><Option Value=\"Companycredits\">Company Credits</Option><Option Value=\"Reviews\" Selected>Reviews</Option><Option Value=\"Externalreviews\">External Reviews</Option><Option Value=\"Awards\">Awards</Option><Option Value=\"Ratings\">User Ratings</Option><Option Value=\"Parentalguide\">Parents Guide</Option><Option Value=\"Board\">Message Board</Option><Option Value=\"Plotsummary\">Plot Summary</Option><Option Value=\"Synopsis\">Synopsis</Option><Option Value=\"Keywords\">Plot Keywords</Option><Option Value=\"Quotes\">Memorable Quotes</Option><Option Value=\"Trivia\">Trivia</Option><Option Value=\"Goofs\">Goofs</Option><Option Value=\"Soundtrack\">Soundtrack Listing</Option><Option Value=\"Crazycredits\">Crazy Credits</Option><Option Value=\"Alternateversions\">Alternate Versions</Option><Option Value=\"Movieconnections\">Movie Connections</Option><Option Value=\"Faq\">Faq</Option><Option Value=\"Business\">Box Office/Business</Option><Option Value=\"Releaseinfo\">Release Dates</Option><Option Value=\"Locations\">Filming Locations</Option><Option Value=\"Technical\">Technical Specs</Option><Option Value=\"Literature\">Literature Listings</Option><Option Value=\"News\">Newsdesk</Option><Option Value=\"Taglines\">Taglines</Option><Option Value=\"Videogallery\">Trailers And Videos</Option><Option Value=\"Posters\">Posters</Option><Option Value=\"Photogallery\">Photo Gallery</Option><Option Value=\"Cinemashowtimes\">Showtimes</Option><Option Value=\"Officialsites\">Official Sites</Option><Option Value=\"Miscsites\">Miscellaneous</Option><Option Value=\"Photosites\">Photographs</Option><Option Value=\"Soundsites\">Sound Clips</Option><Option Value=\"Videosites\">Video Clips</Option>\\n</Select></Form>\\n<H6>Top Links</H6>\\n<A Onclick=\"(New Image()).Src=\\'/Rg/Title-Top-Links/Videogallery/Images/B.Gif?Link=/Title/Tt0111161/Videogallery\\';\" Href=\"/Title/Tt0111161/Videogallery\" Class=\"Link\">Trailers And Videos</A><A Onclick=\"(New Image()).Src=\\'/Rg/Title-Top-Links/Fullcredits/Images/B.Gif?Link=/Title/Tt0111161/Fullcredits\\';\" Href=\"/Title/Tt0111161/Fullcredits\" Class=\"Link\">Full Cast And Crew</A><A Onclick=\"(New Image()).Src=\\'/Rg/Title-Top-Links/Trivia/Images/B.Gif?Link=/Title/Tt0111161/Trivia\\';\" Href=\"/Title/Tt0111161/Trivia\" Class=\"Link\">Trivia</A><A Onclick=\"(New Image()).Src=\\'/Rg/Title-Top-Links/Officialsites/Images/B.Gif?Link=/Title/Tt0111161/Officialsites\\';\" Href=\"/Title/Tt0111161/Officialsites\" Class=\"Link\">Official Sites</A><A Onclick=\"(New Image()).Src=\\'/Rg/Title-Top-Links/Quotes/Images/B.Gif?Link=/Title/Tt0111161/Quotes\\';\" Href=\"/Title/Tt0111161/Quotes\" Class=\"Link\">Memorable Quotes</A>\\n<H6>Overview</H6>\\n<A Onclick=\"(New Image()).Src=\\'/Rg/Title-Nav-Item/Maindetails/Images/B.Gif?Link=/Title/Tt0111161/Maindetails\\';\"Href=\"Maindetails\" Class=\"Link\">Main Details</A><A Onclick=\"(New Image()).Src=\\'/Rg/Title-Nav-Item/Combined/Images/B.Gif?Link=/Title/Tt0111161/Combined\\';\"Href=\"Combined\" Class=\"Link\">Combined Details</A><A Onclick=\"(New Image()).Src=\\'/Rg/Title-Nav-Item/Fullcredits/Images/B.Gif?Link=/Title/Tt0111161/Fullcredits\\';\"Href=\"Fullcredits\" Class=\"Link\">Full Cast And Crew</A><A Onclick=\"(New Image()).Src=\\'/Rg/Title-Nav-Item/Companycredits/Images/B.Gif?Link=/Title/Tt0111161/Companycredits\\';\"Href=\"Companycredits\" Class=\"Link\">Company Credits</A>\\n<H6>Awards &#X26; Reviews</H6>\\n<A Onclick=\"(New Image()).Src=\\'/Rg/Title-Nav-Item/Reviews/Images/B.Gif?Link=/Title/Tt0111161/Reviews\\';\"Href=\"Reviews\" Class=\"Link Selected\">User Reviews</A><A Onclick=\"(New Image()).Src=\\'/Rg/Title-Nav-Item/Externalreviews/Images/B.Gif?Link=/Title/Tt0111161/Externalreviews\\';\"Href=\"Externalreviews\" Class=\"Link\">External Reviews</A><A Onclick=\"(New Image()).Src=\\'/Rg/Title-Nav-Item/Awards/Images/B.Gif?Link=/Title/Tt0111161/Awards\\';\"Href=\"Awards\" Class=\"Link\">Awards</A><A Onclick=\"(New Image()).Src=\\'/Rg/Title-Nav-Item/Ratings/Images/B.Gif?Link=/Title/Tt0111161/Ratings\\';\"Href=\"Ratings\" Class=\"Link\">User Ratings</A><A Onclick=\"(New Image()).Src=\\'/Rg/Title-Nav-Item/Parentalguide/Images/B.Gif?Link=/Title/Tt0111161/Parentalguide\\';\"Href=\"Parentalguide\" Class=\"Link\">Parents Guide</A><A Onclick=\"(New Image()).Src=\\'/Rg/Title-Nav-Item/Board/Images/B.Gif?Link=/Title/Tt0111161/Board\\';\"Href=\"Board\" Class=\"Link\">Message Board</A>\\n<H6>Plot &#X26; Quotes</H6>\\n<A Onclick=\"(New Image()).Src=\\'/Rg/Title-Nav-Item/Plotsummary/Images/B.Gif?Link=/Title/Tt0111161/Plotsummary\\';\"Href=\"Plotsummary\" Class=\"Link\">Plot Summary</A><A Onclick=\"(New Image()).Src=\\'/Rg/Title-Nav-Item/Synopsis/Images/B.Gif?Link=/Title/Tt0111161/Synopsis\\';\"Href=\"Synopsis\" Class=\"Link\">Synopsis</A><A Onclick=\"(New Image()).Src=\\'/Rg/Title-Nav-Item/Keywords/Images/B.Gif?Link=/Title/Tt0111161/Keywords\\';\"Href=\"Keywords\" Class=\"Link\">Plot Keywords</A><A Onclick=\"(New Image()).Src=\\'/Rg/Title-Nav-Item/Quotes/Images/B.Gif?Link=/Title/Tt0111161/Quotes\\';\"Href=\"Quotes\" Class=\"Link\">Memorable Quotes</A>\\n<H6>Did You Know?</H6>\\n<A Onclick=\"(New Image()).Src=\\'/Rg/Title-Nav-Item/Trivia/Images/B.Gif?Link=/Title/Tt0111161/Trivia\\';\"Href=\"Trivia\" Class=\"Link\">Trivia</A><A Onclick=\"(New Image()).Src=\\'/Rg/Title-Nav-Item/Goofs/Images/B.Gif?Link=/Title/Tt0111161/Goofs\\';\"Href=\"Goofs\" Class=\"Link\">Goofs</A><A Onclick=\"(New Image()).Src=\\'/Rg/Title-Nav-Item/Soundtrack/Images/B.Gif?Link=/Title/Tt0111161/Soundtrack\\';\"Href=\"Soundtrack\" Class=\"Link\">Soundtrack Listing</A><A Onclick=\"(New Image()).Src=\\'/Rg/Title-Nav-Item/Crazycredits/Images/B.Gif?Link=/Title/Tt0111161/Crazycredits\\';\"Href=\"Crazycredits\" Class=\"Link\">Crazy Credits</A><A Onclick=\"(New Image()).Src=\\'/Rg/Title-Nav-Item/Alternateversions/Images/B.Gif?Link=/Title/Tt0111161/Alternateversions\\';\"Href=\"Alternateversions\" Class=\"Link\">Alternate Versions</A><A Onclick=\"(New Image()).Src=\\'/Rg/Title-Nav-Item/Movieconnections/Images/B.Gif?Link=/Title/Tt0111161/Movieconnections\\';\"Href=\"Movieconnections\" Class=\"Link\">Movie Connections</A><A Onclick=\"(New Image()).Src=\\'/Rg/Title-Nav-Item/Faq/Images/B.Gif?Link=/Title/Tt0111161/Faq\\';\"Href=\"Faq\" Class=\"Link\">Faq</A>\\n<H6>Other Info</H6>\\n<A Onclick=\"(New Image()).Src=\\'/Rg/Title-Nav-Item/Business/Images/B.Gif?Link=/Title/Tt0111161/Business\\';\"Href=\"Business\" Class=\"Link\">Box Office/Business</A><A Onclick=\"(New Image()).Src=\\'/Rg/Title-Nav-Item/Releaseinfo/Images/B.Gif?Link=/Title/Tt0111161/Releaseinfo\\';\"Href=\"Releaseinfo\" Class=\"Link\">Release Dates</A><A Onclick=\"(New Image()).Src=\\'/Rg/Title-Nav-Item/Locations/Images/B.Gif?Link=/Title/Tt0111161/Locations\\';\"Href=\"Locations\" Class=\"Link\">Filming Locations</A><A Onclick=\"(New Image()).Src=\\'/Rg/Title-Nav-Item/Technical/Images/B.Gif?Link=/Title/Tt0111161/Technical\\';\"Href=\"Technical\" Class=\"Link\">Technical Specs</A><A Onclick=\"(New Image()).Src=\\'/Rg/Title-Nav-Item/Literature/Images/B.Gif?Link=/Title/Tt0111161/Literature\\';\"Href=\"Literature\" Class=\"Link\">Literature Listings</A><A Onclick=\"(New Image()).Src=\\'/Rg/Title-Nav-Item/News/Images/B.Gif?Link=/Title/Tt0111161/News\\';\"Href=\"News\" Class=\"Link\">Newsdesk</A>\\n  <H6>Promotional</H6>\\n  <A Onclick=\"(New Image()).Src=\\'/Rg/Title-Nav-Item/Taglines/Images/B.Gif?Link=/Title/Tt0111161/Taglines\\';\"Href=\"Taglines\" Class=\"Link\">Taglines</A>\\n  <A Onclick=\"(New Image()).Src=\\'/Rg/Title-Nav-Item/Videogallery/Images/B.Gif?Link=/Title/Tt0111161/Videogallery\\';\"Href=\"Videogallery\" Class=\"Link\">Trailers And Videos</A>\\n  <A Onclick=\"(New Image()).Src=\\'/Rg/Title-Nav-Item/Posters/Images/B.Gif?Link=/Title/Tt0111161/Posters\\';\"Href=\"Posters\" Class=\"Link\">Posters</A>\\n  <A Onclick=\"(New Image()).Src=\\'/Rg/Title-Nav-Item/Photogallery/Images/B.Gif?Link=/Title/Tt0111161/Photogallery\\';\"Href=\"Photogallery\" Class=\"Link\">Photo Gallery</A>\\n  \\n\\n<H6>External Links</H6>\\n<A Onclick=\"(New Image()).Src=\\'/Rg/Title-Nav-Item/Cinemashowtimes/Images/B.Gif?Link=/Title/Tt0111161/Cinemashowtimes\\';\"Href=\"Cinemashowtimes\" Class=\"Link\">Showtimes</A><A Onclick=\"(New Image()).Src=\\'/Rg/Title-Nav-Item/Officialsites/Images/B.Gif?Link=/Title/Tt0111161/Officialsites\\';\"Href=\"Officialsites\" Class=\"Link\">Official Sites</A><A Onclick=\"(New Image()).Src=\\'/Rg/Title-Nav-Item/Miscsites/Images/B.Gif?Link=/Title/Tt0111161/Miscsites\\';\"Href=\"Miscsites\" Class=\"Link\">Miscellaneous</A><A Onclick=\"(New Image()).Src=\\'/Rg/Title-Nav-Item/Photosites/Images/B.Gif?Link=/Title/Tt0111161/Photosites\\';\"Href=\"Photosites\" Class=\"Link\">Photographs</A><A Onclick=\"(New Image()).Src=\\'/Rg/Title-Nav-Item/Soundsites/Images/B.Gif?Link=/Title/Tt0111161/Soundsites\\';\"Href=\"Soundsites\" Class=\"Link\">Sound Clips</A><A Onclick=\"(New Image()).Src=\\'/Rg/Title-Nav-Item/Videosites/Images/B.Gif?Link=/Title/Tt0111161/Videosites\\';\"Href=\"Videosites\" Class=\"Link\">Video Clips</A>  \\n</Div>\\n<Div Id=\"Tn15Main\">\\n    \\n\\n<Div Id=\"Tn15Adrhs\">\\n\\n\\n\\n<!-- Begin Top_Rhs -->\\n<Div Id=\"Top_Rhs_Wrapper\" Class=\"Dfp_Slot\">\\n<Script>\\nWindow.Generic = Window.Generic || {};\\nGeneric.Alphalfacomponents = {\\n\"Alphalfa-Container.Html\" : \"Http://Ia.Media-Imdb.Com/Images/G/01/Imdbads/Alphalfa-Container-253150330._Cb273211144_.Html\",\\n\"Js/Collections/Alphalfa.Js\" : \"Http://Ia.Media-Imdb.Com/Images/G/01/Imdbads/Js/Collections/Alphalfa-3292747090._Cb273277411_.Js\"\\n};\\n</Script>\\n<Script Type=\"Text/Javascript\">\\nDowithads(Function(){\\nAd_Utils.Register_Ad(\\'Top_Rhs\\');\\n});\\n</Script>\\n<Iframe Data-Dart-Params=\"#Imdb2.Consumer.Title/;!Tile!;Sz=300X250,300X600,11X1;P=Tr;G=Dr;G=Cr;Tt=F;M=R;Mh=R;Ml=R;Coo=Us;B=T25;B=T250;B=T250A;Fv=1;Id=Tt0111161;Ab=F;Bpx=1;C=1;Oe=Utf-8;[Client_Side_Keyvalues];U=778833035508;Ord=778833035508?\" Id=\"Top_Rhs\" Name=\"Top_Rhs\" Class=\"Yesscript\" Width=\"300\" Height=\"250\" Data-Original-Width=\"300\" Data-Original-Height=\"250\" Data-Config-Width=\"300\" Data-Config-Height=\"250\" Data-Cookie-Width=\"Null\" Data-Cookie-Height=\"Null\" Marginwidth=\"0\" Marginheight=\"0\" Frameborder=\"0\" Scrolling=\"No\" Allowtransparency=\"True\" Onload=\"Dowithads.Call(This, Function(){ Ad_Utils.On_Ad_Load(This); });\"></Iframe>\\n<Noscript> <A Href=\"Http://Pubads.G.Doubleclick.Net/Gampad/Jump?&Iu=4215/Imdb2.Consumer.Title/&Sz=300X250|300X600|11X1&T=P%3Dtr%26G%3Ddr%26G%3Dcr%26Tt%3Df%26M%3Dr%26Mh%3Dr%26Ml%3Dr%26Coo%3Dus%26B%3Dt25%26B%3Dt250%26B%3Dt250A%26Fv%3D1%26Id%3Dtt0111161%26Ab%3Df%26Bpx%3D1%26C%3D1&Tile=1&C=778833035508\" Target=\"_Blank\"> <Img Src=\"Http://Pubads.G.Doubleclick.Net/Gampad/Ad?&Iu=4215/Imdb2.Consumer.Title/&Sz=300X250|300X600|11X1&T=P%3Dtr%26G%3Ddr%26G%3Dcr%26Tt%3Df%26M%3Dr%26Mh%3Dr%26Ml%3Dr%26Coo%3Dus%26B%3Dt25%26B%3Dt250%26B%3Dt250A%26Fv%3D1%26Id%3Dtt0111161%26Ab%3Df%26Bpx%3D1%26C%3D1&Tile=1&C=778833035508\" Border=\"0\" Alt=\"Advertisement\" /> </A> </Noscript>\\n</Div>\\n<Div Id=\"Top_Rhs_Reflow_Helper\"></Div>\\n<Div Id=\"Top_Rhs_After\" Class=\"After_Ad\" Style=\"Visibility:Hidden;\">\\n<A Class=\"Yesscript\" Href=\"#\" Onclick=\"Ad_Utils.Show_Ad_Feedback(\\'Top_Rhs\\');Return False;\" Id=\"Ad_Feedback_Top_Rhs\">Ad Feedback</A>\\n</Div>\\n<Script>\\nDowithads(Function(){\\nAd_Utils.Gpt.Render_Ad(\\'Top_Rhs\\');\\n}, \"Ad_Utils Not Defined, Unable To Render Client-Side Gpt Ad.\");\\n</Script>\\n<!-- End Top_Rhs --><!-- _Get_Ad_For_Slot(Top_Rhs) -->\\n  \\n</Div>\\n\\n<Div Id=\"Tn15Title\">\\n<H1><Small>Reviews &#X26; Ratings For<Br></Small>\\n    \\n    \\n    <A Class=\"Main\" Href=\"/Title/Tt0111161/\">The Shawshank Redemption</A> <Span> <Span Class=\"Pro-Link\"><A Href=\"Http://Pro.Imdb.Com/Rg/Reviews-Title/Tconst-Pro-Header-Link/Title/Tt0111161/\">More At <Strong>Imdbpro</Strong></A>&Nbsp;&Raquo;</Span><Span Class=\"Title-Extra\"></Span></Span>\\n    \\n    \\n</H1>\\n</Div>\\n\\n<Div Id=\"Tn15Content\">\\n \\n\\n<A Style=\"Margin-Top:10Px;Margin-Bottom:10Px\" Class=\"Btn Large\" Href=\"/Title/Tt0111161/Reviews-Enter?Ref_=Tt_Ur_Urv\">Write Review</A><Br/>\\n\\n<Style Type=\"Text/Css\"><!--\\n.Click { Cursor: Pointer; Cursor: Hand; }\\n.Yn { Padding: 2Px; Background: #Eeeeee; }\\n.Yn Form { Display: Inline; Margin: 0; }\\n.Yn Input { Font-Weight: Bold; Padding: 0Px 4Px 8Px; Height: 20Px }\\n.Yn Span { Color: #008000; Font-Weight: Bold; Font-Size: Smaller; }\\n.Yn Span.Error { Color: #800000; }\\n.I1 { Background: #Eeffee; }\\n.I2 { Background: #Ffeeee; }\\n.I3 { Background: #Eeeeff; }\\n.I4 { Background: #Ffffee; }\\n.Ucft { Margin-Bottom: 4Px }\\n.Ucft Td { Font-Size: Smaller }\\n.Ucft .Warning { Color: #800000; Font-Weight: Bold; }\\n.Ucft Input.Save { Padding: 0Px; Border: 0; Background: None; Color: #0000Ff; Text-Decoration: Underline; Font-Size: Smaller; }\\n.Ucft Input.Apply { Font-Weight: Bold; Padding: 0Px 8Px; Height: 20Px }\\nImg.Avatar {\\n    Float: Left;\\n    Margin: 5Px 10Px 10Px 0;\\n    Border: 1Px Solid #Ddd;\\n    Padding: 1Px;\\n}\\nDiv#Pagecontent Div#Tn15 H2 {\\n    Margin: 5Px 0 0;\\n}\\nDiv#Pagecontent Div#Tn15 .Comment-Summary {\\n    Padding: 0 0 15Px 10Px;\\n}\\n--></Style>\\n\\n<Form Method=\"Get\" Action=\"/Title/Tt0111161/Reviews\">\\n<Table Class=\"Ucft\" Border=\"0\" Cellpadding=\"1\" Cellspacing=\"1\">\\n<Tr>\\n<Td Style=\"Font-Size: Medium; Font-Weight: Bold\">Filter:</Td>\\n<Td Colspan=\"3\">\\n<Select Name=\"Filter\" Onchange=\"This.Form.Submit()\">\\n\\n<Option Value=\"Best\" Selected>Best</Option>\\n\\n<Option Value=\"Chrono\">Chronological</Option>\\n\\n<Option Value=\"Prolific\">Prolific Authors</Option>\\n\\n<Option Value=\"Love\">Loved It</Option>\\n\\n<Option Value=\"Hate\">Hated It</Option>\\n\\n</Select>\\nHide Spoilers:\\n<Input Type=\"Checkbox\" Value=\"Hide\" Name=\"Spoiler\" Onchange=\"This.Form.Submit()\">\\n<Noscript>\\n<Input Class=\"Apply Click Linkasbutton-Secondary\" Type=\"Submit\" Value=\"Apply\">\\n</Noscript>\\n</Td>\\n</Tr>\\n\\n</Table>\\n</Form>\\n\\n<Script Type=\"Text/Javascript\">\\n<!--\\nFunction Yn(Id, Vote) {\\n  If (!Document.Getelementbyid || !Document.Createelement || !Document.Removechild || !Document.Appendchild || !Document.Childnodes || !Document.Createtextnode) Return True;\\n  Var I = New Image();\\n  I.Onload =  Function() { Ynd(Id, 1) };\\n  I.Onerror = Function() { Ynd(Id, 0) };\\n  I.Src = \\'Reviews-Vote?Yni_\\'+Id+\\'=\\'+Vote;\\n  Return False;\\n}\\nFunction Ynd(Id, Status) {\\n  Var D, S, T;\\n  If (!(D = Document.Getelementbyid(\\'Ynd_\\'+Id))) Return True;\\n  While (D.Childnodes.Length) D.Removechild(D.Childnodes[0]);\\n  Var S = Document.Createelement(\\'Span\\');\\n  If (!Status) S.Setattribute(\\'Class\\', \\'Error\\');\\n  S.Innerhtml = Status ? \\'Thank You, Your Vote Will Be Counted And Appear On This Page Within 24 Hours.\\' : \\'Sorry, There Was A Problem Collecting Your Vote.\\';\\n  D.Appendchild(S);\\n}\\n//-->\\n</Script>\\n<Table><Tr><Td Nowrap=\"1\"><Font Face=\"Arial, Helvetica, Sans-Serif\" Size=\"-1\">Page 1 Of 411:</Font></Td><Td Nowrap=\"1\"><A Title=\"1\" Href=\"Reviews?Start=0\"><B>[1]</B></A> <A Title=\"2\" Href=\"Reviews?Start=10\">[2]</A> <A Title=\"3\" Href=\"Reviews?Start=20\">[3]</A> <A Title=\"4\" Href=\"Reviews?Start=30\">[4]</A> <A Title=\"5\" Href=\"Reviews?Start=40\">[5]</A> <A Title=\"6\" Href=\"Reviews?Start=50\">[6]</A> <A Title=\"7\" Href=\"Reviews?Start=60\">[7]</A> <A Title=\"8\" Href=\"Reviews?Start=70\">[8]</A> <A Title=\"9\" Href=\"Reviews?Start=80\">[9]</A> <A Title=\"10\" Href=\"Reviews?Start=90\">[10]</A> <A Title=\"11\" Href=\"Reviews?Start=100\">[11]</A> <A Href=\"Reviews?Start=10\"><Img Width=\"10\" Height=\"9\" Border=\"0\" Src=\"Http://I.Media-Imdb.Com/F86.Gif\" Alt=\"[Next]\"></A></Td></Tr></Table>\\n<Table Border=\"0\"><Tr><Td>\\n<A Href=\"Reviews-Index?\">Index</A>\\n</Td><Td Align=\"Right\">\\n4109 Reviews In Total&Nbsp;\\n\\n</Td></Tr></Table>\\n\\n<Hr Size=\"1\" Noshade=\"1\">\\n\\n<Div>\\n<Small>2101 Out Of 2420 People Found The Following Review Useful:</Small><Br>\\n<A Href=\"/User/Ur2509775/\"><Img Class=\"Avatar\" Src=\"Http://Ia.Media-Imdb.Com/Images/M/Mv5Bmtk0Mzy5Mjexm15Bml5Banbnxkftztcwotqynje3Oq@@._V1._Sx40_Sy40_Ss40_.Jpg\" Height=${Avatar.Image.Size} Width=${Avatar.Image.Size}></A>\\n<H2>Tied For The Best Movie I Have Ever Seen</H2>\\n<Img Width=\"102\" Height=\"12\" Alt=\"10/10\" Src=\"Http://I.Media-Imdb.Com/Images/Showtimes/100.Gif\"><Br>\\n<B>Author:</B>\\n<A Href=\"/User/Ur2509775/\">Carflo</A> <Small>From Texas</Small><Br>\\n<Small>26 November 2003</Small><Br>\\n\\n</Div>\\n<P>\\nWhy Do I Want To Write The 234Th Comment On The Shawshank Redemption? I\\nAm Not Sure - Almost Everything That Could Be Possibly Said About It\\nHas Been Said. But Like So Many Other People Who Wrote Comments, I Was\\nAnd Am Profoundly Moved By This Simple And Eloquent Depiction Of Hope\\nAnd Friendship And Redemption. <Br><Br>The Only Other Movie I Have Ever Seen That Effects Me As Strongly Is To\\nKill A Mockingbird. Both Movies Leave Me Feeling Cleaner For Having\\nWatched Them.<Br><Br>I Didn&#X27;T Intend To See This Movie At All: I Do Not Like Prison Movies\\nAnd I Don&#X27;T Normally Watch Them. I Work At A Branch Library And One Day\\nAs I Was Checking The Shawshank Redemption Out To One Of Our Older\\nPatrons, She Said To Me, &#X22;Whenever I Feel Down Or Depressed, I Check\\nOut This Movie And Watch It And It Always Makes Me Feel Better.&#X22; At The\\nTime, I Thought That Was Very Strange. One Day There Was Nothing On Tv\\nExcept Things I Absolutely Would Not Watch Under Any Circumstance Or\\nThings That I Had Seen Too Many Times Already. I Remembered What She\\nSaid, So I Watched It. I Have Watched It Many Many Times Since Then And\\nIt Gets Better With Every Showing.<Br><Br>No Action, No Special Effects - Just Men In Prison Uniforms Talking To\\nEach Other.<Br><Br>The Shawshank Redemption And To Kill A Mockingbird Are The Best Movies\\nI Have Ever Seen. I Do Not Judge It By It&#X27;S Technical Merits - I Don&#X27;T\\nReally Care About That. I Have Read That Citizen Kane Or The Godfather\\nOr This Or That Movie Is The Best Movie Ever Made. They May Have The\\nBest Technique Or Be The Most Influential Motion Pictures Ever Made,\\nBut Not The Best. The Best Movies Are Ones That Touch The Soul. It\\nTakes A Movie Like The Shawshank Redemption To Touch The Soul.\\n</P>\\n\\n<Div Class=\"Yn\" Id=\"Ynd_349418\">\\n\\n<Form Method=\"Get\" \\n\\n Action=\"/Register/Login\"\\n\\n>\\nWas The Above Review Useful To You?\\r\\n\\n<Input Class=\"Click Linkasbutton-Secondary\" Type=\"Submit\" \\n Name=\"Ynb_349418_Yes\" Value=\"Yes\" \\n\\n Rel=\"Login\" \\n\\n>\\n<Input Class=\"Click Linkasbutton-Secondary\" Type=\"Submit\"\\n Name=\"Ynb_349418_No\" Value=\"No\"\\n\\n Rel=\"Login\" \\n\\n>\\n\\n</Form>\\n\\n</Div>\\n\\n<Hr Noshade=\"1\" Size=\"1\" Align=\"Center\">\\n\\n<Div>\\n<Small>1379 Out Of 1612 People Found The Following Review Useful:</Small><Br>\\n<A Href=\"/User/Ur0997166/\"><Img Class=\"Avatar\" Src=\"Http://Ia.Media-Imdb.Com/Images/M/Mv5Bmji2Ndeymjyymf5Bml5Banbnxkftztcwmzm3Mdk0Oq@@._Sx40_Sy40_Ss40_.Jpg\" Height=${Avatar.Image.Size} Width=${Avatar.Image.Size}></A>\\n<H2>Shawshank Redeems Hollywood</H2>\\n<Img Width=\"102\" Height=\"12\" Alt=\"10/10\" Src=\"Http://I.Media-Imdb.Com/Images/Showtimes/100.Gif\"><Br>\\n<B>Author:</B>\\n<A Href=\"/User/Ur0997166/\">Wesley S. Walker</A> <Small>From Paducah, Ky</Small><Br>\\n<Small>27 August 2002</Small><Br>\\n\\n</Div>\\n<P>\\n\\nCan Hollywood, Usually Creating Things For Entertainment Purposes Only,\\nCreate Art?  To Create Something Of This Nature, A Director Must Approach\\nIt\\nIn A Most Meticulous Manner, Due To The Delicacy Of The Process.  Such A\\nDaunting Task Requires An Extremely Capable Artist With An Undeniable\\nManagerial Capacity And An Acutely Developed Awareness Of Each Element Of\\nArt In Their Films, The Most Prominent; Music, Visuals, Script, And Acting.\\nThese Elements, Each Equally Important, Must Succeed Independently, Yet\\nStill Form A Harmonious Union, Because This Mixture Determines The Fate Of\\nThe Artist\\'S Opus.  Though Already Well Known Amongst His Colleagues For\\nHis\\nNotable Skills At Writing And Directing, Frank Darabont Emerges With His\\nFeature Film Directorial Debut, The Shawshank Redemption.  Proving Himself\\nAlready A Master Of The Craft, Darabont Managed To Create One Of The Most\\nRecognizable Independent Releases In The History Of Hollywood.  The\\nShawshank Redemption Defines A Genre, Defies The Odds, Compels The\\nEmotions,\\nAnd Brings An Era Of Artistically Influential Films Back To\\nHollywood.<Br><Br>The Story Begins With The Trial Of A Young Banker, Andy Dufrense,\\nVictimized\\nBy Circumstantial Evidence, Resulting In A Conviction For The Murder Of His\\nWife And Her Lover.  After A Quick Conviction, Andy Finds Himself Serving A\\nLife Sentence At Shawshank Prison, With No Hope Of Parole.  He Exists In\\nThis Prison Only In Appearance, Keeping His Mind Free From The Drab Walls\\nAround Him.  His Ability To Do This Results In The Gaining Of Respect From\\nHis Fellow Inmates, But Most Of All From Ellis Redding.  Ellis, Commonly\\nReferred To As Red, Finds Gainful Use Of His Entrepreneurial Spirit Within\\nThe Drab Walls Of Shawshank By Dealing In Contraband And Commodities Rare\\nTo\\nThe Confines Of Prison.  Andy\\'S Demeanor And Undeniable Sense Of Hope\\nCauses\\nRed To Take A Deeper Look At Himself, And The World Around Him.  Andy\\nProves\\nTo Red And The Other Inmates That In The Conventional Walls Of Shawshank\\nPrison Convention Will Find No Home In His Lifestyle.<Br><Br>By Creating The Film\\'S Firm Foundation, The Meticulously Chiseled\\nScreenplay\\nPaved The Way For This Film\\'S Success.  Frank Darabont Outdoes Himself With\\nThe Phenomenal Adaptation Of Stephen King\\'S Equally Noteworthy Novella,\\nRita\\nHayworth And Shawshank Redemption.  In This Novella, King Demonstrates That\\nHe Can Break Free From The Genre He Dominates And Still Create A Marvelous\\nPiece Of Modern Literature.  Though The Film Mirrors The Novella In Many\\nWays, Darabont Illustrates A Focused Objective Of Improving Upon The Areas\\nWhere The Novella Came Up Short, Resulting In One Of The Best Book To Film\\nTransitions Ever.<Br><Br>While Maintaining Some Of The Poetic And Moving Dialogue Of The Novella,\\nDarabont Also Proves That A Film\\'S Score Can Generate A Great Deal Of\\nEmotional Response From Its Audience, As Dialogue Does.  He Employs The\\nCunning Thomas Newman, Son Of The Legendary Hollywood Composer, Alfred\\nNewman.  Darabont Shows Recognition For The Film\\'S Needs By Employing\\nNewman, Who Makes The Gentle Piano Chords Whisper Softly To The Viewer, As\\nIf A Part Of The Scripted Dialogue.  Newman Lends Himself To Individualism\\nAnd Tends To Drive More Towards The Unique In The Realm Of Score\\nComposition.  His Effort In Shawshank Did Not Go Unnoticed, As His Score\\nReceived An Oscar Nomination In 1995.  While Unique And Independent,\\nNewman\\'S Score Never Once Intrudes On Your Concentration Or Distracts From\\nThe Film.<Br><Br>With Work From Vast Array Of Talented Scene Designers, Costume Designers,\\nComposers, Cinematographers, And Various Other Hollywood Artists, The Cast\\nOf The Shawshank Redemption Had A Strong Foundation To Work With.  The\\nMarvelous Cast Of This Film Will Dazzle You With Some Of The Most\\nConvincing\\nPerformances You Will Witness In A Film.  While Both Tim Robbins And Morgan\\nFreeman Shine As Andy And Red, Respectively, The True Spectacle Of Acting\\nLies Within The Plethora Of Amazing Supporting Actors Who Easily Disappear\\nInto Their Roles.  Most Noticeable Of These, The Veteran Film Star James\\nWhitmore, Who Portrays The Elderly Brooks Hatlen.  Brooks, A Man\\nIncarcerated For An Unmentioned Crime For So Long That He Finds Himself\\nAttached To The Shawshank And The Daily Life He Has Lead.  Each Of These\\nActors Show A True Dedication To Their Art, And A Focused Purpose In Their\\nMotivations, Creating A Convincing Setting That Never Once Caters To\\nAnything Unbelievable.<Br><Br>With All Of The Aesthetic Touches And Attention To Cinematic Detail, The\\nMost Beautiful Part Of The Film Lies Within Its Thematic Material, Such As\\nIts Focus On The Human Desires For The Most Abstract Concepts, Like Hope\\nAnd\\nFreedom.  These Themes, Which Concern Things The Human Spirit Undoubtedly\\nYearns For, Seem So Intricately Woven Into The Plot That It Easily Draws\\nIts\\nAudience In To Its Story.  Though Full Of Hardened Criminals, Your Heart\\nWill Go Out To These Men As They Display The Most Basic Of Human Emotions,\\nAnd Deliver Some Of The Most Quotable Lines In A Film To Date.  Like A\\nGreat\\nNovel, This Film Manages To Succeed At Greater Things Than Simply\\nEntertaining An Audience.  Darabont Tells His Story Most Masterfully,\\nIllustrating Principles And Inspiring His Audience To Think.  He Leaves Us\\nA\\nPoignant Film With A Powerful Message Of Hope, And Redemption, Something We\\nAll Seek.<Br><Br>This Film Manages To Redeem Hollywood In The Eyes Of People Who Feared It\\nLong Lost In A Dark Sea Of Clich&Eacute;S And Predictability.  Darabont Shows Us\\nThat Artists Still Work In The Hollywood Studios And Production Facilities.\\nThese Artists Show Their Capability To Produce Art; Real Art That Inspires\\nYou To Look At The Deeper Aspects Of Life And The World Around You.  The\\nShawshank Redemption Delivers Much-Needed Breath Of Fresh Air For Anyone\\nWho\\nRealizes The Capability Of Film.  It Proves That Masters Of The Craft Still\\nLive On This Earth, And Still Bless Us With Timeless Masterpieces That We\\nWill Never Forget.\\n\\n</P>\\n\\n<Div Class=\"Yn\" Id=\"Ynd_349147\">\\n\\n<Form Method=\"Get\" \\n\\n Action=\"/Register/Login\"\\n\\n>\\nWas The Above Review Useful To You?\\r\\n\\n<Input Class=\"Click Linkasbutton-Secondary\" Type=\"Submit\" \\n Name=\"Ynb_349147_Yes\" Value=\"Yes\" \\n\\n Rel=\"Login\" \\n\\n>\\n<Input Class=\"Click Linkasbutton-Secondary\" Type=\"Submit\"\\n Name=\"Ynb_349147_No\" Value=\"No\"\\n\\n Rel=\"Login\" \\n\\n>\\n\\n</Form>\\n\\n</Div>\\n\\n<Hr Noshade=\"1\" Size=\"1\" Width=\"50%\" Align=\"Center\">\\n\\n<Div>\\n<Small>1248 Out Of 1449 People Found The Following Review Useful:</Small><Br>\\n<A Href=\"/User/Ur1005460/\"><Img Class=\"Avatar\" Src=\"Http://Ia.Media-Imdb.Com/Images/M/Mv5Bmji2Ndeymjyymf5Bml5Banbnxkftztcwmzm3Mdk0Oq@@._Sx40_Sy40_Ss40_.Jpg\" Height=${Avatar.Image.Size} Width=${Avatar.Image.Size}></A>\\n<H2>Prepare To Be Moved</H2>\\n\\n<B>Author:</B>\\n<A Href=\"/User/Ur1005460/\">Speedreid</A> <Small>From Westerville, Ohio</Small><Br>\\n<Small>8 February 2001</Small><Br>\\n\\n</Div>\\n<P>\\n\\nI Have Never Seen Such An Amazing Film Since I Saw The Shawshank Redemption.\\nShawshank Encompasses Friendships, Hardships, Hopes, And Dreams.  And What\\nIs So Great About The Movie Is That It Moves You, It Gives You Hope.  Even\\nThough The Circumstances Between The Characters And The Viewers Are Quite\\nDifferent, You Don\\'T Feel That Far Removed From What The Characters Are\\nGoing Through.<Br><Br>It Is A Simple Film, Yet It Has An Everlasting Message.  Frank Darabont\\nDidn\\'T Need To Put Any Kind Of Outlandish Special Effects To Get Us To Love\\nThis Film, The Narration And The Acting Does That For Him.  Why This Movie\\nDidn\\'T Win All Seven Oscars Is Beyond Me, But Don\\'T Let That Sway You To Not\\nSee This Film, Let Its Ranking On The Imdb\\'S Top 250 List Sway You, Let Your\\nFriends Recommendation About The Movie Sway You.<Br><Br>Set Aside A Little Over Two Hours Tonight And Rent This Movie.  You Will\\nFinally Understand What Everyone Is Talking About And You Will Understand\\nWhy This Is My All Time Favorite Movie.\\n</P>\\n\\n<Div Class=\"Yn\" Id=\"Ynd_348718\">\\n\\n<Form Method=\"Get\" \\n\\n Action=\"/Register/Login\"\\n\\n>\\nWas The Above Review Useful To You?\\r\\n\\n<Input Class=\"Click Linkasbutton-Secondary\" Type=\"Submit\" \\n Name=\"Ynb_348718_Yes\" Value=\"Yes\" \\n\\n Rel=\"Login\" \\n\\n>\\n<Input Class=\"Click Linkasbutton-Secondary\" Type=\"Submit\"\\n Name=\"Ynb_348718_No\" Value=\"No\"\\n\\n Rel=\"Login\" \\n\\n>\\n\\n</Form>\\n\\n</Div>\\n\\n<Hr Noshade=\"1\" Size=\"1\" Width=\"50%\" Align=\"Center\">\\n\\n<Div>\\n<Small>876 Out Of 992 People Found The Following Review Useful:</Small><Br>\\n<A Href=\"/User/Ur1898687/\"><Img Class=\"Avatar\" Src=\"Http://Ia.Media-Imdb.Com/Images/M/Mv5Bmji2Ndeymjyymf5Bml5Banbnxkftztcwmzm3Mdk0Oq@@._Sx40_Sy40_Ss40_.Jpg\" Height=${Avatar.Image.Size} Width=${Avatar.Image.Size}></A>\\n<H2>A Classic Piece Of Unforgettable Film-Making.</H2>\\n<Img Width=\"102\" Height=\"12\" Alt=\"10/10\" Src=\"Http://I.Media-Imdb.Com/Images/Showtimes/100.Gif\"><Br>\\n<B>Author:</B>\\n<A Href=\"/User/Ur1898687/\">Justin M (Kaspen12)</A> <Small>From Vancouver, Canada</Small><Br>\\n<Small>10 February 2006</Small><Br>\\n<P><B>*** This Review May Contain Spoilers ***</B></P>\\r\\n\\n</Div>\\n<P>\\nIn Its Oscar Year, Shawshank Redemption (Written And Directed By Frank\\nDarabont, After The Novella Rita Hayworth And The Shawshank Redemption,\\nBy Stephen King) Was Nominated For Seven Academy Awards, And Walked\\nAway With Zero. Best Picture Went To Forrest Gump, While Shawshank And\\nPulp Fiction Were &Quot;Just Happy To Be Nominated.&Quot; Of Course Hindsight Is\\n20/20, But While History Looks Back On Gump As A Good Film, Pulp And\\nRedemption Are Remembered As Some Of The All-Time Best. Pulp, However,\\nWas A Success From The Word &Quot;Go,&Quot; Making A Huge Splash At Cannes And\\nMaking Its Writer-Director An American Master After Only Two Films. For\\nAndy Dufresne And Co., Success Didn\\'T Come Easy. Fortunately, Failure\\nWasn\\'T A Life Sentence.<Br><Br>After Opening On 33 Screens With Take Of $727,327, The $25M Film Fell\\nFast From Theatres And Finished With A Mere $28.3M. The Reasons For\\nFailure Are Many. Firstly, The Title Is A Clunker. While Iconic To Fans\\nToday, In 1994, People Knew Not And Cared Not What A \\'Shawshank\\' Was.\\nOn The Dvd, Tim Robbins Laughs Recounting Fans Congratulating Him On\\n&Quot;That \\'Rickshaw\\' Movie.&Quot; Marketing-Wise, The Film\\'S A Nightmare, As\\n\\'Prison Drama\\' Is A Tough Sell To Women, And The Story Of Love Between\\nTwo Best Friends Doesn\\'T Spell Winner To Men. Worst Of All, The Movie\\nIs Slow As Molasses. As Desson Thomson Writes For The Washington Post,\\n&Quot;It Wanders Down Subplots At Every Opportunity And Ignores An Abundance\\nOf Narrative Exit Points Before Settling On Its Finale.&Quot; But It Is\\nThese Same Weaknesses That Make The Film So Strong.<Br><Br>Firstly, Its Setting. The Opening Aerial Shots Of The Prison Are A\\nTotal Eye-Opener. This Is An Amazing Piece Of Architecture, Strong And\\nGothic In Design. Immediately, The Prison Becomes A Character. It Casts\\nIts Shadow Over Most Of The Film, Its Tall Stone Walls Stretching Above\\nEvery Shot. It Towers Over The Men It Contains, Blotting Out All\\nMemories Of The Outside World. Only Andy (Robbins) Holds Onto Hope.\\nIt\\'S In Music, It\\'S In The Sandy Beaches Of Zihuatanejo; &Quot;In Here\\'S\\nWhere You Need It Most,&Quot; He Says. &Quot;You Need It So You Don\\'T Forget.\\nForget That There Are Places In The World That Aren\\'T Made Out Of\\nStone. That There\\'S A - There\\'S A - There\\'S Something Inside That\\'S\\nYours, That They Can\\'T Touch.&Quot; Red (Morgan Freeman) Doesn\\'T Think Much\\nOf Andy At First, Picking &Quot;That Tall Glass O\\' Milk With The Silver\\nSpoon Up His Ass&Quot; As The First New Fish To Crack. Andy Says Not A Word,\\nAnd Losing His Bet, Red Resents Him For It. But Over Time, As The Two\\nGet To Know Each Other, They Quickly Become The Best Of Friends. This\\nAgain, Is One Of The Film\\'S Major Strengths. Many Movies Are About\\nLove, Many Flicks Have A Side-Kick To The Hero, But Shawshank Is The\\nOnly One I Can Think Of That Looks Honestly At The Love Between Two\\nBest Friends. It Seems Odd That Hollywood Would Skip This Relationship\\nTime And Again, When It\\'S A Feeling That Weighs So Much Into Everyone\\'S\\nDay To Day Lives. Perhaps It\\'S Too Sentimental To Seem Conventional,\\nBut Shawshank\\'S Core Friendship Hits All The Right Notes, And The Film\\nIs Much Better For It.<Br><Br>It\\'S Pacing Is Deliberate As Well. As We Spend The Film Watching The\\nSame Actors, It Is Easy To Forget That The Movie\\'S Timeline Spans Well\\nOver 20 Years. Such A Huge Measure Of Time Would Pass Slowly In\\nReality, And Would Only Be Amplified In Prison. And It\\'S Not As If The\\nFilm Lacks Interest In These Moments. It Still Knows Where It\\'S Going,\\nIt Merely Intends On Taking Its Sweet Time Getting There. It Pays Off\\nAs Well, As The Tedium Of Prison Life Makes The Climax That Much More\\nExhilarating. For Anyone Who Sees It, It Is A Moment Never To Be\\nForgotten.<Br><Br>With Themes Of Faith And Hope, There Is A Definite Religious Subtext To\\nBe Found Here. Quiet, Selfless And Carefree, Andy Is An Obvious Christ\\nFigure. Warden Norton (Bob Gunton) Is Obviously Modeled On Richard\\nNixon, Who, In His Day, Was As Close To A Personified Satan As They\\nCome. But If You Aren\\'T Looking For Subtexts, The Movie Speaks To\\nAnyone In Search Of Hope. It Is A Compelling Drama, And A Very Moving\\nFilm, Perfectly Written, Acted And Shot. They Just Don\\'T Come Much\\nBetter Than This.<Br><Br>Overall Score: 9.8/10 = A+ The Shawshank Redemption Served As A Message\\nOf Hope To Hollywood As Well. More Than Any Film In Memory, It Proved\\nThere Is Life After Box Office. Besting Forrest And Fiction, It Ran\\nSolely On Strong Word Of Mouth And Became The Hottest Rented Film Of\\n1995. It Currently Sits At #2 In The Imdb\\'S Top 250 Films, Occasionally\\nSwapping Spots With The Godfather As The Top Ranked Film Of All Time --\\nRedemption Indeed. If You Haven\\'T Seen It Yet, What The Hell Are You\\nWaiting For? As Andy Says, &Quot;It Comes Down A Simple Choice, Really.\\nEither Get Busy Living, Or Get Busy Dying.&Quot;\\n</P>\\n\\n<Div Class=\"Yn\" Id=\"Ynd_1288098\">\\n\\n<Form Method=\"Get\" \\n\\n Action=\"/Register/Login\"\\n\\n>\\nWas The Above Review Useful To You?\\r\\n\\n<Input Class=\"Click Linkasbutton-Secondary\" Type=\"Submit\" \\n Name=\"Ynb_1288098_Yes\" Value=\"Yes\" \\n\\n Rel=\"Login\" \\n\\n>\\n<Input Class=\"Click Linkasbutton-Secondary\" Type=\"Submit\"\\n Name=\"Ynb_1288098_No\" Value=\"No\"\\n\\n Rel=\"Login\" \\n\\n>\\n\\n</Form>\\n\\n</Div>\\n\\n<Hr Noshade=\"1\" Size=\"1\" Width=\"50%\" Align=\"Center\">\\n\\n<Div>\\n<Small>920 Out Of 1141 People Found The Following Review Useful:</Small><Br>\\n<A Href=\"/User/Ur0094239/\"><Img Class=\"Avatar\" Src=\"Http://Ia.Media-Imdb.Com/Images/M/Mv5Bmji2Ndeymjyymf5Bml5Banbnxkftztcwmzm3Mdk0Oq@@._Sx40_Sy40_Ss40_.Jpg\" Height=${Avatar.Image.Size} Width=${Avatar.Image.Size}></A>\\n<H2>Two Movies In One</H2>\\n\\n<B>Author:</B>\\n<A Href=\"/User/Ur0094239/\">Douglas-2</A> <Small>From Chicago, Il</Small><Br>\\n<Small>16 August 1998</Small><Br>\\n<P><B>*** This Review May Contain Spoilers ***</B></P>\\r\\n\\n</Div>\\n<P>\\nThe Reason I Became A Member Of This Database Is Because I Finally \\r\\nFound A Movie Ranking That Recognized The True Greatness Of This Movie. There \\r\\nIs Nary A Word Or Scene Out Of Place In The Entire Thing. Every Element \\r\\nComes Together To Form An Exquisite Story For Cinema. \\r\\n\\r\\nI Believe That One Reason That This Movie Is Under-Appreciated Is That \\r\\nPeople Have Not Seen It Multiple Times. On First Viewing It Is The Story Of \\r\\nAndy Dufresne And His Struggle To Maintain Hope Despite His Circumstances. \\r\\n\\r\\nHowever, This Is Really A Movie About Red And His Struggle To Find \\r\\nMeaning And Purpose. The Final Segment Of The Movie Testifies To The Fact That The Final Resolution Of The Story Comes About Only When Red Is Faced With The Same Fearful Situation As Brooks. Because Of Andy, Red Can Find A\\r\\nDifferent Path-The Path Of Freedom That Is Lit By Hope.\\r\\n\\r\\nWho Is Your Andy Dufresne?\\n</P>\\n\\n<Div Class=\"Yn\" Id=\"Ynd_348953\">\\n\\n<Form Method=\"Get\" \\n\\n Action=\"/Register/Login\"\\n\\n>\\nWas The Above Review Useful To You?\\r\\n\\n<Input Class=\"Click Linkasbutton-Secondary\" Type=\"Submit\" \\n Name=\"Ynb_348953_Yes\" Value=\"Yes\" \\n\\n Rel=\"Login\" \\n\\n>\\n<Input Class=\"Click Linkasbutton-Secondary\" Type=\"Submit\"\\n Name=\"Ynb_348953_No\" Value=\"No\"\\n\\n Rel=\"Login\" \\n\\n>\\n\\n</Form>\\n\\n</Div>\\n\\n<Hr Noshade=\"1\" Size=\"1\" Width=\"50%\" Align=\"Center\">\\n\\n<Div>\\n<Small>881 Out Of 1187 People Found The Following Review Useful:</Small><Br>\\n<A Href=\"/User/Ur1285640/\"><Img Class=\"Avatar\" Src=\"Http://Ia.Media-Imdb.Com/Images/M/Mv5Bmji2Ndeymjyymf5Bml5Banbnxkftztcwmzm3Mdk0Oq@@._Sx40_Sy40_Ss40_.Jpg\" Height=${Avatar.Image.Size} Width=${Avatar.Image.Size}></A>\\n<H2>The Best Story Ever Told On Film</H2>\\n<Img Width=\"102\" Height=\"12\" Alt=\"8/10\" Src=\"Http://I.Media-Imdb.Com/Images/Showtimes/80.Gif\"><Br>\\n<B>Author:</B>\\n<A Href=\"/User/Ur1285640/\">Si Cole</A><Br>\\n<Small>3 August 2001</Small><Br>\\n<P><B>*** This Review May Contain Spoilers ***</B></P>\\r\\n\\n</Div>\\n<P>\\n\\nI Believe That This Film Is The Best Story Ever Told On Film, And I\\'M About\\nTo Tell You Why.<Br><Br>Tim Robbins Plays Andy Dufresne, A City Banker, Wrongfully Convicted Of\\nMurdering His Wife And Her Lover. He Is Sent To Shawshank Prison In 1947\\nAnd\\nReceives A Double Life Sentence For The Crime. Andy Forms An Unlikely\\nFriendship With &Quot;Red&Quot; (Morgan Freeman), The Man Who Knows How To Get\\nThings.\\nAndy Faces Many Trials In Prison, But Forms An Alliance With The Wardens\\nBecause He Is Able To Use His Banking Experience To Help The Corrupt\\nOfficials Amass Personal Fortunes. The Story Unfolds....<Br><Br>I Was So Impressed With How Every Single Subplot Was Given A Great Deal Of\\nRespect And Attention From The Director. The Acting Was World-Class. I Have\\nNever Seen Tim Robbins Act As Well Since, Morgan Freeman Maybe (E.G.\\nSeven).\\nThe Twists Were Unexpected, An Although This Film Had A Familiar Feel, It\\nWasn\\'T Even Slightly Pretentious Or Cliched, It Was Original. The\\nCinematography Was Grand And Expressive. It Gave A Real Impression Of The\\nSheer Magnitude Of This Daunting Prison.<Br><Br>But The One Thing Which Makes The Shawshank Redemption Stand Above All\\nOther\\nFilms, Is The Attention Given To The Story. The Film Depends On The Story\\nAnd The Way In Which It Unravels. It\\'S A Powerful, Poignant,\\nThought-Provoking, Challenging Film Like No Other. If Andy Were To Comment\\nOn This Film, I Think He Might Say: &Quot;Get Busy Watching, Or Get Busy Dying.&Quot;\\nTake His Advice.<Br><Br>Thoroughly Recommended.\\n</P>\\n\\n<Div Class=\"Yn\" Id=\"Ynd_348829\">\\n\\n<Form Method=\"Get\" \\n\\n Action=\"/Register/Login\"\\n\\n>\\nWas The Above Review Useful To You?\\r\\n\\n<Input Class=\"Click Linkasbutton-Secondary\" Type=\"Submit\" \\n Name=\"Ynb_348829_Yes\" Value=\"Yes\" \\n\\n Rel=\"Login\" \\n\\n>\\n<Input Class=\"Click Linkasbutton-Secondary\" Type=\"Submit\"\\n Name=\"Ynb_348829_No\" Value=\"No\"\\n\\n Rel=\"Login\" \\n\\n>\\n\\n</Form>\\n\\n</Div>\\n\\n<Hr Noshade=\"1\" Size=\"1\" Width=\"50%\" Align=\"Center\">\\n\\n<Div>\\n<Small>643 Out Of 784 People Found The Following Review Useful:</Small><Br>\\n<A Href=\"/User/Ur0611718/\"><Img Class=\"Avatar\" Src=\"Http://Ia.Media-Imdb.Com/Images/M/Mv5Bmji2Ndeymjyymf5Bml5Banbnxkftztcwmzm3Mdk0Oq@@._Sx40_Sy40_Ss40_.Jpg\" Height=${Avatar.Image.Size} Width=${Avatar.Image.Size}></A>\\n<H2>Powerful</H2>\\n<Img Width=\"102\" Height=\"12\" Alt=\"10/10\" Src=\"Http://I.Media-Imdb.Com/Images/Showtimes/100.Gif\"><Br>\\n<B>Author:</B>\\n<A Href=\"/User/Ur0611718/\">Thomas Mcfadden (Tmac4)</A> <Small>From Houston, Texas</Small><Br>\\n<Small>25 July 2001</Small><Br>\\n\\n</Div>\\n<P>\\n\\nOne Of My All Time Favorites. Shawshank Redemption Is A Very Moving Story\\nAbout Hope And The Power Of Friendship. The Cast Is First Rate With\\nEveryone\\nGiving A Great Performance. Tim Robbins And Morgan Freeman Carry The Movie,\\nBut Bob Gunton And Clancy Brown Are Perfect As The Warden Norton And Prison\\nGuard Captain Hadley Respectively. And James Whitmore\\'S Portrail Of An\\nElderly Inmate Brooks Is Moving. The Screenplay Gives Almost Every Actor At\\nLeast One Or More Memorable Lines Through Out The Film. As Well As A Very\\nSurprising &Quot;Twist&Quot; Near The End That Almost Knocked Me Out Of My Chair. If\\nYou Have Not Seen This Movie Rent It Or Better Yet Buy It. As I Bet You\\'Ll\\nWant To See This One More Than Once.\\n</P>\\n\\n<Div Class=\"Yn\" Id=\"Ynd_348821\">\\n\\n<Form Method=\"Get\" \\n\\n Action=\"/Register/Login\"\\n\\n>\\nWas The Above Review Useful To You?\\r\\n\\n<Input Class=\"Click Linkasbutton-Secondary\" Type=\"Submit\" \\n Name=\"Ynb_348821_Yes\" Value=\"Yes\" \\n\\n Rel=\"Login\" \\n\\n>\\n<Input Class=\"Click Linkasbutton-Secondary\" Type=\"Submit\"\\n Name=\"Ynb_348821_No\" Value=\"No\"\\n\\n Rel=\"Login\" \\n\\n>\\n\\n</Form>\\n\\n</Div>\\n\\n<Hr Noshade=\"1\" Size=\"1\" Width=\"50%\" Align=\"Center\">\\n\\n<Div>\\n<Small>643 Out Of 793 People Found The Following Review Useful:</Small><Br>\\n<A Href=\"/User/Ur0257957/\"><Img Class=\"Avatar\" Src=\"Http://Ia.Media-Imdb.Com/Images/M/Mv5Bmji2Ndeymjyymf5Bml5Banbnxkftztcwmzm3Mdk0Oq@@._Sx40_Sy40_Ss40_.Jpg\" Height=${Avatar.Image.Size} Width=${Avatar.Image.Size}></A>\\n<H2>The Shawshank Redemption</H2>\\n<Img Width=\"102\" Height=\"12\" Alt=\"10/10\" Src=\"Http://I.Media-Imdb.Com/Images/Showtimes/100.Gif\"><Br>\\n<B>Author:</B>\\n<A Href=\"/User/Ur0257957/\">Tim Cox</A> <Small>From Marietta, Oh</Small><Br>\\n<Small>25 March 1999</Small><Br>\\n\\n</Div>\\n<P>\\n\\nOne Of The Finest Films Made In Recent Years. It\\'S A Poignant Story\\nAbout Hope. Hope Gets Me. That\\'S What Makes A Film Like This More Than A\\nMovie. It Tells A Lesson About Life.\\nThose Are The Films People Talk About 50 Or Even 100 Years From You. It\\'S\\nAlso A Story For Freedom. Freedom From Isolation, \\nFrom Rule, From Bigotry And Hate. Freeman And Robbins Are\\nMajestic In Their Performances. Each Learns From The Other.\\nTheir Relationship Is Strong And You Feel That From The First\\nMoment They Make Contact With One Another. There Is Also A\\nWonderful Performance From Legend James Whitmore As Brooks.<Br><Br>He Shines When It Is His Time To Go Back Into The World,\\nOnly\\nTo Find That The World Grew Up So Fast He Never Even Got\\nA Chance To Blink. Stephen King\\'S Story Is Brought To The\\nScreen With Great Elegance And Excitement. It Is An Extraordinary Motion\\nThat People &Quot;Will&Quot; Be Talking About In \\n50 Or 100 Years.  \\n</P>\\n\\n<Div Class=\"Yn\" Id=\"Ynd_348222\">\\n\\n<Form Method=\"Get\" \\n\\n Action=\"/Register/Login\"\\n\\n>\\nWas The Above Review Useful To You?\\r\\n\\n<Input Class=\"Click Linkasbutton-Secondary\" Type=\"Submit\" \\n Name=\"Ynb_348222_Yes\" Value=\"Yes\" \\n\\n Rel=\"Login\" \\n\\n>\\n<Input Class=\"Click Linkasbutton-Secondary\" Type=\"Submit\"\\n Name=\"Ynb_348222_No\" Value=\"No\"\\n\\n Rel=\"Login\" \\n\\n>\\n\\n</Form>\\n\\n</Div>\\n\\n<Hr Noshade=\"1\" Size=\"1\" Width=\"50%\" Align=\"Center\">\\n\\n<Div>\\n<Small>563 Out Of 689 People Found The Following Review Useful:</Small><Br>\\n<A Href=\"/User/Ur0355122/\"><Img Class=\"Avatar\" Src=\"Http://Ia.Media-Imdb.Com/Images/M/Mv5Bodi5Njc5Nzyynv5Bml5Banbnxkftztcwntuwmzc2Oq@@._V1._Sx40_Sy40_Ss40_.Jpg\" Height=${Avatar.Image.Size} Width=${Avatar.Image.Size}></A>\\n<H2>Stephen King&#39;S Best Adapted Movie</H2>\\n<Img Width=\"102\" Height=\"12\" Alt=\"10/10\" Src=\"Http://I.Media-Imdb.Com/Images/Showtimes/100.Gif\"><Br>\\n<B>Author:</B>\\n<A Href=\"/User/Ur0355122/\">Dan Grant (Dan.Grant@Bell.Ca)</A> <Small>From Toronto, Ontario</Small><Br>\\n<Small>13 July 1999</Small><Br>\\n\\n</Div>\\n<P>\\nMisery And Stand By Me Were The Best Adaptations Up Until This One, Now\\nYou Can Add Shawshank To That List.<Br><Br>This Is Simply One Of The Best Films Ever Made And I Know I Am Not The\\nFirst To Say That And I Certainly Won&#39;T Be The Last. The Standing On\\nThe Imdb Is A True Barometer Of That. #3 As Of This Date And I&#39;M Sure\\nIt Could Be Number 1. So I&#39;Ll Just Skip All The Normal Praise Of The\\nFilm Because We All Know How Great It Is. But Let Me Perhaps Add That\\nWhat I Find So Fascinating About Shawshank Is That Stephen King Wrote\\nIt.<Br><Br>King Is One Of The Best Writers In The World. Books Like It And The\\nCastle Rock Series Are Some Of The Greatest Stories Ever Told. But His\\nBest Adaptations Are Always Done By The Best Directors. The Shining Was\\nBrilliantly Interpreted By Kubrick And Of Course The Aforementioned\\nMisery And Stand By Me Are Both By Rob Reiner. Now Frank Darabont Comes\\nOnto The Scene And Makes Arguably The Best King Film Ever. He Seems To\\nUnderstand What King Wants To Say And He Conveys That Beautifully. <Br><Br>What Makes This Film One Of The Best Ever Made Is The Message It\\nConveys. It Is One Of Eternal Hope. Andy Dufresne, Played By Tim\\nRobbins, Has Been Sent To Prison For A Crime He Did Not Commit. But He\\nNever Loses Hope. He Never Gives Up His Quest To Become A Free Man\\nAgain. His Years Of Tenacity, Patience And Wits Keep Him Not Only Sane,\\nBut It Gives His Mind And A Spirit A Will To Live. This Film Has A\\nDifferent Feel To It. There Has Never Been Anything Like It Before And\\nI Don&#39;T Know If There Will Again.<Br><Br>I&#39;M Not Going To Say Any More About This Film, It Has Already Been\\nSaid, But Just Suffice To Say That I Am Glad That Forrest Gump Won Best\\nPicture In 94. I Would Have Been Equally Glad If Pulp Fiction Or\\nShawshank Would Have Won. It Is That Good Of A Movie And One That Will\\nBe Appreciated For Years To Come.\\n</P>\\n\\n<Div Class=\"Yn\" Id=\"Ynd_348302\">\\n\\n<Form Method=\"Get\" \\n\\n Action=\"/Register/Login\"\\n\\n>\\nWas The Above Review Useful To You?\\r\\n\\n<Input Class=\"Click Linkasbutton-Secondary\" Type=\"Submit\" \\n Name=\"Ynb_348302_Yes\" Value=\"Yes\" \\n\\n Rel=\"Login\" \\n\\n>\\n<Input Class=\"Click Linkasbutton-Secondary\" Type=\"Submit\"\\n Name=\"Ynb_348302_No\" Value=\"No\"\\n\\n Rel=\"Login\" \\n\\n>\\n\\n</Form>\\n\\n</Div>\\n\\n<Hr Noshade=\"1\" Size=\"1\" Width=\"50%\" Align=\"Center\">\\n\\n<Div>\\n<Small>535 Out Of 683 People Found The Following Review Useful:</Small><Br>\\n<A Href=\"/User/Ur0842118/\"><Img Class=\"Avatar\" Src=\"Http://Ia.Media-Imdb.Com/Images/M/Mv5Bmji2Ndeymjyymf5Bml5Banbnxkftztcwmzm3Mdk0Oq@@._Sx40_Sy40_Ss40_.Jpg\" Height=${Avatar.Image.Size} Width=${Avatar.Image.Size}></A>\\n<H2>Simply Amazing. The Best Film Of The 90\\'S.</H2>\\n<Img Width=\"102\" Height=\"12\" Alt=\"10/10\" Src=\"Http://I.Media-Imdb.Com/Images/Showtimes/100.Gif\"><Br>\\n<B>Author:</B>\\n<A Href=\"/User/Ur0842118/\">Thomas Peluso (Tpeluso@Gmail.Com)</A> <Small>From Long Island, Ny</Small><Br>\\n<Small>6 September 2000</Small><Br>\\n<P><B>*** This Review May Contain Spoilers ***</B></P>\\r\\n\\n</Div>\\n<P>\\n\\nThe Shawshank Redemption Is Without A Doubt One Of The Most Brilliant Movies\\nI Have Ever Seen. Similar To The Green Mile In Many Respects (And Better\\nThan It In Almost All Of Them), These Two Movies Have Shown Us That Stephen\\nKing Is A Master Not Only Of Horror But Also Of Prose That Shakes The Soul\\nAnd Moves The Heart. The Plot Is Average, But King Did Great Things With It\\nIn His Novella That Are Only Furthered By The Direction, And The Acting Is\\nSo Top-Rate It\\'S Almost Scary.<Br><Br>Tim Robbins Plays Andy Dufrane, Wrongly Imprisoned For 20 Years For The\\nMurder Of His Wife. The Story Focuses On Andy\\'S Relationship With &Quot;Red&Quot;\\nRedding (Morgan Freeman, In Probably His Best Role) And His Attempts To\\nEscape From Shawshank. Bob Gunton Is Positively Evil And Frightening As\\nWarden Norton, And There Are Great\\nPerformances And Cameos All Around; The Most Prominent One Being Gil Bellows\\n(Late As Billy Of Ally Mcbeal) As Tommy, A Fellow Inmate Of Andy\\'S Who\\nSuffers Under The Iron Will Of Norton.<Br><Br>If You Haven\\'T Seen This Movie, Go And Rent It Now. You Will Not Be\\nDisappointed. It Is Positively The Best Movie Of The \\'90\\'S, And One Of My\\nTop 3 Of All Time. This Movie Is A Spectacle To Move The Mind, Soul, And\\nHeart. 10/10\\n</P>\\n\\n<Div Class=\"Yn\" Id=\"Ynd_348616\">\\n\\n<Form Method=\"Get\" \\n\\n Action=\"/Register/Login\"\\n\\n>\\nWas The Above Review Useful To You?\\r\\n\\n<Input Class=\"Click Linkasbutton-Secondary\" Type=\"Submit\" \\n Name=\"Ynb_348616_Yes\" Value=\"Yes\" \\n\\n Rel=\"Login\" \\n\\n>\\n<Input Class=\"Click Linkasbutton-Secondary\" Type=\"Submit\"\\n Name=\"Ynb_348616_No\" Value=\"No\"\\n\\n Rel=\"Login\" \\n\\n>\\n\\n</Form>\\n\\n</Div>\\n\\n<Hr Noshade=\"1\" Size=\"1\" Width=\"50%\" Align=\"Center\">\\n\\n<Hr Size=\"1\" Noshade=\"1\">\\n<Table><Tr><Td Nowrap=\"1\"><Font Face=\"Arial, Helvetica, Sans-Serif\" Size=\"-1\">Page 1 Of 411:</Font></Td><Td Nowrap=\"1\"><A Title=\"1\" Href=\"Reviews?Start=0\"><B>[1]</B></A> <A Title=\"2\" Href=\"Reviews?Start=10\">[2]</A> <A Title=\"3\" Href=\"Reviews?Start=20\">[3]</A> <A Title=\"4\" Href=\"Reviews?Start=30\">[4]</A> <A Title=\"5\" Href=\"Reviews?Start=40\">[5]</A> <A Title=\"6\" Href=\"Reviews?Start=50\">[6]</A> <A Title=\"7\" Href=\"Reviews?Start=60\">[7]</A> <A Title=\"8\" Href=\"Reviews?Start=70\">[8]</A> <A Title=\"9\" Href=\"Reviews?Start=80\">[9]</A> <A Title=\"10\" Href=\"Reviews?Start=90\">[10]</A> <A Title=\"11\" Href=\"Reviews?Start=100\">[11]</A> <A Href=\"Reviews?Start=10\"><Img Width=\"10\" Height=\"9\" Border=\"0\" Src=\"Http://I.Media-Imdb.Com/F86.Gif\" Alt=\"[Next]\"></A></Td></Tr></Table><P><A Href=\"Reviews-Enter\">Add Another Review</A></P>\\r\\n  \\n<Hr/><H3>Related Links</H3><Table>\\n    <Tr><Td Width=\"33%\" Style=\"Width: 400Px\"> <A Href=\"/Title/Tt0111161/Plotsummary\" Onclick=\"(New Image()).Src=\\'/Rg/Title-Related/Reviews-Plotsummary/Images/B.Gif?Link=/Title/Tt0111161/Plotsummary\\';\">Plot Summary</A></Td>\\n    <Td Width=\"33%\" Style=\"Width: 400Px\"> <A Href=\"/Title/Tt0111161/Synopsis\" Onclick=\"(New Image()).Src=\\'/Rg/Title-Related/Reviews-Synopsis/Images/B.Gif?Link=/Title/Tt0111161/Synopsis\\';\">Plot Synopsis</A></Td>\\n    <Td Width=\"33%\" Style=\"Width: 400Px\"> <A Href=\"/Title/Tt0111161/Ratings\" Onclick=\"(New Image()).Src=\\'/Rg/Title-Related/Reviews-Ratings/Images/B.Gif?Link=/Title/Tt0111161/Ratings\\';\">Ratings</A></Td></Tr>\\n    <Tr><Td Width=\"33%\" Style=\"Width: 400Px\"> <A Href=\"/Title/Tt0111161/Awards\" Onclick=\"(New Image()).Src=\\'/Rg/Title-Related/Reviews-Awards/Images/B.Gif?Link=/Title/Tt0111161/Awards\\';\">Awards</A></Td>\\n    <Td Width=\"33%\" Style=\"Width: 400Px\"> <A Href=\"/Title/Tt0111161/Externalreviews\" Onclick=\"(New Image()).Src=\\'/Rg/Title-Related/Reviews-Externalreviews/Images/B.Gif?Link=/Title/Tt0111161/Externalreviews\\';\">External Reviews</A></Td>\\n    <Td Width=\"33%\" Style=\"Width: 400Px\"> <A Href=\"/Title/Tt0111161/Parentalguide\" Onclick=\"(New Image()).Src=\\'/Rg/Title-Related/Reviews-Parentalguide/Images/B.Gif?Link=/Title/Tt0111161/Parentalguide\\';\">Parents Guide</A></Td></Tr>\\n    <Tr><Td Width=\"33%\" Style=\"Width: 400Px\"> <A Href=\"/Title/Tt0111161/Officialsites\" Onclick=\"(New Image()).Src=\\'/Rg/Title-Related/Reviews-Officialsites/Images/B.Gif?Link=/Title/Tt0111161/Officialsites\\';\">Official Site</A></Td>\\n    <Td Width=\"33%\" Style=\"Width: 400Px\"> <A Href=\"/Title/Tt0111161/Keywords\" Onclick=\"(New Image()).Src=\\'/Rg/Title-Related/Reviews-Keywords/Images/B.Gif?Link=/Title/Tt0111161/Keywords\\';\">Plot Keywords</A></Td>\\n    <Td Width=\"33%\" Style=\"Width: 400Px\"> <A Href=\"/Title/Tt0111161/Maindetails\" Onclick=\"(New Image()).Src=\\'/Rg/Title-Related/Reviews-Maindetails/Images/B.Gif?Link=/Title/Tt0111161/Maindetails\\';\">Main Details</A></Td></Tr>\\n    <Tr><Td Width=\"33%\" Style=\"Width: 400Px\"> <A Href=\"/My/Comments\" Onclick=\"(New Image()).Src=\\'/Rg/Title-Related/Reviews-User/Images/B.Gif?Link=/My/Comments\\';\">Your User Reviews</A></Td>\\n    <Td Width=\"33%\" Style=\"Width: 400Px\"> <A Href=\"/List/Ratings\" Onclick=\"(New Image()).Src=\\'/Rg/Title-Related/Reviews-Vote/Images/B.Gif?Link=/List/Ratings\\';\">Your Vote History</A></Td>\\n</Table>\\n\\n</Div>\\n</Div> \\n</Div> \\n<Br Style=\"Clear:Both;\" />\\n</Div>\\n\\n\\n\\n\\n<Div Id=\"Footer\" Class=\"Ft\">\\n  <Div Id=\"Rvi-Div\">\\n    <Div Class=\"Recently-Viewed\">&Nbsp;</Div>\\n    <Br Class=\"Clear\">\\n  </Div>\\n\\n  \\n\\n\\n<!-- Begin Bottom_Ad -->\\n<Div Id=\"Bottom_Ad_Wrapper\" Class=\"Cornerstone_Slot\">\\n<Script Type=\"Text/Javascript\">\\nDowithads(Function(){\\nAd_Utils.Register_Ad(\\'Bottom_Ad\\');\\n});\\n</Script>\\n<Iframe Id=\"Bottom_Ad\" Name=\"Bottom_Ad\" Class=\"Yesscript\" Width=\"728\" Height=\"90\" Data-Original-Width=\"728\" Data-Original-Height=\"90\" Data-Blank-Serverside Marginwidth=\"0\" Marginheight=\"0\" Frameborder=\"0\" Scrolling=\"No\" Allowtransparency=\"True\" Onload=\"Dowithads.Call(This, Function(){ Ad_Utils.On_Ad_Load(This); });\" Allowfullscreen=\"True\"></Iframe>\\n</Div>\\n<Div Id=\"Bottom_Ad_Reflow_Helper\"></Div>\\n<Script>\\nDowithads(Function(){\\nAd_Utils.Inject_Serverside_Ad(\\'Bottom_Ad\\', \\'\\');\\n},\"Unable To Inject Serverside Ad\");\\n</Script><!-- _Get_Ad_For_Slot(Bottom_Ad) -->\\n\\n\\n  <Div Class=\"Container Footer-Grid-Wrapper\">\\n    <Div Class=\"Grid-Row Footer-Row\">\\n      <Div Class=\"Grid-Col Outside\">\\n        <H3>Imdb Everywhere</H3>\\n        <Div Class=\"App-Links\">\\n          \\n\\n<A Href=\"Https://Itunes.Apple.Com/App/Imdb-Movies-Tv/Id342792525\"    Title=\"Get The Imdb App On The Apple App Store\"\\n  Target=\"_Blank\" >\\n            <Span Class=\"Desktop-Sprite Appstore-Apple\"></Span>\\n          </A>\\n          \\n\\n<A Href=\"Https://Play.Google.Com/Store/Apps/Details?Id=Com.Imdb.Mobile\"    Title=\"Get The Imdb App On Google Play\"\\n  Target=\"_Blank\" >\\n            <Span Class=\"Desktop-Sprite Appstore-Google\"></Span>\\n          </A>\\n          \\n\\n<A Href=\"Http://Www.Amazon.Com/Imdb-Mobile-Llc-Movies-Tv/Dp/B004Gisarw/?Amp&Ref=Mas_Ba_Imdb_Dp&Amp&Pf_Rd_M=Atvpdkikx0Der&Amp&Pf_Rd_S=Right-1&Amp&Pf_Rd_R=0H6Rnamsq70Fm7Atr0Wn&Amp&Pf_Rd_T=101&Amp&Pf_Rd_P=1290998462&Amp&Pf_Rd_I=2350149011&Ref_=Imdbref_Ft_App_Amazon&Tag=Imdb-Fire-Housead-20\"    Title=\"Get The Imdb App On Amazon Appstore For Android\"\\n  Target=\"_Blank\" >\\n            <Span Class=\"Desktop-Sprite Appstore-Amazon\"></Span>\\n          </A>\\n        </Div>\\n\\n        <P>Find Showtimes, Watch Trailers, Browse Photos, Track Your Watchlist And Rate Your Favorite Movies And Tv Shows On Your Phone Or Tablet!</P>\\n\\n        <A     Href=\"Http://M.Imdb.Com?Ref=Ft_Mdot\"   Class=\"Touchlink\"\\n    >Imdb Mobile Site</A>\\n      </Div>\\n      <Div Class=\"Grid-Col Center\">\\n        <Div Class=\"Link-Bar Icon-Link-Bar\">\\n          <H3>Follow Imdb On\\n            <Div>\\n              \\n\\n\\n<A Href=\"Https://Www.Facebook.Com/Imdb\"    Title=\"Follow Imdb On Facebook\"\\n  Target=\"_Blank\" >\\n  <Span Class=\"Desktop-Sprite Follow-Facebook\"></Span>\\n</A>\\n\\n\\n<A Href=\"Https://Twitter.Com/Imdb\"    Title=\"Follow Imdb On Twitter\"\\n  Target=\"_Blank\" >\\n  <Span Class=\"Desktop-Sprite Follow-Twitter\"></Span>\\n</A>\\n\\n\\n<A Href=\"Https://Instagram.Com/Imdb/\"    Title=\"Follow Imdb On Instagram\"\\n  Target=\"_Blank\" >\\n  <Span Class=\"Desktop-Sprite Follow-Instagram\"></Span>\\n</A>\\n\\n            </Div>\\n          </H3>\\n        </Div>\\n      </Div>\\n      <Div Class=\"Grid-Col Outside\">\\n        <Div Class=\"Grid-Row\">\\n          <Div Class=\"Grid-Col Grid-Col-4\">\\n            <Ul Class=\"Unstyled\">\\n              <Li>\\n\\n<A     Href=\"/?Ref=Ft_Hm\"    >Home</A></Li>\\n              <Li>\\n\\n<A     Href=\"/Chart/Top?Ref=Ft_250\"    >Top Rated Movies</A></Li>\\n              <Li>\\n\\n<A     Href=\"/Chart?Ref=Ft_Cht\"    >Box Office</A></Li>\\n              <Li>\\n\\n<A     Href=\"/Sections/Tv?Ref=Ft_Tv\"    >Tv</A></Li>\\n              <Li>\\n\\n<A     Href=\"/Movies-Coming-Soon?Ref=Ft_Cs\"    >Coming Soon</A></Li>\\n              <Li>\\n\\n<A     Href=\"/A2Z?Ref=Ft_Si\"    >Site Index</A></Li>\\n              <Li>\\n\\n<A     Href=\"/Search?Ref=Ft_Sr\"    >Search</A></Li>\\n              <Li>\\n\\n<A     Href=\"/Movies-In-Theaters?Ref=Ft_Inth\"    >In Theaters</A></Li>\\n            </Ul>\\n          </Div>\\n          <Div Class=\"Grid-Col Grid-Col-4\">\\n            <Ul Class=\"Unstyled\">\\n              <Li><A     Href=\"/Helpdesk/Contact?Ref=Ft_Con\"    >Contact Us</A></Li>\\n              <Li>\\n  \\n\\n<A     Href=\"/Boards?Ref=Ft_Mb\"    >Message Boards</A>\\n              </Li>\\n              <Li>\\n<A     Href=\"Https://Secure.Imdb.Com/Register-Imdb/Form-V2\"    >Register</A>\\n              </Li>\\n              <Li>\\n\\n<A     Href=\"/News?Ref=Ft_Nw\"    >News</A></Li>\\n              <Li Class=\"Spacer\"></Li>\\n              <Li>\\n\\n<A     Href=\"/Pressroom?Ref=Ft_Pr\"    >Press Room</A></Li>\\n              <Li>\\n\\n<A     Href=\"/Advertising/?Ref=Ft_Ad\"    >Advertising</A></Li>\\n              <Li>\\n\\n<A     Href=\"/Jobs?Ref=Ft_Jb\"    >Jobs</A></Li>\\n            </Ul>\\n          </Div>\\n          <Div Class=\"Grid-Col Grid-Col-4\">\\n            <Ul Class=\"Unstyled\">\\n              <Li><A Href=\"Http://Pro.Imdb.Com/Signup/Index.Html?Rf=Cons_Ft_Hm&Amp;Ref_=Cons_Ft_Hm\">Imdbpro</A></Li>\\n              <Li><A Href=\"Http://Www.Boxofficemojo.Com\">Box Office Mojo</A></Li>\\n              <Li><A Href=\"Http://Www.Withoutabox.Com\">Withoutabox</A></Li>\\n              <Li Class=\"Spacer\"></Li>\\n              <Li>\\n\\n<A Href=\"/Help/Show_Article?Conditions&Ref=Ft_Cou\"    >Conditions Of Use</A></Li>\\n              <Li>\\n\\n<A Href=\"/Privacy?Ref=Ft_Pvc\"    >Privacy Policy</A></Li>\\n              <Li>\\n\\n<A Href=\"//Www.Amazon.Com/Interestbasedads\"    >Interest-Based Ads</A></Li>\\n              <Li Class=\"Spacer\"></Li>\\n            </Ul>\\n          </Div>\\n        </Div>\\n      </Div>\\n    </Div>\\n  </Div>\\n\\n  <Div Class=\"Container\">\\n    <Div Class=\"Float-Right\">\\n      \\n\\n<A Href=\"/Help/Show_Article?Conditions\"    >Copyright &Copy;</A> 1990-2016\\n      \\n\\n<A Href=\"/Help/\"    >Imdb.Com, Inc.</A>\\n    </Div>\\n    <Div>\\n      \\nAn <Img Id=\"Amazon_Logo\" Align=\"Middle\" Style=\"Width:80Px;Height:19Px;Border:0 None\" Src=\"Http://I.Media-Imdb.Com/Images/Sf9Bb191C6827273Aa978Cab39A3587950/B.Gif\" Alt=\"Amazon.Com\"/> Company.\\n\\n    </Div>\\n  </Div>\\n  \\n  \\n\\n\\n<Table Class=\"Footer\" Id=\"Amazon-Affiliates\">\\n  <Tr>\\n    <Td Colspan=\"8\">\\n      Amazon Affiliates\\n    </Td>\\n  </Tr>\\n  <Tr>\\n    <Td>\\n      <Div>\\n        <A Href=\"Http://Www.Amazon.Com/B?Ie=Utf8&Node=2676882011&Tag=Imdbpr1-20\">\\n          <Span Class=\"Amazon-Affiliate-Site-Name\">Amazon Video</Span><Br>\\n          <Span Class=\"Amazon-Affiliate-Site-Desc\">Watch Movies &<Br>Tv Online</Span>\\n        </A>\\n      </Div>\\n    </Td>\\n    <Td>\\n      <Div>\\n        <A Href=\"Http://Www.Amazon.Com/B?Ie=Utf8&Node=2676882011&Tag=Imdbpr1-20\">\\n          <Span Class=\"Amazon-Affiliate-Site-Name\">Prime Video</Span><Br>\\n          <Span Class=\"Amazon-Affiliate-Site-Desc\">Unlimited Streaming<Br>Of Movies & Tv</Span>\\n        </A>\\n      </Div>\\n    </Td>\\n    <Td>\\n      <Div>\\n        <A Href=\"Http://Www.Amazon.De/B?Ie=Utf8&Node=284266&Tag=Imdbpr1-De-21\">\\n          <Span Class=\"Amazon-Affiliate-Site-Name\">Amazon Germany</Span><Br>\\n          <Span Class=\"Amazon-Affiliate-Site-Desc\">Buy Movies On<Br>Dvd & Blu-Ray</Span>\\n        </A>\\n      </Div>\\n    </Td>\\n    <Td>\\n      <Div>\\n        <A Href=\"Http://Www.Amazon.It/B?Ie=Utf8&Node=412606031&Tag=Imdbpr1-It-21\">\\n          <Span Class=\"Amazon-Affiliate-Site-Name\">Amazon Italy</Span><Br>\\n          <Span Class=\"Amazon-Affiliate-Site-Desc\">Buy Movies On<Br>Dvd & Blu-Ray</Span>\\n        </A>\\n      </Div>\\n    </Td>\\n    <Td>\\n      <Div>\\n        <A Href=\"Http://Www.Amazon.Fr/B?Ie=Utf8&Node=405322&Tag=Imdbpr1-Fr-21\">\\n          <Span Class=\"Amazon-Affiliate-Site-Name\">Amazon France</Span><Br>\\n          <Span Class=\"Amazon-Affiliate-Site-Desc\">Buy Movies On<Br>Dvd & Blu-Ray</Span>\\n        </A>\\n      </Div>\\n    </Td>\\n    <Td>\\n      <Div>\\n        <A Href=\"Http://Www.Amazon.In/Movies-Tv-Shows/B/?Ie=Utf&Node=976416031&Tag=Imdbpr1-In-21\">\\n          <Span Class=\"Amazon-Affiliate-Site-Name\">Amazon India</Span><Br>\\n          <Span Class=\"Amazon-Affiliate-Site-Desc\">Buy Movie And<Br>Tv Show Dvds</Span>\\n        </A>\\n      </Div>\\n    </Td>\\n    <Td>\\n      <Div>\\n        <A Href=\"Http://Www.Dpreview.Com\">\\n          <Span Class=\"Amazon-Affiliate-Site-Name\">Dpreview</Span><Br>\\n          <Span Class=\"Amazon-Affiliate-Site-Desc\">Digital<Br>Photography</Span>\\n        </A>\\n      </Div>\\n    </Td>\\n    <Td>\\n      <Div>\\n        <A Href=\"Http://Www.Audible.Com\">\\n          <Span Class=\"Amazon-Affiliate-Site-Name\">Audible</Span><Br>\\n          <Span Class=\"Amazon-Affiliate-Site-Desc\">Download<Br>Audio Books</Span>\\n        </A>\\n      </Div>\\n    </Td>\\n  </Tr>\\n</Table>\\n\\n</Div>\\n\\n\\n\\n\\n  \\n  \\n  \\n</Layer>\\n</Div>\\n<Img Src=\"/Rd/?Q=50703000000030A090F29616F226E276966600000010C6A08023031363037313430000001037A040379646370000001047&Cb=146848193711381\" Width=\"1\" Height=\"1\" Alt=\"\" Border=\"0\">\\n</Div> <!-- Id=\"Wrapper\" -->\\n<!-- H=Iop7009 I=2016-07-13 S=Legacy(Default) T=\\'Thu Jul 14 00:38:57 2016\\' -->\\n<Script Src=\"Http://I.Media-Imdb.Com/Images/Sf539Be3987208630802E712857C51A6C9/Js/Jquery.Js\" ></Script><Script Src=\"Http://I.Media-Imdb.Com/Images/Sfe34Bdd1B5Fdebfcffb09D58Be6A492D6/Js/Cc/Title/Main.Js\" ></Script><Script Src=\"Http://I.Media-Imdb.Com/Images/Sf4F789F206C87A31B26Eb8666Da48322E/Js/App/Win7/Sitemode.Js\" ></Script><!-- Begin Ads Footer -->\\n\\n<!-- Begin Sis Code --> \\n<Iframe Id=\"Sis_Pixel_Sitewide\" Width=\"1\" Height=\"1\" Frameborder=\"0\" Marginwidth=\"0\" Marginheight=\"0\" Style=\"Display: None;\"></Iframe>\\n<Script>\\n    Settimeout(Function(){\\n        Try{\\n            //Sis3.0 Pixel\\n            Var Url_Sis3 = \\'Http://S.Amazon-Adsystem.Com/Iu3?\\',\\n                Params_Sis3 = [\\n                    \"D=Imdb.Com\",\\n                    \"A1=\",\\n                    \"A2=0101A1823Ca3D5D46Ce03D4502Edf28F095B20F780C29Eddcddebefb2933Fa9C1E98\",\\n                    \"Pid=\",\\n                    \"R=1\",\\n                    \"Rp=Http%3A%2F%2Fwww.Imdb.Com%2Ftitle%2Ftt0111161%2Freviews%3Fstart%3D0\",\\n                    \"Encoding=Server\",\\n                    \"Cb=778833035508\"  \\n                ];\\n        \\n            If (Document.Getelementbyid(\\'Sis_Pixel_Sitewide\\')) {\\n                (Document.Getelementbyid(\\'Sis_Pixel_Sitewide\\')).Src = Url_Sis3 + Params_Sis3.Join(\\'&\\');\\n            }\\n        }\\n        Catch(E){\\n            If (\\'Consolelog\\' In Window){\\n                Consolelog(\\'Pixel Failure \\' + E.Tostring(),\\'Sis\\');\\n            }\\n            If (Window.Uelogerror) { \\n                Window.Uelogerror(E);\\n            }\\n        }\\n    }, 20);\\n</Script>\\n<!-- End Sis Code -->\\n\\n<!-- Begin Comscore Beacon -->\\n<Script Type=\"Text/Javascript\" Src=\\'Http://Ia.Media-Imdb.Com/Images/G/01/Imdbads/Js/Beacon-1792157672._Cb273058635_.Js\\'></Script>\\n<Script Type=\"Text/Javascript\">\\nIf(Window.Comscore){\\nComscore.Beacon({\\nC1: 2,\\nC2:\"6034961\",\\nC3:\"\",\\nC4:\"Http://Www.Imdb.Com/Title/Tt0111161/Reviews?Start=0\",\\nC5:\"\",\\nC6:\"\",\\nC15:\"\"\\n});\\n}\\n</Script>\\n<Noscript>\\n<Img Src=\"Http://B.Scorecardresearch.Com/P?C1=2&C2=6034961&C3=&C4=Http%3A%2F%2Fwww.Imdb.Com%2Ftitle%2Ftt0111161%2Freviews%3Fstart%3D0&C5=C6=&15=&Cj=1\"/>\\n</Noscript>\\n<!-- End Comscore Beacon -->\\n\\n<Script>\\n    Dowithads(Function(){\\n        (New Image()).Src = \"Http://Www.Amazon.Com/Aan/2009-05-01/Imdb/Default?Slot=Sitewide-Iframe&U=778833035508&Ord=778833035508\";\\n    },\"Unable To Request Aan Pixel\");\\n</Script>\\n\\n<Script>\\n(Function(){\\n    Var Readytimeout = Setinterval(Function(){\\n        Dowithads(Pageloaded, \"No Monitoring Or Document_Is_Ready Object In Generic\");\\n    }, 50);\\n\\n    // Wait Until Jquery Is Loaded Before Firing Final Events.\\n    Var Pageloaded = Function() {\\n        If (Window.Jquery) {\\n            Cleartimeout(Readytimeout);\\n            Jquery(Function(){ Generic.Document_Is_Ready(); });\\n            Generic.Monitoring.Stop_Timing(\\'Page_Load\\',\\'\\',True);\\n            Generic.Monitoring.All_Events_Started();\\n        }\\n    }\\n})();\\n</Script>\\n<!-- End Ads Footer -->\\n<Script Src=\"Http://I.Media-Imdb.Com/Images/Sf478Cec6A48C8De4413Dbc404879752D1/Js/Jquery/Plugins/Jquery.Colorbox-Min.Js\" ></Script><Script Type=\"Text/Imdblogin-Js\" Id=\"Login\">\\n    Jquery(Document).Ready(Function(){\\n        Window.Imdb.Login_Lightbox(\"Https://Secure.Imdb.Com\",\\n                       \"Http://Www.Imdb.Com/Title/Tt0111161/Reviews?Start=0\");\\n    });\\n</Script>\\n<Script Src=\"Http://I.Media-Imdb.Com/Images/Sf69A064E4Ee04De88620684D9A3C7D891/Js/Cc/Loginbox.Js\" ></Script><Script Src=\"Http://I.Media-Imdb.Com/Images/Sfdfab16699D64E8508Ec1256Ff7Af55Ca/Js/Cc/Suggestionsearch.Js\" Charset=\"Utf-8\"></Script><Script Src=\"Http://I.Media-Imdb.Com/Images/Sfb762C590Afd141254Ab36F8212Ac0F29/Js/Jquery/Ui-Current-Custom.Js\" ></Script><Script Src=\"Http://I.Media-Imdb.Com/Images/Sf7A5448Fc461Ffdc3669C5E32D5B2C953/Js/Cc/Wlb-Lite.Js\" ></Script>\\n<Script>\\n(Function($){\\n    $(\\'.Wlb_Wrapper\\')\\n    .Wlb_Lite();\\n})(Jquery);\\n</Script>\\n<Script Src=\"Http://I.Media-Imdb.Com/Images/Sfe6B8B05Cea724Dcd192Ca6C674F606Cc/Js/Framecheck.Js\" ></Script>\\n</Body>\\n</Html>\\n'"
      ]
     },
     "execution_count": 30,
     "metadata": {},
     "output_type": "execute_result"
    }
   ],
   "source": [
    "x.title()"
   ]
  },
  {
   "cell_type": "code",
   "execution_count": 10,
   "metadata": {
    "collapsed": true
   },
   "outputs": [],
   "source": [
    "# soup = BeautifulSoup(r.text, 'lxml')"
   ]
  },
  {
   "cell_type": "code",
   "execution_count": 75,
   "metadata": {
    "collapsed": false
   },
   "outputs": [
    {
     "data": {
      "text/plain": [
       "u'\\nI haven\\'t seen too many movies that I would rate a 10, but I had no\\nproblems giving this one top score.Movie-making seems to be like golf; for a truly excellent game, ALL the\\nelements must come together. Everyone involved must have perfect\\n\"form\". Director, Darabont, must have been at the top of his game when\\nhe put this gem together. Of course the actors were excellent; Morgan\\nFreeman and Tim Robbins seldom disappoint. The thing that makes this\\nmovie exceptional is that Darabont coaxed the best performances out of\\nthe supporting actors also. Bob Gunton and Clancy Brown were utterly\\nbelievable (and bad guys don\\'t come much worse than them).The other essential ingredient for a successful movie is simple: It\\nmust have a well thought out plot with a perfect beginning, middle and\\nend. So many movies fall over by getting at least one of these aspects\\nwrong. Not so with Shawshank Redemption. Just like Goldilocks said,\\n\"This is just right!\" Buy this one for your home collection because\\nyou\\'ll definitely want to see it again.\\n'"
      ]
     },
     "execution_count": 75,
     "metadata": {},
     "output_type": "execute_result"
    }
   ],
   "source": [
    "# end of reviews making it 12 per page... but the count goes up in 10s...\n",
    "soup.select('p')[24].text"
   ]
  },
  {
   "cell_type": "code",
   "execution_count": 78,
   "metadata": {
    "collapsed": false
   },
   "outputs": [],
   "source": [
    "pageReviews = soup.select('p')[12:24]"
   ]
  },
  {
   "cell_type": "code",
   "execution_count": 80,
   "metadata": {
    "collapsed": false
   },
   "outputs": [],
   "source": [
    "testDF = pd.DataFrame(pageReviews)"
   ]
  },
  {
   "cell_type": "code",
   "execution_count": 82,
   "metadata": {
    "collapsed": false
   },
   "outputs": [
    {
     "data": {
      "text/html": [
       "<div>\n",
       "<table border=\"1\" class=\"dataframe\">\n",
       "  <thead>\n",
       "    <tr style=\"text-align: right;\">\n",
       "      <th></th>\n",
       "      <th>0</th>\n",
       "    </tr>\n",
       "  </thead>\n",
       "  <tbody>\n",
       "    <tr>\n",
       "      <th>0</th>\n",
       "      <td>&lt;p&gt;\n",
       "The story begins with the trial of a young...</td>\n",
       "    </tr>\n",
       "    <tr>\n",
       "      <th>1</th>\n",
       "      <td>&lt;p&gt;\n",
       "If there was such a thing as a perfect mov...</td>\n",
       "    </tr>\n",
       "  </tbody>\n",
       "</table>\n",
       "</div>"
      ],
      "text/plain": [
       "                                                   0\n",
       "0  <p>\n",
       "The story begins with the trial of a young...\n",
       "1  <p>\n",
       "If there was such a thing as a perfect mov..."
      ]
     },
     "execution_count": 82,
     "metadata": {},
     "output_type": "execute_result"
    }
   ],
   "source": [
    "testDF.head(2)"
   ]
  },
  {
   "cell_type": "code",
   "execution_count": 44,
   "metadata": {
    "collapsed": false
   },
   "outputs": [],
   "source": [
    "ShawURL = \"http://www.imdb.com/title/tt0111161/reviews?start=\"\n",
    "count = 0\n",
    "\n",
    "r = requests.get(URL + count)\n",
    "soup = BeautifulSoup(r.text, 'lxml')\n",
    "# reviews start on the 12th position everytime\n",
    "soup.select('p')[12].text"
   ]
  },
  {
   "cell_type": "code",
   "execution_count": null,
   "metadata": {
    "collapsed": false
   },
   "outputs": [],
   "source": [
    "range(0,)"
   ]
  },
  {
   "cell_type": "code",
   "execution_count": 86,
   "metadata": {
    "collapsed": false
   },
   "outputs": [
    {
     "data": {
      "text/plain": [
       "[<a href=\"http://pubads.g.doubleclick.net/gampad/jump?&amp;iu=4215/imdb2.consumer.title/&amp;sz=728x90|1008x150|1008x200|1008x30|970x250|9x1&amp;t=p%3Dtop%26p%3Dt%26g%3Ddr%26g%3Dcr%26tt%3Df%26m%3DR%26mh%3DR%26ml%3DR%26coo%3Dus%26b%3Dt25%26b%3Dt250%26b%3Dt250a%26fv%3D1%26id%3Dtt0111161%26ab%3Df%26bpx%3D1%26c%3D1&amp;tile=0&amp;c=122159552959\" target=\"_blank\"> <img alt=\"advertisement\" border=\"0\" src=\"http://pubads.g.doubleclick.net/gampad/ad?&amp;iu=4215/imdb2.consumer.title/&amp;sz=728x90|1008x150|1008x200|1008x30|970x250|9x1&amp;t=p%3Dtop%26p%3Dt%26g%3Ddr%26g%3Dcr%26tt%3Df%26m%3DR%26mh%3DR%26ml%3DR%26coo%3Dus%26b%3Dt25%26b%3Dt250%26b%3Dt250a%26fv%3D1%26id%3Dtt0111161%26ab%3Df%26bpx%3D1%26c%3D1&amp;tile=0&amp;c=122159552959\"/> </a>,\n",
       " <a class=\"navbarSprite\" href=\"/?ref_=nv_home\" id=\"home_img\" title=\"Home\"></a>,\n",
       " <a href=\"/?ref_=nv_home\" title=\"Home\">IMDb</a>,\n",
       " <a href=\"/search/\">More</a>,\n",
       " <a href=\"/movies-in-theaters/?ref_=nv_tp_inth_1\">Movies</a>,\n",
       " <a href=\"/chart/toptv/?ref_=nv_tp_tv250_2\">TV</a>,\n",
       " <a href=\"/showtimes/?ref_=nv_tp_sh_3\">Showtimes</a>,\n",
       " <a href=\"/movies-in-theaters/?ref_=nv_mv_inth_1\">In Theaters</a>,\n",
       " <a href=\"/showtimes/?ref_=nv_mv_sh_2\">Showtimes &amp; Tickets</a>,\n",
       " <a href=\"/trailers/?ref_=nv_mv_tr_3\">Latest Trailers</a>,\n",
       " <a href=\"/movies-coming-soon/?ref_=nv_mv_cs_4\">Coming Soon</a>,\n",
       " <a href=\"/calendar/?ref_=nv_mv_cal_5\">Release Calendar</a>,\n",
       " <a href=\"/chart/top/?ref_=nv_mv_250_6\">Top Rated Movies</a>,\n",
       " <a href=\"/chart/moviemeter/?ref_=nv_mv_mpm_7\">Most Popular Movies</a>,\n",
       " <a href=\"/chart/?ref_=nv_ch_cht_1\">Box Office</a>,\n",
       " <a href=\"/search/title?count=100&amp;groups=oscar_best_picture_winners&amp;sort=year,desc&amp;ref_=nv_ch_osc_2\">Oscar Winners</a>,\n",
       " <a href=\"/genre/?ref_=nv_ch_gr_3\">Most Popular by Genre</a>,\n",
       " <a href=\"/imdbpicks/tv-releases/?ref_=nv_tvv_picks_1\">TV Picks</a>,\n",
       " <a href=\"/tvgrid/?ref_=nv_tvv_ls_2\">On Tonight</a>,\n",
       " <a href=\"/chart/toptv/?ref_=nv_tvv_250_3\">Top Rated TV Shows</a>,\n",
       " <a href=\"/chart/tvmeter?ref_=nv_tvv_mptv_4\">Most Popular TV Shows</a>,\n",
       " <a href=\"/feature/watch-now-on-amazon/?ref_=nv_tvv_wn_5\">Watch Now on Amazon</a>,\n",
       " <a href=\"/sections/dvd/?ref_=nv_tvv_dvd_6\">DVD &amp; Blu-Ray</a>,\n",
       " <a href=\"/x-ray/?ref_=nv_sf_xray_2\">X-Ray for Movies &amp; TV</a>,\n",
       " <a href=\"/imdbpicks/?ref_=nv_sf_picks_3\">IMDb Picks</a>,\n",
       " <a href=\"/best-of/?ref_=nv_sf_bstof_4\">Best of 2015</a>,\n",
       " <a href=\"/youtube-originals/?ref_=nv_sf_yto_5\">YouTube Originals</a>,\n",
       " <a href=\"/search/name?gender=male,female&amp;ref_=nv_tp_cel_1\">Celebs</a>,\n",
       " <a href=\"/awards-central/?ref_=nv_tp_awrd_2\">Events</a>,\n",
       " <a href=\"/gallery/rg784964352?ref_=nv_tp_ph_3\">Photos</a>,\n",
       " <a href=\"/search/name?birth_monthday=7-13&amp;refine=birth_monthday&amp;ref_=nv_cel_brn_1\">Born Today</a>,\n",
       " <a href=\"/news/celebrity?ref_=nv_cel_nw_2\">Celebrity News</a>,\n",
       " <a href=\"/search/name?gender=male,female&amp;ref_=nv_cel_m_3\">Most Popular Celebs</a>,\n",
       " <a href=\"/gallery/rg784964352?ref_=nv_ph_ls_1\">Latest Stills</a>,\n",
       " <a href=\"/gallery/rg1528338944?ref_=nv_ph_lp_2\">Latest Posters</a>,\n",
       " <a href=\"/gallery/rg2465176320?ref_=nv_ph_lv_3\">Photos We Love</a>,\n",
       " <a href=\"/awards-central/?ref_=nv_ev_awrd_1\">Awards Central</a>,\n",
       " <a href=\"/sundance/?ref_=nv_ev_sun_3\">Sundance</a>,\n",
       " <a href=\"/cannes/?ref_=nv_ev_can_6\">Cannes</a>,\n",
       " <a href=\"/comic-con/?ref_=nv_ev_comic_7\">Comic-Con</a>,\n",
       " <a href=\"/emmys/?ref_=nv_ev_rte_8\">Emmy Awards</a>,\n",
       " <a href=\"/toronto/?ref_=nv_ev_tff_10\">Toronto Film Festival</a>,\n",
       " <a href=\"/event/all/?ref_=nv_ev_all_11\">All Events</a>,\n",
       " <a href=\"/news/top?ref_=nv_tp_nw_1\">News</a>,\n",
       " <a href=\"/boards/?ref_=nv_tp_bd_2\">Community</a>,\n",
       " <a href=\"/news/ni60039821/?ref_=nb_nwt_1\">\\n            Disney Moving Ahead on \\u2018Castle Hangnail\\u2019 with Ellen DeGeneres</a>,\n",
       " <a href=\"/news/ni60039021/?ref_=nb_nwt_2\">\\n            Michael Keaton\\u2019s \\u2018The Founder\\u2019 Moves to December for Awards Run</a>,\n",
       " <a href=\"/news/ni60016933/?ref_=nb_nwt_3\">\\n            Saw 8 Begins Shooting This Fall</a>,\n",
       " <a href=\"/news/top?ref_=nv_nw_tp_1\">Top News</a>,\n",
       " <a href=\"/news/movie?ref_=nv_nw_mv_2\">Movie News</a>,\n",
       " <a href=\"/news/tv?ref_=nv_nw_tv_3\">TV News</a>,\n",
       " <a href=\"/news/celebrity?ref_=nv_nw_cel_4\">Celebrity News</a>,\n",
       " <a href=\"/news/indie?ref_=nv_nw_ind_5\">Indie News</a>,\n",
       " <a href=\"/boards/?ref_=nv_cm_bd_1\">Message Boards</a>,\n",
       " <a href=\"/czone/?ref_=nv_cm_cz_2\">Contributor Zone</a>,\n",
       " <a href=\"/poll/?ref_=nv_cm_pl_3\">Polls</a>,\n",
       " <a href=\"/list/watchlist?ref_=nv_wl_all_0\">Watchlist</a>,\n",
       " <a href=\"http://pro.imdb.com/signup/index.html?rf=cons_nb_hm&amp;ref_=cons_nb_hm\">\\n<img alt=\"IMDbPro Menu\" src=\"http://i.media-imdb.com/images/SF4a741137cf9a260e127fef64455ebfbc/navbar/imdbpro_logo_nb.png\"/>\\n</a>,\n",
       " <a href=\"http://pro.imdb.com/signup/index.html?rf=cons_nb_hm&amp;ref_=cons_nb_hm\" id=\"proLink\">\\n<div id=\"proAd\">\\n</div>\\n<div class=\"subNavListContainer\">\\n<img alt=\"Go to IMDbPro\" src=\"http://i.media-imdb.com/images/SF8104186305d957dd4ee4455f5434b40c/navbar/imdbpro_logo_menu.png\" title=\"Go to IMDbPro\"/>\\n<h5>GET INFORMED</h5>\\n<p>Industry information at your fingertips</p>\\n<h5>GET CONNECTED</h5>\\n<p>Over 200,000 Hollywood insiders</p>\\n<h5>GET DISCOVERED</h5>\\n<p>Enhance your IMDb Page</p>\\n<p><strong>Go to IMDbPro \\xbb</strong></p>\\n</div>\\n</a>,\n",
       " <a href=\"/help/?ref_=nb_hlp\">\\n                Help</a>,\n",
       " <a href=\"https://www.facebook.com/imdb\" target=\"_blank\" title=\"Follow IMDb on Facebook\">\\n<span class=\"desktop-sprite follow-facebook\"></span>\\n</a>,\n",
       " <a href=\"https://twitter.com/imdb\" target=\"_blank\" title=\"Follow IMDb on Twitter\">\\n<span class=\"desktop-sprite follow-twitter\"></span>\\n</a>,\n",
       " <a href=\"https://instagram.com/imdb/\" target=\"_blank\" title=\"Follow IMDb on Instagram\">\\n<span class=\"desktop-sprite follow-instagram\"></span>\\n</a>,\n",
       " <a href=\"/register/login?ref_=nv_usr_lgin_1\" id=\"nblogin\" rel=\"login\">\\n                Sign in\\n            </a>,\n",
       " <a href=\"/\">IMDb</a>,\n",
       " <a href=\"/title/tt0111161/\">The Shawshank Redemption (1994)</a>,\n",
       " <a href=\"/rg/action-box-title/primary-photo/media/rm3597327872/tt0111161\" name=\"poster\" title=\"The Shawshank Redemption\"><img alt=\"The Shawshank Redemption\" border=\"0\" id=\"primary-poster\" src=\"http://ia.media-imdb.com/images/M/MV5BODU4MjU4NjIwNl5BMl5BanBnXkFtZTgwMDU2MjEyMDE@._V1._SX94_SY140_.jpg\" title=\"The Shawshank Redemption\"/></a>,\n",
       " <a class=\"linkasbutton-primary\" data-context=\"amazon\" data-rid=\"0ZC9AK3KQZ9WMFNHQNV0\" data-video=\"vi3476594713\" href=\"/video/amazon/vi3476594713/\" onclick=\"window.open(this.href+'offsite','_blank');\\n                 return false;\">Watch It</a>,\n",
       " <a class=\"linkasbutton-secondary\" href=\"/rg/action-box-title/buy-at-amazon/r/50703000000050a0904747031313131363130000001036a03046674600000010d6a02057370000001037a0104700000010f5a0a096d64626d2164626f6870000001047\" target=\"_new\">Buy it at Amazon</a>,\n",
       " <a class=\"linkasbutton-secondary\" href=\"/r/tt_shop/http://pro.imdb.com/title/tt0111161/\" onclick=\"(new Image()).src='/rg/tt_shop/prosystem/images/b.gif?link=/rg/tt_shop/prosystem/http://pro.imdb.com/title/tt0111161/';\">More at IMDb Pro</a>,\n",
       " <a class=\"linkasbutton-secondary\" href=\"/rg/action-box-title/boards-link/title/tt0111161/board\">Discuss in Boards</a>,\n",
       " <a class=\"linkasbutton-secondary\" href=\"/rg/action-box-title/update-data/updates?auto=legacy/title/tt0111161/\">Update Data</a>,\n",
       " <a class=\"link\" href=\"/title/tt0111161/videogallery\" onclick=\"(new Image()).src='/rg/title-top-links/videogallery/images/b.gif?link=/title/tt0111161/videogallery';\">trailers and videos</a>,\n",
       " <a class=\"link\" href=\"/title/tt0111161/fullcredits\" onclick=\"(new Image()).src='/rg/title-top-links/fullcredits/images/b.gif?link=/title/tt0111161/fullcredits';\">full cast and crew</a>,\n",
       " <a class=\"link\" href=\"/title/tt0111161/trivia\" onclick=\"(new Image()).src='/rg/title-top-links/trivia/images/b.gif?link=/title/tt0111161/trivia';\">trivia</a>,\n",
       " <a class=\"link\" href=\"/title/tt0111161/officialsites\" onclick=\"(new Image()).src='/rg/title-top-links/officialsites/images/b.gif?link=/title/tt0111161/officialsites';\">official sites</a>,\n",
       " <a class=\"link\" href=\"/title/tt0111161/quotes\" onclick=\"(new Image()).src='/rg/title-top-links/quotes/images/b.gif?link=/title/tt0111161/quotes';\">memorable quotes</a>,\n",
       " <a class=\"link\" href=\"maindetails\" onclick=\"(new Image()).src='/rg/title-nav-item/maindetails/images/b.gif?link=/title/tt0111161/maindetails';\">main details</a>,\n",
       " <a class=\"link\" href=\"combined\" onclick=\"(new Image()).src='/rg/title-nav-item/combined/images/b.gif?link=/title/tt0111161/combined';\">combined details</a>,\n",
       " <a class=\"link\" href=\"fullcredits\" onclick=\"(new Image()).src='/rg/title-nav-item/fullcredits/images/b.gif?link=/title/tt0111161/fullcredits';\">full cast and crew</a>,\n",
       " <a class=\"link\" href=\"companycredits\" onclick=\"(new Image()).src='/rg/title-nav-item/companycredits/images/b.gif?link=/title/tt0111161/companycredits';\">company credits</a>,\n",
       " <a class=\"link selected\" href=\"reviews\" onclick=\"(new Image()).src='/rg/title-nav-item/reviews/images/b.gif?link=/title/tt0111161/reviews';\">user reviews</a>,\n",
       " <a class=\"link\" href=\"externalreviews\" onclick=\"(new Image()).src='/rg/title-nav-item/externalreviews/images/b.gif?link=/title/tt0111161/externalreviews';\">external reviews</a>,\n",
       " <a class=\"link\" href=\"awards\" onclick=\"(new Image()).src='/rg/title-nav-item/awards/images/b.gif?link=/title/tt0111161/awards';\">awards</a>,\n",
       " <a class=\"link\" href=\"ratings\" onclick=\"(new Image()).src='/rg/title-nav-item/ratings/images/b.gif?link=/title/tt0111161/ratings';\">user ratings</a>,\n",
       " <a class=\"link\" href=\"parentalguide\" onclick=\"(new Image()).src='/rg/title-nav-item/parentalguide/images/b.gif?link=/title/tt0111161/parentalguide';\">parents guide</a>,\n",
       " <a class=\"link\" href=\"board\" onclick=\"(new Image()).src='/rg/title-nav-item/board/images/b.gif?link=/title/tt0111161/board';\">message board</a>,\n",
       " <a class=\"link\" href=\"plotsummary\" onclick=\"(new Image()).src='/rg/title-nav-item/plotsummary/images/b.gif?link=/title/tt0111161/plotsummary';\">plot summary</a>,\n",
       " <a class=\"link\" href=\"synopsis\" onclick=\"(new Image()).src='/rg/title-nav-item/synopsis/images/b.gif?link=/title/tt0111161/synopsis';\">synopsis</a>,\n",
       " <a class=\"link\" href=\"keywords\" onclick=\"(new Image()).src='/rg/title-nav-item/keywords/images/b.gif?link=/title/tt0111161/keywords';\">plot keywords</a>,\n",
       " <a class=\"link\" href=\"quotes\" onclick=\"(new Image()).src='/rg/title-nav-item/quotes/images/b.gif?link=/title/tt0111161/quotes';\">memorable quotes</a>,\n",
       " <a class=\"link\" href=\"trivia\" onclick=\"(new Image()).src='/rg/title-nav-item/trivia/images/b.gif?link=/title/tt0111161/trivia';\">trivia</a>,\n",
       " <a class=\"link\" href=\"goofs\" onclick=\"(new Image()).src='/rg/title-nav-item/goofs/images/b.gif?link=/title/tt0111161/goofs';\">goofs</a>,\n",
       " <a class=\"link\" href=\"soundtrack\" onclick=\"(new Image()).src='/rg/title-nav-item/soundtrack/images/b.gif?link=/title/tt0111161/soundtrack';\">soundtrack listing</a>,\n",
       " <a class=\"link\" href=\"crazycredits\" onclick=\"(new Image()).src='/rg/title-nav-item/crazycredits/images/b.gif?link=/title/tt0111161/crazycredits';\">crazy credits</a>,\n",
       " <a class=\"link\" href=\"alternateversions\" onclick=\"(new Image()).src='/rg/title-nav-item/alternateversions/images/b.gif?link=/title/tt0111161/alternateversions';\">alternate versions</a>,\n",
       " <a class=\"link\" href=\"movieconnections\" onclick=\"(new Image()).src='/rg/title-nav-item/movieconnections/images/b.gif?link=/title/tt0111161/movieconnections';\">movie connections</a>,\n",
       " <a class=\"link\" href=\"faq\" onclick=\"(new Image()).src='/rg/title-nav-item/faq/images/b.gif?link=/title/tt0111161/faq';\">FAQ</a>,\n",
       " <a class=\"link\" href=\"business\" onclick=\"(new Image()).src='/rg/title-nav-item/business/images/b.gif?link=/title/tt0111161/business';\">box office/business</a>,\n",
       " <a class=\"link\" href=\"releaseinfo\" onclick=\"(new Image()).src='/rg/title-nav-item/releaseinfo/images/b.gif?link=/title/tt0111161/releaseinfo';\">release dates</a>,\n",
       " <a class=\"link\" href=\"locations\" onclick=\"(new Image()).src='/rg/title-nav-item/locations/images/b.gif?link=/title/tt0111161/locations';\">filming locations</a>,\n",
       " <a class=\"link\" href=\"technical\" onclick=\"(new Image()).src='/rg/title-nav-item/technical/images/b.gif?link=/title/tt0111161/technical';\">technical specs</a>,\n",
       " <a class=\"link\" href=\"literature\" onclick=\"(new Image()).src='/rg/title-nav-item/literature/images/b.gif?link=/title/tt0111161/literature';\">literature listings</a>,\n",
       " <a class=\"link\" href=\"news\" onclick=\"(new Image()).src='/rg/title-nav-item/news/images/b.gif?link=/title/tt0111161/news';\">NewsDesk</a>,\n",
       " <a class=\"link\" href=\"taglines\" onclick=\"(new Image()).src='/rg/title-nav-item/taglines/images/b.gif?link=/title/tt0111161/taglines';\">taglines</a>,\n",
       " <a class=\"link\" href=\"videogallery\" onclick=\"(new Image()).src='/rg/title-nav-item/videogallery/images/b.gif?link=/title/tt0111161/videogallery';\">trailers and videos</a>,\n",
       " <a class=\"link\" href=\"posters\" onclick=\"(new Image()).src='/rg/title-nav-item/posters/images/b.gif?link=/title/tt0111161/posters';\">posters</a>,\n",
       " <a class=\"link\" href=\"photogallery\" onclick=\"(new Image()).src='/rg/title-nav-item/photogallery/images/b.gif?link=/title/tt0111161/photogallery';\">photo gallery</a>,\n",
       " <a class=\"link\" href=\"cinemashowtimes\" onclick=\"(new Image()).src='/rg/title-nav-item/cinemashowtimes/images/b.gif?link=/title/tt0111161/cinemashowtimes';\">showtimes</a>,\n",
       " <a class=\"link\" href=\"officialsites\" onclick=\"(new Image()).src='/rg/title-nav-item/officialsites/images/b.gif?link=/title/tt0111161/officialsites';\">official sites</a>,\n",
       " <a class=\"link\" href=\"miscsites\" onclick=\"(new Image()).src='/rg/title-nav-item/miscsites/images/b.gif?link=/title/tt0111161/miscsites';\">miscellaneous</a>,\n",
       " <a class=\"link\" href=\"photosites\" onclick=\"(new Image()).src='/rg/title-nav-item/photosites/images/b.gif?link=/title/tt0111161/photosites';\">photographs</a>,\n",
       " <a class=\"link\" href=\"soundsites\" onclick=\"(new Image()).src='/rg/title-nav-item/soundsites/images/b.gif?link=/title/tt0111161/soundsites';\">sound clips</a>,\n",
       " <a class=\"link\" href=\"videosites\" onclick=\"(new Image()).src='/rg/title-nav-item/videosites/images/b.gif?link=/title/tt0111161/videosites';\">video clips</a>,\n",
       " <a href=\"http://pubads.g.doubleclick.net/gampad/jump?&amp;iu=4215/imdb2.consumer.title/&amp;sz=300x250|300x600|11x1&amp;t=p%3Dtr%26g%3Ddr%26g%3Dcr%26tt%3Df%26m%3DR%26mh%3DR%26ml%3DR%26coo%3Dus%26b%3Dt25%26b%3Dt250%26b%3Dt250a%26fv%3D1%26id%3Dtt0111161%26ab%3Df%26bpx%3D1%26c%3D1&amp;tile=1&amp;c=122159552959\" target=\"_blank\"> <img alt=\"advertisement\" border=\"0\" src=\"http://pubads.g.doubleclick.net/gampad/ad?&amp;iu=4215/imdb2.consumer.title/&amp;sz=300x250|300x600|11x1&amp;t=p%3Dtr%26g%3Ddr%26g%3Dcr%26tt%3Df%26m%3DR%26mh%3DR%26ml%3DR%26coo%3Dus%26b%3Dt25%26b%3Dt250%26b%3Dt250a%26fv%3D1%26id%3Dtt0111161%26ab%3Df%26bpx%3D1%26c%3D1&amp;tile=1&amp;c=122159552959\"/> </a>,\n",
       " <a class=\"yesScript\" href=\"#\" id=\"ad_feedback_top_rhs\" onclick=\"ad_utils.show_ad_feedback('top_rhs');return false;\">ad feedback</a>,\n",
       " <a class=\"main\" href=\"/title/tt0111161/\">The Shawshank Redemption</a>,\n",
       " <a href=\"http://pro.imdb.com/rg/reviews-title/tconst-pro-header-link/title/tt0111161/\">More at <strong>IMDbPro</strong></a>,\n",
       " <a class=\"btn large\" href=\"/title/tt0111161/reviews-enter?ref_=tt_ur_urv\" style=\"margin-top:10px;margin-bottom:10px\">Write review</a>,\n",
       " <a href=\"reviews?start=100\"><img alt=\"[Prev]\" border=\"0\" height=\"9\" src=\"http://i.media-imdb.com/f85.gif\" width=\"10\"/></a>,\n",
       " <a href=\"reviews?start=60\" title=\"7\">[7]</a>,\n",
       " <a href=\"reviews?start=70\" title=\"8\">[8]</a>,\n",
       " <a href=\"reviews?start=80\" title=\"9\">[9]</a>,\n",
       " <a href=\"reviews?start=90\" title=\"10\">[10]</a>,\n",
       " <a href=\"reviews?start=100\" title=\"11\">[11]</a>,\n",
       " <a href=\"reviews?start=110\" title=\"12\"><b>[12]</b></a>,\n",
       " <a href=\"reviews?start=120\" title=\"13\">[13]</a>,\n",
       " <a href=\"reviews?start=130\" title=\"14\">[14]</a>,\n",
       " <a href=\"reviews?start=140\" title=\"15\">[15]</a>,\n",
       " <a href=\"reviews?start=150\" title=\"16\">[16]</a>,\n",
       " <a href=\"reviews?start=160\" title=\"17\">[17]</a>,\n",
       " <a href=\"reviews?start=170\" title=\"18\">[18]</a>,\n",
       " <a href=\"reviews?start=180\" title=\"19\">[19]</a>,\n",
       " <a href=\"reviews?start=190\" title=\"20\">[20]</a>,\n",
       " <a href=\"reviews?start=200\" title=\"21\">[21]</a>,\n",
       " <a href=\"reviews?start=210\" title=\"22\">[22]</a>,\n",
       " <a href=\"reviews?start=120\"><img alt=\"[Next]\" border=\"0\" height=\"9\" src=\"http://i.media-imdb.com/f86.gif\" width=\"10\"/></a>,\n",
       " <a href=\"reviews-index?\">Index</a>,\n",
       " <a href=\"/user/ur30619543/\"><img class=\"avatar\" height=\"${avatar.image.size}\" src=\"http://ia.media-imdb.com/images/M/MV5BMjI2NDEyMjYyMF5BMl5BanBnXkFtZTcwMzM3MDk0OQ@@._SX40_SY40_SS40_.jpg\" width=\"${avatar.image.size}\"/></a>,\n",
       " <a href=\"/user/ur30619543/\">ancetoday</a>,\n",
       " <a href=\"/user/ur26756524/\"><img class=\"avatar\" height=\"${avatar.image.size}\" src=\"http://ia.media-imdb.com/images/M/MV5BNjM3OTA4NDYwNV5BMl5BanBnXkFtZTgwNDQzMzc2MjE@._V1._SX40_SY40_SS40_.jpg\" width=\"${avatar.image.size}\"/></a>,\n",
       " <a href=\"/user/ur26756524/\">guyincognito1</a>,\n",
       " <a href=\"/user/ur28101288/\"><img class=\"avatar\" height=\"${avatar.image.size}\" src=\"http://ia.media-imdb.com/images/M/MV5BMjI2NDEyMjYyMF5BMl5BanBnXkFtZTcwMzM3MDk0OQ@@._SX40_SY40_SS40_.jpg\" width=\"${avatar.image.size}\"/></a>,\n",
       " <a href=\"/user/ur28101288/\">Joe Ferrari (joe_1994@live.co.uk)</a>,\n",
       " <a href=\"/user/ur26870881/\"><img class=\"avatar\" height=\"${avatar.image.size}\" src=\"http://ia.media-imdb.com/images/M/MV5BMjI2NDEyMjYyMF5BMl5BanBnXkFtZTcwMzM3MDk0OQ@@._SX40_SY40_SS40_.jpg\" width=\"${avatar.image.size}\"/></a>,\n",
       " <a href=\"/user/ur26870881/\">colts1834</a>,\n",
       " <a href=\"/user/ur26864050/\"><img class=\"avatar\" height=\"${avatar.image.size}\" src=\"http://ia.media-imdb.com/images/M/MV5BMjI2NDEyMjYyMF5BMl5BanBnXkFtZTcwMzM3MDk0OQ@@._SX40_SY40_SS40_.jpg\" width=\"${avatar.image.size}\"/></a>,\n",
       " <a href=\"/user/ur26864050/\">aak-1990</a>,\n",
       " <a href=\"/user/ur25094473/\"><img class=\"avatar\" height=\"${avatar.image.size}\" src=\"http://ia.media-imdb.com/images/M/MV5BMjI2NDEyMjYyMF5BMl5BanBnXkFtZTcwMzM3MDk0OQ@@._SX40_SY40_SS40_.jpg\" width=\"${avatar.image.size}\"/></a>,\n",
       " <a href=\"/user/ur25094473/\">Sunil Sundaram</a>,\n",
       " <a href=\"/user/ur23619158/\"><img class=\"avatar\" height=\"${avatar.image.size}\" src=\"http://ia.media-imdb.com/images/M/MV5BMjI2NDEyMjYyMF5BMl5BanBnXkFtZTcwMzM3MDk0OQ@@._SX40_SY40_SS40_.jpg\" width=\"${avatar.image.size}\"/></a>,\n",
       " <a href=\"/user/ur23619158/\">wwe7961</a>,\n",
       " <a href=\"/user/ur21112049/\"><img class=\"avatar\" height=\"${avatar.image.size}\" src=\"http://ia.media-imdb.com/images/M/MV5BMjI2NDEyMjYyMF5BMl5BanBnXkFtZTcwMzM3MDk0OQ@@._SX40_SY40_SS40_.jpg\" width=\"${avatar.image.size}\"/></a>,\n",
       " <a href=\"/user/ur21112049/\">vinnieboards</a>,\n",
       " <a href=\"/user/ur20018357/\"><img class=\"avatar\" height=\"${avatar.image.size}\" src=\"http://ia.media-imdb.com/images/M/MV5BMTUzNDkxMTA1N15BMl5BanBnXkFtZTgwNDM1MzE2MDE@._V1._SX40_SY40_SS40_.jpg\" width=\"${avatar.image.size}\"/></a>,\n",
       " <a href=\"/user/ur20018357/\">CinemaClown</a>,\n",
       " <a href=\"/user/ur1215130/\"><img class=\"avatar\" height=\"${avatar.image.size}\" src=\"http://ia.media-imdb.com/images/M/MV5BMjI2NDEyMjYyMF5BMl5BanBnXkFtZTcwMzM3MDk0OQ@@._SX40_SY40_SS40_.jpg\" width=\"${avatar.image.size}\"/></a>,\n",
       " <a href=\"/user/ur1215130/\">seehere</a>,\n",
       " <a href=\"reviews?start=100\"><img alt=\"[Prev]\" border=\"0\" height=\"9\" src=\"http://i.media-imdb.com/f85.gif\" width=\"10\"/></a>,\n",
       " <a href=\"reviews?start=60\" title=\"7\">[7]</a>,\n",
       " <a href=\"reviews?start=70\" title=\"8\">[8]</a>,\n",
       " <a href=\"reviews?start=80\" title=\"9\">[9]</a>,\n",
       " <a href=\"reviews?start=90\" title=\"10\">[10]</a>,\n",
       " <a href=\"reviews?start=100\" title=\"11\">[11]</a>,\n",
       " <a href=\"reviews?start=110\" title=\"12\"><b>[12]</b></a>,\n",
       " <a href=\"reviews?start=120\" title=\"13\">[13]</a>,\n",
       " <a href=\"reviews?start=130\" title=\"14\">[14]</a>,\n",
       " <a href=\"reviews?start=140\" title=\"15\">[15]</a>,\n",
       " <a href=\"reviews?start=150\" title=\"16\">[16]</a>,\n",
       " <a href=\"reviews?start=160\" title=\"17\">[17]</a>,\n",
       " <a href=\"reviews?start=170\" title=\"18\">[18]</a>,\n",
       " <a href=\"reviews?start=180\" title=\"19\">[19]</a>,\n",
       " <a href=\"reviews?start=190\" title=\"20\">[20]</a>,\n",
       " <a href=\"reviews?start=200\" title=\"21\">[21]</a>,\n",
       " <a href=\"reviews?start=210\" title=\"22\">[22]</a>,\n",
       " <a href=\"reviews?start=120\"><img alt=\"[Next]\" border=\"0\" height=\"9\" src=\"http://i.media-imdb.com/f86.gif\" width=\"10\"/></a>,\n",
       " <a href=\"reviews-enter\">Add another review</a>,\n",
       " <a href=\"/title/tt0111161/plotsummary\" onclick=\"(new Image()).src='/rg/title-related/reviews-plotsummary/images/b.gif?link=/title/tt0111161/plotsummary';\">Plot summary</a>,\n",
       " <a href=\"/title/tt0111161/synopsis\" onclick=\"(new Image()).src='/rg/title-related/reviews-synopsis/images/b.gif?link=/title/tt0111161/synopsis';\">Plot synopsis</a>,\n",
       " <a href=\"/title/tt0111161/ratings\" onclick=\"(new Image()).src='/rg/title-related/reviews-ratings/images/b.gif?link=/title/tt0111161/ratings';\">Ratings</a>,\n",
       " <a href=\"/title/tt0111161/awards\" onclick=\"(new Image()).src='/rg/title-related/reviews-awards/images/b.gif?link=/title/tt0111161/awards';\">Awards</a>,\n",
       " <a href=\"/title/tt0111161/externalreviews\" onclick=\"(new Image()).src='/rg/title-related/reviews-externalreviews/images/b.gif?link=/title/tt0111161/externalreviews';\">External reviews</a>,\n",
       " <a href=\"/title/tt0111161/parentalguide\" onclick=\"(new Image()).src='/rg/title-related/reviews-parentalguide/images/b.gif?link=/title/tt0111161/parentalguide';\">Parents Guide</a>,\n",
       " <a href=\"/title/tt0111161/officialsites\" onclick=\"(new Image()).src='/rg/title-related/reviews-officialsites/images/b.gif?link=/title/tt0111161/officialsites';\">Official site</a>,\n",
       " <a href=\"/title/tt0111161/keywords\" onclick=\"(new Image()).src='/rg/title-related/reviews-keywords/images/b.gif?link=/title/tt0111161/keywords';\">Plot keywords</a>,\n",
       " <a href=\"/title/tt0111161/maindetails\" onclick=\"(new Image()).src='/rg/title-related/reviews-maindetails/images/b.gif?link=/title/tt0111161/maindetails';\">Main details</a>,\n",
       " <a href=\"/my/comments\" onclick=\"(new Image()).src='/rg/title-related/reviews-user/images/b.gif?link=/my/comments';\">Your user reviews</a>,\n",
       " <a href=\"/list/ratings\" onclick=\"(new Image()).src='/rg/title-related/reviews-vote/images/b.gif?link=/list/ratings';\">Your vote history</a>,\n",
       " <a href=\"https://itunes.apple.com/app/imdb-movies-tv/id342792525\" target=\"_blank\" title=\"Get the IMDb App on the Apple App Store\">\\n<span class=\"desktop-sprite appstore-apple\"></span>\\n</a>,\n",
       " <a href=\"https://play.google.com/store/apps/details?id=com.imdb.mobile\" target=\"_blank\" title=\"Get the IMDb app on Google Play\">\\n<span class=\"desktop-sprite appstore-google\"></span>\\n</a>,\n",
       " <a href=\"http://www.amazon.com/IMDb-Mobile-LLC-Movies-TV/dp/B004GISARW/?amp&amp;ref=mas_ba_imdb_dp&amp;amp&amp;pf_rd_m=ATVPDKIKX0DER&amp;amp&amp;pf_rd_s=right-1&amp;amp&amp;pf_rd_r=0H6RNAMSQ70FM7ATR0WN&amp;amp&amp;pf_rd_t=101&amp;amp&amp;pf_rd_p=1290998462&amp;amp&amp;pf_rd_i=2350149011&amp;ref_=imdbref_ft_app_amazon&amp;tag=imdb-fire-housead-20\" target=\"_blank\" title=\"Get the IMDb app on Amazon Appstore for Android\">\\n<span class=\"desktop-sprite appstore-amazon\"></span>\\n</a>,\n",
       " <a class=\"touchlink\" href=\"http://m.imdb.com?ref=ft_mdot\">IMDb Mobile site</a>,\n",
       " <a href=\"https://www.facebook.com/imdb\" target=\"_blank\" title=\"Follow IMDb on Facebook\">\\n<span class=\"desktop-sprite follow-facebook\"></span>\\n</a>,\n",
       " <a href=\"https://twitter.com/imdb\" target=\"_blank\" title=\"Follow IMDb on Twitter\">\\n<span class=\"desktop-sprite follow-twitter\"></span>\\n</a>,\n",
       " <a href=\"https://instagram.com/imdb/\" target=\"_blank\" title=\"Follow IMDb on Instagram\">\\n<span class=\"desktop-sprite follow-instagram\"></span>\\n</a>,\n",
       " <a href=\"/?ref=ft_hm\">Home</a>,\n",
       " <a href=\"/chart/top?ref=ft_250\">Top Rated Movies</a>,\n",
       " <a href=\"/chart?ref=ft_cht\">Box Office</a>,\n",
       " <a href=\"/sections/tv?ref=ft_tv\">TV</a>,\n",
       " <a href=\"/movies-coming-soon?ref=ft_cs\">Coming Soon</a>,\n",
       " <a href=\"/a2z?ref=ft_si\">Site Index</a>,\n",
       " <a href=\"/search?ref=ft_sr\">Search</a>,\n",
       " <a href=\"/movies-in-theaters?ref=ft_inth\">In Theaters</a>,\n",
       " <a href=\"/helpdesk/contact?ref=ft_con\">Contact Us</a>,\n",
       " <a href=\"/boards?ref=ft_mb\">Message Boards</a>,\n",
       " <a href=\"https://secure.imdb.com/register-imdb/form-v2\">Register</a>,\n",
       " <a href=\"/news?ref=ft_nw\">News</a>,\n",
       " <a href=\"/pressroom?ref=ft_pr\">Press Room</a>,\n",
       " <a href=\"/advertising/?ref=ft_ad\">Advertising</a>,\n",
       " <a href=\"/jobs?ref=ft_jb\">Jobs</a>,\n",
       " <a href=\"http://pro.imdb.com/signup/index.html?rf=cons_ft_hm&amp;ref_=cons_ft_hm\">IMDbPro</a>,\n",
       " <a href=\"http://www.boxofficemojo.com\">Box Office Mojo</a>,\n",
       " <a href=\"http://www.withoutabox.com\">Withoutabox</a>,\n",
       " <a href=\"/help/show_article?conditions&amp;ref=ft_cou\">Conditions of Use</a>,\n",
       " <a href=\"/privacy?ref=ft_pvc\">Privacy Policy</a>,\n",
       " <a href=\"//www.amazon.com/InterestBasedAds\">Interest-Based Ads</a>,\n",
       " <a href=\"/help/show_article?conditions\">Copyright \\xa9</a>,\n",
       " <a href=\"/help/\">IMDb.com, Inc.</a>,\n",
       " <a href=\"http://www.amazon.com/b?ie=UTF8&amp;node=2676882011&amp;tag=imdbpr1-20\">\\n<span class=\"amazon-affiliate-site-name\">Amazon Video</span><br/>\\n<span class=\"amazon-affiliate-site-desc\">Watch Movies &amp;<br/>TV Online</span>\\n</a>,\n",
       " <a href=\"http://www.amazon.com/b?ie=UTF8&amp;node=2676882011&amp;tag=imdbpr1-20\">\\n<span class=\"amazon-affiliate-site-name\">Prime Video</span><br/>\\n<span class=\"amazon-affiliate-site-desc\">Unlimited Streaming<br/>of Movies &amp; TV</span>\\n</a>,\n",
       " <a href=\"http://www.amazon.de/b?ie=UTF8&amp;node=284266&amp;tag=imdbpr1-de-21\">\\n<span class=\"amazon-affiliate-site-name\">Amazon Germany</span><br/>\\n<span class=\"amazon-affiliate-site-desc\">Buy Movies on<br/>DVD &amp; Blu-ray</span>\\n</a>,\n",
       " <a href=\"http://www.amazon.it/b?ie=UTF8&amp;node=412606031&amp;tag=imdbpr1-it-21\">\\n<span class=\"amazon-affiliate-site-name\">Amazon Italy</span><br/>\\n<span class=\"amazon-affiliate-site-desc\">Buy Movies on<br/>DVD &amp; Blu-ray</span>\\n</a>,\n",
       " <a href=\"http://www.amazon.fr/b?ie=UTF8&amp;node=405322&amp;tag=imdbpr1-fr-21\">\\n<span class=\"amazon-affiliate-site-name\">Amazon France</span><br/>\\n<span class=\"amazon-affiliate-site-desc\">Buy Movies on<br/>DVD &amp; Blu-ray</span>\\n</a>,\n",
       " <a href=\"http://www.amazon.in/movies-tv-shows/b/?ie=UTF&amp;node=976416031&amp;tag=imdbpr1-in-21\">\\n<span class=\"amazon-affiliate-site-name\">Amazon India</span><br/>\\n<span class=\"amazon-affiliate-site-desc\">Buy Movie and<br/>TV Show DVDs</span>\\n</a>,\n",
       " <a href=\"http://www.dpreview.com\">\\n<span class=\"amazon-affiliate-site-name\">DPReview</span><br/>\\n<span class=\"amazon-affiliate-site-desc\">Digital<br/>Photography</span>\\n</a>,\n",
       " <a href=\"http://www.audible.com\">\\n<span class=\"amazon-affiliate-site-name\">Audible</span><br/>\\n<span class=\"amazon-affiliate-site-desc\">Download<br/>Audio Books</span>\\n</a>]"
      ]
     },
     "execution_count": 86,
     "metadata": {},
     "output_type": "execute_result"
    }
   ],
   "source": [
    "soup.select(\"a\")"
   ]
  },
  {
   "cell_type": "code",
   "execution_count": 89,
   "metadata": {
    "collapsed": false
   },
   "outputs": [],
   "source": [
    "test = soup"
   ]
  },
  {
   "cell_type": "code",
   "execution_count": 90,
   "metadata": {
    "collapsed": false
   },
   "outputs": [
    {
     "ename": "TypeError",
     "evalue": "'NoneType' object is not callable",
     "output_type": "error",
     "traceback": [
      "\u001b[0;31m---------------------------------------------------------------------------\u001b[0m",
      "\u001b[0;31mTypeError\u001b[0m                                 Traceback (most recent call last)",
      "\u001b[0;32m<ipython-input-90-ffcf6f7a85b9>\u001b[0m in \u001b[0;36m<module>\u001b[0;34m()\u001b[0m\n\u001b[0;32m----> 1\u001b[0;31m \u001b[0mtest\u001b[0m\u001b[0;34m.\u001b[0m\u001b[0mxpath\u001b[0m\u001b[0;34m(\u001b[0m\u001b[0;34m'//*[@id=\"tn15content\"]/table[2]/tbody/tr/td[2]'\u001b[0m\u001b[0;34m)\u001b[0m\u001b[0;34m\u001b[0m\u001b[0m\n\u001b[0m",
      "\u001b[0;31mTypeError\u001b[0m: 'NoneType' object is not callable"
     ]
    }
   ],
   "source": [
    "test.xpath('//*[@id=\"tn15content\"]/table[2]/tbody/tr/td[2]')"
   ]
  },
  {
   "cell_type": "code",
   "execution_count": null,
   "metadata": {
    "collapsed": true
   },
   "outputs": [],
   "source": []
  },
  {
   "cell_type": "markdown",
   "metadata": {},
   "source": [
    "#### 3. Work through each title and find the most common descriptors"
   ]
  },
  {
   "cell_type": "markdown",
   "metadata": {},
   "source": [
    "*Hint*: \"soup\" from BeautifulSoup is the html returned from all 25 pages. You'll need to either address each page individually or break them down by elements"
   ]
  },
  {
   "cell_type": "code",
   "execution_count": 15,
   "metadata": {
    "collapsed": false
   },
   "outputs": [],
   "source": []
  },
  {
   "cell_type": "markdown",
   "metadata": {},
   "source": [
    "#### 4. Convert to a string and remove the non AlphaNumeric characters"
   ]
  },
  {
   "cell_type": "markdown",
   "metadata": {},
   "source": [
    "*Hint*: Use regular expressions!"
   ]
  },
  {
   "cell_type": "code",
   "execution_count": 22,
   "metadata": {
    "collapsed": false
   },
   "outputs": [],
   "source": []
  },
  {
   "cell_type": "code",
   "execution_count": 23,
   "metadata": {
    "collapsed": false
   },
   "outputs": [],
   "source": []
  },
  {
   "cell_type": "markdown",
   "metadata": {},
   "source": [
    "#### 5. Tokenize the Output"
   ]
  },
  {
   "cell_type": "code",
   "execution_count": 33,
   "metadata": {
    "collapsed": false
   },
   "outputs": [
    {
     "data": {
      "text/plain": [
       "['I',\n",
       " 'hate',\n",
       " 'this',\n",
       " 'movie',\n",
       " '.',\n",
       " 'It',\n",
       " 'was',\n",
       " 'great',\n",
       " '.',\n",
       " 'It',\n",
       " 'was',\n",
       " 'not',\n",
       " 'great',\n",
       " ',',\n",
       " 'I',\n",
       " 'did',\n",
       " 'not',\n",
       " 'love',\n",
       " 'it',\n",
       " '.']"
      ]
     },
     "execution_count": 33,
     "metadata": {},
     "output_type": "execute_result"
    }
   ],
   "source": [
    "from nltk.tokenize import sent_tokenize, word_tokenize\n",
    "\n",
    "test = 'I hate this movie. It was great. It was not great, I did not love it.'\n",
    "\n",
    "count = word_tokenize(test)\n",
    "count"
   ]
  },
  {
   "cell_type": "markdown",
   "metadata": {},
   "source": [
    "#### 6. Convert to a Dataframe for Easy Viewing"
   ]
  },
  {
   "cell_type": "code",
   "execution_count": 30,
   "metadata": {
    "collapsed": true
   },
   "outputs": [],
   "source": []
  },
  {
   "cell_type": "markdown",
   "metadata": {},
   "source": [
    "####  7. Find the rows with the top five descriptive words"
   ]
  },
  {
   "cell_type": "code",
   "execution_count": 40,
   "metadata": {
    "collapsed": true
   },
   "outputs": [],
   "source": [
    "words = ('best', 'hope', 'love', 'beautiful', 'great')"
   ]
  },
  {
   "cell_type": "code",
   "execution_count": null,
   "metadata": {
    "collapsed": true
   },
   "outputs": [],
   "source": []
  },
  {
   "cell_type": "markdown",
   "metadata": {},
   "source": [
    "#### 8. Write the results to a csv"
   ]
  },
  {
   "cell_type": "code",
   "execution_count": 49,
   "metadata": {
    "collapsed": true
   },
   "outputs": [],
   "source": []
  },
  {
   "cell_type": "markdown",
   "metadata": {},
   "source": [
    "#### 9. Repeat the process for the other top 24 titles"
   ]
  },
  {
   "cell_type": "markdown",
   "metadata": {},
   "source": [
    "## Part 3: Combine Tables in PostgreSQL"
   ]
  },
  {
   "cell_type": "markdown",
   "metadata": {},
   "source": [
    "#### 1. Import your two .csv data files into your Postgre Database as two different tables"
   ]
  },
  {
   "cell_type": "markdown",
   "metadata": {},
   "source": [
    "For ease, we can call these table1 and table2"
   ]
  },
  {
   "cell_type": "markdown",
   "metadata": {},
   "source": [
    "#### 2. Connect to database and query the joined set"
   ]
  },
  {
   "cell_type": "code",
   "execution_count": null,
   "metadata": {
    "collapsed": true
   },
   "outputs": [],
   "source": []
  },
  {
   "cell_type": "markdown",
   "metadata": {},
   "source": [
    "#### 3. Join the two tables "
   ]
  },
  {
   "cell_type": "code",
   "execution_count": null,
   "metadata": {
    "collapsed": true
   },
   "outputs": [],
   "source": []
  },
  {
   "cell_type": "markdown",
   "metadata": {},
   "source": [
    "#### 4. Select the newly joined table and save two copies of the into dataframes"
   ]
  },
  {
   "cell_type": "code",
   "execution_count": null,
   "metadata": {
    "collapsed": true
   },
   "outputs": [],
   "source": []
  },
  {
   "cell_type": "markdown",
   "metadata": {},
   "source": [
    "## Part 4: Parsing and Exploratory Data Analysis"
   ]
  },
  {
   "cell_type": "markdown",
   "metadata": {},
   "source": [
    "#### 1. Rename the column headings"
   ]
  },
  {
   "cell_type": "code",
   "execution_count": 35,
   "metadata": {
    "collapsed": true
   },
   "outputs": [],
   "source": []
  },
  {
   "cell_type": "code",
   "execution_count": 26,
   "metadata": {
    "collapsed": true
   },
   "outputs": [],
   "source": []
  },
  {
   "cell_type": "markdown",
   "metadata": {},
   "source": [
    "#### 2. Run a description of the data"
   ]
  },
  {
   "cell_type": "code",
   "execution_count": null,
   "metadata": {
    "collapsed": true
   },
   "outputs": [],
   "source": []
  },
  {
   "cell_type": "markdown",
   "metadata": {
    "collapsed": true
   },
   "source": [
    "#### 3. Visualize the Data"
   ]
  },
  {
   "cell_type": "code",
   "execution_count": null,
   "metadata": {
    "collapsed": true
   },
   "outputs": [],
   "source": []
  },
  {
   "cell_type": "code",
   "execution_count": null,
   "metadata": {
    "collapsed": true
   },
   "outputs": [],
   "source": []
  },
  {
   "cell_type": "code",
   "execution_count": null,
   "metadata": {
    "collapsed": true
   },
   "outputs": [],
   "source": []
  },
  {
   "cell_type": "markdown",
   "metadata": {},
   "source": [
    "## Part 3: Build the Decision Tree"
   ]
  },
  {
   "cell_type": "markdown",
   "metadata": {
    "collapsed": true
   },
   "source": [
    "#### 1. What is our target attribute? "
   ]
  },
  {
   "cell_type": "markdown",
   "metadata": {},
   "source": []
  },
  {
   "cell_type": "markdown",
   "metadata": {},
   "source": [
    "#### 2. Prepare the data and define the training set"
   ]
  },
  {
   "cell_type": "code",
   "execution_count": 44,
   "metadata": {
    "collapsed": false
   },
   "outputs": [],
   "source": []
  },
  {
   "cell_type": "code",
   "execution_count": 49,
   "metadata": {
    "collapsed": false
   },
   "outputs": [],
   "source": []
  },
  {
   "cell_type": "markdown",
   "metadata": {},
   "source": [
    "#### 2. Train the Model"
   ]
  },
  {
   "cell_type": "code",
   "execution_count": null,
   "metadata": {
    "collapsed": true
   },
   "outputs": [],
   "source": []
  },
  {
   "cell_type": "markdown",
   "metadata": {},
   "source": [
    "#### 3. Set up test data and test the model"
   ]
  },
  {
   "cell_type": "code",
   "execution_count": null,
   "metadata": {
    "collapsed": true
   },
   "outputs": [],
   "source": []
  },
  {
   "cell_type": "markdown",
   "metadata": {},
   "source": [
    "#### 5. Check the results"
   ]
  },
  {
   "cell_type": "code",
   "execution_count": null,
   "metadata": {
    "collapsed": true
   },
   "outputs": [],
   "source": []
  },
  {
   "cell_type": "markdown",
   "metadata": {},
   "source": [
    "#### 6. What is overfitting and how are we at risk? "
   ]
  },
  {
   "cell_type": "markdown",
   "metadata": {},
   "source": []
  },
  {
   "cell_type": "code",
   "execution_count": null,
   "metadata": {
    "collapsed": true
   },
   "outputs": [],
   "source": []
  },
  {
   "cell_type": "code",
   "execution_count": null,
   "metadata": {
    "collapsed": true
   },
   "outputs": [],
   "source": []
  },
  {
   "cell_type": "code",
   "execution_count": null,
   "metadata": {
    "collapsed": true
   },
   "outputs": [],
   "source": []
  },
  {
   "cell_type": "code",
   "execution_count": 149,
   "metadata": {
    "collapsed": true
   },
   "outputs": [],
   "source": [
    "testURL = \"http://www.imdb.com/title/tt0111161/reviews?start=0\"\n",
    "\n",
    "r = requests.get(testURL)\n",
    "soup = BeautifulSoup(r.text)"
   ]
  },
  {
   "cell_type": "code",
   "execution_count": 205,
   "metadata": {
    "collapsed": false
   },
   "outputs": [
    {
     "data": {
      "text/plain": [
       "[]"
      ]
     },
     "execution_count": 205,
     "metadata": {},
     "output_type": "execute_result"
    }
   ],
   "source": [
    "soup.select('span.reviewCount')"
   ]
  },
  {
   "cell_type": "code",
   "execution_count": null,
   "metadata": {
    "collapsed": true
   },
   "outputs": [],
   "source": [
    "span itemprop=\"reviewCount\">4,110 user</span>,"
   ]
  },
  {
   "cell_type": "code",
   "execution_count": 210,
   "metadata": {
    "collapsed": false
   },
   "outputs": [
    {
     "ename": "TypeError",
     "evalue": "select() got an unexpected keyword argument 'attrs'",
     "output_type": "error",
     "traceback": [
      "\u001b[0;31m---------------------------------------------------------------------------\u001b[0m",
      "\u001b[0;31mTypeError\u001b[0m                                 Traceback (most recent call last)",
      "\u001b[0;32m<ipython-input-210-573069626f58>\u001b[0m in \u001b[0;36m<module>\u001b[0;34m()\u001b[0m\n\u001b[0;32m----> 1\u001b[0;31m \u001b[0msoup\u001b[0m\u001b[0;34m.\u001b[0m\u001b[0mselect\u001b[0m\u001b[0;34m(\u001b[0m\u001b[0;34m\"span\"\u001b[0m\u001b[0;34m,\u001b[0m \u001b[0mattrs\u001b[0m\u001b[0;34m=\u001b[0m\u001b[0;34m{\u001b[0m\u001b[0;34m\"itemprop\"\u001b[0m\u001b[0;34m:\u001b[0m\u001b[0;34m\"reviewCount\"\u001b[0m\u001b[0;34m}\u001b[0m\u001b[0;34m)\u001b[0m\u001b[0;34m\u001b[0m\u001b[0m\n\u001b[0m",
      "\u001b[0;31mTypeError\u001b[0m: select() got an unexpected keyword argument 'attrs'"
     ]
    }
   ],
   "source": [
    "soup.select(\"span\", attrs={\"itemprop\":\"reviewCount\"})"
   ]
  },
  {
   "cell_type": "code",
   "execution_count": null,
   "metadata": {
    "collapsed": true
   },
   "outputs": [],
   "source": []
  }
 ],
 "metadata": {
  "kernelspec": {
   "display_name": "Python 2",
   "language": "python",
   "name": "python2"
  },
  "language_info": {
   "codemirror_mode": {
    "name": "ipython",
    "version": 2
   },
   "file_extension": ".py",
   "mimetype": "text/x-python",
   "name": "python",
   "nbconvert_exporter": "python",
   "pygments_lexer": "ipython2",
   "version": "2.7.11"
  }
 },
 "nbformat": 4,
 "nbformat_minor": 0
}
