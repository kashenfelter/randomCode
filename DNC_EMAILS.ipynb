{
 "cells": [
  {
   "cell_type": "code",
   "execution_count": 1,
   "metadata": {
    "collapsed": true
   },
   "outputs": [],
   "source": [
    "import requests\n",
    "import pandas as pd\n",
    "from bs4 import BeautifulSoup\n",
    "from scrapy.selector import Selector\n",
    "from scrapy.http import HtmlResponse\n",
    "import time\n",
    "from random import randint\n",
    "from time import sleep\n",
    "import numpy as np\n",
    "import random\n"
   ]
  },
  {
   "cell_type": "code",
   "execution_count": 1,
   "metadata": {
    "collapsed": false
   },
   "outputs": [
    {
     "data": {
      "text/plain": [
       "'https://wikileaks.org/dnc-emails/emailid/22456'"
      ]
     },
     "execution_count": 1,
     "metadata": {},
     "output_type": "execute_result"
    }
   ],
   "source": [
    "# how the last email looks\n",
    "'https://wikileaks.org/dnc-emails/emailid/22456'"
   ]
  },
  {
   "cell_type": "code",
   "execution_count": 3,
   "metadata": {
    "collapsed": false
   },
   "outputs": [
    {
     "data": {
      "text/plain": [
       "'https://wikileaks.org/dnc-emails/emailid/1'"
      ]
     },
     "execution_count": 3,
     "metadata": {},
     "output_type": "execute_result"
    }
   ],
   "source": [
    "# how the first emfail looks\n",
    "'https://wikileaks.org/dnc-emails/emailid/1'"
   ]
  },
  {
   "cell_type": "code",
   "execution_count": 2,
   "metadata": {
    "collapsed": true
   },
   "outputs": [],
   "source": [
    "start_URL = 'https://wikileaks.org/dnc-emails/emailid/'"
   ]
  },
  {
   "cell_type": "code",
   "execution_count": 3,
   "metadata": {
    "collapsed": false
   },
   "outputs": [],
   "source": [
    "# total length of emails \n",
    "rangeList = range(1,22457)"
   ]
  },
  {
   "cell_type": "code",
   "execution_count": 4,
   "metadata": {
    "collapsed": false
   },
   "outputs": [],
   "source": [
    "urlList = []\n",
    "\n",
    "for i in rangeList:\n",
    "    urlList.append(start_URL + str(i))"
   ]
  },
  {
   "cell_type": "code",
   "execution_count": 5,
   "metadata": {
    "collapsed": false
   },
   "outputs": [
    {
     "data": {
      "text/plain": [
       "['https://wikileaks.org/dnc-emails/emailid/1']"
      ]
     },
     "execution_count": 5,
     "metadata": {},
     "output_type": "execute_result"
    }
   ],
   "source": [
    "urlList[:1]"
   ]
  },
  {
   "cell_type": "code",
   "execution_count": 6,
   "metadata": {
    "collapsed": false
   },
   "outputs": [],
   "source": [
    "# get all the emails\n",
    "emailsList = []\n",
    "\n",
    "for i in urlList[:20]:\n",
    "    try:\n",
    "        r = requests.get(i)\n",
    "        HTML = r.text\n",
    "        emailsList.append(Selector(text=HTML).xpath('//*[@id=\"header\"]/text()')[0].extract())\n",
    "        time.sleep(random.random())\n",
    "    except:\n",
    "        pass"
   ]
  },
  {
   "cell_type": "code",
   "execution_count": 9,
   "metadata": {
    "collapsed": false
   },
   "outputs": [
    {
     "data": {
      "text/plain": [
       "[u'\\n\\t\\t\\t\\t\\tFrom:GardeM@dnc.org\\n\\t\\t\\t\\t\\tTo: ',\n",
       " u'\\n\\t\\t\\t\\t\\tFrom:ShapiroA@dnc.org\\n\\t\\t\\t\\t\\tTo: ',\n",
       " u'\\n\\t\\t\\t\\t\\tFrom:JacquelynLopez@perkinscoie.com\\n\\t\\t\\t\\t\\tTo: ',\n",
       " u'\\n\\t\\t\\t\\t\\tFrom:postmaster@my.democrats.org\\n\\t\\t\\t\\t\\tTo: ',\n",
       " u'\\n\\t\\t\\t\\t\\tFrom:notice@appriver.com\\n\\t\\t\\t\\t\\tTo: ',\n",
       " u'\\n\\t\\t\\t\\t\\tFrom:postmaster@my.democrats.org\\n\\t\\t\\t\\t\\tTo: ',\n",
       " u'\\n\\t\\t\\t\\t\\tFrom:ComerS@dnc.org\\n\\t\\t\\t\\t\\tTo: ',\n",
       " u'\\n\\t\\t\\t\\t\\tFrom:email@e.washingtonpost.com\\n\\t\\t\\t\\t\\tTo: ',\n",
       " u'\\n\\t\\t\\t\\t\\tFrom:morningmoney@politico.com\\n\\t\\t\\t\\t\\tTo: ',\n",
       " u'\\n\\t\\t\\t\\t\\tFrom:postmaster@finance.democrats.org\\n\\t\\t\\t\\t\\tTo: ',\n",
       " u'\\n\\t\\t\\t\\t\\tFrom:postmaster@my.democrats.org\\n\\t\\t\\t\\t\\tTo: ',\n",
       " u'\\n\\t\\t\\t\\t\\tFrom:evanschrum@gmail.com\\n\\t\\t\\t\\t\\tTo: ',\n",
       " u'\\n\\t\\t\\t\\t\\tFrom:ShapiroA@dnc.org\\n\\t\\t\\t\\t\\tTo: ',\n",
       " u'\\n\\t\\t\\t\\t\\tFrom:GonzalezE@dnc.org\\n\\t\\t\\t\\t\\tTo: ',\n",
       " u'\\n\\t\\t\\t\\t\\tFrom:KaplanJ@dnc.org\\n\\t\\t\\t\\t\\tTo: ',\n",
       " u'\\n\\t\\t\\t\\t\\tFrom:info@businessfwd.org\\n\\t\\t\\t\\t\\tTo: ',\n",
       " u'\\n\\t\\t\\t\\t\\tFrom:michael@mjpratt.org\\n\\t\\t\\t\\t\\tTo: ',\n",
       " u'\\n\\t\\t\\t\\t\\tFrom:email@e.washingtonpost.com\\n\\t\\t\\t\\t\\tTo: ',\n",
       " u'\\n\\t\\t\\t\\t\\tFrom:postmaster@my.democrats.org\\n\\t\\t\\t\\t\\tTo: ',\n",
       " u'\\n\\t\\t\\t\\t\\tFrom:postmaster@finance.democrats.org\\n\\t\\t\\t\\t\\tTo: ']"
      ]
     },
     "execution_count": 9,
     "metadata": {},
     "output_type": "execute_result"
    }
   ],
   "source": [
    "emailsList"
   ]
  },
  {
   "cell_type": "code",
   "execution_count": null,
   "metadata": {
    "collapsed": true
   },
   "outputs": [],
   "source": []
  },
  {
   "cell_type": "code",
   "execution_count": 62,
   "metadata": {
    "collapsed": true
   },
   "outputs": [],
   "source": [
    "# get all the subjects\n",
    "emailsubjectList = []\n",
    "\n",
    "for i in urlList[:2]:\n",
    "    try:\n",
    "        r = requests.get(i)\n",
    "        HTML = r.text\n",
    "        emailsubjectList.append(Selector(text=HTML).xpath('//*[@id=\"header\"]/text()')[1].extract())\n",
    "    except:\n",
    "        pass"
   ]
  },
  {
   "cell_type": "code",
   "execution_count": 65,
   "metadata": {
    "collapsed": false
   },
   "outputs": [
    {
     "data": {
      "text/plain": [
       "[u'\\n\\t\\t\\t\\t\\tDate: 2016-05-18 00:51\\n\\t\\t\\t\\t\\tSubject: Re: CT To Automatically Register 400,000 Voters\\n\\t\\t\\t\\t',\n",
       " u'\\n\\t\\t\\t\\t\\tDate: 2016-05-04 11:58\\n\\t\\t\\t\\t\\tSubject: What about asking Toni Bush to host?\\n\\t\\t\\t\\t']"
      ]
     },
     "execution_count": 65,
     "metadata": {},
     "output_type": "execute_result"
    }
   ],
   "source": [
    "emailsubjectList"
   ]
  },
  {
   "cell_type": "code",
   "execution_count": null,
   "metadata": {
    "collapsed": true
   },
   "outputs": [],
   "source": []
  },
  {
   "cell_type": "code",
   "execution_count": 80,
   "metadata": {
    "collapsed": true
   },
   "outputs": [],
   "source": [
    "# get all the email text\n",
    "emails_body_List = []\n",
    "\n",
    "for i in urlList[:2]:\n",
    "    try:\n",
    "        r = requests.get(i)\n",
    "        HTML = r.text\n",
    "        emails_body_List.append(Selector(text=HTML).xpath('//*[@id=\"uniquer\"]/text()')[0].extract())\n",
    "    except:\n",
    "        pass"
   ]
  },
  {
   "cell_type": "code",
   "execution_count": null,
   "metadata": {
    "collapsed": false
   },
   "outputs": [],
   "source": [
    "#emails_body_List"
   ]
  },
  {
   "cell_type": "code",
   "execution_count": 70,
   "metadata": {
    "collapsed": false
   },
   "outputs": [],
   "source": [
    "from scrapy.selector import Selector\n",
    "from scrapy.http import HtmlResponse\n",
    "\n",
    "r = requests.get(test)\n",
    "HTML = r.text"
   ]
  },
  {
   "cell_type": "code",
   "execution_count": 83,
   "metadata": {
    "collapsed": false
   },
   "outputs": [],
   "source": [
    "# # get emails\n",
    "# email = Selector(text=HTML).xpath('//*[@id=\"header\"]/text()')[0].extract()\n",
    "# email"
   ]
  },
  {
   "cell_type": "code",
   "execution_count": 84,
   "metadata": {
    "collapsed": false
   },
   "outputs": [],
   "source": [
    "# # get email subjects\n",
    "# emailSubject = Selector(text=HTML).xpath('//*[@id=\"header\"]/text()[2]').extract()\n",
    "# emailSubject"
   ]
  },
  {
   "cell_type": "code",
   "execution_count": 85,
   "metadata": {
    "collapsed": false
   },
   "outputs": [],
   "source": [
    "# # get email text\n",
    "# emailText = Selector(text=HTML).xpath('//*[@id=\"uniquer\"]/text()').extract()\n",
    "# emailText"
   ]
  },
  {
   "cell_type": "code",
   "execution_count": null,
   "metadata": {
    "collapsed": true
   },
   "outputs": [],
   "source": []
  }
 ],
 "metadata": {
  "kernelspec": {
   "display_name": "Python 2",
   "language": "python",
   "name": "python2"
  },
  "language_info": {
   "codemirror_mode": {
    "name": "ipython",
    "version": 2
   },
   "file_extension": ".py",
   "mimetype": "text/x-python",
   "name": "python",
   "nbconvert_exporter": "python",
   "pygments_lexer": "ipython2",
   "version": "2.7.11"
  }
 },
 "nbformat": 4,
 "nbformat_minor": 0
}
