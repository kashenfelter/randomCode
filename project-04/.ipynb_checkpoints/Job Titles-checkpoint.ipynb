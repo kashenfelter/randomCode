{
 "cells": [
  {
   "cell_type": "code",
   "execution_count": 48,
   "metadata": {
    "collapsed": true
   },
   "outputs": [],
   "source": [
    "import pandas as pd\n",
    "\n",
    "df = pd.read_csv('/Users/Paul/Desktop/General_Assembly/DSI_SM_01/projects/01-projects-weekly/project-04/ALLSalaries.csv')"
   ]
  },
  {
   "cell_type": "code",
   "execution_count": 49,
   "metadata": {
    "collapsed": false
   },
   "outputs": [
    {
     "data": {
      "text/html": [
       "<div>\n",
       "<table border=\"1\" class=\"dataframe\">\n",
       "  <thead>\n",
       "    <tr style=\"text-align: right;\">\n",
       "      <th></th>\n",
       "      <th>Unnamed: 0</th>\n",
       "      <th>city</th>\n",
       "      <th>company</th>\n",
       "      <th>salary</th>\n",
       "      <th>summary</th>\n",
       "      <th>title</th>\n",
       "      <th>parsed_salary</th>\n",
       "    </tr>\n",
       "  </thead>\n",
       "  <tbody>\n",
       "    <tr>\n",
       "      <th>0</th>\n",
       "      <td>0</td>\n",
       "      <td>San+Francisco</td>\n",
       "      <td>MarkMonitor</td>\n",
       "      <td>$180,000 a year</td>\n",
       "      <td>Data skills (SQL, Hive, Pig). Applying machine...</td>\n",
       "      <td>Data Scientist</td>\n",
       "      <td>180000.0</td>\n",
       "    </tr>\n",
       "    <tr>\n",
       "      <th>1</th>\n",
       "      <td>1</td>\n",
       "      <td>San+Francisco</td>\n",
       "      <td>Workbridge Associates</td>\n",
       "      <td>$130,000 - $180,000 a year</td>\n",
       "      <td>3+ years of industry experience in a data scie...</td>\n",
       "      <td>Senior Data Scientist</td>\n",
       "      <td>155000.0</td>\n",
       "    </tr>\n",
       "    <tr>\n",
       "      <th>2</th>\n",
       "      <td>2</td>\n",
       "      <td>San+Francisco</td>\n",
       "      <td>Mines.io</td>\n",
       "      <td>$80,000 - $120,000 a year</td>\n",
       "      <td>We are looking for a data scientist/developer ...</td>\n",
       "      <td>Full-Stack Data Scientist</td>\n",
       "      <td>100000.0</td>\n",
       "    </tr>\n",
       "    <tr>\n",
       "      <th>3</th>\n",
       "      <td>3</td>\n",
       "      <td>San+Francisco</td>\n",
       "      <td>Workbridge Associates</td>\n",
       "      <td>$150,000 - $180,000 a year</td>\n",
       "      <td>In this position you will share programming an...</td>\n",
       "      <td>Data Scientist</td>\n",
       "      <td>165000.0</td>\n",
       "    </tr>\n",
       "    <tr>\n",
       "      <th>4</th>\n",
       "      <td>4</td>\n",
       "      <td>San+Francisco</td>\n",
       "      <td>Smith Hanley Associates</td>\n",
       "      <td>$140,000 a year</td>\n",
       "      <td>This person will recruit, build and lead a tea...</td>\n",
       "      <td>Data Scientist</td>\n",
       "      <td>140000.0</td>\n",
       "    </tr>\n",
       "  </tbody>\n",
       "</table>\n",
       "</div>"
      ],
      "text/plain": [
       "   Unnamed: 0           city                  company  \\\n",
       "0           0  San+Francisco              MarkMonitor   \n",
       "1           1  San+Francisco    Workbridge Associates   \n",
       "2           2  San+Francisco                 Mines.io   \n",
       "3           3  San+Francisco    Workbridge Associates   \n",
       "4           4  San+Francisco  Smith Hanley Associates   \n",
       "\n",
       "                       salary  \\\n",
       "0             $180,000 a year   \n",
       "1  $130,000 - $180,000 a year   \n",
       "2   $80,000 - $120,000 a year   \n",
       "3  $150,000 - $180,000 a year   \n",
       "4             $140,000 a year   \n",
       "\n",
       "                                             summary  \\\n",
       "0  Data skills (SQL, Hive, Pig). Applying machine...   \n",
       "1  3+ years of industry experience in a data scie...   \n",
       "2  We are looking for a data scientist/developer ...   \n",
       "3  In this position you will share programming an...   \n",
       "4  This person will recruit, build and lead a tea...   \n",
       "\n",
       "                       title  parsed_salary  \n",
       "0             Data Scientist       180000.0  \n",
       "1      Senior Data Scientist       155000.0  \n",
       "2  Full-Stack Data Scientist       100000.0  \n",
       "3             Data Scientist       165000.0  \n",
       "4             Data Scientist       140000.0  "
      ]
     },
     "execution_count": 49,
     "metadata": {},
     "output_type": "execute_result"
    }
   ],
   "source": [
    "df.head()"
   ]
  },
  {
   "cell_type": "code",
   "execution_count": 50,
   "metadata": {
    "collapsed": true
   },
   "outputs": [],
   "source": [
    "VP = df[df['title'].str.contains(\"VP\",\"Vice President\")]"
   ]
  },
  {
   "cell_type": "code",
   "execution_count": 51,
   "metadata": {
    "collapsed": false
   },
   "outputs": [
    {
     "data": {
      "text/html": [
       "<div>\n",
       "<table border=\"1\" class=\"dataframe\">\n",
       "  <thead>\n",
       "    <tr style=\"text-align: right;\">\n",
       "      <th></th>\n",
       "      <th>Unnamed: 0</th>\n",
       "      <th>city</th>\n",
       "      <th>company</th>\n",
       "      <th>salary</th>\n",
       "      <th>summary</th>\n",
       "      <th>title</th>\n",
       "      <th>parsed_salary</th>\n",
       "    </tr>\n",
       "  </thead>\n",
       "  <tbody>\n",
       "    <tr>\n",
       "      <th>5</th>\n",
       "      <td>5</td>\n",
       "      <td>San+Francisco</td>\n",
       "      <td>HSF Consulting</td>\n",
       "      <td>$300,000 a year</td>\n",
       "      <td>Teams included Data Services(including data en...</td>\n",
       "      <td>VP of Data Services</td>\n",
       "      <td>300000.0</td>\n",
       "    </tr>\n",
       "  </tbody>\n",
       "</table>\n",
       "</div>"
      ],
      "text/plain": [
       "   Unnamed: 0           city         company           salary  \\\n",
       "5           5  San+Francisco  HSF Consulting  $300,000 a year   \n",
       "\n",
       "                                             summary                title  \\\n",
       "5  Teams included Data Services(including data en...  VP of Data Services   \n",
       "\n",
       "   parsed_salary  \n",
       "5       300000.0  "
      ]
     },
     "execution_count": 51,
     "metadata": {},
     "output_type": "execute_result"
    }
   ],
   "source": [
    "VP.head(1)"
   ]
  },
  {
   "cell_type": "code",
   "execution_count": 52,
   "metadata": {
    "collapsed": false
   },
   "outputs": [],
   "source": [
    "Senior = df[df['title'].str.contains(\"Sr\",\"Senior\")]"
   ]
  },
  {
   "cell_type": "code",
   "execution_count": 53,
   "metadata": {
    "collapsed": false
   },
   "outputs": [
    {
     "data": {
      "text/html": [
       "<div>\n",
       "<table border=\"1\" class=\"dataframe\">\n",
       "  <thead>\n",
       "    <tr style=\"text-align: right;\">\n",
       "      <th></th>\n",
       "      <th>Unnamed: 0</th>\n",
       "      <th>city</th>\n",
       "      <th>company</th>\n",
       "      <th>salary</th>\n",
       "      <th>summary</th>\n",
       "      <th>title</th>\n",
       "      <th>parsed_salary</th>\n",
       "    </tr>\n",
       "  </thead>\n",
       "  <tbody>\n",
       "    <tr>\n",
       "      <th>428</th>\n",
       "      <td>431</td>\n",
       "      <td>New+York</td>\n",
       "      <td>Wade &amp; Wendy</td>\n",
       "      <td>$130,000 a year</td>\n",
       "      <td>Programmatically adding data to and manipulati...</td>\n",
       "      <td>Sr. Machine Learning Data Scientist</td>\n",
       "      <td>130000.0</td>\n",
       "    </tr>\n",
       "    <tr>\n",
       "      <th>1244</th>\n",
       "      <td>3531</td>\n",
       "      <td>Seattle</td>\n",
       "      <td>All-In Analytics</td>\n",
       "      <td>$110,000 - $130,000 a year</td>\n",
       "      <td>Data Scientist, Compensation Analytics. Must b...</td>\n",
       "      <td>Sr. Data Scientist, Compensation Analytics</td>\n",
       "      <td>120000.0</td>\n",
       "    </tr>\n",
       "    <tr>\n",
       "      <th>1246</th>\n",
       "      <td>3533</td>\n",
       "      <td>Seattle</td>\n",
       "      <td>All-In Analytics</td>\n",
       "      <td>$110,000 - $130,000 a year</td>\n",
       "      <td>Data Scientist, Compensation Analytics. Must b...</td>\n",
       "      <td>Sr. Data Scientist, Compensation Analytics</td>\n",
       "      <td>120000.0</td>\n",
       "    </tr>\n",
       "    <tr>\n",
       "      <th>1258</th>\n",
       "      <td>3568</td>\n",
       "      <td>Seattle</td>\n",
       "      <td>All-In Analytics</td>\n",
       "      <td>$150,000 - $175,000 a year</td>\n",
       "      <td>Working with a team of Analysts, Software Deve...</td>\n",
       "      <td>Sr. Global Device Manager</td>\n",
       "      <td>162500.0</td>\n",
       "    </tr>\n",
       "    <tr>\n",
       "      <th>1273</th>\n",
       "      <td>3627</td>\n",
       "      <td>Chicago</td>\n",
       "      <td>Smith Hanley Associates</td>\n",
       "      <td>$150,000 - $200,000 a year</td>\n",
       "      <td>Experience working with syndicated data and PO...</td>\n",
       "      <td>(Sr.) Statistical Consultant</td>\n",
       "      <td>175000.0</td>\n",
       "    </tr>\n",
       "  </tbody>\n",
       "</table>\n",
       "</div>"
      ],
      "text/plain": [
       "      Unnamed: 0      city                  company  \\\n",
       "428          431  New+York             Wade & Wendy   \n",
       "1244        3531   Seattle         All-In Analytics   \n",
       "1246        3533   Seattle         All-In Analytics   \n",
       "1258        3568   Seattle         All-In Analytics   \n",
       "1273        3627   Chicago  Smith Hanley Associates   \n",
       "\n",
       "                          salary  \\\n",
       "428              $130,000 a year   \n",
       "1244  $110,000 - $130,000 a year   \n",
       "1246  $110,000 - $130,000 a year   \n",
       "1258  $150,000 - $175,000 a year   \n",
       "1273  $150,000 - $200,000 a year   \n",
       "\n",
       "                                                summary  \\\n",
       "428   Programmatically adding data to and manipulati...   \n",
       "1244  Data Scientist, Compensation Analytics. Must b...   \n",
       "1246  Data Scientist, Compensation Analytics. Must b...   \n",
       "1258  Working with a team of Analysts, Software Deve...   \n",
       "1273  Experience working with syndicated data and PO...   \n",
       "\n",
       "                                           title  parsed_salary  \n",
       "428          Sr. Machine Learning Data Scientist       130000.0  \n",
       "1244  Sr. Data Scientist, Compensation Analytics       120000.0  \n",
       "1246  Sr. Data Scientist, Compensation Analytics       120000.0  \n",
       "1258                   Sr. Global Device Manager       162500.0  \n",
       "1273                (Sr.) Statistical Consultant       175000.0  "
      ]
     },
     "execution_count": 53,
     "metadata": {},
     "output_type": "execute_result"
    }
   ],
   "source": [
    "Senior.head()"
   ]
  },
  {
   "cell_type": "code",
   "execution_count": null,
   "metadata": {
    "collapsed": true
   },
   "outputs": [],
   "source": []
  },
  {
   "cell_type": "code",
   "execution_count": 54,
   "metadata": {
    "collapsed": true
   },
   "outputs": [],
   "source": [
    "Junior = df[df['title'].str.contains(\"JR\")]"
   ]
  },
  {
   "cell_type": "code",
   "execution_count": 55,
   "metadata": {
    "collapsed": false
   },
   "outputs": [
    {
     "data": {
      "text/html": [
       "<div>\n",
       "<table border=\"1\" class=\"dataframe\">\n",
       "  <thead>\n",
       "    <tr style=\"text-align: right;\">\n",
       "      <th></th>\n",
       "      <th>Unnamed: 0</th>\n",
       "      <th>city</th>\n",
       "      <th>company</th>\n",
       "      <th>salary</th>\n",
       "      <th>summary</th>\n",
       "      <th>title</th>\n",
       "      <th>parsed_salary</th>\n",
       "    </tr>\n",
       "  </thead>\n",
       "  <tbody>\n",
       "    <tr>\n",
       "      <th>491</th>\n",
       "      <td>496</td>\n",
       "      <td>New+York</td>\n",
       "      <td>Hire Solutions Inc.</td>\n",
       "      <td>$200,000 a year</td>\n",
       "      <td>We are looking for data scientist, NLP special...</td>\n",
       "      <td>JR. Full Stack Developer</td>\n",
       "      <td>200000.0</td>\n",
       "    </tr>\n",
       "    <tr>\n",
       "      <th>501</th>\n",
       "      <td>506</td>\n",
       "      <td>New+York</td>\n",
       "      <td>Hire Solutions Inc.</td>\n",
       "      <td>$200,000 a year</td>\n",
       "      <td>We are looking for data scientist, NLP special...</td>\n",
       "      <td>JR. Full Stack Developer</td>\n",
       "      <td>200000.0</td>\n",
       "    </tr>\n",
       "  </tbody>\n",
       "</table>\n",
       "</div>"
      ],
      "text/plain": [
       "     Unnamed: 0      city              company           salary  \\\n",
       "491         496  New+York  Hire Solutions Inc.  $200,000 a year   \n",
       "501         506  New+York  Hire Solutions Inc.  $200,000 a year   \n",
       "\n",
       "                                               summary  \\\n",
       "491  We are looking for data scientist, NLP special...   \n",
       "501  We are looking for data scientist, NLP special...   \n",
       "\n",
       "                        title  parsed_salary  \n",
       "491  JR. Full Stack Developer       200000.0  \n",
       "501  JR. Full Stack Developer       200000.0  "
      ]
     },
     "execution_count": 55,
     "metadata": {},
     "output_type": "execute_result"
    }
   ],
   "source": [
    "Junior"
   ]
  },
  {
   "cell_type": "code",
   "execution_count": 56,
   "metadata": {
    "collapsed": true
   },
   "outputs": [],
   "source": [
    "#intern returns only a word containing international not intern"
   ]
  },
  {
   "cell_type": "code",
   "execution_count": 57,
   "metadata": {
    "collapsed": true
   },
   "outputs": [],
   "source": [
    "Intern = df[df['title'].str.contains(\"Intern\")]"
   ]
  },
  {
   "cell_type": "code",
   "execution_count": 58,
   "metadata": {
    "collapsed": false
   },
   "outputs": [
    {
     "data": {
      "text/html": [
       "<div>\n",
       "<table border=\"1\" class=\"dataframe\">\n",
       "  <thead>\n",
       "    <tr style=\"text-align: right;\">\n",
       "      <th></th>\n",
       "      <th>Unnamed: 0</th>\n",
       "      <th>city</th>\n",
       "      <th>company</th>\n",
       "      <th>salary</th>\n",
       "      <th>summary</th>\n",
       "      <th>title</th>\n",
       "      <th>parsed_salary</th>\n",
       "    </tr>\n",
       "  </thead>\n",
       "  <tbody>\n",
       "    <tr>\n",
       "      <th>850</th>\n",
       "      <td>874</td>\n",
       "      <td>Austin</td>\n",
       "      <td>JE Compliance</td>\n",
       "      <td>$37,000 - $45,000 a year</td>\n",
       "      <td>The ability to interact with many different ty...</td>\n",
       "      <td>International Environmental Specialist</td>\n",
       "      <td>41000.0</td>\n",
       "    </tr>\n",
       "  </tbody>\n",
       "</table>\n",
       "</div>"
      ],
      "text/plain": [
       "     Unnamed: 0    city        company                    salary  \\\n",
       "850         874  Austin  JE Compliance  $37,000 - $45,000 a year   \n",
       "\n",
       "                                               summary  \\\n",
       "850  The ability to interact with many different ty...   \n",
       "\n",
       "                                      title  parsed_salary  \n",
       "850  International Environmental Specialist        41000.0  "
      ]
     },
     "execution_count": 58,
     "metadata": {},
     "output_type": "execute_result"
    }
   ],
   "source": [
    "Intern"
   ]
  },
  {
   "cell_type": "code",
   "execution_count": null,
   "metadata": {
    "collapsed": true
   },
   "outputs": [],
   "source": []
  },
  {
   "cell_type": "code",
   "execution_count": 59,
   "metadata": {
    "collapsed": true
   },
   "outputs": [],
   "source": [
    "Python = df[df['title'].str.contains(\"Python\",\"python\")]"
   ]
  },
  {
   "cell_type": "code",
   "execution_count": 60,
   "metadata": {
    "collapsed": false
   },
   "outputs": [
    {
     "data": {
      "text/html": [
       "<div>\n",
       "<table border=\"1\" class=\"dataframe\">\n",
       "  <thead>\n",
       "    <tr style=\"text-align: right;\">\n",
       "      <th></th>\n",
       "      <th>Unnamed: 0</th>\n",
       "      <th>city</th>\n",
       "      <th>company</th>\n",
       "      <th>salary</th>\n",
       "      <th>summary</th>\n",
       "      <th>title</th>\n",
       "      <th>parsed_salary</th>\n",
       "    </tr>\n",
       "  </thead>\n",
       "  <tbody>\n",
       "    <tr>\n",
       "      <th>10</th>\n",
       "      <td>10</td>\n",
       "      <td>San+Francisco</td>\n",
       "      <td>Jobspring Partners</td>\n",
       "      <td>$150,000 - $175,000 a year</td>\n",
       "      <td>Given the high volume of data collected by the...</td>\n",
       "      <td>Python Developer (Machine Learning)</td>\n",
       "      <td>162500.0</td>\n",
       "    </tr>\n",
       "    <tr>\n",
       "      <th>30</th>\n",
       "      <td>32</td>\n",
       "      <td>San+Francisco</td>\n",
       "      <td>Workbridge Associates</td>\n",
       "      <td>$110,000 - $130,000 a year</td>\n",
       "      <td>Industry experience as a data scientist. Popul...</td>\n",
       "      <td>Senior Data Scientist (Python, R, recommendation)</td>\n",
       "      <td>120000.0</td>\n",
       "    </tr>\n",
       "    <tr>\n",
       "      <th>35</th>\n",
       "      <td>37</td>\n",
       "      <td>San+Francisco</td>\n",
       "      <td>Workbridge Associates</td>\n",
       "      <td>$120,000 - $140,000 a year</td>\n",
       "      <td>A really fast-growing, small startup company h...</td>\n",
       "      <td>Data Scientist - Python</td>\n",
       "      <td>130000.0</td>\n",
       "    </tr>\n",
       "    <tr>\n",
       "      <th>39</th>\n",
       "      <td>41</td>\n",
       "      <td>San+Francisco</td>\n",
       "      <td>Workbridge Associates</td>\n",
       "      <td>$110,000 - $130,000 a year</td>\n",
       "      <td>Industry experience as a data scientist. Popul...</td>\n",
       "      <td>Senior Data Scientist (Python, R, recommendation)</td>\n",
       "      <td>120000.0</td>\n",
       "    </tr>\n",
       "    <tr>\n",
       "      <th>1270</th>\n",
       "      <td>3624</td>\n",
       "      <td>Chicago</td>\n",
       "      <td>Workbridge Associates</td>\n",
       "      <td>$100,000 - $140,000 a year</td>\n",
       "      <td>Hadoop/Hive/Pig Big data Experience. A non-pro...</td>\n",
       "      <td>Senior Data Scientist (Python, R) in Des Plaines</td>\n",
       "      <td>120000.0</td>\n",
       "    </tr>\n",
       "  </tbody>\n",
       "</table>\n",
       "</div>"
      ],
      "text/plain": [
       "      Unnamed: 0           city                company  \\\n",
       "10            10  San+Francisco     Jobspring Partners   \n",
       "30            32  San+Francisco  Workbridge Associates   \n",
       "35            37  San+Francisco  Workbridge Associates   \n",
       "39            41  San+Francisco  Workbridge Associates   \n",
       "1270        3624        Chicago  Workbridge Associates   \n",
       "\n",
       "                          salary  \\\n",
       "10    $150,000 - $175,000 a year   \n",
       "30    $110,000 - $130,000 a year   \n",
       "35    $120,000 - $140,000 a year   \n",
       "39    $110,000 - $130,000 a year   \n",
       "1270  $100,000 - $140,000 a year   \n",
       "\n",
       "                                                summary  \\\n",
       "10    Given the high volume of data collected by the...   \n",
       "30    Industry experience as a data scientist. Popul...   \n",
       "35    A really fast-growing, small startup company h...   \n",
       "39    Industry experience as a data scientist. Popul...   \n",
       "1270  Hadoop/Hive/Pig Big data Experience. A non-pro...   \n",
       "\n",
       "                                                  title  parsed_salary  \n",
       "10                  Python Developer (Machine Learning)       162500.0  \n",
       "30    Senior Data Scientist (Python, R, recommendation)       120000.0  \n",
       "35                              Data Scientist - Python       130000.0  \n",
       "39    Senior Data Scientist (Python, R, recommendation)       120000.0  \n",
       "1270   Senior Data Scientist (Python, R) in Des Plaines       120000.0  "
      ]
     },
     "execution_count": 60,
     "metadata": {},
     "output_type": "execute_result"
    }
   ],
   "source": [
    "Python.head()"
   ]
  },
  {
   "cell_type": "code",
   "execution_count": null,
   "metadata": {
    "collapsed": true
   },
   "outputs": [],
   "source": []
  },
  {
   "cell_type": "code",
   "execution_count": 61,
   "metadata": {
    "collapsed": true
   },
   "outputs": [],
   "source": [
    "FullStack = df[df['title'].str.contains(\"Full Stack\")]"
   ]
  },
  {
   "cell_type": "code",
   "execution_count": 62,
   "metadata": {
    "collapsed": false
   },
   "outputs": [
    {
     "data": {
      "text/html": [
       "<div>\n",
       "<table border=\"1\" class=\"dataframe\">\n",
       "  <thead>\n",
       "    <tr style=\"text-align: right;\">\n",
       "      <th></th>\n",
       "      <th>Unnamed: 0</th>\n",
       "      <th>city</th>\n",
       "      <th>company</th>\n",
       "      <th>salary</th>\n",
       "      <th>summary</th>\n",
       "      <th>title</th>\n",
       "      <th>parsed_salary</th>\n",
       "    </tr>\n",
       "  </thead>\n",
       "  <tbody>\n",
       "    <tr>\n",
       "      <th>491</th>\n",
       "      <td>496</td>\n",
       "      <td>New+York</td>\n",
       "      <td>Hire Solutions Inc.</td>\n",
       "      <td>$200,000 a year</td>\n",
       "      <td>We are looking for data scientist, NLP special...</td>\n",
       "      <td>JR. Full Stack Developer</td>\n",
       "      <td>200000.0</td>\n",
       "    </tr>\n",
       "    <tr>\n",
       "      <th>501</th>\n",
       "      <td>506</td>\n",
       "      <td>New+York</td>\n",
       "      <td>Hire Solutions Inc.</td>\n",
       "      <td>$200,000 a year</td>\n",
       "      <td>We are looking for data scientist, NLP special...</td>\n",
       "      <td>JR. Full Stack Developer</td>\n",
       "      <td>200000.0</td>\n",
       "    </tr>\n",
       "  </tbody>\n",
       "</table>\n",
       "</div>"
      ],
      "text/plain": [
       "     Unnamed: 0      city              company           salary  \\\n",
       "491         496  New+York  Hire Solutions Inc.  $200,000 a year   \n",
       "501         506  New+York  Hire Solutions Inc.  $200,000 a year   \n",
       "\n",
       "                                               summary  \\\n",
       "491  We are looking for data scientist, NLP special...   \n",
       "501  We are looking for data scientist, NLP special...   \n",
       "\n",
       "                        title  parsed_salary  \n",
       "491  JR. Full Stack Developer       200000.0  \n",
       "501  JR. Full Stack Developer       200000.0  "
      ]
     },
     "execution_count": 62,
     "metadata": {},
     "output_type": "execute_result"
    }
   ],
   "source": [
    "FullStack"
   ]
  },
  {
   "cell_type": "code",
   "execution_count": null,
   "metadata": {
    "collapsed": true
   },
   "outputs": [],
   "source": []
  },
  {
   "cell_type": "code",
   "execution_count": 63,
   "metadata": {
    "collapsed": true
   },
   "outputs": [],
   "source": [
    "Scientist = df[df['title'].str.contains(\"Scientist\")]"
   ]
  },
  {
   "cell_type": "code",
   "execution_count": 64,
   "metadata": {
    "collapsed": false
   },
   "outputs": [
    {
     "data": {
      "text/html": [
       "<div>\n",
       "<table border=\"1\" class=\"dataframe\">\n",
       "  <thead>\n",
       "    <tr style=\"text-align: right;\">\n",
       "      <th></th>\n",
       "      <th>Unnamed: 0</th>\n",
       "      <th>city</th>\n",
       "      <th>company</th>\n",
       "      <th>salary</th>\n",
       "      <th>summary</th>\n",
       "      <th>title</th>\n",
       "      <th>parsed_salary</th>\n",
       "    </tr>\n",
       "  </thead>\n",
       "  <tbody>\n",
       "    <tr>\n",
       "      <th>0</th>\n",
       "      <td>0</td>\n",
       "      <td>San+Francisco</td>\n",
       "      <td>MarkMonitor</td>\n",
       "      <td>$180,000 a year</td>\n",
       "      <td>Data skills (SQL, Hive, Pig). Applying machine...</td>\n",
       "      <td>Data Scientist</td>\n",
       "      <td>180000.0</td>\n",
       "    </tr>\n",
       "    <tr>\n",
       "      <th>1</th>\n",
       "      <td>1</td>\n",
       "      <td>San+Francisco</td>\n",
       "      <td>Workbridge Associates</td>\n",
       "      <td>$130,000 - $180,000 a year</td>\n",
       "      <td>3+ years of industry experience in a data scie...</td>\n",
       "      <td>Senior Data Scientist</td>\n",
       "      <td>155000.0</td>\n",
       "    </tr>\n",
       "    <tr>\n",
       "      <th>2</th>\n",
       "      <td>2</td>\n",
       "      <td>San+Francisco</td>\n",
       "      <td>Mines.io</td>\n",
       "      <td>$80,000 - $120,000 a year</td>\n",
       "      <td>We are looking for a data scientist/developer ...</td>\n",
       "      <td>Full-Stack Data Scientist</td>\n",
       "      <td>100000.0</td>\n",
       "    </tr>\n",
       "    <tr>\n",
       "      <th>3</th>\n",
       "      <td>3</td>\n",
       "      <td>San+Francisco</td>\n",
       "      <td>Workbridge Associates</td>\n",
       "      <td>$150,000 - $180,000 a year</td>\n",
       "      <td>In this position you will share programming an...</td>\n",
       "      <td>Data Scientist</td>\n",
       "      <td>165000.0</td>\n",
       "    </tr>\n",
       "    <tr>\n",
       "      <th>4</th>\n",
       "      <td>4</td>\n",
       "      <td>San+Francisco</td>\n",
       "      <td>Smith Hanley Associates</td>\n",
       "      <td>$140,000 a year</td>\n",
       "      <td>This person will recruit, build and lead a tea...</td>\n",
       "      <td>Data Scientist</td>\n",
       "      <td>140000.0</td>\n",
       "    </tr>\n",
       "  </tbody>\n",
       "</table>\n",
       "</div>"
      ],
      "text/plain": [
       "   Unnamed: 0           city                  company  \\\n",
       "0           0  San+Francisco              MarkMonitor   \n",
       "1           1  San+Francisco    Workbridge Associates   \n",
       "2           2  San+Francisco                 Mines.io   \n",
       "3           3  San+Francisco    Workbridge Associates   \n",
       "4           4  San+Francisco  Smith Hanley Associates   \n",
       "\n",
       "                       salary  \\\n",
       "0             $180,000 a year   \n",
       "1  $130,000 - $180,000 a year   \n",
       "2   $80,000 - $120,000 a year   \n",
       "3  $150,000 - $180,000 a year   \n",
       "4             $140,000 a year   \n",
       "\n",
       "                                             summary  \\\n",
       "0  Data skills (SQL, Hive, Pig). Applying machine...   \n",
       "1  3+ years of industry experience in a data scie...   \n",
       "2  We are looking for a data scientist/developer ...   \n",
       "3  In this position you will share programming an...   \n",
       "4  This person will recruit, build and lead a tea...   \n",
       "\n",
       "                       title  parsed_salary  \n",
       "0             Data Scientist       180000.0  \n",
       "1      Senior Data Scientist       155000.0  \n",
       "2  Full-Stack Data Scientist       100000.0  \n",
       "3             Data Scientist       165000.0  \n",
       "4             Data Scientist       140000.0  "
      ]
     },
     "execution_count": 64,
     "metadata": {},
     "output_type": "execute_result"
    }
   ],
   "source": [
    "Scientist.head()"
   ]
  },
  {
   "cell_type": "code",
   "execution_count": null,
   "metadata": {
    "collapsed": true
   },
   "outputs": [],
   "source": []
  },
  {
   "cell_type": "code",
   "execution_count": 65,
   "metadata": {
    "collapsed": true
   },
   "outputs": [],
   "source": [
    "Research = df[df['title'].str.contains(\"Research\")]"
   ]
  },
  {
   "cell_type": "code",
   "execution_count": 66,
   "metadata": {
    "collapsed": false
   },
   "outputs": [
    {
     "data": {
      "text/html": [
       "<div>\n",
       "<table border=\"1\" class=\"dataframe\">\n",
       "  <thead>\n",
       "    <tr style=\"text-align: right;\">\n",
       "      <th></th>\n",
       "      <th>Unnamed: 0</th>\n",
       "      <th>city</th>\n",
       "      <th>company</th>\n",
       "      <th>salary</th>\n",
       "      <th>summary</th>\n",
       "      <th>title</th>\n",
       "      <th>parsed_salary</th>\n",
       "    </tr>\n",
       "  </thead>\n",
       "  <tbody>\n",
       "    <tr>\n",
       "      <th>20</th>\n",
       "      <td>21</td>\n",
       "      <td>San+Francisco</td>\n",
       "      <td>Workbridge Associates</td>\n",
       "      <td>$140,000 - $200,000 a year</td>\n",
       "      <td>The Senior Data Scientist position requires a ...</td>\n",
       "      <td>Senior Data Scientist (Autonomous Vehicle Rese...</td>\n",
       "      <td>170000.0</td>\n",
       "    </tr>\n",
       "    <tr>\n",
       "      <th>23</th>\n",
       "      <td>24</td>\n",
       "      <td>San+Francisco</td>\n",
       "      <td>NextGen Jane, Inc.</td>\n",
       "      <td>$65,000 a year</td>\n",
       "      <td>Scientific Researcher – Next Gen Sequencing Sc...</td>\n",
       "      <td>Scientific Researcher</td>\n",
       "      <td>65000.0</td>\n",
       "    </tr>\n",
       "    <tr>\n",
       "      <th>27</th>\n",
       "      <td>28</td>\n",
       "      <td>San+Francisco</td>\n",
       "      <td>Workbridge Associates</td>\n",
       "      <td>$140,000 - $200,000 a year</td>\n",
       "      <td>The Senior Data Scientist position requires a ...</td>\n",
       "      <td>Senior Data Scientist (Autonomous Vehicle Rese...</td>\n",
       "      <td>170000.0</td>\n",
       "    </tr>\n",
       "    <tr>\n",
       "      <th>435</th>\n",
       "      <td>439</td>\n",
       "      <td>New+York</td>\n",
       "      <td>Health Research Incorporated</td>\n",
       "      <td>$53,875 a year</td>\n",
       "      <td>Experience analyzing large data sets using SAS...</td>\n",
       "      <td>Research Scientist I</td>\n",
       "      <td>53875.0</td>\n",
       "    </tr>\n",
       "    <tr>\n",
       "      <th>442</th>\n",
       "      <td>446</td>\n",
       "      <td>New+York</td>\n",
       "      <td>Analytic Recruiting</td>\n",
       "      <td>$100,000 a year</td>\n",
       "      <td>This includes building predictive models using...</td>\n",
       "      <td>Senior Statistical Market Research Analyst</td>\n",
       "      <td>100000.0</td>\n",
       "    </tr>\n",
       "  </tbody>\n",
       "</table>\n",
       "</div>"
      ],
      "text/plain": [
       "     Unnamed: 0           city                       company  \\\n",
       "20           21  San+Francisco         Workbridge Associates   \n",
       "23           24  San+Francisco            NextGen Jane, Inc.   \n",
       "27           28  San+Francisco         Workbridge Associates   \n",
       "435         439       New+York  Health Research Incorporated   \n",
       "442         446       New+York           Analytic Recruiting   \n",
       "\n",
       "                         salary  \\\n",
       "20   $140,000 - $200,000 a year   \n",
       "23               $65,000 a year   \n",
       "27   $140,000 - $200,000 a year   \n",
       "435              $53,875 a year   \n",
       "442             $100,000 a year   \n",
       "\n",
       "                                               summary  \\\n",
       "20   The Senior Data Scientist position requires a ...   \n",
       "23   Scientific Researcher – Next Gen Sequencing Sc...   \n",
       "27   The Senior Data Scientist position requires a ...   \n",
       "435  Experience analyzing large data sets using SAS...   \n",
       "442  This includes building predictive models using...   \n",
       "\n",
       "                                                 title  parsed_salary  \n",
       "20   Senior Data Scientist (Autonomous Vehicle Rese...       170000.0  \n",
       "23                               Scientific Researcher        65000.0  \n",
       "27   Senior Data Scientist (Autonomous Vehicle Rese...       170000.0  \n",
       "435                               Research Scientist I        53875.0  \n",
       "442         Senior Statistical Market Research Analyst       100000.0  "
      ]
     },
     "execution_count": 66,
     "metadata": {},
     "output_type": "execute_result"
    }
   ],
   "source": [
    "Research.head()"
   ]
  },
  {
   "cell_type": "code",
   "execution_count": null,
   "metadata": {
    "collapsed": true
   },
   "outputs": [],
   "source": []
  },
  {
   "cell_type": "code",
   "execution_count": 67,
   "metadata": {
    "collapsed": true
   },
   "outputs": [],
   "source": [
    "Manager = df[df['title'].str.contains(\"Manager\")]"
   ]
  },
  {
   "cell_type": "code",
   "execution_count": 69,
   "metadata": {
    "collapsed": false
   },
   "outputs": [
    {
     "data": {
      "text/html": [
       "<div>\n",
       "<table border=\"1\" class=\"dataframe\">\n",
       "  <thead>\n",
       "    <tr style=\"text-align: right;\">\n",
       "      <th></th>\n",
       "      <th>Unnamed: 0</th>\n",
       "      <th>city</th>\n",
       "      <th>company</th>\n",
       "      <th>salary</th>\n",
       "      <th>summary</th>\n",
       "      <th>title</th>\n",
       "      <th>parsed_salary</th>\n",
       "    </tr>\n",
       "  </thead>\n",
       "  <tbody>\n",
       "    <tr>\n",
       "      <th>438</th>\n",
       "      <td>442</td>\n",
       "      <td>New+York</td>\n",
       "      <td>Averity</td>\n",
       "      <td>$175,000 - $275,000 a year</td>\n",
       "      <td>We are a top-tier asset manager looking for a ...</td>\n",
       "      <td>Quantitative Data Scientist - Large Asset Manager</td>\n",
       "      <td>225000.0</td>\n",
       "    </tr>\n",
       "    <tr>\n",
       "      <th>1255</th>\n",
       "      <td>3562</td>\n",
       "      <td>Seattle</td>\n",
       "      <td>Department Of Veterans Affairs</td>\n",
       "      <td>$75,925 - $98,702 a year</td>\n",
       "      <td>Primary LIM Support focus will be Central Lab,...</td>\n",
       "      <td>Medical Technologist (Laboratory Information M...</td>\n",
       "      <td>87313.5</td>\n",
       "    </tr>\n",
       "    <tr>\n",
       "      <th>1257</th>\n",
       "      <td>3565</td>\n",
       "      <td>Seattle</td>\n",
       "      <td>Department Of Veterans Affairs</td>\n",
       "      <td>$75,925 - $98,702 a year</td>\n",
       "      <td>Primary LIM Support focus will be Central Lab,...</td>\n",
       "      <td>Medical Technologist (Laboratory Information M...</td>\n",
       "      <td>87313.5</td>\n",
       "    </tr>\n",
       "    <tr>\n",
       "      <th>1258</th>\n",
       "      <td>3568</td>\n",
       "      <td>Seattle</td>\n",
       "      <td>All-In Analytics</td>\n",
       "      <td>$150,000 - $175,000 a year</td>\n",
       "      <td>Working with a team of Analysts, Software Deve...</td>\n",
       "      <td>Sr. Global Device Manager</td>\n",
       "      <td>162500.0</td>\n",
       "    </tr>\n",
       "    <tr>\n",
       "      <th>1278</th>\n",
       "      <td>3632</td>\n",
       "      <td>Chicago</td>\n",
       "      <td>Workbridge Associates</td>\n",
       "      <td>$185,000 a year</td>\n",
       "      <td>They need someone with the experience to be ha...</td>\n",
       "      <td>Manager of Data Science (Python, R)</td>\n",
       "      <td>185000.0</td>\n",
       "    </tr>\n",
       "  </tbody>\n",
       "</table>\n",
       "</div>"
      ],
      "text/plain": [
       "      Unnamed: 0      city                         company  \\\n",
       "438          442  New+York                         Averity   \n",
       "1255        3562   Seattle  Department Of Veterans Affairs   \n",
       "1257        3565   Seattle  Department Of Veterans Affairs   \n",
       "1258        3568   Seattle                All-In Analytics   \n",
       "1278        3632   Chicago           Workbridge Associates   \n",
       "\n",
       "                          salary  \\\n",
       "438   $175,000 - $275,000 a year   \n",
       "1255    $75,925 - $98,702 a year   \n",
       "1257    $75,925 - $98,702 a year   \n",
       "1258  $150,000 - $175,000 a year   \n",
       "1278             $185,000 a year   \n",
       "\n",
       "                                                summary  \\\n",
       "438   We are a top-tier asset manager looking for a ...   \n",
       "1255  Primary LIM Support focus will be Central Lab,...   \n",
       "1257  Primary LIM Support focus will be Central Lab,...   \n",
       "1258  Working with a team of Analysts, Software Deve...   \n",
       "1278  They need someone with the experience to be ha...   \n",
       "\n",
       "                                                  title  parsed_salary  \n",
       "438   Quantitative Data Scientist - Large Asset Manager       225000.0  \n",
       "1255  Medical Technologist (Laboratory Information M...        87313.5  \n",
       "1257  Medical Technologist (Laboratory Information M...        87313.5  \n",
       "1258                          Sr. Global Device Manager       162500.0  \n",
       "1278                Manager of Data Science (Python, R)       185000.0  "
      ]
     },
     "execution_count": 69,
     "metadata": {},
     "output_type": "execute_result"
    }
   ],
   "source": [
    "Manager.head()"
   ]
  },
  {
   "cell_type": "code",
   "execution_count": null,
   "metadata": {
    "collapsed": true
   },
   "outputs": [],
   "source": []
  },
  {
   "cell_type": "code",
   "execution_count": 70,
   "metadata": {
    "collapsed": true
   },
   "outputs": [],
   "source": [
    "MachineLearning = df[df['title'].str.contains(\"Machine Learning\")]"
   ]
  },
  {
   "cell_type": "code",
   "execution_count": 72,
   "metadata": {
    "collapsed": false
   },
   "outputs": [
    {
     "data": {
      "text/html": [
       "<div>\n",
       "<table border=\"1\" class=\"dataframe\">\n",
       "  <thead>\n",
       "    <tr style=\"text-align: right;\">\n",
       "      <th></th>\n",
       "      <th>Unnamed: 0</th>\n",
       "      <th>city</th>\n",
       "      <th>company</th>\n",
       "      <th>salary</th>\n",
       "      <th>summary</th>\n",
       "      <th>title</th>\n",
       "      <th>parsed_salary</th>\n",
       "    </tr>\n",
       "  </thead>\n",
       "  <tbody>\n",
       "    <tr>\n",
       "      <th>10</th>\n",
       "      <td>10</td>\n",
       "      <td>San+Francisco</td>\n",
       "      <td>Jobspring Partners</td>\n",
       "      <td>$150,000 - $175,000 a year</td>\n",
       "      <td>Given the high volume of data collected by the...</td>\n",
       "      <td>Python Developer (Machine Learning)</td>\n",
       "      <td>162500.0</td>\n",
       "    </tr>\n",
       "    <tr>\n",
       "      <th>18</th>\n",
       "      <td>19</td>\n",
       "      <td>San+Francisco</td>\n",
       "      <td>Corporate Labs Technology</td>\n",
       "      <td>$110,000 - $180,000 a year</td>\n",
       "      <td>Machine Learning Developer Brisbane, CA Sign o...</td>\n",
       "      <td>Data Scientist (Machine Learning)</td>\n",
       "      <td>145000.0</td>\n",
       "    </tr>\n",
       "    <tr>\n",
       "      <th>24</th>\n",
       "      <td>25</td>\n",
       "      <td>San+Francisco</td>\n",
       "      <td>Jobspring Partners</td>\n",
       "      <td>$180,000 - $275,000 a year</td>\n",
       "      <td>This is an opportunity to lead a team of talen...</td>\n",
       "      <td>Vice President Engineering (Big Data/ Machine ...</td>\n",
       "      <td>227500.0</td>\n",
       "    </tr>\n",
       "    <tr>\n",
       "      <th>33</th>\n",
       "      <td>35</td>\n",
       "      <td>San+Francisco</td>\n",
       "      <td>Workbridge Associates</td>\n",
       "      <td>$165,000 - $195,000 a year</td>\n",
       "      <td>The role will be working on technology that pr...</td>\n",
       "      <td>Staff Engineer, Machine Learning (Scala)</td>\n",
       "      <td>180000.0</td>\n",
       "    </tr>\n",
       "    <tr>\n",
       "      <th>40</th>\n",
       "      <td>42</td>\n",
       "      <td>San+Francisco</td>\n",
       "      <td>Jobspring Partners</td>\n",
       "      <td>$180,000 - $275,000 a year</td>\n",
       "      <td>This is an opportunity to lead a team of talen...</td>\n",
       "      <td>Vice President Engineering (Big Data/ Machine ...</td>\n",
       "      <td>227500.0</td>\n",
       "    </tr>\n",
       "  </tbody>\n",
       "</table>\n",
       "</div>"
      ],
      "text/plain": [
       "    Unnamed: 0           city                    company  \\\n",
       "10          10  San+Francisco         Jobspring Partners   \n",
       "18          19  San+Francisco  Corporate Labs Technology   \n",
       "24          25  San+Francisco         Jobspring Partners   \n",
       "33          35  San+Francisco      Workbridge Associates   \n",
       "40          42  San+Francisco         Jobspring Partners   \n",
       "\n",
       "                        salary  \\\n",
       "10  $150,000 - $175,000 a year   \n",
       "18  $110,000 - $180,000 a year   \n",
       "24  $180,000 - $275,000 a year   \n",
       "33  $165,000 - $195,000 a year   \n",
       "40  $180,000 - $275,000 a year   \n",
       "\n",
       "                                              summary  \\\n",
       "10  Given the high volume of data collected by the...   \n",
       "18  Machine Learning Developer Brisbane, CA Sign o...   \n",
       "24  This is an opportunity to lead a team of talen...   \n",
       "33  The role will be working on technology that pr...   \n",
       "40  This is an opportunity to lead a team of talen...   \n",
       "\n",
       "                                                title  parsed_salary  \n",
       "10                Python Developer (Machine Learning)       162500.0  \n",
       "18                  Data Scientist (Machine Learning)       145000.0  \n",
       "24  Vice President Engineering (Big Data/ Machine ...       227500.0  \n",
       "33           Staff Engineer, Machine Learning (Scala)       180000.0  \n",
       "40  Vice President Engineering (Big Data/ Machine ...       227500.0  "
      ]
     },
     "execution_count": 72,
     "metadata": {},
     "output_type": "execute_result"
    }
   ],
   "source": [
    "MachineLearning.head()"
   ]
  },
  {
   "cell_type": "code",
   "execution_count": null,
   "metadata": {
    "collapsed": true
   },
   "outputs": [],
   "source": []
  },
  {
   "cell_type": "code",
   "execution_count": 73,
   "metadata": {
    "collapsed": true
   },
   "outputs": [],
   "source": [
    "Analyst = df[df['title'].str.contains(\"Analyst\")]"
   ]
  },
  {
   "cell_type": "code",
   "execution_count": 75,
   "metadata": {
    "collapsed": false
   },
   "outputs": [
    {
     "data": {
      "text/html": [
       "<div>\n",
       "<table border=\"1\" class=\"dataframe\">\n",
       "  <thead>\n",
       "    <tr style=\"text-align: right;\">\n",
       "      <th></th>\n",
       "      <th>Unnamed: 0</th>\n",
       "      <th>city</th>\n",
       "      <th>company</th>\n",
       "      <th>salary</th>\n",
       "      <th>summary</th>\n",
       "      <th>title</th>\n",
       "      <th>parsed_salary</th>\n",
       "    </tr>\n",
       "  </thead>\n",
       "  <tbody>\n",
       "    <tr>\n",
       "      <th>29</th>\n",
       "      <td>31</td>\n",
       "      <td>San+Francisco</td>\n",
       "      <td>California State University</td>\n",
       "      <td>$50,400 - $60,000 a year</td>\n",
       "      <td>Compile and analyze data for written reports a...</td>\n",
       "      <td>Administrative Analyst/Specialist, Exempt I - ...</td>\n",
       "      <td>55200.0</td>\n",
       "    </tr>\n",
       "    <tr>\n",
       "      <th>402</th>\n",
       "      <td>405</td>\n",
       "      <td>New+York</td>\n",
       "      <td>AllianceBernstein</td>\n",
       "      <td>$117,500 - $127,500 a year</td>\n",
       "      <td>C onduct quantitative and statistical research...</td>\n",
       "      <td>AVP/Quantitative Analyst</td>\n",
       "      <td>122500.0</td>\n",
       "    </tr>\n",
       "    <tr>\n",
       "      <th>404</th>\n",
       "      <td>407</td>\n",
       "      <td>New+York</td>\n",
       "      <td>AllianceBernstein</td>\n",
       "      <td>$117,500 - $127,500 a year</td>\n",
       "      <td>C onduct quantitative and statistical research...</td>\n",
       "      <td>AVP/Quantitative Analyst</td>\n",
       "      <td>122500.0</td>\n",
       "    </tr>\n",
       "    <tr>\n",
       "      <th>411</th>\n",
       "      <td>414</td>\n",
       "      <td>New+York</td>\n",
       "      <td>Datacom Technology Group</td>\n",
       "      <td>$200,000 a year</td>\n",
       "      <td>Should have experience conducting empirical re...</td>\n",
       "      <td>Quantitative Analyst (Fundamental Quant Equiti...</td>\n",
       "      <td>200000.0</td>\n",
       "    </tr>\n",
       "    <tr>\n",
       "      <th>420</th>\n",
       "      <td>423</td>\n",
       "      <td>New+York</td>\n",
       "      <td>DEPT OF HEALTH/MENTAL HYGIENE</td>\n",
       "      <td>$68,239 - $85,644 a year</td>\n",
       "      <td>Experience utilizing mixed methods, including ...</td>\n",
       "      <td>Data Analyst, Bureau of Chronic Disease Preven...</td>\n",
       "      <td>76941.5</td>\n",
       "    </tr>\n",
       "  </tbody>\n",
       "</table>\n",
       "</div>"
      ],
      "text/plain": [
       "     Unnamed: 0           city                        company  \\\n",
       "29           31  San+Francisco    California State University   \n",
       "402         405       New+York              AllianceBernstein   \n",
       "404         407       New+York              AllianceBernstein   \n",
       "411         414       New+York       Datacom Technology Group   \n",
       "420         423       New+York  DEPT OF HEALTH/MENTAL HYGIENE   \n",
       "\n",
       "                         salary  \\\n",
       "29     $50,400 - $60,000 a year   \n",
       "402  $117,500 - $127,500 a year   \n",
       "404  $117,500 - $127,500 a year   \n",
       "411             $200,000 a year   \n",
       "420    $68,239 - $85,644 a year   \n",
       "\n",
       "                                               summary  \\\n",
       "29   Compile and analyze data for written reports a...   \n",
       "402  C onduct quantitative and statistical research...   \n",
       "404  C onduct quantitative and statistical research...   \n",
       "411  Should have experience conducting empirical re...   \n",
       "420  Experience utilizing mixed methods, including ...   \n",
       "\n",
       "                                                 title  parsed_salary  \n",
       "29   Administrative Analyst/Specialist, Exempt I - ...        55200.0  \n",
       "402                           AVP/Quantitative Analyst       122500.0  \n",
       "404                           AVP/Quantitative Analyst       122500.0  \n",
       "411  Quantitative Analyst (Fundamental Quant Equiti...       200000.0  \n",
       "420  Data Analyst, Bureau of Chronic Disease Preven...        76941.5  "
      ]
     },
     "execution_count": 75,
     "metadata": {},
     "output_type": "execute_result"
    }
   ],
   "source": [
    "Analyst.head()"
   ]
  },
  {
   "cell_type": "code",
   "execution_count": null,
   "metadata": {
    "collapsed": true
   },
   "outputs": [],
   "source": []
  },
  {
   "cell_type": "code",
   "execution_count": null,
   "metadata": {
    "collapsed": true
   },
   "outputs": [],
   "source": []
  }
 ],
 "metadata": {
  "kernelspec": {
   "display_name": "Python 2",
   "language": "python",
   "name": "python2"
  },
  "language_info": {
   "codemirror_mode": {
    "name": "ipython",
    "version": 2
   },
   "file_extension": ".py",
   "mimetype": "text/x-python",
   "name": "python",
   "nbconvert_exporter": "python",
   "pygments_lexer": "ipython2",
   "version": "2.7.11"
  }
 },
 "nbformat": 4,
 "nbformat_minor": 0
}
