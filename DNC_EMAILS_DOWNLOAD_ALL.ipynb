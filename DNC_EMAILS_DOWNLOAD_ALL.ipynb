{
 "cells": [
  {
   "cell_type": "code",
   "execution_count": 1,
   "metadata": {
    "collapsed": true
   },
   "outputs": [],
   "source": [
    "import requests\n",
    "import pandas as pd\n",
    "from bs4 import BeautifulSoup\n",
    "from scrapy.selector import Selector\n",
    "from scrapy.http import HtmlResponse\n",
    "import time\n",
    "from random import randint\n",
    "from time import sleep\n",
    "import numpy as np\n",
    "import random\n"
   ]
  },
  {
   "cell_type": "code",
   "execution_count": 1,
   "metadata": {
    "collapsed": false
   },
   "outputs": [
    {
     "data": {
      "text/plain": [
       "'https://wikileaks.org/dnc-emails/emailid/22456'"
      ]
     },
     "execution_count": 1,
     "metadata": {},
     "output_type": "execute_result"
    }
   ],
   "source": [
    "# how the last email looks\n",
    "'https://wikileaks.org/dnc-emails/emailid/22456'"
   ]
  },
  {
   "cell_type": "code",
   "execution_count": 3,
   "metadata": {
    "collapsed": false
   },
   "outputs": [
    {
     "data": {
      "text/plain": [
       "'https://wikileaks.org/dnc-emails/emailid/1'"
      ]
     },
     "execution_count": 3,
     "metadata": {},
     "output_type": "execute_result"
    }
   ],
   "source": [
    "# how the first emfail looks\n",
    "'https://wikileaks.org/dnc-emails/emailid/1'"
   ]
  },
  {
   "cell_type": "code",
   "execution_count": 2,
   "metadata": {
    "collapsed": true
   },
   "outputs": [],
   "source": [
    "start_URL = 'https://wikileaks.org/dnc-emails/emailid/'"
   ]
  },
  {
   "cell_type": "code",
   "execution_count": 3,
   "metadata": {
    "collapsed": false
   },
   "outputs": [],
   "source": [
    "# total length of emails \n",
    "rangeList = range(1,22457)"
   ]
  },
  {
   "cell_type": "code",
   "execution_count": 4,
   "metadata": {
    "collapsed": false
   },
   "outputs": [],
   "source": [
    "urlList = []\n",
    "\n",
    "for i in rangeList:\n",
    "    urlList.append(start_URL + str(i))"
   ]
  },
  {
   "cell_type": "code",
   "execution_count": 5,
   "metadata": {
    "collapsed": false
   },
   "outputs": [
    {
     "data": {
      "text/plain": [
       "['https://wikileaks.org/dnc-emails/emailid/1']"
      ]
     },
     "execution_count": 5,
     "metadata": {},
     "output_type": "execute_result"
    }
   ],
   "source": [
    "urlList[:1]"
   ]
  },
  {
   "cell_type": "code",
   "execution_count": 6,
   "metadata": {
    "collapsed": true
   },
   "outputs": [],
   "source": [
    "# get all the emails\n",
    "emailsList = []\n",
    "\n",
    "for i in urlList[:20]:\n",
    "    try:\n",
    "        r = requests.get(i)\n",
    "        HTML = r.text\n",
    "        emailsList.append(Selector(text=HTML).xpath('//*[@id=\"header\"]/text()')[0].extract())\n",
    "        time.sleep(random.random())\n",
    "    except:\n",
    "        pass\n"
   ]
  },
  {
   "cell_type": "code",
   "execution_count": 8,
   "metadata": {
    "collapsed": false
   },
   "outputs": [
    {
     "data": {
      "text/plain": [
       "[u'\\n\\t\\t\\t\\t\\tFrom:GardeM@dnc.org\\n\\t\\t\\t\\t\\tTo: ',\n",
       " u'\\n\\t\\t\\t\\t\\tFrom:ShapiroA@dnc.org\\n\\t\\t\\t\\t\\tTo: ',\n",
       " u'\\n\\t\\t\\t\\t\\tFrom:JacquelynLopez@perkinscoie.com\\n\\t\\t\\t\\t\\tTo: ',\n",
       " u'\\n\\t\\t\\t\\t\\tFrom:postmaster@my.democrats.org\\n\\t\\t\\t\\t\\tTo: ',\n",
       " u'\\n\\t\\t\\t\\t\\tFrom:notice@appriver.com\\n\\t\\t\\t\\t\\tTo: ',\n",
       " u'\\n\\t\\t\\t\\t\\tFrom:postmaster@my.democrats.org\\n\\t\\t\\t\\t\\tTo: ',\n",
       " u'\\n\\t\\t\\t\\t\\tFrom:ComerS@dnc.org\\n\\t\\t\\t\\t\\tTo: ',\n",
       " u'\\n\\t\\t\\t\\t\\tFrom:email@e.washingtonpost.com\\n\\t\\t\\t\\t\\tTo: ',\n",
       " u'\\n\\t\\t\\t\\t\\tFrom:morningmoney@politico.com\\n\\t\\t\\t\\t\\tTo: ',\n",
       " u'\\n\\t\\t\\t\\t\\tFrom:postmaster@finance.democrats.org\\n\\t\\t\\t\\t\\tTo: ',\n",
       " u'\\n\\t\\t\\t\\t\\tFrom:postmaster@my.democrats.org\\n\\t\\t\\t\\t\\tTo: ',\n",
       " u'\\n\\t\\t\\t\\t\\tFrom:evanschrum@gmail.com\\n\\t\\t\\t\\t\\tTo: ',\n",
       " u'\\n\\t\\t\\t\\t\\tFrom:ShapiroA@dnc.org\\n\\t\\t\\t\\t\\tTo: ',\n",
       " u'\\n\\t\\t\\t\\t\\tFrom:GonzalezE@dnc.org\\n\\t\\t\\t\\t\\tTo: ',\n",
       " u'\\n\\t\\t\\t\\t\\tFrom:KaplanJ@dnc.org\\n\\t\\t\\t\\t\\tTo: ',\n",
       " u'\\n\\t\\t\\t\\t\\tFrom:info@businessfwd.org\\n\\t\\t\\t\\t\\tTo: ',\n",
       " u'\\n\\t\\t\\t\\t\\tFrom:michael@mjpratt.org\\n\\t\\t\\t\\t\\tTo: ',\n",
       " u'\\n\\t\\t\\t\\t\\tFrom:email@e.washingtonpost.com\\n\\t\\t\\t\\t\\tTo: ',\n",
       " u'\\n\\t\\t\\t\\t\\tFrom:postmaster@my.democrats.org\\n\\t\\t\\t\\t\\tTo: ',\n",
       " u'\\n\\t\\t\\t\\t\\tFrom:postmaster@finance.democrats.org\\n\\t\\t\\t\\t\\tTo: ']"
      ]
     },
     "execution_count": 8,
     "metadata": {},
     "output_type": "execute_result"
    }
   ],
   "source": [
    "emailsList"
   ]
  },
  {
   "cell_type": "code",
   "execution_count": 9,
   "metadata": {
    "collapsed": true
   },
   "outputs": [],
   "source": [
    "# get all the subjects\n",
    "emailsubjectList = []\n",
    "\n",
    "for i in urlList[:20]:\n",
    "    try:\n",
    "        r = requests.get(i)\n",
    "        HTML = r.text\n",
    "        emailsubjectList.append(Selector(text=HTML).xpath('//*[@id=\"header\"]/text()')[1].extract())\n",
    "    except:\n",
    "        pass    \n",
    "    "
   ]
  },
  {
   "cell_type": "code",
   "execution_count": 10,
   "metadata": {
    "collapsed": false
   },
   "outputs": [
    {
     "data": {
      "text/plain": [
       "[u'\\n\\t\\t\\t\\t\\tDate: 2016-05-18 00:51\\n\\t\\t\\t\\t\\tSubject: Re: CT To Automatically Register 400,000 Voters\\n\\t\\t\\t\\t',\n",
       " u'\\n\\t\\t\\t\\t\\tDate: 2016-05-04 11:58\\n\\t\\t\\t\\t\\tSubject: What about asking Toni Bush to host?\\n\\t\\t\\t\\t',\n",
       " u'\\n\\t\\t\\t\\t\\tDate: 2016-05-13 19:27\\n\\t\\t\\t\\t\\tSubject: RE: For approval: Factivists for this weekend\\n\\t\\t\\t\\t',\n",
       " u'\\n\\t\\t\\t\\t\\tDate: 2016-05-04 05:13\\n\\t\\t\\t\\t\\tSubject: Contribution: Donate to help Democrats (new abroad) / Janet Weiler / 5.00 USD\\n\\t\\t\\t\\t',\n",
       " u'\\n\\t\\t\\t\\t\\tDate: 2016-05-20 20:05\\n\\t\\t\\t\\t\\tSubject: Held Spam Report for 5/19/2016\\n\\t\\t\\t\\t',\n",
       " u'\\n\\t\\t\\t\\t\\tDate: 2016-05-01 10:59\\n\\t\\t\\t\\t\\tSubject: Contribution: Donate to help Democrats (new abroad) / Shelley Dobyns / 100.00 USD\\n\\t\\t\\t\\t',\n",
       " u'\\n\\t\\t\\t\\t\\tDate: 2016-05-23 12:00\\n\\t\\t\\t\\t\\tSubject: RE: Hoyer date\\n\\t\\t\\t\\t',\n",
       " u\"\\n\\t\\t\\t\\t\\tDate: 2016-05-11 09:31\\n\\t\\t\\t\\t\\tSubject: Morning Mix: Somehow, a high school art project from the 1970s was valued at $50K on 'Antiques Roadshow'\\n\\t\\t\\t\\t\",\n",
       " u\"\\n\\t\\t\\t\\t\\tDate: 2016-05-09 10:03\\n\\t\\t\\t\\t\\tSubject: POLITICO's Morning Money: GOP crack-up, Trump administration edition \\u2014 Don't sweat the jobs report \\u2014 Former Democratic senator blasts Obama's transparency measure \\u2014 Big day for Brexit\\n\\t\\t\\t\\t\",\n",
       " u'\\n\\t\\t\\t\\t\\tDate: 2016-05-03 00:19\\n\\t\\t\\t\\t\\tSubject: Contribution: DE008 - DWS WLF Reception / Shekelia Hines / 50.00 USD\\n\\t\\t\\t\\t',\n",
       " u'\\n\\t\\t\\t\\t\\tDate: 2016-05-04 18:49\\n\\t\\t\\t\\t\\tSubject: Contribution: Finance - Tristate 2016 / Judith Hazlewood / 33,400.00 USD\\n\\t\\t\\t\\t',\n",
       " u\"\\n\\t\\t\\t\\t\\tDate: 2016-04-27 14:55\\n\\t\\t\\t\\t\\tSubject: Re: Schrum didn't return my call :(\\n\\t\\t\\t\\t\",\n",
       " u'\\n\\t\\t\\t\\t\\tDate: 2016-05-17 11:38\\n\\t\\t\\t\\t\\tSubject: RE:\\n\\t\\t\\t\\t',\n",
       " u'\\n\\t\\t\\t\\t\\tDate: 2016-04-26 23:49\\n\\t\\t\\t\\t\\tSubject: FW: Primaries in DE, MD, and PA\\n\\t\\t\\t\\t',\n",
       " u'\\n\\t\\t\\t\\t\\tDate: 2016-05-19 00:37\\n\\t\\t\\t\\t\\tSubject: Re: Offered support for Congressman Nadler\\n\\t\\t\\t\\t',\n",
       " u\"\\n\\t\\t\\t\\t\\tDate: 2016-05-09 20:13\\n\\t\\t\\t\\t\\tSubject: Friday's call with special guest President Obama\\n\\t\\t\\t\\t\",\n",
       " u'\\n\\t\\t\\t\\t\\tDate: 2016-05-11 18:57\\n\\t\\t\\t\\t\\tSubject: Re: WH tour\\n\\t\\t\\t\\t',\n",
       " u'\\n\\t\\t\\t\\t\\tDate: 2016-05-02 16:04\\n\\t\\t\\t\\t\\tSubject: Going Out Guide: Where to Watch the Kentucky Derby + 11 Things To Do This Week\\n\\t\\t\\t\\t',\n",
       " u'\\n\\t\\t\\t\\t\\tDate: 2016-05-23 17:49\\n\\t\\t\\t\\t\\tSubject: Contribution: Donate to help Democrats (new abroad) / Hilda Granda / 10.00 USD\\n\\t\\t\\t\\t',\n",
       " u'\\n\\t\\t\\t\\t\\tDate: 2016-05-01 17:39\\n\\t\\t\\t\\t\\tSubject: Contribution: DE008 - DWS WLF Reception / Marijo Lucas / 1,000.00 USD\\n\\t\\t\\t\\t']"
      ]
     },
     "execution_count": 10,
     "metadata": {},
     "output_type": "execute_result"
    }
   ],
   "source": [
    "emailsubjectListectList"
   ]
  },
  {
   "cell_type": "code",
   "execution_count": 11,
   "metadata": {
    "collapsed": true
   },
   "outputs": [],
   "source": [
    "# get all the email text\n",
    "emails_body_List = []\n",
    "\n",
    "for i in urlList[:20]:\n",
    "    try:\n",
    "        r = requests.get(i)\n",
    "        HTML = r.text\n",
    "        emails_body_List.append(Selector(text=HTML).xpath('//*[@id=\"uniquer\"]/text()')[0].extract())\n",
    "    except:\n",
    "        pass"
   ]
  },
  {
   "cell_type": "code",
   "execution_count": 12,
   "metadata": {
    "collapsed": false
   },
   "outputs": [
    {
     "data": {
      "text/plain": [
       "u'\\n\\t\\t\\t\\t\\tHow many more states can we get to follow Connecticut?  Way to go!\\n\\nOn May 17, 2016, at 9:52 PM, \"Davis, Marilyn\" <DavisM@dnc.org<mailto:DavisM@dnc.org>> wrote:\\n\\nDitto!\\n\\nMarilyn D. Davis\\nNational Director of Community Engagement\\nDemocratic National Convention\\nM: 609-218-3254\\nTwitter: @marilynddavis\\nFacebook.com/marilynddavis<http://facebook.com/marilynddavis>\\n\\nSent from my iPhone, please excuse any typos\\n\\nOn May 17, 2016, at 6:09 PM, Alvillar, Raul <alvillarr@dnc.org<mailto:alvillarr@dnc.org>> wrote:\\n\\nThis is awesome!!\\n\\nSent from my iPhone\\n\\nOn May 17, 2016, at 1:39 PM, Pratt Wiley <WileyP@dnc.org<mailto:WileyP@dnc.org>> wrote:\\n\\nConnecticut will become the 5th state to implement automatic voter registration (joining Oregon, California, Vermont, and West Virginia).   Unlike the other states, Connecticut is implementing the law administratively rather than administratively.\\n\\nBREAKING: Connecticut To Automatically Register 400,000 Voters\\n\\nBY ALICE OLLSTEIN<http://thinkprogress.org/?person=aollstein><image001.png><https://twitter.com/intent/user?screen_name=AliceOllstein> MAY 17, 2016 12:41 PM\\n\\nOn Tuesday, Connecticut became the fifth state in the nation to approve a system where residents are automatically registered to vote every time they visit a Department of Motor Vehicles, following the lead of Oregon, California, West Virginia, and Vermont. The state is the first, however, to implement the policy administratively<http://www.courant.com/politics/hc-motor-voter-0518-20160517-story.html> rather than passing a bill through the legislature.\\n\\nSecretary of the State Denise Merrill told ThinkProgress that an estimated 400,000 eligible voters will be added to the rolls.\\n\\n\\u201cIt shouldn\\u2019t be a big effort on anyone\\u2019s part to register to vote,\\u201d she said. \\u201cAnd once people take that first affirmative step of registering, it\\u2019s like their first act of citizenship. It makes them really go seek out info about elections and makes them much more likely to vote.\\u201d\\n\\nThe Secretary of State\\u2019s office and the Connecticut DMV hammered out a memorandum of understanding over the past few months to share data in order to register voters. While the automatic system is still in the works over the next two years, the Connecticut DMV will reach out more aggressively to voters and give them the option to register at all DMV offices, by mail, or on the DMV\\u2019s mobile app.\\n\\nThe majority of the automatically registered voters in Oregon are excluded from the state\\u2019s closed primary<http://thinkprogress.org/politics/2016/05/16/3778610/oregon-closed-primary/> because they were designated as \\u201cunaffiliated\\u201d and did not take the extra step of mailing in a form to choose a party. Connecticut will avoid this problem by having the DMV collect data on party affiliation during the automatic registration process.\\n\\n\\u201cThe only limitation is that this only works for people with a drivers license or state ID,\\u201d Merrill said. \\u201cSo there is still is group of people we\\u2019re not going to reach. Personally, I think that once you turn 18 and you\\u2019re a citizen you should automatically be a voter. But about 70 percent of population has some sort of license or ID from the DMV, so this moves us one step closer to covering everybody.\\u201d\\n\\nThe new automatic system may help the state shake off a a lawsuit<http://www.courant.com/news/connecticut/hc-motor-voter-probe-20160420-story.html> the Justice Department authorized in April over the state\\u2019s \\u201cwidespread noncompliance\\u201d with federal laws regarding voter registration. An investigation found that Connecticut DMVs were largely failing to offer voters a chance to register when they applied for drivers licenses or updated their addresses. Many offices were only offering this option if residents specifically requested it, though they are required by law to offer it to everyone.\\n\\nThough the state began working on the automatic registration plan before the lawsuit was filed, Merrill told ThinkProgress: \\u201cWe\\u2019re hoping it makes a difference and [the Justice Department] can see we\\u2019re making real progress.\\u201d\\n\\nPresident Obama won Connecticut by fewer than 300,000<http://www.politico.com/2012-election/results/president/connecticut/> votes in 2012. If the state meets its goal in adding 400,000 new voters to the rolls over the next few years, those voters could easily sway a future election.\\n\\nhttp://thinkprogress.org/politics/2016/05/17/3778976/connecticut-automatic-registration/\\n\\nPratt Norton Wiley\\nNational Director of Voter Expansion\\nDemocratic National Committee\\nw. 202-488-5029\\nm. 617-953-8579\\nwileyp@dnc.org<mailto:wileyp@dnc.org>\\n@prattwiley\\nhttp://www.democrats.org/voterexpansion\\n<image002.png>\\n\\t\\t\\t\\t'"
      ]
     },
     "execution_count": 12,
     "metadata": {},
     "output_type": "execute_result"
    }
   ],
   "source": [
    "emails_body_List[0]"
   ]
  },
  {
   "cell_type": "code",
   "execution_count": 13,
   "metadata": {
    "collapsed": false
   },
   "outputs": [],
   "source": [
    "# # get all the emails\n",
    "# emailsList = []\n",
    "\n",
    "# for i in urlList:\n",
    "#     try:\n",
    "#         r = requests.get(i)\n",
    "#         HTML = r.text\n",
    "#         emailsList.append(Selector(text=HTML).xpath('//*[@id=\"header\"]/text()')[0].extract())\n",
    "#         time.sleep(random.random())\n",
    "#     except:\n",
    "#         pass\n",
    "\n",
    "    \n",
    "# # get all the subjects\n",
    "# emailsubjectList = []\n",
    "\n",
    "# for i in urlList:\n",
    "#     try:\n",
    "#         r = requests.get(i)\n",
    "#         HTML = r.text\n",
    "#         emailsubjectList.append(Selector(text=HTML).xpath('//*[@id=\"header\"]/text()')[1].extract())\n",
    "#     except:\n",
    "#         pass    \n",
    "    \n",
    "    \n",
    "    \n",
    "# # get all the email text\n",
    "# emails_body_List = []\n",
    "\n",
    "# for i in urlList:\n",
    "#     try:\n",
    "#         r = requests.get(i)\n",
    "#         HTML = r.text\n",
    "#         emails_body_List.append(Selector(text=HTML).xpath('//*[@id=\"uniquer\"]/text()')[0].extract())\n",
    "#     except:\n",
    "#         pass"
   ]
  },
  {
   "cell_type": "code",
   "execution_count": null,
   "metadata": {
    "collapsed": true
   },
   "outputs": [],
   "source": []
  }
 ],
 "metadata": {
  "kernelspec": {
   "display_name": "Python 2",
   "language": "python",
   "name": "python2"
  },
  "language_info": {
   "codemirror_mode": {
    "name": "ipython",
    "version": 2
   },
   "file_extension": ".py",
   "mimetype": "text/x-python",
   "name": "python",
   "nbconvert_exporter": "python",
   "pygments_lexer": "ipython2",
   "version": "2.7.11"
  }
 },
 "nbformat": 4,
 "nbformat_minor": 0
}
