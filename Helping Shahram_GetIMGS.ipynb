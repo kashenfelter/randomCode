{
 "cells": [
  {
   "cell_type": "code",
   "execution_count": 1,
   "metadata": {
    "collapsed": true
   },
   "outputs": [],
   "source": [
    "import requests\n",
    "import pandas as pd\n",
    "from bs4 import BeautifulSoup\n",
    "from scrapy.selector import Selector\n",
    "from scrapy.http import HtmlResponse\n",
    "import time\n",
    "from random import randint\n",
    "from time import sleep\n",
    "import numpy as np\n",
    "import random"
   ]
  },
  {
   "cell_type": "code",
   "execution_count": 3,
   "metadata": {
    "collapsed": true
   },
   "outputs": [],
   "source": [
    "URL = 'http://www.onlineshoes.com/mens-shoes-list_ct1/1/60'\n",
    "r = requests.get(URL)\n",
    "soup = BeautifulSoup(r.content, 'lxml')"
   ]
  },
  {
   "cell_type": "code",
   "execution_count": 24,
   "metadata": {
    "collapsed": false
   },
   "outputs": [],
   "source": [
    "img = soup.select('img')"
   ]
  },
  {
   "cell_type": "code",
   "execution_count": 37,
   "metadata": {
    "collapsed": false
   },
   "outputs": [
    {
     "data": {
      "text/plain": [
       "'http://s3.onlineshoes.com/images/global/12.12/flags/US.gif'"
      ]
     },
     "execution_count": 37,
     "metadata": {},
     "output_type": "execute_result"
    }
   ],
   "source": [
    "img[0]['src']"
   ]
  },
  {
   "cell_type": "code",
   "execution_count": 35,
   "metadata": {
    "collapsed": false
   },
   "outputs": [
    {
     "data": {
      "text/plain": [
       "'http://s3.onlineshoes.com/images/global/12.12/flags/US.gif'"
      ]
     },
     "execution_count": 35,
     "metadata": {},
     "output_type": "execute_result"
    }
   ],
   "source": [
    "imgList = []\n",
    "for i in img['src']"
   ]
  },
  {
   "cell_type": "code",
   "execution_count": null,
   "metadata": {
    "collapsed": true
   },
   "outputs": [],
   "source": []
  },
  {
   "cell_type": "code",
   "execution_count": null,
   "metadata": {
    "collapsed": true
   },
   "outputs": [],
   "source": []
  },
  {
   "cell_type": "code",
   "execution_count": 8,
   "metadata": {
    "collapsed": false
   },
   "outputs": [],
   "source": [
    "urls = soup.select('div.product-thumb-image')"
   ]
  },
  {
   "cell_type": "code",
   "execution_count": 13,
   "metadata": {
    "collapsed": false
   },
   "outputs": [],
   "source": [
    "test = urls[0]"
   ]
  },
  {
   "cell_type": "code",
   "execution_count": 15,
   "metadata": {
    "collapsed": false
   },
   "outputs": [
    {
     "data": {
      "text/plain": [
       "[]"
      ]
     },
     "execution_count": 15,
     "metadata": {},
     "output_type": "execute_result"
    }
   ],
   "source": [
    "soup.findAll('href')"
   ]
  },
  {
   "cell_type": "code",
   "execution_count": null,
   "metadata": {
    "collapsed": true
   },
   "outputs": [],
   "source": [
    "//*[@id=\"productlist\"]/ul/li/a/div/picture/img"
   ]
  },
  {
   "cell_type": "code",
   "execution_count": 17,
   "metadata": {
    "collapsed": false
   },
   "outputs": [],
   "source": [
    "Shoes=[]\n",
    "r=requests.get(URL)\n",
    "images = Selector(text=r.text).xpath('//*[@id=\"productlist\"]/ul/li/a/div/picture/img').extract()\n",
    "Shoes.append(images)"
   ]
  },
  {
   "cell_type": "code",
   "execution_count": 20,
   "metadata": {
    "collapsed": false
   },
   "outputs": [
    {
     "name": "stdout",
     "output_type": "stream",
     "text": [
      "<img src=\"http://s2.onlineshoes.com/images/br008/mens-new-balance-mw577vk-black-w-hook-and-loop-253242_120_45.jpg\" width=\"120\" height=\"120\">\n",
      "<img src=\"http://s2.onlineshoes.com/images/br008/mens-new-balance-mx623v3-black-470781_120_45.jpg\" width=\"120\" height=\"120\">\n",
      "<img src=\"http://s3.onlineshoes.com/images/br008/mens-new-balance-mx608v4-white-navy-leather-398932_120_45.jpg\" width=\"120\" height=\"120\">\n",
      "<img src=\"http://s2.onlineshoes.com/images/br008/mens-new-balance-mx623v3-white-navy-470783_120_45.jpg\" width=\"120\" height=\"120\">\n",
      "<img src=\"http://s3.onlineshoes.com/images/br037/299557_120_45.jpg\" width=\"120\" height=\"120\">\n",
      "<img src=\"http://s1.onlineshoes.com/images/br005/1619_120_45.jpg\" width=\"120\" height=\"120\">\n",
      "<img src=\"http://s2.onlineshoes.com/images/br005/2332_120_45.jpg\" width=\"120\" height=\"120\">\n",
      "<img src=\"http://s1.onlineshoes.com/images/br005/1620_120_45.jpg\" width=\"120\" height=\"120\">\n",
      "<img src=\"http://s1.onlineshoes.com/images/br037/80397_120_45.jpg\" width=\"120\" height=\"120\">\n",
      "<img src=\"http://s2.onlineshoes.com/images/br008/mens-new-balance-mw577vw-white-w-hook-and-loop-253249_120_45.jpg\" width=\"120\" height=\"120\">\n",
      "<img src=\"http://s2.onlineshoes.com/images/br008/mens-new-balance-mx623v3-white-470782_120_45.jpg\" width=\"120\" height=\"120\">\n",
      "<img src=\"http://s3.onlineshoes.com/images/br005/2914_120_45.jpg\" width=\"120\" height=\"120\">\n",
      "<img src=\"http://s2.onlineshoes.com/images/br008/253240_120_45.jpg\" width=\"120\" height=\"120\">\n",
      "<img src=\"http://s1.onlineshoes.com/images/br005/2330_120_45.jpg\" width=\"120\" height=\"120\">\n",
      "<img src=\"http://s3.onlineshoes.com/images/br008/253239_120_45.jpg\" width=\"120\" height=\"120\">\n",
      "<img src=\"http://s3.onlineshoes.com/images/br022/10961_120_45.jpg\" width=\"120\" height=\"120\">\n",
      "<img src=\"http://s2.onlineshoes.com/images/br037/213422_120_45.jpg\" width=\"120\" height=\"120\">\n",
      "<img src=\"http://s2.onlineshoes.com/images/br008/mens-new-balance-mx608v4-black-leather-398933_120_45.jpg\" width=\"120\" height=\"120\">\n",
      "<img src=\"http://s2.onlineshoes.com/images/br542/mens-dockers-sinclair-slip-on-tassel-loafer-antique-brown-447659_120_rt.jpg\" width=\"120\" height=\"120\">\n",
      "<img src=\"http://s2.onlineshoes.com/images/br008/mens-new-balance-m1540v2-silver-blue-398964_120_45.jpg\" width=\"120\" height=\"120\">\n",
      "<img src=\"http://s2.onlineshoes.com/images/br008/mens-new-balance-mw847v2-white-blue-398907_120_45.jpg\" width=\"120\" height=\"120\">\n",
      "<img src=\"http://s2.onlineshoes.com/images/br008/mens-new-balance-mw928v2-black-470797_120_45.jpg\" width=\"120\" height=\"120\">\n",
      "<img src=\"http://s3.onlineshoes.com/images/br022/309560_120_45.jpg\" width=\"120\" height=\"120\">\n",
      "<img src=\"http://s2.onlineshoes.com/images/br008/341560_120_45.jpg\" width=\"120\" height=\"120\">\n",
      "<img src=\"http://s3.onlineshoes.com/images/br008/mens-new-balance-mw577vb-bone-w-hook-and-loop-253246_120_45.jpg\" width=\"120\" height=\"120\">\n",
      "<img src=\"http://s3.onlineshoes.com/images/br037/birkenstock-arizona-taupe-suede-15263_120_45.jpg\" width=\"120\" height=\"120\">\n",
      "<img src=\"http://s1.onlineshoes.com/images/br001/mens-asics-gel-kayano-22-charcoal-silver-lime-430152_120_45.jpg\" width=\"120\" height=\"120\">\n",
      "<img src=\"http://s1.onlineshoes.com/images/br008/300757_120_45.jpg\" width=\"120\" height=\"120\">\n",
      "<img src=\"http://s2.onlineshoes.com/images/br008/mens-new-balance-mx608v4-white-royal-leather-398934_120_45.jpg\" width=\"120\" height=\"120\">\n",
      "<img src=\"http://s2.onlineshoes.com/images/br032/mens-dunham-captain-3-eye-boat-shoe-tan-leather-290401_120_45.jpg\" width=\"120\" height=\"120\">\n",
      "<img src=\"http://s1.onlineshoes.com/images/br037/birkenstock-arizona-tobacco-oiled-leather-255879_120_45.jpg\" width=\"120\" height=\"120\">\n",
      "<img src=\"http://s3.onlineshoes.com/images/br005/60448_120_45.jpg\" width=\"120\" height=\"120\">\n",
      "<img src=\"http://s3.onlineshoes.com/images/br037/birkenstock-arizona-soft-footbed-tobacco-oiled-leather-396906_120_45.jpg\" width=\"120\" height=\"120\">\n",
      "<img src=\"http://s1.onlineshoes.com/images/br037/birkenstock-milano-soft-footbed-amalfi-brown-402814_120_45.jpg\" width=\"120\" height=\"120\">\n",
      "<img src=\"http://s3.onlineshoes.com/images/br008/mens-new-balance-m623v3-grey-506893_120_45.jpg\" width=\"120\" height=\"120\">\n",
      "<img src=\"http://s2.onlineshoes.com/images/br008/mens-new-balance-m1540v2-black-398963_120_45.jpg\" width=\"120\" height=\"120\">\n",
      "<img src=\"http://s2.onlineshoes.com/images/br005/27957_120_45.jpg\" width=\"120\" height=\"120\">\n",
      "<img src=\"http://s1.onlineshoes.com/images/br037/319865_120_45.jpg\" width=\"120\" height=\"120\">\n",
      "<img src=\"http://s1.onlineshoes.com/images/br005/1616_120_45.jpg\" width=\"120\" height=\"120\">\n",
      "<img src=\"http://s3.onlineshoes.com/images/br008/mens-new-balance-m990v4-black-silver-506827_120_45.jpg\" width=\"120\" height=\"120\">\n",
      "<img src=\"http://s1.onlineshoes.com/images/br044/22870_120_45.jpg\" width=\"120\" height=\"120\">\n",
      "<img src=\"http://s3.onlineshoes.com/images/br030/mens-hush-puppies-gil-tan-leather-14742_120_45.jpg\" width=\"120\" height=\"120\">\n",
      "<img src=\"http://s3.onlineshoes.com/images/br378/mens-altra-lone-peak-3-0-red-black-524688_120_45.jpg\" width=\"120\" height=\"120\">\n",
      "<img src=\"http://s2.onlineshoes.com/images/br009/mens-merrell-jungle-moc-gunsmoke-8698_120_45.jpg\" width=\"120\" height=\"120\">\n",
      "<img src=\"http://s1.onlineshoes.com/images/br014/96472_120_45.jpg\" width=\"120\" height=\"120\">\n",
      "<img src=\"http://s1.onlineshoes.com/images/br221/236523_120_45.jpg\" width=\"120\" height=\"120\">\n",
      "<img src=\"http://s3.onlineshoes.com/images/br032/246909_120_45.jpg\" width=\"120\" height=\"120\">\n",
      "<img src=\"http://s3.onlineshoes.com/images/br005/3874_120_45.jpg\" width=\"120\" height=\"120\">\n",
      "<img src=\"http://s3.onlineshoes.com/images/br009/102976_120_45.jpg\" width=\"120\" height=\"120\">\n",
      "<img src=\"http://s1.onlineshoes.com/images/br008/mens-new-balance-mw928v2-white-470796_120_45.jpg\" width=\"120\" height=\"120\">\n",
      "<img src=\"http://s1.onlineshoes.com/images/br022/10967_120_45.jpg\" width=\"120\" height=\"120\">\n",
      "<img src=\"http://s1.onlineshoes.com/images/br037/birkenstock-arizona-soft-footbed-black-oiled-leather-444451_120_45.jpg\" width=\"120\" height=\"120\">\n",
      "<img src=\"http://s1.onlineshoes.com/images/br011/73598_120_45.jpg\" width=\"120\" height=\"120\">\n",
      "<img src=\"http://s1.onlineshoes.com/images/br010/81182_120_45.jpg\" width=\"120\" height=\"120\">\n",
      "<img src=\"http://s2.onlineshoes.com/images/br008/mens-new-balance-m626v2-black-484705_120_45.jpg\" width=\"120\" height=\"120\">\n",
      "<img src=\"http://s3.onlineshoes.com/images/br030/14741_120_45.jpg\" width=\"120\" height=\"120\">\n",
      "<img src=\"http://s1.onlineshoes.com/images/br005/290134_120_45.jpg\" width=\"120\" height=\"120\">\n",
      "<img src=\"http://s2.onlineshoes.com/images/br005/60447_120_45.jpg\" width=\"120\" height=\"120\">\n",
      "<img src=\"http://s2.onlineshoes.com/images/br005/101815_120_45.jpg\" width=\"120\" height=\"120\">\n",
      "<img src=\"http://s2.onlineshoes.com/images/br008/mens-new-balance-m840v3-grey-red-470726_120_45.jpg\" width=\"120\" height=\"120\">\n"
     ]
    }
   ],
   "source": [
    "for i in Shoes[0]:\n",
    "    print i"
   ]
  },
  {
   "cell_type": "code",
   "execution_count": null,
   "metadata": {
    "collapsed": true
   },
   "outputs": [],
   "source": []
  }
 ],
 "metadata": {
  "kernelspec": {
   "display_name": "Python 2",
   "language": "python",
   "name": "python2"
  },
  "language_info": {
   "codemirror_mode": {
    "name": "ipython",
    "version": 2
   },
   "file_extension": ".py",
   "mimetype": "text/x-python",
   "name": "python",
   "nbconvert_exporter": "python",
   "pygments_lexer": "ipython2",
   "version": "2.7.11"
  }
 },
 "nbformat": 4,
 "nbformat_minor": 0
}
