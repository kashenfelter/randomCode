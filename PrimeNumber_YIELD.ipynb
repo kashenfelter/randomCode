{
 "cells": [
  {
   "cell_type": "raw",
   "metadata": {},
   "source": [
    "'''\n",
    "Write a function primes() to complete the code below.\n",
    "Notes on the prime() function:\n",
    "- Calcuate primes between 1 and 100 \n",
    "- Can be used as an iterator\n",
    "- Is there a difference between using return and yield?\n",
    "  Please explain\n",
    "- You will need to write \n",
    "1) function that loops through numbers and uses isPrime\n",
    "2) Line of code that calls written function\n",
    "'''\n",
    "#function to calculate prime\n",
    "def isPrime(n):\n",
    "   if n == 1:\n",
    "      return False\n",
    "   for t in range(2,n):\n",
    "      if n % t == 0:\n",
    "         return False\n",
    "   return True\n",
    "#Write additional function here\n",
    "#Write code that calls new function"
   ]
  },
  {
   "cell_type": "code",
   "execution_count": 7,
   "metadata": {
    "collapsed": false
   },
   "outputs": [],
   "source": [
    "def isPrime(n):\n",
    "    if n == 1:\n",
    "        return False\n",
    "    for t in range(2,n):\n",
    "        if n % t == 0:\n",
    "            return False\n",
    "    return True\n",
    "#Write additional function here\n",
    "#Write code that calls new function"
   ]
  },
  {
   "cell_type": "code",
   "execution_count": 15,
   "metadata": {
    "collapsed": false
   },
   "outputs": [
    {
     "data": {
      "text/plain": [
       "False"
      ]
     },
     "execution_count": 15,
     "metadata": {},
     "output_type": "execute_result"
    }
   ],
   "source": [
    "isPrime(12)"
   ]
  },
  {
   "cell_type": "code",
   "execution_count": 18,
   "metadata": {
    "collapsed": false
   },
   "outputs": [],
   "source": [
    "def primes(lower=1,upper=100):\n",
    "    number = range(lower,upper + 1)\n",
    "    for num in number:\n",
    "        if isPrime(num):\n",
    "            yield num"
   ]
  },
  {
   "cell_type": "code",
   "execution_count": 22,
   "metadata": {
    "collapsed": false
   },
   "outputs": [
    {
     "name": "stdout",
     "output_type": "stream",
     "text": [
      "2\n",
      "3\n",
      "5\n",
      "7\n",
      "11\n"
     ]
    }
   ],
   "source": [
    "for num in primes(1,11):\n",
    "    print num"
   ]
  },
  {
   "cell_type": "code",
   "execution_count": null,
   "metadata": {
    "collapsed": true
   },
   "outputs": [],
   "source": []
  }
 ],
 "metadata": {
  "kernelspec": {
   "display_name": "Python 2",
   "language": "python",
   "name": "python2"
  },
  "language_info": {
   "codemirror_mode": {
    "name": "ipython",
    "version": 2
   },
   "file_extension": ".py",
   "mimetype": "text/x-python",
   "name": "python",
   "nbconvert_exporter": "python",
   "pygments_lexer": "ipython2",
   "version": "2.7.11"
  }
 },
 "nbformat": 4,
 "nbformat_minor": 0
}
